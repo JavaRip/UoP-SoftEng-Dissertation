{
 "cells": [
  {
   "cell_type": "code",
   "execution_count": 1,
   "id": "ebb872a8",
   "metadata": {},
   "outputs": [],
   "source": [
    "%matplotlib inline\n",
    "import pandas as pd\n",
    "import numpy as np\n",
    "import geopandas as gpd\n",
    "import geoplot as gplt\n",
    "import geoplot.crs as gcrs\n",
    "from sklearn.linear_model import LinearRegression\n",
    "from sklearn.preprocessing import MinMaxScaler\n",
    "import matplotlib.pyplot as plt\n",
    "import matplotlib as mpl\n",
    "\n",
    "gd_src = '../geodata/{}/{}-c005-s010-vw-pr.geojson'\n",
    "onemil_src = './node_modules/preprocessing/data/1Mdataset.csv'\n",
    "nc_src = '../well_data/src_data.csv'"
   ]
  },
  {
   "cell_type": "code",
   "execution_count": 2,
   "id": "bc89fe2a",
   "metadata": {},
   "outputs": [],
   "source": [
    "def load_gd(level='dis'):\n",
    "    return gpd.read_file(\n",
    "        gd_src.format(level, level)\n",
    "    )"
   ]
  },
  {
   "cell_type": "code",
   "execution_count": 3,
   "id": "f7f03d8d",
   "metadata": {},
   "outputs": [],
   "source": [
    "def disp_gd(level):\n",
    "    gd = load_gd(level)\n",
    "    gd.info()\n",
    "    print(gd.head())\n",
    "    gplt.polyplot(\n",
    "        gd, \n",
    "        projection=gcrs.AlbersEqualArea(), \n",
    "        edgecolor='blue', \n",
    "        linewidth=0.05,\n",
    "        figsize=(10,10)\n",
    "    )"
   ]
  },
  {
   "cell_type": "code",
   "execution_count": 4,
   "id": "317ee6fa",
   "metadata": {},
   "outputs": [],
   "source": [
    "def load_wells(src=nc_src):\n",
    "    return pd.read_csv(src)"
   ]
  },
  {
   "cell_type": "code",
   "execution_count": 7,
   "id": "6d18b9c1",
   "metadata": {},
   "outputs": [
    {
     "name": "stdout",
     "output_type": "stream",
     "text": [
      "<class 'geopandas.geodataframe.GeoDataFrame'>\n",
      "RangeIndex: 58188 entries, 0 to 58187\n",
      "Data columns (total 7 columns):\n",
      " #   Column    Non-Null Count  Dtype   \n",
      "---  ------    --------------  -----   \n",
      " 0   area      0 non-null      object  \n",
      " 1   div       58155 non-null  object  \n",
      " 2   dis       58158 non-null  object  \n",
      " 3   upa       58157 non-null  object  \n",
      " 4   uni       58154 non-null  object  \n",
      " 5   mou       57097 non-null  object  \n",
      " 6   geometry  58187 non-null  geometry\n",
      "dtypes: geometry(1), object(6)\n",
      "memory usage: 3.1+ MB\n"
     ]
    },
    {
     "data": {
      "text/plain": [
       "10"
      ]
     },
     "execution_count": 7,
     "metadata": {},
     "output_type": "execute_result"
    }
   ],
   "source": [
    "gdf = load_gd('mou')\n",
    "gdf.info()"
   ]
  },
  {
   "cell_type": "code",
   "execution_count": 22,
   "id": "dcb944a4",
   "metadata": {},
   "outputs": [
    {
     "name": "stdout",
     "output_type": "stream",
     "text": [
      "10\n",
      "65\n",
      "480\n",
      "4131\n",
      "38469\n"
     ]
    }
   ],
   "source": [
    "print(gdf['div'].nunique())\n",
    "print(gdf['dis'].nunique())\n",
    "print(gdf['upa'].nunique())\n",
    "print(gdf['uni'].nunique())\n",
    "print(gdf['mou'].nunique())"
   ]
  },
  {
   "cell_type": "code",
   "execution_count": 26,
   "id": "f4e62d24",
   "metadata": {},
   "outputs": [
    {
     "name": "stdout",
     "output_type": "stream",
     "text": [
      "['Rangpur' 'Mymensingh' None 'Mymensing' 'Rajshahi' 'Sylhet' 'Dhaka'\n",
      " 'Chittagong' 'Khulna' 'Barisal' 'Chittagon']\n",
      "--------------------------------\n",
      "['Mymensingh' 'Khulna' 'Sylhet' 'Rajshahi' 'Rangpur' 'Dhaka' 'Barisal'\n",
      " 'Chittagong']\n"
     ]
    }
   ],
   "source": [
    "print(load_gd('mou')['div'].unique())\n",
    "print('--------------------------------')\n",
    "print(load_gd('div')['div'].unique())"
   ]
  },
  {
   "cell_type": "code",
   "execution_count": 17,
   "id": "937734cd",
   "metadata": {},
   "outputs": [
    {
     "name": "stdout",
     "output_type": "stream",
     "text": [
      "<class 'pandas.core.frame.DataFrame'>\n",
      "RangeIndex: 868678 entries, 0 to 868677\n",
      "Data columns (total 7 columns):\n",
      " #   Column    Non-Null Count   Dtype  \n",
      "---  ------    --------------   -----  \n",
      " 0   Division  868678 non-null  object \n",
      " 1   District  868678 non-null  object \n",
      " 2   Upazila   868678 non-null  object \n",
      " 3   Union     868678 non-null  object \n",
      " 4   Mouza     868678 non-null  object \n",
      " 5   Depth     868678 non-null  float64\n",
      " 6   Arsenic   868678 non-null  float64\n",
      "dtypes: float64(2), object(5)\n",
      "memory usage: 46.4+ MB\n",
      "0         Rangpur\n",
      "1         Rangpur\n",
      "2         Rangpur\n",
      "3         Rangpur\n",
      "4         Rangpur\n",
      "           ...   \n",
      "58183    Rajshahi\n",
      "58184      Sylhet\n",
      "58185      Sylhet\n",
      "58186    Rajshahi\n",
      "58187     Barisal\n",
      "Name: div, Length: 58188, dtype: object\n",
      "0         Rangpur\n",
      "1         Rangpur\n",
      "2         Rangpur\n",
      "3         Rangpur\n",
      "4         Rangpur\n",
      "           ...   \n",
      "58183    Rajshahi\n",
      "58184      Sylhet\n",
      "58185      Sylhet\n",
      "58186    Rajshahi\n",
      "58187     Barisal\n",
      "Name: div, Length: 58188, dtype: object\n"
     ]
    }
   ],
   "source": [
    "df = load_wells()\n",
    "df.info()"
   ]
  },
  {
   "cell_type": "code",
   "execution_count": 27,
   "id": "943f9410",
   "metadata": {},
   "outputs": [
    {
     "name": "stdout",
     "output_type": "stream",
     "text": [
      "8\n",
      "63\n",
      "445\n",
      "2838\n",
      "9550\n"
     ]
    }
   ],
   "source": [
    "print(df['Division'].nunique())\n",
    "print(df['District'].nunique())\n",
    "print(df['Upazila'].nunique())\n",
    "print(df['Union'].nunique())\n",
    "print(df['Mouza'].nunique())"
   ]
  },
  {
   "cell_type": "code",
   "execution_count": null,
   "id": "2f4f8d76",
   "metadata": {},
   "outputs": [],
   "source": []
  }
 ],
 "metadata": {
  "kernelspec": {
   "display_name": "Python 3 (ipykernel)",
   "language": "python",
   "name": "python3"
  },
  "language_info": {
   "codemirror_mode": {
    "name": "ipython",
    "version": 3
   },
   "file_extension": ".py",
   "mimetype": "text/x-python",
   "name": "python",
   "nbconvert_exporter": "python",
   "pygments_lexer": "ipython3",
   "version": "3.10.6"
  }
 },
 "nbformat": 4,
 "nbformat_minor": 5
}
