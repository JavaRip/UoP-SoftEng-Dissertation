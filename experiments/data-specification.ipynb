{
 "cells": [
  {
   "cell_type": "code",
   "execution_count": 1,
   "id": "ebb872a8",
   "metadata": {},
   "outputs": [],
   "source": [
    "%matplotlib inline\n",
    "import pandas as pd\n",
    "import numpy as np\n",
    "import geopandas as gpd\n",
    "import geoplot as gplt\n",
    "import geoplot.crs as gcrs\n",
    "from sklearn.linear_model import LinearRegression\n",
    "from sklearn.preprocessing import MinMaxScaler\n",
    "import matplotlib.pyplot as plt\n",
    "import matplotlib as mpl\n",
    "\n",
    "gd_src = '../geodata/{}/{}-c005-s010-vw-pr.geojson'\n",
    "onemil_src = './node_modules/preprocessing/data/1Mdataset.csv'\n",
    "nc_src = '../well_data/src_data.csv'"
   ]
  },
  {
   "cell_type": "code",
   "execution_count": 2,
   "id": "bc89fe2a",
   "metadata": {},
   "outputs": [],
   "source": [
    "def load_gd(level='dis'):\n",
    "    return gpd.read_file(\n",
    "        gd_src.format(level, level)\n",
    "    )"
   ]
  },
  {
   "cell_type": "code",
   "execution_count": 3,
   "id": "f7f03d8d",
   "metadata": {},
   "outputs": [],
   "source": [
    "def disp_gd(level):\n",
    "    gd = load_gd(level)\n",
    "    gd.info()\n",
    "    print(gd.head())\n",
    "    gplt.polyplot(\n",
    "        gd, \n",
    "        projection=gcrs.AlbersEqualArea(), \n",
    "        edgecolor='blue', \n",
    "        linewidth=0.05,\n",
    "        figsize=(10,10)\n",
    "    )"
   ]
  },
  {
   "cell_type": "code",
   "execution_count": 4,
   "id": "317ee6fa",
   "metadata": {},
   "outputs": [],
   "source": [
    "def load_wells(src=nc_src):\n",
    "    return pd.read_csv(src)"
   ]
  },
  {
   "cell_type": "code",
   "execution_count": 5,
   "id": "6d18b9c1",
   "metadata": {},
   "outputs": [
    {
     "name": "stdout",
     "output_type": "stream",
     "text": [
      "17481863671.67907\n",
      "6928488388.064251\n",
      "17481502552.245834\n",
      "---------------------\n",
      "2185157547.28574\n",
      "1080004324.845711\n",
      "2185187819.0306034\n",
      "---------------------\n",
      "257077965.38737303\n",
      "184769892.17091545\n",
      "257080919.88595524\n",
      "---------------------\n",
      "27102808.39893445\n",
      "41058430.806580245\n",
      "0.002402438771060515\n",
      "---------------------\n",
      "2395118.3274408844\n",
      "8434886.9294413\n",
      "nan\n"
     ]
    }
   ],
   "source": [
    "gdf = load_gd('div')\n",
    "print(gdf['geometry'].to_crs(epsg=6933).area.mean())\n",
    "print(gdf['geometry'].to_crs(epsg=6933).area.std())\n",
    "print(gdf['area'].mean())\n",
    "print('---------------------')\n",
    "gdf = load_gd('dis')\n",
    "print(gdf['geometry'].to_crs(epsg=6933).area.mean())\n",
    "print(gdf['geometry'].to_crs(epsg=6933).area.std())\n",
    "print(gdf['area'].mean())\n",
    "print('---------------------')\n",
    "gdf = load_gd('upa')\n",
    "print(gdf['geometry'].to_crs(epsg=6933).area.mean())\n",
    "print(gdf['geometry'].to_crs(epsg=6933).area.std())\n",
    "print(gdf['area'].mean())\n",
    "print('---------------------')\n",
    "gdf = load_gd('uni')\n",
    "print(gdf['geometry'].to_crs(epsg=6933).area.mean())\n",
    "print(gdf['geometry'].to_crs(epsg=6933).area.std())\n",
    "print(gdf['area'].mean())\n",
    "print('---------------------')\n",
    "gdf = load_gd('mou')\n",
    "print(gdf['geometry'].to_crs(epsg=6933).area.mean())\n",
    "print(gdf['geometry'].to_crs(epsg=6933).area.std())\n",
    "print(gdf['area'].mean())"
   ]
  },
  {
   "cell_type": "code",
   "execution_count": 6,
   "id": "dcb944a4",
   "metadata": {},
   "outputs": [
    {
     "name": "stdout",
     "output_type": "stream",
     "text": [
      "10\n",
      "65\n",
      "480\n",
      "4131\n",
      "38469\n"
     ]
    }
   ],
   "source": [
    "print(gdf['div'].nunique())\n",
    "print(gdf['dis'].nunique())\n",
    "print(gdf['upa'].nunique())\n",
    "print(gdf['uni'].nunique())\n",
    "print(gdf['mou'].nunique())"
   ]
  },
  {
   "cell_type": "code",
   "execution_count": 7,
   "id": "f4e62d24",
   "metadata": {},
   "outputs": [
    {
     "name": "stdout",
     "output_type": "stream",
     "text": [
      "['Rangpur' 'Mymensingh' None 'Mymensing' 'Rajshahi' 'Sylhet' 'Dhaka'\n",
      " 'Chittagong' 'Khulna' 'Barisal' 'Chittagon']\n",
      "--------------------------------\n",
      "['Mymensingh' 'Khulna' 'Sylhet' 'Rajshahi' 'Rangpur' 'Dhaka' 'Barisal'\n",
      " 'Chittagong']\n"
     ]
    }
   ],
   "source": [
    "print(load_gd('mou')['div'].unique())\n",
    "print('--------------------------------')\n",
    "print(load_gd('div')['div'].unique())"
   ]
  },
  {
   "cell_type": "code",
   "execution_count": 8,
   "id": "937734cd",
   "metadata": {},
   "outputs": [
    {
     "name": "stdout",
     "output_type": "stream",
     "text": [
      "<class 'pandas.core.frame.DataFrame'>\n",
      "RangeIndex: 868678 entries, 0 to 868677\n",
      "Data columns (total 7 columns):\n",
      " #   Column    Non-Null Count   Dtype  \n",
      "---  ------    --------------   -----  \n",
      " 0   Division  868678 non-null  object \n",
      " 1   District  868678 non-null  object \n",
      " 2   Upazila   868678 non-null  object \n",
      " 3   Union     868678 non-null  object \n",
      " 4   Mouza     868678 non-null  object \n",
      " 5   Depth     868678 non-null  float64\n",
      " 6   Arsenic   868678 non-null  float64\n",
      "dtypes: float64(2), object(5)\n",
      "memory usage: 46.4+ MB\n",
      "--------depth---------\n",
      "445.0\n",
      "0.0\n",
      "40.13750526662352\n",
      "52.39162247021359\n"
     ]
    },
    {
     "data": {
      "image/png": "[encoded data removed]",
      "text/plain": [
       "<Figure size 640x480 with 1 Axes>"
      ]
     },
     "metadata": {},
     "output_type": "display_data"
    }
   ],
   "source": [
    "df = load_wells()\n",
    "df.info()\n",
    "\n",
    "print('--------depth---------')\n",
    "df['Depth'].plot.hist(logy=True)\n",
    "print(df['Depth'].max())\n",
    "print(df['Depth'].min())\n",
    "print(df['Depth'].mean())\n",
    "print(df['Depth'].std())"
   ]
  },
  {
   "cell_type": "code",
   "execution_count": 9,
   "id": "304a1544",
   "metadata": {},
   "outputs": [
    {
     "name": "stdout",
     "output_type": "stream",
     "text": [
      "--------arsenic--------\n",
      "4000.0\n",
      "0.0\n",
      "41.208277842883085\n",
      "74.48213356038045\n"
     ]
    },
    {
     "data": {
      "image/png": "[encoded data removed]",
      "text/plain": [
       "<Figure size 640x480 with 1 Axes>"
      ]
     },
     "metadata": {},
     "output_type": "display_data"
    }
   ],
   "source": [
    "df = load_wells()\n",
    "\n",
    "print('--------arsenic--------')\n",
    "df['Arsenic'].plot.hist(logy=True)\n",
    "print(df['Arsenic'].max())\n",
    "print(df['Arsenic'].min())\n",
    "print(df['Arsenic'].mean())\n",
    "print(df['Arsenic'].std())"
   ]
  },
  {
   "cell_type": "code",
   "execution_count": 10,
   "id": "943f9410",
   "metadata": {},
   "outputs": [
    {
     "name": "stdout",
     "output_type": "stream",
     "text": [
      "8\n",
      "63\n",
      "445\n",
      "2838\n",
      "9550\n"
     ]
    }
   ],
   "source": [
    "print(df['Division'].nunique())\n",
    "print(df['District'].nunique())\n",
    "print(df['Upazila'].nunique())\n",
    "print(df['Union'].nunique())\n",
    "print(df['Mouza'].nunique())"
   ]
  },
  {
   "cell_type": "code",
   "execution_count": 14,
   "id": "2f4f8d76",
   "metadata": {},
   "outputs": [
    {
     "name": "stdout",
     "output_type": "stream",
     "text": [
      "safe        475182\n",
      "polluted    393496\n",
      "Name: Label, dtype: int64\n"
     ]
    }
   ],
   "source": [
    "def null_accuracy():\n",
    "    df = load_wells()\n",
    "    df['Label'] = np.where(df['Arsenic'] > 10, 'polluted', 'safe')\n",
    "    print(df['Label'].value_counts())\n",
    "    \n",
    "null_accuracy()"
   ]
  },
  {
   "cell_type": "code",
   "execution_count": null,
   "id": "0ff97f0b",
   "metadata": {},
   "outputs": [],
   "source": []
  }
 ],
 "metadata": {
  "kernelspec": {
   "display_name": "Python 3 (ipykernel)",
   "language": "python",
   "name": "python3"
  },
  "language_info": {
   "codemirror_mode": {
    "name": "ipython",
    "version": 3
   },
   "file_extension": ".py",
   "mimetype": "text/x-python",
   "name": "python",
   "nbconvert_exporter": "python",
   "pygments_lexer": "ipython3",
   "version": "3.10.6"
  }
 },
 "nbformat": 4,
 "nbformat_minor": 5
}
