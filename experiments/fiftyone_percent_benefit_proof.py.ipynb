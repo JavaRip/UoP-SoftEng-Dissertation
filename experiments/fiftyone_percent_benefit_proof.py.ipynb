{
 "cells": [
  {
   "cell_type": "code",
   "execution_count": 1,
   "id": "03a37131",
   "metadata": {},
   "outputs": [],
   "source": [
    "%matplotlib inline\n",
    "import pandas as pd\n",
    "import numpy as np\n",
    "import matplotlib.pyplot as plt\n",
    "import matplotlib as mpl\n",
    "from sklearn import metrics \n",
    "import sys\n",
    "import os\n",
    "import time\n",
    "import concurrent.futures\n",
    "from functools import partial\n",
    "from subprocess import check_output\n",
    "\n",
    "os.chdir('..')"
   ]
  },
  {
   "cell_type": "code",
   "execution_count": 2,
   "id": "3f9d14c2",
   "metadata": {},
   "outputs": [],
   "source": [
    "def gen_labels(df):\n",
    "    df['Label'] = np.where(df['Arsenic'] > 10, 'positive', 'negative')\n",
    "    return df"
   ]
  },
  {
   "cell_type": "code",
   "execution_count": 12,
   "id": "a0fa58fa",
   "metadata": {},
   "outputs": [
    {
     "name": "stdout",
     "output_type": "stream",
     "text": [
      "positive datapoints: 393496\n",
      "negative datapoints: 475182\n",
      "total datapoints:    868678\n",
      "prevalence:          0.4529825781244604\n"
     ]
    }
   ],
   "source": [
    "src = gen_labels(pd.read_csv('well_data/src_data.csv'))\n",
    "positive_datapoints = src['Label'].value_counts().positive\n",
    "negative_datapoints = src['Label'].value_counts().negative\n",
    "datapoints = len(src)\n",
    "print(f'positive datapoints: {positive_datapoints}')\n",
    "print(f'negative datapoints: {negative_datapoints}')\n",
    "print(f'total datapoints:    {datapoints}')\n",
    "print(f'prevalence:          {positive_datapoints / datapoints}')"
   ]
  },
  {
   "cell_type": "code",
   "execution_count": 60,
   "id": "41ad5d55",
   "metadata": {},
   "outputs": [],
   "source": [
    "def magic_model(df, accuracy):\n",
    "    np.random.seed(0)\n",
    "    random_numbers = np.random.rand(len(df))\n",
    "    \n",
    "    df['Prediction'] = np.where(\n",
    "        random_numbers <= accuracy,\n",
    "        # random_number on this row is below accuracy, keep label the same\n",
    "        df['Label'], \n",
    "        # random_number on this row is above accuracy, invert label\n",
    "        np.where(\n",
    "            df['Label'] == 'positive', \n",
    "            'negative', \n",
    "            'positive',\n",
    "        ),\n",
    "    )\n",
    "\n",
    "    true_positive_count  = ((df['Label'] == 'positive') & (df['Prediction'] == 'positive')).sum()\n",
    "    false_negative_count = ((df['Label'] == 'positive') & (df['Prediction'] == 'negative')).sum()\n",
    "    true_negative_count  = ((df['Label'] == 'negative') & (df['Prediction'] == 'negative')).sum()\n",
    "    false_positive_count = ((df['Label'] == 'negative') & (df['Prediction'] == 'positive')).sum()\n",
    "    \n",
    "    print(f'true positive count   : {true_positive_count}')\n",
    "    print(f'false negative count  : {false_negative_count}')\n",
    "    print(f'true negative count   : {true_negative_count}')\n",
    "    print(f'false positive count  : {false_positive_count}')\n",
    "    \n",
    "    net_benefit = \n",
    "        (true_positive_count + true_negative_count) - (false_positive_count + false_negative_count)\n",
    "    \n",
    "    print('\\n')\n",
    "    print(f'net benefit           : {net_benefit}')"
   ]
  },
  {
   "cell_type": "code",
   "execution_count": 61,
   "id": "d64664ec",
   "metadata": {},
   "outputs": [
    {
     "name": "stdout",
     "output_type": "stream",
     "text": [
      "true positive count   : 200319\n",
      "false negative count  : 193177\n",
      "true negative count   : 242052\n",
      "false positive count  : 233130\n",
      "\n",
      "\n",
      "net benefit           : 16064\n"
     ]
    }
   ],
   "source": [
    "magic_model(src, 0.51)"
   ]
  },
  {
   "cell_type": "code",
   "execution_count": 62,
   "id": "355c08eb",
   "metadata": {},
   "outputs": [
    {
     "name": "stdout",
     "output_type": "stream",
     "text": [
      "true positive count   : 329570\n",
      "false negative count  : 63926\n",
      "true negative count   : 397381\n",
      "false positive count  : 77801\n",
      "\n",
      "\n",
      "net benefit           : 585224\n"
     ]
    }
   ],
   "source": [
    "magic_model(src, 0.837)"
   ]
  },
  {
   "cell_type": "code",
   "execution_count": null,
   "id": "7ac5b751",
   "metadata": {},
   "outputs": [],
   "source": []
  }
 ],
 "metadata": {
  "kernelspec": {
   "display_name": "Python 3 (ipykernel)",
   "language": "python",
   "name": "python3"
  },
  "language_info": {
   "codemirror_mode": {
    "name": "ipython",
    "version": 3
   },
   "file_extension": ".py",
   "mimetype": "text/x-python",
   "name": "python",
   "nbconvert_exporter": "python",
   "pygments_lexer": "ipython3",
   "version": "3.10.12"
  }
 },
 "nbformat": 4,
 "nbformat_minor": 5
}
