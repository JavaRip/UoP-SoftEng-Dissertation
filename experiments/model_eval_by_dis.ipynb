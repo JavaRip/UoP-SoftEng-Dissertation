{
 "cells": [
  {
   "cell_type": "code",
   "execution_count": 1,
   "id": "c3f70c18",
   "metadata": {},
   "outputs": [],
   "source": [
    "%matplotlib inline\n",
    "import pandas as pd\n",
    "import numpy as np\n",
    "import matplotlib.pyplot as plt\n",
    "import matplotlib as mpl\n",
    "from sklearn import metrics \n",
    "import sys\n",
    "import os\n",
    "import time\n",
    "import concurrent.futures\n",
    "from functools import partial\n",
    "import multiprocess as mp \n",
    "\n",
    "os.chdir('..')\n",
    "\n",
    "from models.model3 import model as model3\n",
    "from models.model4 import model as model4\n",
    "from models.model5 import model as model5\n",
    "from models.model6 import model as model6\n",
    "from models.model7 import model as model7\n",
    "from models.model8 import model as model8\n",
    "from models.model9 import model as model9\n",
    "from models.model10 import model as model10\n",
    "from models.model11 import model as model11\n",
    "from model_utils.evaluator import gen_eval, print_eval\n",
    "from utils.src_to_test_train import main as src_tt\n",
    "\n",
    "nc_src = './well_data/src_data.csv'\n",
    "k_fold = 1\n",
    "df = pd.read_csv(nc_src)"
   ]
  },
  {
   "cell_type": "code",
   "execution_count": 2,
   "id": "c68c7b38",
   "metadata": {},
   "outputs": [
    {
     "name": "stderr",
     "output_type": "stream",
     "text": [
      "Process Process-1:\n",
      "Traceback (most recent call last):\n",
      "  File \"/home/kane/code/fyp/venv/lib/python3.10/site-packages/multiprocess/process.py\", line 314, in _bootstrap\n",
      "    self.run()\n",
      "  File \"/home/kane/code/fyp/venv/lib/python3.10/site-packages/multiprocess/process.py\", line 108, in run\n",
      "    self._target(*self._args, **self._kwargs)\n",
      "  File \"/tmp/ipykernel_331508/3672027586.py\", line 24, in df_ksplit\n",
      "    os.mkdir(dir)\n",
      "FileExistsError: [Errno 17] File exists: './experiments/model_eval_by_dis/Maulvibazar/'\n",
      "Process Process-2:\n",
      "Traceback (most recent call last):\n",
      "  File \"/home/kane/code/fyp/venv/lib/python3.10/site-packages/multiprocess/process.py\", line 314, in _bootstrap\n",
      "    self.run()\n",
      "  File \"/home/kane/code/fyp/venv/lib/python3.10/site-packages/multiprocess/process.py\", line 108, in run\n",
      "    self._target(*self._args, **self._kwargs)\n",
      "  File \"/tmp/ipykernel_331508/3672027586.py\", line 24, in df_ksplit\n",
      "    os.mkdir(dir)\n",
      "FileExistsError: [Errno 17] File exists: './experiments/model_eval_by_dis/Jhenaidah/'\n",
      "Process Process-3:\n",
      "Traceback (most recent call last):\n",
      "  File \"/home/kane/code/fyp/venv/lib/python3.10/site-packages/multiprocess/process.py\", line 314, in _bootstrap\n",
      "    self.run()\n",
      "  File \"/home/kane/code/fyp/venv/lib/python3.10/site-packages/multiprocess/process.py\", line 108, in run\n",
      "    self._target(*self._args, **self._kwargs)\n",
      "  File \"/tmp/ipykernel_331508/3672027586.py\", line 24, in df_ksplit\n",
      "    os.mkdir(dir)\n",
      "FileExistsError: [Errno 17] File exists: './experiments/model_eval_by_dis/Noakhali/'\n",
      "Process Process-4:\n",
      "Traceback (most recent call last):\n",
      "  File \"/home/kane/code/fyp/venv/lib/python3.10/site-packages/multiprocess/process.py\", line 314, in _bootstrap\n",
      "    self.run()\n",
      "  File \"/home/kane/code/fyp/venv/lib/python3.10/site-packages/multiprocess/process.py\", line 108, in run\n",
      "    self._target(*self._args, **self._kwargs)\n",
      "  File \"/tmp/ipykernel_331508/3672027586.py\", line 24, in df_ksplit\n",
      "    os.mkdir(dir)\n",
      "FileExistsError: [Errno 17] File exists: './experiments/model_eval_by_dis/Tangail/'\n",
      "Process Process-5:\n",
      "Traceback (most recent call last):\n",
      "  File \"/home/kane/code/fyp/venv/lib/python3.10/site-packages/multiprocess/process.py\", line 314, in _bootstrap\n",
      "    self.run()\n",
      "  File \"/home/kane/code/fyp/venv/lib/python3.10/site-packages/multiprocess/process.py\", line 108, in run\n",
      "    self._target(*self._args, **self._kwargs)\n",
      "  File \"/tmp/ipykernel_331508/3672027586.py\", line 24, in df_ksplit\n",
      "    os.mkdir(dir)\n",
      "FileExistsError: [Errno 17] File exists: './experiments/model_eval_by_dis/Sirajganj/'\n",
      "Process Process-6:\n",
      "Traceback (most recent call last):\n",
      "  File \"/home/kane/code/fyp/venv/lib/python3.10/site-packages/multiprocess/process.py\", line 314, in _bootstrap\n",
      "    self.run()\n",
      "  File \"/home/kane/code/fyp/venv/lib/python3.10/site-packages/multiprocess/process.py\", line 108, in run\n",
      "    self._target(*self._args, **self._kwargs)\n",
      "  File \"/tmp/ipykernel_331508/3672027586.py\", line 24, in df_ksplit\n",
      "    os.mkdir(dir)\n",
      "FileExistsError: [Errno 17] File exists: './experiments/model_eval_by_dis/Gaibandha/'\n",
      "Process Process-7:\n",
      "Traceback (most recent call last):\n",
      "  File \"/home/kane/code/fyp/venv/lib/python3.10/site-packages/multiprocess/process.py\", line 314, in _bootstrap\n",
      "    self.run()\n",
      "  File \"/home/kane/code/fyp/venv/lib/python3.10/site-packages/multiprocess/process.py\", line 108, in run\n",
      "    self._target(*self._args, **self._kwargs)\n",
      "  File \"/tmp/ipykernel_331508/3672027586.py\", line 24, in df_ksplit\n",
      "    os.mkdir(dir)\n",
      "FileExistsError: [Errno 17] File exists: './experiments/model_eval_by_dis/Narayanganj/'\n",
      "FileExistsError: [Errno 17] File exists: './experiments/model_eval_by_dis/Bhola/'\n",
      "  File \"/tmp/ipykernel_331508/3672027586.py\", line 24, in df_ksplit\n",
      "    os.mkdir(dir)\n",
      "  File \"/home/kane/code/fyp/venv/lib/python3.10/site-packages/multiprocess/process.py\", line 108, in run\n",
      "    self._target(*self._args, **self._kwargs)\n",
      "  File \"/home/kane/code/fyp/venv/lib/python3.10/site-packages/multiprocess/process.py\", line 314, in _bootstrap\n",
      "    self.run()\n",
      "Traceback (most recent call last):\n",
      "Process Process-8:\n",
      "Process Process-9:\n",
      "Traceback (most recent call last):\n",
      "  File \"/home/kane/code/fyp/venv/lib/python3.10/site-packages/multiprocess/process.py\", line 314, in _bootstrap\n",
      "    self.run()\n",
      "  File \"/home/kane/code/fyp/venv/lib/python3.10/site-packages/multiprocess/process.py\", line 108, in run\n",
      "    self._target(*self._args, **self._kwargs)\n",
      "  File \"/tmp/ipykernel_331508/3672027586.py\", line 24, in df_ksplit\n",
      "    os.mkdir(dir)\n",
      "FileExistsError: [Errno 17] File exists: './experiments/model_eval_by_dis/Faridpur/'\n",
      "Process Process-10:\n",
      "Traceback (most recent call last):\n",
      "  File \"/home/kane/code/fyp/venv/lib/python3.10/site-packages/multiprocess/process.py\", line 314, in _bootstrap\n",
      "    self.run()\n",
      "  File \"/home/kane/code/fyp/venv/lib/python3.10/site-packages/multiprocess/process.py\", line 108, in run\n",
      "    self._target(*self._args, **self._kwargs)\n",
      "  File \"/tmp/ipykernel_331508/3672027586.py\", line 24, in df_ksplit\n",
      "    os.mkdir(dir)\n",
      "FileExistsError: [Errno 17] File exists: './experiments/model_eval_by_dis/Comilla/'\n",
      "Process Process-11:\n",
      "Traceback (most recent call last):\n",
      "  File \"/home/kane/code/fyp/venv/lib/python3.10/site-packages/multiprocess/process.py\", line 314, in _bootstrap\n",
      "    self.run()\n",
      "  File \"/home/kane/code/fyp/venv/lib/python3.10/site-packages/multiprocess/process.py\", line 108, in run\n",
      "    self._target(*self._args, **self._kwargs)\n",
      "  File \"/tmp/ipykernel_331508/3672027586.py\", line 24, in df_ksplit\n",
      "    os.mkdir(dir)\n",
      "FileExistsError: [Errno 17] File exists: './experiments/model_eval_by_dis/Sylhet/'\n",
      "Process Process-12:\n",
      "Traceback (most recent call last):\n",
      "  File \"/home/kane/code/fyp/venv/lib/python3.10/site-packages/multiprocess/process.py\", line 314, in _bootstrap\n",
      "    self.run()\n",
      "  File \"/home/kane/code/fyp/venv/lib/python3.10/site-packages/multiprocess/process.py\", line 108, in run\n",
      "    self._target(*self._args, **self._kwargs)\n",
      "  File \"/tmp/ipykernel_331508/3672027586.py\", line 24, in df_ksplit\n",
      "    os.mkdir(dir)\n",
      "FileExistsError: [Errno 17] File exists: './experiments/model_eval_by_dis/Jessore/'\n",
      "Process Process-13:\n",
      "Traceback (most recent call last):\n",
      "  File \"/home/kane/code/fyp/venv/lib/python3.10/site-packages/multiprocess/process.py\", line 314, in _bootstrap\n",
      "    self.run()\n",
      "  File \"/home/kane/code/fyp/venv/lib/python3.10/site-packages/multiprocess/process.py\", line 108, in run\n",
      "    self._target(*self._args, **self._kwargs)\n",
      "  File \"/tmp/ipykernel_331508/3672027586.py\", line 24, in df_ksplit\n",
      "    os.mkdir(dir)\n",
      "FileExistsError: [Errno 17] File exists: './experiments/model_eval_by_dis/Sunamganj/'\n",
      "Process Process-14:\n",
      "Traceback (most recent call last):\n",
      "  File \"/home/kane/code/fyp/venv/lib/python3.10/site-packages/multiprocess/process.py\", line 314, in _bootstrap\n",
      "    self.run()\n",
      "  File \"/home/kane/code/fyp/venv/lib/python3.10/site-packages/multiprocess/process.py\", line 108, in run\n",
      "    self._target(*self._args, **self._kwargs)\n",
      "  File \"/tmp/ipykernel_331508/3672027586.py\", line 24, in df_ksplit\n",
      "    os.mkdir(dir)\n",
      "FileExistsError: [Errno 17] File exists: './experiments/model_eval_by_dis/Dinajpur/'\n",
      "Process Process-15:\n",
      "Traceback (most recent call last):\n",
      "  File \"/home/kane/code/fyp/venv/lib/python3.10/site-packages/multiprocess/process.py\", line 314, in _bootstrap\n",
      "    self.run()\n",
      "  File \"/home/kane/code/fyp/venv/lib/python3.10/site-packages/multiprocess/process.py\", line 108, in run\n",
      "    self._target(*self._args, **self._kwargs)\n",
      "  File \"/tmp/ipykernel_331508/3672027586.py\", line 24, in df_ksplit\n",
      "    os.mkdir(dir)\n",
      "FileExistsError: [Errno 17] File exists: './experiments/model_eval_by_dis/Bogra/'\n",
      "Process Process-16:\n",
      "Traceback (most recent call last):\n",
      "  File \"/home/kane/code/fyp/venv/lib/python3.10/site-packages/multiprocess/process.py\", line 314, in _bootstrap\n",
      "    self.run()\n",
      "  File \"/home/kane/code/fyp/venv/lib/python3.10/site-packages/multiprocess/process.py\", line 108, in run\n",
      "    self._target(*self._args, **self._kwargs)\n",
      "  File \"/tmp/ipykernel_331508/3672027586.py\", line 24, in df_ksplit\n",
      "    os.mkdir(dir)\n",
      "FileExistsError: [Errno 17] File exists: './experiments/model_eval_by_dis/Manikganj/'\n",
      "Process Process-17:\n",
      "Traceback (most recent call last):\n",
      "  File \"/home/kane/code/fyp/venv/lib/python3.10/site-packages/multiprocess/process.py\", line 314, in _bootstrap\n",
      "    self.run()\n"
     ]
    },
    {
     "name": "stderr",
     "output_type": "stream",
     "text": [
      "  File \"/home/kane/code/fyp/venv/lib/python3.10/site-packages/multiprocess/process.py\", line 108, in run\n",
      "    self._target(*self._args, **self._kwargs)\n",
      "  File \"/tmp/ipykernel_331508/3672027586.py\", line 24, in df_ksplit\n",
      "    os.mkdir(dir)\n",
      "FileExistsError: [Errno 17] File exists: './experiments/model_eval_by_dis/Satkhira/'\n",
      "Process Process-18:\n",
      "Traceback (most recent call last):\n",
      "  File \"/home/kane/code/fyp/venv/lib/python3.10/site-packages/multiprocess/process.py\", line 314, in _bootstrap\n",
      "    self.run()\n",
      "  File \"/home/kane/code/fyp/venv/lib/python3.10/site-packages/multiprocess/process.py\", line 108, in run\n",
      "    self._target(*self._args, **self._kwargs)\n",
      "  File \"/tmp/ipykernel_331508/3672027586.py\", line 24, in df_ksplit\n",
      "    os.mkdir(dir)\n",
      "FileExistsError: [Errno 17] File exists: './experiments/model_eval_by_dis/Chuadanga/'\n",
      "Process Process-19:\n",
      "Traceback (most recent call last):\n",
      "  File \"/home/kane/code/fyp/venv/lib/python3.10/site-packages/multiprocess/process.py\", line 314, in _bootstrap\n",
      "    self.run()\n",
      "  File \"/home/kane/code/fyp/venv/lib/python3.10/site-packages/multiprocess/process.py\", line 108, in run\n",
      "    self._target(*self._args, **self._kwargs)\n",
      "  File \"/tmp/ipykernel_331508/3672027586.py\", line 24, in df_ksplit\n",
      "    os.mkdir(dir)\n",
      "FileExistsError: [Errno 17] File exists: './experiments/model_eval_by_dis/Feni/'\n",
      "Process Process-20:\n",
      "Traceback (most recent call last):\n",
      "  File \"/home/kane/code/fyp/venv/lib/python3.10/site-packages/multiprocess/process.py\", line 314, in _bootstrap\n",
      "    self.run()\n",
      "  File \"/home/kane/code/fyp/venv/lib/python3.10/site-packages/multiprocess/process.py\", line 108, in run\n",
      "    self._target(*self._args, **self._kwargs)\n",
      "  File \"/tmp/ipykernel_331508/3672027586.py\", line 24, in df_ksplit\n",
      "    os.mkdir(dir)\n",
      "FileExistsError: [Errno 17] File exists: './experiments/model_eval_by_dis/Narail/'\n",
      "Process Process-21:\n",
      "Traceback (most recent call last):\n",
      "  File \"/home/kane/code/fyp/venv/lib/python3.10/site-packages/multiprocess/process.py\", line 314, in _bootstrap\n",
      "    self.run()\n",
      "  File \"/home/kane/code/fyp/venv/lib/python3.10/site-packages/multiprocess/process.py\", line 108, in run\n",
      "    self._target(*self._args, **self._kwargs)\n",
      "  File \"/tmp/ipykernel_331508/3672027586.py\", line 24, in df_ksplit\n",
      "    os.mkdir(dir)\n",
      "FileExistsError: [Errno 17] File exists: './experiments/model_eval_by_dis/Shariatpur/'\n",
      "Process Process-22:\n",
      "Traceback (most recent call last):\n",
      "  File \"/home/kane/code/fyp/venv/lib/python3.10/site-packages/multiprocess/process.py\", line 314, in _bootstrap\n",
      "    self.run()\n",
      "  File \"/home/kane/code/fyp/venv/lib/python3.10/site-packages/multiprocess/process.py\", line 108, in run\n",
      "    self._target(*self._args, **self._kwargs)\n",
      "  File \"/tmp/ipykernel_331508/3672027586.py\", line 24, in df_ksplit\n",
      "    os.mkdir(dir)\n",
      "FileExistsError: [Errno 17] File exists: './experiments/model_eval_by_dis/Madaripur/'\n",
      "Process Process-23:\n",
      "Traceback (most recent call last):\n",
      "  File \"/home/kane/code/fyp/venv/lib/python3.10/site-packages/multiprocess/process.py\", line 314, in _bootstrap\n",
      "    self.run()\n",
      "  File \"/home/kane/code/fyp/venv/lib/python3.10/site-packages/multiprocess/process.py\", line 108, in run\n",
      "    self._target(*self._args, **self._kwargs)\n",
      "  File \"/tmp/ipykernel_331508/3672027586.py\", line 24, in df_ksplit\n",
      "    os.mkdir(dir)\n",
      "FileExistsError: [Errno 17] File exists: './experiments/model_eval_by_dis/Brahamanbaria/'\n",
      "Process Process-24:\n",
      "Traceback (most recent call last):\n",
      "  File \"/home/kane/code/fyp/venv/lib/python3.10/site-packages/multiprocess/process.py\", line 314, in _bootstrap\n",
      "    self.run()\n",
      "  File \"/home/kane/code/fyp/venv/lib/python3.10/site-packages/multiprocess/process.py\", line 108, in run\n",
      "    self._target(*self._args, **self._kwargs)\n",
      "  File \"/tmp/ipykernel_331508/3672027586.py\", line 24, in df_ksplit\n",
      "    os.mkdir(dir)\n",
      "FileExistsError: [Errno 17] File exists: './experiments/model_eval_by_dis/Munshiganj/'\n",
      "Process Process-25:\n",
      "Traceback (most recent call last):\n",
      "  File \"/home/kane/code/fyp/venv/lib/python3.10/site-packages/multiprocess/process.py\", line 314, in _bootstrap\n",
      "    self.run()\n",
      "  File \"/home/kane/code/fyp/venv/lib/python3.10/site-packages/multiprocess/process.py\", line 108, in run\n",
      "    self._target(*self._args, **self._kwargs)\n",
      "  File \"/tmp/ipykernel_331508/3672027586.py\", line 24, in df_ksplit\n",
      "    os.mkdir(dir)\n",
      "FileExistsError: [Errno 17] File exists: './experiments/model_eval_by_dis/Gopalganj/'\n",
      "Process Process-26:\n",
      "Traceback (most recent call last):\n",
      "  File \"/home/kane/code/fyp/venv/lib/python3.10/site-packages/multiprocess/process.py\", line 314, in _bootstrap\n",
      "    self.run()\n",
      "  File \"/home/kane/code/fyp/venv/lib/python3.10/site-packages/multiprocess/process.py\", line 108, in run\n",
      "    self._target(*self._args, **self._kwargs)\n",
      "  File \"/tmp/ipykernel_331508/3672027586.py\", line 24, in df_ksplit\n",
      "    os.mkdir(dir)\n",
      "FileExistsError: [Errno 17] File exists: './experiments/model_eval_by_dis/Netrakona/'\n",
      "Process Process-27:\n",
      "Traceback (most recent call last):\n",
      "  File \"/home/kane/code/fyp/venv/lib/python3.10/site-packages/multiprocess/process.py\", line 314, in _bootstrap\n",
      "    self.run()\n",
      "  File \"/home/kane/code/fyp/venv/lib/python3.10/site-packages/multiprocess/process.py\", line 108, in run\n",
      "    self._target(*self._args, **self._kwargs)\n",
      "  File \"/tmp/ipykernel_331508/3672027586.py\", line 24, in df_ksplit\n",
      "    os.mkdir(dir)\n",
      "FileExistsError: [Errno 17] File exists: './experiments/model_eval_by_dis/Barisal/'\n",
      "Process Process-28:\n",
      "Traceback (most recent call last):\n",
      "  File \"/home/kane/code/fyp/venv/lib/python3.10/site-packages/multiprocess/process.py\", line 314, in _bootstrap\n",
      "    self.run()\n",
      "  File \"/home/kane/code/fyp/venv/lib/python3.10/site-packages/multiprocess/process.py\", line 108, in run\n",
      "    self._target(*self._args, **self._kwargs)\n",
      "  File \"/tmp/ipykernel_331508/3672027586.py\", line 24, in df_ksplit\n",
      "    os.mkdir(dir)\n",
      "FileExistsError: [Errno 17] File exists: './experiments/model_eval_by_dis/Mymensingh/'\n",
      "Process Process-29:\n",
      "Traceback (most recent call last):\n",
      "  File \"/home/kane/code/fyp/venv/lib/python3.10/site-packages/multiprocess/process.py\", line 314, in _bootstrap\n",
      "    self.run()\n",
      "  File \"/home/kane/code/fyp/venv/lib/python3.10/site-packages/multiprocess/process.py\", line 108, in run\n",
      "    self._target(*self._args, **self._kwargs)\n",
      "  File \"/tmp/ipykernel_331508/3672027586.py\", line 24, in df_ksplit\n",
      "    os.mkdir(dir)\n",
      "FileExistsError: [Errno 17] File exists: './experiments/model_eval_by_dis/Patuakhali/'\n",
      "FileExistsError: [Errno 17] File exists: './experiments/model_eval_by_dis/Lakshmipur/'\n",
      "  File \"/tmp/ipykernel_331508/3672027586.py\", line 24, in df_ksplit\n",
      "    os.mkdir(dir)\n",
      "  File \"/home/kane/code/fyp/venv/lib/python3.10/site-packages/multiprocess/process.py\", line 108, in run\n",
      "    self._target(*self._args, **self._kwargs)\n",
      "  File \"/home/kane/code/fyp/venv/lib/python3.10/site-packages/multiprocess/process.py\", line 314, in _bootstrap\n",
      "    self.run()\n",
      "Traceback (most recent call last):\n",
      "Process Process-30:\n",
      "Process Process-31:\n",
      "Traceback (most recent call last):\n",
      "  File \"/home/kane/code/fyp/venv/lib/python3.10/site-packages/multiprocess/process.py\", line 314, in _bootstrap\n",
      "    self.run()\n",
      "  File \"/home/kane/code/fyp/venv/lib/python3.10/site-packages/multiprocess/process.py\", line 108, in run\n",
      "    self._target(*self._args, **self._kwargs)\n",
      "  File \"/tmp/ipykernel_331508/3672027586.py\", line 24, in df_ksplit\n",
      "    os.mkdir(dir)\n",
      "FileExistsError: [Errno 17] File exists: './experiments/model_eval_by_dis/Habiganj/'\n",
      "Process Process-32:\n",
      "Traceback (most recent call last):\n",
      "  File \"/home/kane/code/fyp/venv/lib/python3.10/site-packages/multiprocess/process.py\", line 314, in _bootstrap\n",
      "    self.run()\n",
      "  File \"/home/kane/code/fyp/venv/lib/python3.10/site-packages/multiprocess/process.py\", line 108, in run\n",
      "    self._target(*self._args, **self._kwargs)\n",
      "  File \"/tmp/ipykernel_331508/3672027586.py\", line 24, in df_ksplit\n",
      "    os.mkdir(dir)\n",
      "FileExistsError: [Errno 17] File exists: './experiments/model_eval_by_dis/Pirojpur/'\n",
      "Process Process-33:\n",
      "Traceback (most recent call last):\n",
      "  File \"/home/kane/code/fyp/venv/lib/python3.10/site-packages/multiprocess/process.py\", line 314, in _bootstrap\n",
      "    self.run()\n",
      "  File \"/home/kane/code/fyp/venv/lib/python3.10/site-packages/multiprocess/process.py\", line 108, in run\n",
      "    self._target(*self._args, **self._kwargs)\n"
     ]
    },
    {
     "name": "stderr",
     "output_type": "stream",
     "text": [
      "  File \"/tmp/ipykernel_331508/3672027586.py\", line 24, in df_ksplit\n",
      "    os.mkdir(dir)\n",
      "FileExistsError: [Errno 17] File exists: './experiments/model_eval_by_dis/Khulna/'\n",
      "Process Process-34:\n",
      "Traceback (most recent call last):\n",
      "  File \"/home/kane/code/fyp/venv/lib/python3.10/site-packages/multiprocess/process.py\", line 314, in _bootstrap\n",
      "    self.run()\n",
      "  File \"/home/kane/code/fyp/venv/lib/python3.10/site-packages/multiprocess/process.py\", line 108, in run\n",
      "    self._target(*self._args, **self._kwargs)\n",
      "  File \"/tmp/ipykernel_331508/3672027586.py\", line 24, in df_ksplit\n",
      "    os.mkdir(dir)\n",
      "FileExistsError: [Errno 17] File exists: './experiments/model_eval_by_dis/Nawabganj/'\n",
      "Process Process-35:\n",
      "Traceback (most recent call last):\n",
      "  File \"/home/kane/code/fyp/venv/lib/python3.10/site-packages/multiprocess/process.py\", line 314, in _bootstrap\n",
      "    self.run()\n",
      "  File \"/home/kane/code/fyp/venv/lib/python3.10/site-packages/multiprocess/process.py\", line 108, in run\n",
      "    self._target(*self._args, **self._kwargs)\n",
      "  File \"/tmp/ipykernel_331508/3672027586.py\", line 24, in df_ksplit\n",
      "    os.mkdir(dir)\n",
      "FileExistsError: [Errno 17] File exists: './experiments/model_eval_by_dis/Jhalokati/'\n",
      "Process Process-36:\n",
      "Traceback (most recent call last):\n",
      "  File \"/home/kane/code/fyp/venv/lib/python3.10/site-packages/multiprocess/process.py\", line 314, in _bootstrap\n",
      "    self.run()\n",
      "  File \"/home/kane/code/fyp/venv/lib/python3.10/site-packages/multiprocess/process.py\", line 108, in run\n",
      "    self._target(*self._args, **self._kwargs)\n",
      "  File \"/tmp/ipykernel_331508/3672027586.py\", line 24, in df_ksplit\n",
      "    os.mkdir(dir)\n",
      "FileExistsError: [Errno 17] File exists: './experiments/model_eval_by_dis/Rajbari/'\n",
      "Process Process-37:\n",
      "Traceback (most recent call last):\n",
      "  File \"/home/kane/code/fyp/venv/lib/python3.10/site-packages/multiprocess/process.py\", line 314, in _bootstrap\n",
      "    self.run()\n",
      "  File \"/home/kane/code/fyp/venv/lib/python3.10/site-packages/multiprocess/process.py\", line 108, in run\n",
      "    self._target(*self._args, **self._kwargs)\n",
      "  File \"/tmp/ipykernel_331508/3672027586.py\", line 24, in df_ksplit\n",
      "    os.mkdir(dir)\n",
      "FileExistsError: [Errno 17] File exists: './experiments/model_eval_by_dis/Barguna/'\n",
      "FileExistsError: [Errno 17] File exists: './experiments/model_eval_by_dis/Naogaon/'\n",
      "  File \"/tmp/ipykernel_331508/3672027586.py\", line 24, in df_ksplit\n",
      "    os.mkdir(dir)\n",
      "  File \"/home/kane/code/fyp/venv/lib/python3.10/site-packages/multiprocess/process.py\", line 108, in run\n",
      "    self._target(*self._args, **self._kwargs)\n",
      "  File \"/home/kane/code/fyp/venv/lib/python3.10/site-packages/multiprocess/process.py\", line 314, in _bootstrap\n",
      "    self.run()\n",
      "Traceback (most recent call last):\n",
      "Process Process-38:\n",
      "Process Process-39:\n",
      "Traceback (most recent call last):\n",
      "  File \"/home/kane/code/fyp/venv/lib/python3.10/site-packages/multiprocess/process.py\", line 314, in _bootstrap\n",
      "    self.run()\n",
      "  File \"/home/kane/code/fyp/venv/lib/python3.10/site-packages/multiprocess/process.py\", line 108, in run\n",
      "    self._target(*self._args, **self._kwargs)\n",
      "  File \"/tmp/ipykernel_331508/3672027586.py\", line 24, in df_ksplit\n",
      "    os.mkdir(dir)\n",
      "FileExistsError: [Errno 17] File exists: './experiments/model_eval_by_dis/Kurigram/'\n",
      "Process Process-40:\n",
      "Traceback (most recent call last):\n",
      "  File \"/home/kane/code/fyp/venv/lib/python3.10/site-packages/multiprocess/process.py\", line 314, in _bootstrap\n",
      "    self.run()\n",
      "  File \"/home/kane/code/fyp/venv/lib/python3.10/site-packages/multiprocess/process.py\", line 108, in run\n",
      "    self._target(*self._args, **self._kwargs)\n",
      "  File \"/tmp/ipykernel_331508/3672027586.py\", line 24, in df_ksplit\n",
      "    os.mkdir(dir)\n",
      "FileExistsError: [Errno 17] File exists: \"./experiments/model_eval_by_dis/Cox'S Bazar/\"\n",
      "Process Process-41:\n",
      "Traceback (most recent call last):\n",
      "  File \"/home/kane/code/fyp/venv/lib/python3.10/site-packages/multiprocess/process.py\", line 314, in _bootstrap\n",
      "    self.run()\n",
      "  File \"/home/kane/code/fyp/venv/lib/python3.10/site-packages/multiprocess/process.py\", line 108, in run\n",
      "    self._target(*self._args, **self._kwargs)\n",
      "  File \"/tmp/ipykernel_331508/3672027586.py\", line 24, in df_ksplit\n",
      "    os.mkdir(dir)\n",
      "FileExistsError: [Errno 17] File exists: './experiments/model_eval_by_dis/Rajshahi/'\n",
      "Process Process-42:\n",
      "Traceback (most recent call last):\n",
      "  File \"/home/kane/code/fyp/venv/lib/python3.10/site-packages/multiprocess/process.py\", line 314, in _bootstrap\n",
      "    self.run()\n",
      "  File \"/home/kane/code/fyp/venv/lib/python3.10/site-packages/multiprocess/process.py\", line 108, in run\n",
      "    self._target(*self._args, **self._kwargs)\n",
      "  File \"/tmp/ipykernel_331508/3672027586.py\", line 24, in df_ksplit\n",
      "    os.mkdir(dir)\n",
      "FileExistsError: [Errno 17] File exists: './experiments/model_eval_by_dis/Kishoreganj/'\n",
      "Process Process-43:\n",
      "Traceback (most recent call last):\n",
      "  File \"/home/kane/code/fyp/venv/lib/python3.10/site-packages/multiprocess/process.py\", line 314, in _bootstrap\n",
      "    self.run()\n",
      "  File \"/home/kane/code/fyp/venv/lib/python3.10/site-packages/multiprocess/process.py\", line 108, in run\n",
      "    self._target(*self._args, **self._kwargs)\n",
      "  File \"/tmp/ipykernel_331508/3672027586.py\", line 24, in df_ksplit\n",
      "    os.mkdir(dir)\n",
      "FileExistsError: [Errno 17] File exists: './experiments/model_eval_by_dis/Bagerhat/'\n",
      "Process Process-44:\n",
      "Traceback (most recent call last):\n",
      "  File \"/home/kane/code/fyp/venv/lib/python3.10/site-packages/multiprocess/process.py\", line 314, in _bootstrap\n",
      "    self.run()\n",
      "  File \"/home/kane/code/fyp/venv/lib/python3.10/site-packages/multiprocess/process.py\", line 108, in run\n",
      "    self._target(*self._args, **self._kwargs)\n",
      "  File \"/tmp/ipykernel_331508/3672027586.py\", line 24, in df_ksplit\n",
      "    os.mkdir(dir)\n",
      "FileExistsError: [Errno 17] File exists: './experiments/model_eval_by_dis/Chittagong/'\n",
      "Process Process-45:\n",
      "Traceback (most recent call last):\n",
      "  File \"/home/kane/code/fyp/venv/lib/python3.10/site-packages/multiprocess/process.py\", line 314, in _bootstrap\n",
      "    self.run()\n",
      "  File \"/home/kane/code/fyp/venv/lib/python3.10/site-packages/multiprocess/process.py\", line 108, in run\n",
      "    self._target(*self._args, **self._kwargs)\n",
      "  File \"/tmp/ipykernel_331508/3672027586.py\", line 24, in df_ksplit\n",
      "    os.mkdir(dir)\n",
      "FileExistsError: [Errno 17] File exists: './experiments/model_eval_by_dis/Narsingdi/'\n",
      "Process Process-46:\n",
      "Traceback (most recent call last):\n",
      "  File \"/home/kane/code/fyp/venv/lib/python3.10/site-packages/multiprocess/process.py\", line 314, in _bootstrap\n",
      "    self.run()\n",
      "  File \"/home/kane/code/fyp/venv/lib/python3.10/site-packages/multiprocess/process.py\", line 108, in run\n",
      "    self._target(*self._args, **self._kwargs)\n",
      "  File \"/tmp/ipykernel_331508/3672027586.py\", line 24, in df_ksplit\n",
      "    os.mkdir(dir)\n",
      "FileExistsError: [Errno 17] File exists: './experiments/model_eval_by_dis/Joypurhat/'\n",
      "Process Process-47:\n",
      "Traceback (most recent call last):\n",
      "  File \"/home/kane/code/fyp/venv/lib/python3.10/site-packages/multiprocess/process.py\", line 314, in _bootstrap\n",
      "    self.run()\n",
      "  File \"/home/kane/code/fyp/venv/lib/python3.10/site-packages/multiprocess/process.py\", line 108, in run\n",
      "    self._target(*self._args, **self._kwargs)\n",
      "  File \"/tmp/ipykernel_331508/3672027586.py\", line 24, in df_ksplit\n",
      "    os.mkdir(dir)\n",
      "FileExistsError: [Errno 17] File exists: './experiments/model_eval_by_dis/Nilphamari/'\n",
      "Process Process-48:\n",
      "Traceback (most recent call last):\n",
      "  File \"/home/kane/code/fyp/venv/lib/python3.10/site-packages/multiprocess/process.py\", line 314, in _bootstrap\n",
      "    self.run()\n",
      "  File \"/home/kane/code/fyp/venv/lib/python3.10/site-packages/multiprocess/process.py\", line 108, in run\n",
      "    self._target(*self._args, **self._kwargs)\n",
      "  File \"/tmp/ipykernel_331508/3672027586.py\", line 24, in df_ksplit\n",
      "    os.mkdir(dir)\n",
      "FileExistsError: [Errno 17] File exists: './experiments/model_eval_by_dis/Rangpur/'\n",
      "Process Process-49:\n",
      "Traceback (most recent call last):\n",
      "  File \"/home/kane/code/fyp/venv/lib/python3.10/site-packages/multiprocess/process.py\", line 314, in _bootstrap\n",
      "    self.run()\n",
      "  File \"/home/kane/code/fyp/venv/lib/python3.10/site-packages/multiprocess/process.py\", line 108, in run\n",
      "    self._target(*self._args, **self._kwargs)\n",
      "  File \"/tmp/ipykernel_331508/3672027586.py\", line 24, in df_ksplit\n",
      "    os.mkdir(dir)\n",
      "FileExistsError: [Errno 17] File exists: './experiments/model_eval_by_dis/Dhaka/'\n"
     ]
    },
    {
     "name": "stderr",
     "output_type": "stream",
     "text": [
      "Process Process-50:\n",
      "Traceback (most recent call last):\n",
      "  File \"/home/kane/code/fyp/venv/lib/python3.10/site-packages/multiprocess/process.py\", line 314, in _bootstrap\n",
      "    self.run()\n",
      "  File \"/home/kane/code/fyp/venv/lib/python3.10/site-packages/multiprocess/process.py\", line 108, in run\n",
      "    self._target(*self._args, **self._kwargs)\n",
      "  File \"/tmp/ipykernel_331508/3672027586.py\", line 24, in df_ksplit\n",
      "    os.mkdir(dir)\n",
      "FileExistsError: [Errno 17] File exists: './experiments/model_eval_by_dis/Panchagarh/'\n",
      "Process Process-51:\n",
      "Traceback (most recent call last):\n",
      "  File \"/home/kane/code/fyp/venv/lib/python3.10/site-packages/multiprocess/process.py\", line 314, in _bootstrap\n",
      "    self.run()\n",
      "  File \"/home/kane/code/fyp/venv/lib/python3.10/site-packages/multiprocess/process.py\", line 108, in run\n",
      "    self._target(*self._args, **self._kwargs)\n",
      "  File \"/tmp/ipykernel_331508/3672027586.py\", line 24, in df_ksplit\n",
      "    os.mkdir(dir)\n",
      "FileExistsError: [Errno 17] File exists: './experiments/model_eval_by_dis/Chandpur/'\n",
      "Process Process-52:\n",
      "Traceback (most recent call last):\n",
      "  File \"/home/kane/code/fyp/venv/lib/python3.10/site-packages/multiprocess/process.py\", line 314, in _bootstrap\n",
      "    self.run()\n",
      "  File \"/home/kane/code/fyp/venv/lib/python3.10/site-packages/multiprocess/process.py\", line 108, in run\n",
      "    self._target(*self._args, **self._kwargs)\n",
      "  File \"/tmp/ipykernel_331508/3672027586.py\", line 24, in df_ksplit\n",
      "    os.mkdir(dir)\n",
      "FileExistsError: [Errno 17] File exists: './experiments/model_eval_by_dis/Kushtia/'\n",
      "Process Process-53:\n",
      "Traceback (most recent call last):\n",
      "  File \"/home/kane/code/fyp/venv/lib/python3.10/site-packages/multiprocess/process.py\", line 314, in _bootstrap\n",
      "    self.run()\n",
      "  File \"/home/kane/code/fyp/venv/lib/python3.10/site-packages/multiprocess/process.py\", line 108, in run\n",
      "    self._target(*self._args, **self._kwargs)\n",
      "  File \"/tmp/ipykernel_331508/3672027586.py\", line 24, in df_ksplit\n",
      "    os.mkdir(dir)\n",
      "FileExistsError: [Errno 17] File exists: './experiments/model_eval_by_dis/Sherpur/'\n",
      "Process Process-54:\n",
      "Traceback (most recent call last):\n",
      "  File \"/home/kane/code/fyp/venv/lib/python3.10/site-packages/multiprocess/process.py\", line 314, in _bootstrap\n",
      "    self.run()\n",
      "  File \"/home/kane/code/fyp/venv/lib/python3.10/site-packages/multiprocess/process.py\", line 108, in run\n",
      "    self._target(*self._args, **self._kwargs)\n",
      "  File \"/tmp/ipykernel_331508/3672027586.py\", line 24, in df_ksplit\n",
      "    os.mkdir(dir)\n",
      "FileExistsError: [Errno 17] File exists: './experiments/model_eval_by_dis/Pabna/'\n",
      "Process Process-55:\n",
      "Traceback (most recent call last):\n",
      "  File \"/home/kane/code/fyp/venv/lib/python3.10/site-packages/multiprocess/process.py\", line 314, in _bootstrap\n",
      "    self.run()\n",
      "  File \"/home/kane/code/fyp/venv/lib/python3.10/site-packages/multiprocess/process.py\", line 108, in run\n",
      "    self._target(*self._args, **self._kwargs)\n",
      "  File \"/tmp/ipykernel_331508/3672027586.py\", line 24, in df_ksplit\n",
      "    os.mkdir(dir)\n",
      "FileExistsError: [Errno 17] File exists: './experiments/model_eval_by_dis/Natore/'\n",
      "Process Process-56:\n",
      "Traceback (most recent call last):\n",
      "  File \"/home/kane/code/fyp/venv/lib/python3.10/site-packages/multiprocess/process.py\", line 314, in _bootstrap\n",
      "    self.run()\n",
      "  File \"/home/kane/code/fyp/venv/lib/python3.10/site-packages/multiprocess/process.py\", line 108, in run\n",
      "    self._target(*self._args, **self._kwargs)\n",
      "  File \"/tmp/ipykernel_331508/3672027586.py\", line 24, in df_ksplit\n",
      "    os.mkdir(dir)\n",
      "FileExistsError: [Errno 17] File exists: './experiments/model_eval_by_dis/Jamalpur/'\n",
      "Process Process-57:\n",
      "Traceback (most recent call last):\n",
      "  File \"/home/kane/code/fyp/venv/lib/python3.10/site-packages/multiprocess/process.py\", line 314, in _bootstrap\n",
      "    self.run()\n",
      "  File \"/home/kane/code/fyp/venv/lib/python3.10/site-packages/multiprocess/process.py\", line 108, in run\n",
      "    self._target(*self._args, **self._kwargs)\n",
      "  File \"/tmp/ipykernel_331508/3672027586.py\", line 24, in df_ksplit\n",
      "    os.mkdir(dir)\n",
      "FileExistsError: [Errno 17] File exists: './experiments/model_eval_by_dis/Lalmonirhat/'\n",
      "Process Process-58:\n",
      "Traceback (most recent call last):\n",
      "  File \"/home/kane/code/fyp/venv/lib/python3.10/site-packages/multiprocess/process.py\", line 314, in _bootstrap\n",
      "    self.run()\n",
      "  File \"/home/kane/code/fyp/venv/lib/python3.10/site-packages/multiprocess/process.py\", line 108, in run\n",
      "    self._target(*self._args, **self._kwargs)\n",
      "  File \"/tmp/ipykernel_331508/3672027586.py\", line 24, in df_ksplit\n",
      "    os.mkdir(dir)\n",
      "FileExistsError: [Errno 17] File exists: './experiments/model_eval_by_dis/Magura/'\n",
      "Process Process-59:\n",
      "Traceback (most recent call last):\n",
      "  File \"/home/kane/code/fyp/venv/lib/python3.10/site-packages/multiprocess/process.py\", line 314, in _bootstrap\n",
      "    self.run()\n",
      "  File \"/home/kane/code/fyp/venv/lib/python3.10/site-packages/multiprocess/process.py\", line 108, in run\n",
      "    self._target(*self._args, **self._kwargs)\n",
      "  File \"/tmp/ipykernel_331508/3672027586.py\", line 24, in df_ksplit\n",
      "    os.mkdir(dir)\n",
      "FileExistsError: [Errno 17] File exists: './experiments/model_eval_by_dis/Thakurgaon/'\n",
      "Process Process-60:\n",
      "Traceback (most recent call last):\n",
      "  File \"/home/kane/code/fyp/venv/lib/python3.10/site-packages/multiprocess/process.py\", line 314, in _bootstrap\n",
      "    self.run()\n",
      "  File \"/home/kane/code/fyp/venv/lib/python3.10/site-packages/multiprocess/process.py\", line 108, in run\n",
      "    self._target(*self._args, **self._kwargs)\n",
      "  File \"/tmp/ipykernel_331508/3672027586.py\", line 24, in df_ksplit\n",
      "    os.mkdir(dir)\n",
      "FileExistsError: [Errno 17] File exists: './experiments/model_eval_by_dis/Rangamati/'\n",
      "Process Process-61:\n",
      "Traceback (most recent call last):\n",
      "  File \"/home/kane/code/fyp/venv/lib/python3.10/site-packages/multiprocess/process.py\", line 314, in _bootstrap\n",
      "    self.run()\n",
      "  File \"/home/kane/code/fyp/venv/lib/python3.10/site-packages/multiprocess/process.py\", line 108, in run\n",
      "    self._target(*self._args, **self._kwargs)\n",
      "  File \"/tmp/ipykernel_331508/3672027586.py\", line 24, in df_ksplit\n",
      "    os.mkdir(dir)\n",
      "FileExistsError: [Errno 17] File exists: './experiments/model_eval_by_dis/Gazipur/'\n",
      "Process Process-62:\n",
      "Traceback (most recent call last):\n",
      "  File \"/home/kane/code/fyp/venv/lib/python3.10/site-packages/multiprocess/process.py\", line 314, in _bootstrap\n",
      "    self.run()\n",
      "  File \"/home/kane/code/fyp/venv/lib/python3.10/site-packages/multiprocess/process.py\", line 108, in run\n",
      "    self._target(*self._args, **self._kwargs)\n",
      "  File \"/tmp/ipykernel_331508/3672027586.py\", line 24, in df_ksplit\n",
      "    os.mkdir(dir)\n",
      "FileExistsError: [Errno 17] File exists: './experiments/model_eval_by_dis/Khagrachhari/'\n",
      "Process Process-63:\n",
      "Traceback (most recent call last):\n",
      "  File \"/home/kane/code/fyp/venv/lib/python3.10/site-packages/multiprocess/process.py\", line 314, in _bootstrap\n",
      "    self.run()\n",
      "  File \"/home/kane/code/fyp/venv/lib/python3.10/site-packages/multiprocess/process.py\", line 108, in run\n",
      "    self._target(*self._args, **self._kwargs)\n",
      "  File \"/tmp/ipykernel_331508/3672027586.py\", line 24, in df_ksplit\n",
      "    os.mkdir(dir)\n",
      "FileExistsError: [Errno 17] File exists: './experiments/model_eval_by_dis/Meherpur/'\n"
     ]
    }
   ],
   "source": [
    "def get_eval(predictions, m_name, k_fold, eval_path):\n",
    "    eval = gen_eval(predictions)\n",
    "    eval_df = pd.DataFrame(data={\n",
    "      'model': m_name,\n",
    "      'k': k_fold,\n",
    "      'sensitivity': eval['sensitivity'],\n",
    "      'f1': eval['f1'],\n",
    "      'accuracy': eval['accuracy'],\n",
    "      'precision': eval['precision'],\n",
    "      'specificity': eval['specificity'],\n",
    "    }, index=[0])\n",
    "\n",
    "    return eval_df \n",
    "\n",
    "def df_ksplit(df, dis): \n",
    "    # shuffle data\n",
    "    df = df.sample(frac=1)\n",
    "\n",
    "    # split test train into 5 k folds\n",
    "    df_split = np.array_split(df, 5)\n",
    "    \n",
    "    dir = f'./experiments/model_eval_by_dis/{dis}/'\n",
    "    \n",
    "    os.mkdir(dir)\n",
    "\n",
    "    df_split[0].to_csv(f'{dir}/k1.csv', index=False)\n",
    "    df_split[1].to_csv(f'{dir}/k2.csv', index=False)\n",
    "    df_split[2].to_csv(f'{dir}/k3.csv', index=False)\n",
    "    df_split[3].to_csv(f'{dir}/k4.csv', index=False)\n",
    "    df_split[4].to_csv(f'{dir}/k5.csv', index=False)\n",
    "\n",
    "def csv_by_dis():    \n",
    "    rj = [] # RunJobs\n",
    "    for dis in df['District'].unique():\n",
    "        dis_df = df[df['District'] == dis]\n",
    "        \n",
    "        p = mp.Process(target=df_ksplit, args=(dis_df, dis,))\n",
    "        p.start()\n",
    "        rj.append(p)\n",
    "        \n",
    "    for j in rj:\n",
    "        j.join()\n",
    "        \n",
    "csv_by_dis()"
   ]
  },
  {
   "cell_type": "code",
   "execution_count": 3,
   "id": "71968bda",
   "metadata": {},
   "outputs": [],
   "source": [
    "def run_model(model, dis):\n",
    "    m_name = model.get_name()\n",
    "\n",
    "    test_out=f'./experiments/model_eval_by_dis/{dis}/{m_name}.test.csv'\n",
    "    eval_out=f'./experiments/model_eval_by_dis/{dis}/{m_name}.eval.csv'\n",
    "\n",
    "    if os.path.exists(test_out):\n",
    "        print(f'{m_name}-{dis} predictions already generated')\n",
    "    else:     \n",
    "        pred_df = model.main(f'./experiments/model_eval_by_dis/{dis}/k1.csv', k_fold)\n",
    "        eval_df = get_eval(pred_df, m_name, 1, eval_out)\n",
    "\n",
    "        pred_df.to_csv(test_out, index=False)\n",
    "        eval_df.to_csv(eval_out, index=False)\n",
    "\n",
    "        print(f'predictions written to {test_out}')\n",
    "        print(f'evaluation written to {eval_out}')"
   ]
  },
  {
   "cell_type": "code",
   "execution_count": 4,
   "id": "e5d64b8c",
   "metadata": {
    "scrolled": false
   },
   "outputs": [
    {
     "name": "stdout",
     "output_type": "stream",
     "text": [
      "dis 0 / 63\n",
      "m4-Maulvibazar predictions already generated\n",
      "m5-Maulvibazar predictions already generated\n",
      "m3-Maulvibazar predictions already generatedm6-Maulvibazar predictions already generated\n",
      "\n",
      "m7-Maulvibazar predictions already generated\n",
      "m9-Maulvibazar predictions already generated\n",
      "m10-Maulvibazar predictions already generated\n",
      "m11-Maulvibazar predictions already generated\n"
     ]
    },
    {
     "name": "stderr",
     "output_type": "stream",
     "text": [
      "Process Process-69:\n",
      "Traceback (most recent call last):\n",
      "  File \"/home/kane/code/fyp/venv/lib/python3.10/site-packages/multiprocess/process.py\", line 314, in _bootstrap\n",
      "    self.run()\n",
      "  File \"/home/kane/code/fyp/venv/lib/python3.10/site-packages/multiprocess/process.py\", line 108, in run\n",
      "    self._target(*self._args, **self._kwargs)\n",
      "  File \"/tmp/ipykernel_331508/3834942049.py\", line 10, in run_model\n",
      "    pred_df = model.main(f'./experiments/model_eval_by_dis/{dis}/k1.csv', k_fold)\n",
      "  File \"/home/kane/code/fyp/models/model8/model.py\", line 102, in main\n",
      "    test_df['Prediction'] = gen_predictions(train_df, test_df, k_fold)\n",
      "  File \"/home/kane/code/fyp/models/model8/model.py\", line 50, in gen_predictions\n",
      "    tt_df = append_test_train(te_div, tr_div)\n",
      "  File \"/home/kane/code/fyp/models/model_utils/utils.py\", line 59, in append_test_train\n",
      "    test.loc[:, 'tid'] = 1\n",
      "  File \"/home/kane/code/fyp/venv/lib/python3.10/site-packages/pandas/core/indexing.py\", line 818, in __setitem__\n",
      "    iloc._setitem_with_indexer(indexer, value, self.name)\n",
      "  File \"/home/kane/code/fyp/venv/lib/python3.10/site-packages/pandas/core/indexing.py\", line 1718, in _setitem_with_indexer\n",
      "    raise ValueError(\n",
      "ValueError: cannot set a frame with no defined index and a scalar\n"
     ]
    },
    {
     "name": "stdout",
     "output_type": "stream",
     "text": [
      "dis 1 / 63\n",
      "m3-Jhenaidah predictions already generated\n",
      "m4-Jhenaidah predictions already generated\n",
      "m5-Jhenaidah predictions already generated\n",
      "m6-Jhenaidah predictions already generated\n",
      "m7-Jhenaidah predictions already generated\n",
      "m9-Jhenaidah predictions already generated\n",
      "m10-Jhenaidah predictions already generated\n",
      "m11-Jhenaidah predictions already generated\n"
     ]
    },
    {
     "name": "stderr",
     "output_type": "stream",
     "text": [
      "Process Process-78:\n",
      "Traceback (most recent call last):\n",
      "  File \"/home/kane/code/fyp/venv/lib/python3.10/site-packages/multiprocess/process.py\", line 314, in _bootstrap\n",
      "    self.run()\n",
      "  File \"/home/kane/code/fyp/venv/lib/python3.10/site-packages/multiprocess/process.py\", line 108, in run\n",
      "    self._target(*self._args, **self._kwargs)\n",
      "  File \"/tmp/ipykernel_331508/3834942049.py\", line 10, in run_model\n",
      "    pred_df = model.main(f'./experiments/model_eval_by_dis/{dis}/k1.csv', k_fold)\n",
      "  File \"/home/kane/code/fyp/models/model8/model.py\", line 102, in main\n",
      "    test_df['Prediction'] = gen_predictions(train_df, test_df, k_fold)\n",
      "  File \"/home/kane/code/fyp/models/model8/model.py\", line 50, in gen_predictions\n",
      "    tt_df = append_test_train(te_div, tr_div)\n",
      "  File \"/home/kane/code/fyp/models/model_utils/utils.py\", line 59, in append_test_train\n",
      "    test.loc[:, 'tid'] = 1\n",
      "  File \"/home/kane/code/fyp/venv/lib/python3.10/site-packages/pandas/core/indexing.py\", line 818, in __setitem__\n",
      "    iloc._setitem_with_indexer(indexer, value, self.name)\n",
      "  File \"/home/kane/code/fyp/venv/lib/python3.10/site-packages/pandas/core/indexing.py\", line 1718, in _setitem_with_indexer\n",
      "    raise ValueError(\n",
      "ValueError: cannot set a frame with no defined index and a scalar\n"
     ]
    },
    {
     "name": "stdout",
     "output_type": "stream",
     "text": [
      "dis 2 / 63\n",
      "m3-Noakhali predictions already generated\n",
      "m4-Noakhali predictions already generated\n",
      "m5-Noakhali predictions already generated\n",
      "m6-Noakhali predictions already generated\n",
      "m7-Noakhali predictions already generated\n",
      "m9-Noakhali predictions already generated\n",
      "m10-Noakhali predictions already generated\n",
      "m11-Noakhali predictions already generated\n"
     ]
    },
    {
     "name": "stderr",
     "output_type": "stream",
     "text": [
      "Process Process-87:\n",
      "Traceback (most recent call last):\n",
      "  File \"/home/kane/code/fyp/venv/lib/python3.10/site-packages/multiprocess/process.py\", line 314, in _bootstrap\n",
      "    self.run()\n",
      "  File \"/home/kane/code/fyp/venv/lib/python3.10/site-packages/multiprocess/process.py\", line 108, in run\n",
      "    self._target(*self._args, **self._kwargs)\n",
      "  File \"/tmp/ipykernel_331508/3834942049.py\", line 10, in run_model\n",
      "    pred_df = model.main(f'./experiments/model_eval_by_dis/{dis}/k1.csv', k_fold)\n",
      "  File \"/home/kane/code/fyp/models/model8/model.py\", line 102, in main\n",
      "    test_df['Prediction'] = gen_predictions(train_df, test_df, k_fold)\n",
      "  File \"/home/kane/code/fyp/models/model8/model.py\", line 50, in gen_predictions\n",
      "    tt_df = append_test_train(te_div, tr_div)\n",
      "  File \"/home/kane/code/fyp/models/model_utils/utils.py\", line 59, in append_test_train\n",
      "    test.loc[:, 'tid'] = 1\n",
      "  File \"/home/kane/code/fyp/venv/lib/python3.10/site-packages/pandas/core/indexing.py\", line 818, in __setitem__\n",
      "    iloc._setitem_with_indexer(indexer, value, self.name)\n",
      "  File \"/home/kane/code/fyp/venv/lib/python3.10/site-packages/pandas/core/indexing.py\", line 1718, in _setitem_with_indexer\n",
      "    raise ValueError(\n",
      "ValueError: cannot set a frame with no defined index and a scalar\n"
     ]
    },
    {
     "name": "stdout",
     "output_type": "stream",
     "text": [
      "dis 3 / 63\n",
      "m3-Tangail predictions already generated\n",
      "m4-Tangail predictions already generated\n",
      "m5-Tangail predictions already generated\n",
      "m6-Tangail predictions already generated\n",
      "m7-Tangail predictions already generated\n",
      "m9-Tangail predictions already generated\n",
      "m10-Tangail predictions already generated\n",
      "m11-Tangail predictions already generated\n"
     ]
    },
    {
     "name": "stderr",
     "output_type": "stream",
     "text": [
      "Process Process-96:\n",
      "Traceback (most recent call last):\n",
      "  File \"/home/kane/code/fyp/venv/lib/python3.10/site-packages/multiprocess/process.py\", line 314, in _bootstrap\n",
      "    self.run()\n",
      "  File \"/home/kane/code/fyp/venv/lib/python3.10/site-packages/multiprocess/process.py\", line 108, in run\n",
      "    self._target(*self._args, **self._kwargs)\n",
      "  File \"/tmp/ipykernel_331508/3834942049.py\", line 10, in run_model\n",
      "    pred_df = model.main(f'./experiments/model_eval_by_dis/{dis}/k1.csv', k_fold)\n",
      "  File \"/home/kane/code/fyp/models/model8/model.py\", line 102, in main\n",
      "    test_df['Prediction'] = gen_predictions(train_df, test_df, k_fold)\n",
      "  File \"/home/kane/code/fyp/models/model8/model.py\", line 50, in gen_predictions\n",
      "    tt_df = append_test_train(te_div, tr_div)\n",
      "  File \"/home/kane/code/fyp/models/model_utils/utils.py\", line 59, in append_test_train\n",
      "    test.loc[:, 'tid'] = 1\n",
      "  File \"/home/kane/code/fyp/venv/lib/python3.10/site-packages/pandas/core/indexing.py\", line 818, in __setitem__\n",
      "    iloc._setitem_with_indexer(indexer, value, self.name)\n",
      "  File \"/home/kane/code/fyp/venv/lib/python3.10/site-packages/pandas/core/indexing.py\", line 1718, in _setitem_with_indexer\n",
      "    raise ValueError(\n",
      "ValueError: cannot set a frame with no defined index and a scalar\n"
     ]
    },
    {
     "name": "stdout",
     "output_type": "stream",
     "text": [
      "dis 4 / 63\n",
      "m3-Sirajganj predictions already generated\n",
      "m4-Sirajganj predictions already generated\n",
      "m5-Sirajganj predictions already generated\n",
      "m6-Sirajganj predictions already generated\n",
      "m7-Sirajganj predictions already generated\n",
      "m9-Sirajganj predictions already generated\n",
      "m10-Sirajganj predictions already generated\n",
      "m11-Sirajganj predictions already generated\n"
     ]
    },
    {
     "name": "stderr",
     "output_type": "stream",
     "text": [
      "Process Process-105:\n",
      "Traceback (most recent call last):\n",
      "  File \"/home/kane/code/fyp/venv/lib/python3.10/site-packages/multiprocess/process.py\", line 314, in _bootstrap\n",
      "    self.run()\n",
      "  File \"/home/kane/code/fyp/venv/lib/python3.10/site-packages/multiprocess/process.py\", line 108, in run\n",
      "    self._target(*self._args, **self._kwargs)\n",
      "  File \"/tmp/ipykernel_331508/3834942049.py\", line 10, in run_model\n",
      "    pred_df = model.main(f'./experiments/model_eval_by_dis/{dis}/k1.csv', k_fold)\n",
      "  File \"/home/kane/code/fyp/models/model8/model.py\", line 102, in main\n",
      "    test_df['Prediction'] = gen_predictions(train_df, test_df, k_fold)\n",
      "  File \"/home/kane/code/fyp/models/model8/model.py\", line 50, in gen_predictions\n",
      "    tt_df = append_test_train(te_div, tr_div)\n",
      "  File \"/home/kane/code/fyp/models/model_utils/utils.py\", line 59, in append_test_train\n",
      "    test.loc[:, 'tid'] = 1\n",
      "  File \"/home/kane/code/fyp/venv/lib/python3.10/site-packages/pandas/core/indexing.py\", line 818, in __setitem__\n",
      "    iloc._setitem_with_indexer(indexer, value, self.name)\n",
      "  File \"/home/kane/code/fyp/venv/lib/python3.10/site-packages/pandas/core/indexing.py\", line 1718, in _setitem_with_indexer\n",
      "    raise ValueError(\n",
      "ValueError: cannot set a frame with no defined index and a scalar\n"
     ]
    },
    {
     "name": "stdout",
     "output_type": "stream",
     "text": [
      "dis 5 / 63\n",
      "m3-Gaibandha predictions already generated\n",
      "m4-Gaibandha predictions already generated\n",
      "m5-Gaibandha predictions already generated\n",
      "m6-Gaibandha predictions already generated\n",
      "m7-Gaibandha predictions already generated\n",
      "m9-Gaibandha predictions already generated\n",
      "m10-Gaibandha predictions already generated\n",
      "m11-Gaibandha predictions already generated\n"
     ]
    },
    {
     "name": "stderr",
     "output_type": "stream",
     "text": [
      "Process Process-114:\n",
      "Traceback (most recent call last):\n",
      "  File \"/home/kane/code/fyp/venv/lib/python3.10/site-packages/multiprocess/process.py\", line 314, in _bootstrap\n",
      "    self.run()\n",
      "  File \"/home/kane/code/fyp/venv/lib/python3.10/site-packages/multiprocess/process.py\", line 108, in run\n",
      "    self._target(*self._args, **self._kwargs)\n",
      "  File \"/tmp/ipykernel_331508/3834942049.py\", line 10, in run_model\n",
      "    pred_df = model.main(f'./experiments/model_eval_by_dis/{dis}/k1.csv', k_fold)\n",
      "  File \"/home/kane/code/fyp/models/model8/model.py\", line 102, in main\n",
      "    test_df['Prediction'] = gen_predictions(train_df, test_df, k_fold)\n",
      "  File \"/home/kane/code/fyp/models/model8/model.py\", line 50, in gen_predictions\n",
      "    tt_df = append_test_train(te_div, tr_div)\n",
      "  File \"/home/kane/code/fyp/models/model_utils/utils.py\", line 59, in append_test_train\n",
      "    test.loc[:, 'tid'] = 1\n",
      "  File \"/home/kane/code/fyp/venv/lib/python3.10/site-packages/pandas/core/indexing.py\", line 818, in __setitem__\n",
      "    iloc._setitem_with_indexer(indexer, value, self.name)\n",
      "  File \"/home/kane/code/fyp/venv/lib/python3.10/site-packages/pandas/core/indexing.py\", line 1718, in _setitem_with_indexer\n",
      "    raise ValueError(\n",
      "ValueError: cannot set a frame with no defined index and a scalar\n"
     ]
    },
    {
     "name": "stdout",
     "output_type": "stream",
     "text": [
      "dis 6 / 63\n",
      "m3-Narayanganj predictions already generated\n",
      "m4-Narayanganj predictions already generated\n",
      "m5-Narayanganj predictions already generated\n",
      "m6-Narayanganj predictions already generated\n",
      "m7-Narayanganj predictions already generated\n",
      "m9-Narayanganj predictions already generated\n",
      "m10-Narayanganj predictions already generated\n",
      "m11-Narayanganj predictions already generated\n"
     ]
    },
    {
     "name": "stderr",
     "output_type": "stream",
     "text": [
      "Process Process-123:\n",
      "Traceback (most recent call last):\n",
      "  File \"/home/kane/code/fyp/venv/lib/python3.10/site-packages/multiprocess/process.py\", line 314, in _bootstrap\n",
      "    self.run()\n",
      "  File \"/home/kane/code/fyp/venv/lib/python3.10/site-packages/multiprocess/process.py\", line 108, in run\n",
      "    self._target(*self._args, **self._kwargs)\n",
      "  File \"/tmp/ipykernel_331508/3834942049.py\", line 10, in run_model\n",
      "    pred_df = model.main(f'./experiments/model_eval_by_dis/{dis}/k1.csv', k_fold)\n",
      "  File \"/home/kane/code/fyp/models/model8/model.py\", line 102, in main\n",
      "    test_df['Prediction'] = gen_predictions(train_df, test_df, k_fold)\n",
      "  File \"/home/kane/code/fyp/models/model8/model.py\", line 50, in gen_predictions\n",
      "    tt_df = append_test_train(te_div, tr_div)\n",
      "  File \"/home/kane/code/fyp/models/model_utils/utils.py\", line 59, in append_test_train\n",
      "    test.loc[:, 'tid'] = 1\n",
      "  File \"/home/kane/code/fyp/venv/lib/python3.10/site-packages/pandas/core/indexing.py\", line 818, in __setitem__\n",
      "    iloc._setitem_with_indexer(indexer, value, self.name)\n",
      "  File \"/home/kane/code/fyp/venv/lib/python3.10/site-packages/pandas/core/indexing.py\", line 1718, in _setitem_with_indexer\n",
      "    raise ValueError(\n",
      "ValueError: cannot set a frame with no defined index and a scalar\n"
     ]
    },
    {
     "name": "stdout",
     "output_type": "stream",
     "text": [
      "dis 7 / 63\n",
      "m3-Bhola predictions already generated\n",
      "m4-Bhola predictions already generated\n",
      "m5-Bhola predictions already generated\n",
      "m6-Bhola predictions already generated\n",
      "m7-Bhola predictions already generated\n",
      "m9-Bhola predictions already generated\n",
      "m10-Bhola predictions already generated\n",
      "m11-Bhola predictions already generated\n"
     ]
    },
    {
     "name": "stderr",
     "output_type": "stream",
     "text": [
      "Process Process-132:\n",
      "Traceback (most recent call last):\n",
      "  File \"/home/kane/code/fyp/venv/lib/python3.10/site-packages/multiprocess/process.py\", line 314, in _bootstrap\n",
      "    self.run()\n",
      "  File \"/home/kane/code/fyp/venv/lib/python3.10/site-packages/multiprocess/process.py\", line 108, in run\n",
      "    self._target(*self._args, **self._kwargs)\n",
      "  File \"/tmp/ipykernel_331508/3834942049.py\", line 10, in run_model\n",
      "    pred_df = model.main(f'./experiments/model_eval_by_dis/{dis}/k1.csv', k_fold)\n",
      "  File \"/home/kane/code/fyp/models/model8/model.py\", line 102, in main\n",
      "    test_df['Prediction'] = gen_predictions(train_df, test_df, k_fold)\n",
      "  File \"/home/kane/code/fyp/models/model8/model.py\", line 50, in gen_predictions\n",
      "    tt_df = append_test_train(te_div, tr_div)\n",
      "  File \"/home/kane/code/fyp/models/model_utils/utils.py\", line 59, in append_test_train\n",
      "    test.loc[:, 'tid'] = 1\n",
      "  File \"/home/kane/code/fyp/venv/lib/python3.10/site-packages/pandas/core/indexing.py\", line 818, in __setitem__\n",
      "    iloc._setitem_with_indexer(indexer, value, self.name)\n",
      "  File \"/home/kane/code/fyp/venv/lib/python3.10/site-packages/pandas/core/indexing.py\", line 1718, in _setitem_with_indexer\n",
      "    raise ValueError(\n",
      "ValueError: cannot set a frame with no defined index and a scalar\n"
     ]
    },
    {
     "name": "stdout",
     "output_type": "stream",
     "text": [
      "dis 8 / 63\n",
      "m5-Faridpur predictions already generated\n",
      "m10-Faridpur predictions already generated\n",
      "m11-Faridpur predictions already generated\n"
     ]
    },
    {
     "name": "stderr",
     "output_type": "stream",
     "text": [
      "/home/kane/code/fyp/models/model_utils/utils.py:35: FutureWarning: In a future version, the Index constructor will not infer numeric dtypes when passed object-dtype sequences (matching Series behavior)\n",
      "  df[header] = pd.Categorical(df[header]).codes\n",
      "/home/kane/code/fyp/models/model_utils/utils.py:35: FutureWarning: In a future version, the Index constructor will not infer numeric dtypes when passed object-dtype sequences (matching Series behavior)\n",
      "  df[header] = pd.Categorical(df[header]).codes\n",
      "/home/kane/code/fyp/models/model_utils/utils.py:46: UserWarning: Geometry is in a geographic CRS. Results from 'centroid' are likely incorrect. Use 'GeoSeries.to_crs()' to re-project geometries to a projected CRS before this operation.\n",
      "\n",
      "  gdf['lon'] = gdf.centroid.x\n",
      "/home/kane/code/fyp/models/model_utils/utils.py:47: UserWarning: Geometry is in a geographic CRS. Results from 'centroid' are likely incorrect. Use 'GeoSeries.to_crs()' to re-project geometries to a projected CRS before this operation.\n",
      "\n",
      "  gdf['lat'] = gdf.centroid.y\n",
      "Process Process-141:\n",
      "Traceback (most recent call last):\n",
      "  File \"/home/kane/code/fyp/venv/lib/python3.10/site-packages/multiprocess/process.py\", line 314, in _bootstrap\n",
      "    self.run()\n",
      "  File \"/home/kane/code/fyp/venv/lib/python3.10/site-packages/multiprocess/process.py\", line 108, in run\n",
      "    self._target(*self._args, **self._kwargs)\n",
      "  File \"/tmp/ipykernel_331508/3834942049.py\", line 10, in run_model\n",
      "    pred_df = model.main(f'./experiments/model_eval_by_dis/{dis}/k1.csv', k_fold)\n",
      "  File \"/home/kane/code/fyp/models/model8/model.py\", line 102, in main\n",
      "    test_df['Prediction'] = gen_predictions(train_df, test_df, k_fold)\n",
      "  File \"/home/kane/code/fyp/models/model8/model.py\", line 50, in gen_predictions\n",
      "    tt_df = append_test_train(te_div, tr_div)\n",
      "  File \"/home/kane/code/fyp/models/model_utils/utils.py\", line 59, in append_test_train\n",
      "    test.loc[:, 'tid'] = 1\n",
      "  File \"/home/kane/code/fyp/venv/lib/python3.10/site-packages/pandas/core/indexing.py\", line 818, in __setitem__\n",
      "    iloc._setitem_with_indexer(indexer, value, self.name)\n",
      "  File \"/home/kane/code/fyp/venv/lib/python3.10/site-packages/pandas/core/indexing.py\", line 1718, in _setitem_with_indexer\n",
      "    raise ValueError(\n",
      "ValueError: cannot set a frame with no defined index and a scalar\n"
     ]
    },
    {
     "name": "stdout",
     "output_type": "stream",
     "text": [
      "predictions written to ./experiments/model_eval_by_dis/Faridpur/m6.test.csv\n",
      "evaluation written to ./experiments/model_eval_by_dis/Faridpur/m6.eval.csv\n",
      "predictions written to ./experiments/model_eval_by_dis/Faridpur/m9.test.csv\n",
      "evaluation written to ./experiments/model_eval_by_dis/Faridpur/m9.eval.csv\n",
      "predictions written to ./experiments/model_eval_by_dis/Faridpur/m3.test.csv\n",
      "evaluation written to ./experiments/model_eval_by_dis/Faridpur/m3.eval.csv\n",
      "predictions written to ./experiments/model_eval_by_dis/Faridpur/m7.test.csv\n",
      "evaluation written to ./experiments/model_eval_by_dis/Faridpur/m7.eval.csv\n",
      "predictions written to ./experiments/model_eval_by_dis/Faridpur/m4.test.csv\n",
      "evaluation written to ./experiments/model_eval_by_dis/Faridpur/m4.eval.csv\n",
      "dis 9 / 63\n"
     ]
    },
    {
     "name": "stderr",
     "output_type": "stream",
     "text": [
      "/home/kane/code/fyp/models/model_utils/utils.py:35: FutureWarning: In a future version, the Index constructor will not infer numeric dtypes when passed object-dtype sequences (matching Series behavior)\n",
      "  df[header] = pd.Categorical(df[header]).codes\n",
      "/home/kane/code/fyp/models/model_utils/utils.py:35: FutureWarning: In a future version, the Index constructor will not infer numeric dtypes when passed object-dtype sequences (matching Series behavior)\n",
      "  df[header] = pd.Categorical(df[header]).codes\n",
      "/home/kane/code/fyp/models/model_utils/utils.py:46: UserWarning: Geometry is in a geographic CRS. Results from 'centroid' are likely incorrect. Use 'GeoSeries.to_crs()' to re-project geometries to a projected CRS before this operation.\n",
      "\n",
      "  gdf['lon'] = gdf.centroid.x\n",
      "Process Process-150:\n",
      "Traceback (most recent call last):\n",
      "  File \"/home/kane/code/fyp/venv/lib/python3.10/site-packages/multiprocess/process.py\", line 314, in _bootstrap\n",
      "    self.run()\n",
      "  File \"/home/kane/code/fyp/venv/lib/python3.10/site-packages/multiprocess/process.py\", line 108, in run\n",
      "    self._target(*self._args, **self._kwargs)\n",
      "  File \"/tmp/ipykernel_331508/3834942049.py\", line 10, in run_model\n",
      "    pred_df = model.main(f'./experiments/model_eval_by_dis/{dis}/k1.csv', k_fold)\n",
      "  File \"/home/kane/code/fyp/models/model8/model.py\", line 102, in main\n",
      "    test_df['Prediction'] = gen_predictions(train_df, test_df, k_fold)\n",
      "/home/kane/code/fyp/models/model_utils/utils.py:47: UserWarning: Geometry is in a geographic CRS. Results from 'centroid' are likely incorrect. Use 'GeoSeries.to_crs()' to re-project geometries to a projected CRS before this operation.\n",
      "\n",
      "  gdf['lat'] = gdf.centroid.y\n",
      "  File \"/home/kane/code/fyp/models/model8/model.py\", line 50, in gen_predictions\n",
      "    tt_df = append_test_train(te_div, tr_div)\n",
      "  File \"/home/kane/code/fyp/models/model_utils/utils.py\", line 59, in append_test_train\n",
      "    test.loc[:, 'tid'] = 1\n",
      "  File \"/home/kane/code/fyp/venv/lib/python3.10/site-packages/pandas/core/indexing.py\", line 818, in __setitem__\n",
      "    iloc._setitem_with_indexer(indexer, value, self.name)\n",
      "  File \"/home/kane/code/fyp/venv/lib/python3.10/site-packages/pandas/core/indexing.py\", line 1718, in _setitem_with_indexer\n",
      "    raise ValueError(\n",
      "ValueError: cannot set a frame with no defined index and a scalar\n",
      "/home/kane/code/fyp/models/model_utils/utils.py:46: UserWarning: Geometry is in a geographic CRS. Results from 'centroid' are likely incorrect. Use 'GeoSeries.to_crs()' to re-project geometries to a projected CRS before this operation.\n",
      "\n",
      "  gdf['lon'] = gdf.centroid.x\n",
      "/home/kane/code/fyp/models/model_utils/utils.py:47: UserWarning: Geometry is in a geographic CRS. Results from 'centroid' are likely incorrect. Use 'GeoSeries.to_crs()' to re-project geometries to a projected CRS before this operation.\n",
      "\n",
      "  gdf['lat'] = gdf.centroid.y\n",
      "/home/kane/code/fyp/models/model_utils/utils.py:35: FutureWarning: In a future version, the Index constructor will not infer numeric dtypes when passed object-dtype sequences (matching Series behavior)\n",
      "  df[header] = pd.Categorical(df[header]).codes\n",
      "/home/kane/code/fyp/models/model_utils/utils.py:35: FutureWarning: In a future version, the Index constructor will not infer numeric dtypes when passed object-dtype sequences (matching Series behavior)\n",
      "  df[header] = pd.Categorical(df[header]).codes\n"
     ]
    },
    {
     "name": "stdout",
     "output_type": "stream",
     "text": [
      "predictions written to ./experiments/model_eval_by_dis/Comilla/m11.test.csv\n",
      "evaluation written to ./experiments/model_eval_by_dis/Comilla/m11.eval.csv\n",
      "predictions written to ./experiments/model_eval_by_dis/Comilla/m10.test.csv\n",
      "evaluation written to ./experiments/model_eval_by_dis/Comilla/m10.eval.csv\n",
      "predictions written to ./experiments/model_eval_by_dis/Comilla/m9.test.csv\n",
      "evaluation written to ./experiments/model_eval_by_dis/Comilla/m9.eval.csv\n",
      "predictions written to ./experiments/model_eval_by_dis/Comilla/m6.test.csv\n",
      "evaluation written to ./experiments/model_eval_by_dis/Comilla/m6.eval.csv\n",
      "predictions written to ./experiments/model_eval_by_dis/Comilla/m7.test.csv\n",
      "evaluation written to ./experiments/model_eval_by_dis/Comilla/m7.eval.csv\n",
      "predictions written to ./experiments/model_eval_by_dis/Comilla/m5.test.csv\n",
      "evaluation written to ./experiments/model_eval_by_dis/Comilla/m5.eval.csv\n",
      "predictions written to ./experiments/model_eval_by_dis/Comilla/m3.test.csv\n",
      "evaluation written to ./experiments/model_eval_by_dis/Comilla/m3.eval.csv\n",
      "predictions written to ./experiments/model_eval_by_dis/Comilla/m4.test.csv\n",
      "evaluation written to ./experiments/model_eval_by_dis/Comilla/m4.eval.csv\n",
      "dis 10 / 63\n"
     ]
    },
    {
     "name": "stderr",
     "output_type": "stream",
     "text": [
      "/home/kane/code/fyp/models/model_utils/utils.py:46: UserWarning: Geometry is in a geographic CRS. Results from 'centroid' are likely incorrect. Use 'GeoSeries.to_crs()' to re-project geometries to a projected CRS before this operation.\n",
      "\n",
      "  gdf['lon'] = gdf.centroid.x\n",
      "/home/kane/code/fyp/models/model_utils/utils.py:47: UserWarning: Geometry is in a geographic CRS. Results from 'centroid' are likely incorrect. Use 'GeoSeries.to_crs()' to re-project geometries to a projected CRS before this operation.\n",
      "\n",
      "  gdf['lat'] = gdf.centroid.y\n",
      "/home/kane/code/fyp/models/model_utils/utils.py:46: UserWarning: Geometry is in a geographic CRS. Results from 'centroid' are likely incorrect. Use 'GeoSeries.to_crs()' to re-project geometries to a projected CRS before this operation.\n",
      "\n",
      "  gdf['lon'] = gdf.centroid.x\n",
      "Process Process-159:\n",
      "Traceback (most recent call last):\n",
      "  File \"/home/kane/code/fyp/venv/lib/python3.10/site-packages/multiprocess/process.py\", line 314, in _bootstrap\n",
      "    self.run()\n",
      "  File \"/home/kane/code/fyp/venv/lib/python3.10/site-packages/multiprocess/process.py\", line 108, in run\n",
      "    self._target(*self._args, **self._kwargs)\n",
      "  File \"/tmp/ipykernel_331508/3834942049.py\", line 10, in run_model\n",
      "    pred_df = model.main(f'./experiments/model_eval_by_dis/{dis}/k1.csv', k_fold)\n",
      "  File \"/home/kane/code/fyp/models/model8/model.py\", line 102, in main\n",
      "    test_df['Prediction'] = gen_predictions(train_df, test_df, k_fold)\n",
      "  File \"/home/kane/code/fyp/models/model8/model.py\", line 50, in gen_predictions\n",
      "    tt_df = append_test_train(te_div, tr_div)\n",
      "  File \"/home/kane/code/fyp/models/model_utils/utils.py\", line 59, in append_test_train\n",
      "    test.loc[:, 'tid'] = 1\n",
      "  File \"/home/kane/code/fyp/venv/lib/python3.10/site-packages/pandas/core/indexing.py\", line 818, in __setitem__\n",
      "    iloc._setitem_with_indexer(indexer, value, self.name)\n",
      "  File \"/home/kane/code/fyp/venv/lib/python3.10/site-packages/pandas/core/indexing.py\", line 1718, in _setitem_with_indexer\n",
      "    raise ValueError(\n",
      "/home/kane/code/fyp/models/model_utils/utils.py:47: UserWarning: Geometry is in a geographic CRS. Results from 'centroid' are likely incorrect. Use 'GeoSeries.to_crs()' to re-project geometries to a projected CRS before this operation.\n",
      "\n",
      "  gdf['lat'] = gdf.centroid.y\n",
      "ValueError: cannot set a frame with no defined index and a scalar\n",
      "/home/kane/code/fyp/models/model_utils/utils.py:35: FutureWarning: In a future version, the Index constructor will not infer numeric dtypes when passed object-dtype sequences (matching Series behavior)\n",
      "  df[header] = pd.Categorical(df[header]).codes\n",
      "/home/kane/code/fyp/models/model_utils/utils.py:35: FutureWarning: In a future version, the Index constructor will not infer numeric dtypes when passed object-dtype sequences (matching Series behavior)\n",
      "  df[header] = pd.Categorical(df[header]).codes\n",
      "/home/kane/code/fyp/models/model_utils/utils.py:35: FutureWarning: In a future version, the Index constructor will not infer numeric dtypes when passed object-dtype sequences (matching Series behavior)\n",
      "  df[header] = pd.Categorical(df[header]).codes\n",
      "/home/kane/code/fyp/models/model_utils/utils.py:35: FutureWarning: In a future version, the Index constructor will not infer numeric dtypes when passed object-dtype sequences (matching Series behavior)\n",
      "  df[header] = pd.Categorical(df[header]).codes\n"
     ]
    },
    {
     "name": "stdout",
     "output_type": "stream",
     "text": [
      "predictions written to ./experiments/model_eval_by_dis/Sylhet/m11.test.csv\n",
      "evaluation written to ./experiments/model_eval_by_dis/Sylhet/m11.eval.csv\n",
      "predictions written to ./experiments/model_eval_by_dis/Sylhet/m10.test.csv\n",
      "evaluation written to ./experiments/model_eval_by_dis/Sylhet/m10.eval.csv\n",
      "predictions written to ./experiments/model_eval_by_dis/Sylhet/m5.test.csv\n",
      "evaluation written to ./experiments/model_eval_by_dis/Sylhet/m5.eval.csv\n",
      "predictions written to ./experiments/model_eval_by_dis/Sylhet/m6.test.csv\n",
      "evaluation written to ./experiments/model_eval_by_dis/Sylhet/m6.eval.csv\n",
      "predictions written to ./experiments/model_eval_by_dis/Sylhet/m3.test.csv\n",
      "evaluation written to ./experiments/model_eval_by_dis/Sylhet/m3.eval.csv\n",
      "predictions written to ./experiments/model_eval_by_dis/Sylhet/m9.test.csv\n",
      "evaluation written to ./experiments/model_eval_by_dis/Sylhet/m9.eval.csv\n",
      "predictions written to ./experiments/model_eval_by_dis/Sylhet/m7.test.csv\n",
      "evaluation written to ./experiments/model_eval_by_dis/Sylhet/m7.eval.csv\n",
      "predictions written to ./experiments/model_eval_by_dis/Sylhet/m4.test.csv\n",
      "evaluation written to ./experiments/model_eval_by_dis/Sylhet/m4.eval.csv\n",
      "dis 11 / 63\n"
     ]
    },
    {
     "name": "stderr",
     "output_type": "stream",
     "text": [
      "/home/kane/code/fyp/models/model_utils/utils.py:46: UserWarning: Geometry is in a geographic CRS. Results from 'centroid' are likely incorrect. Use 'GeoSeries.to_crs()' to re-project geometries to a projected CRS before this operation.\n",
      "\n",
      "  gdf['lon'] = gdf.centroid.x\n",
      "/home/kane/code/fyp/models/model_utils/utils.py:47: UserWarning: Geometry is in a geographic CRS. Results from 'centroid' are likely incorrect. Use 'GeoSeries.to_crs()' to re-project geometries to a projected CRS before this operation.\n",
      "\n",
      "  gdf['lat'] = gdf.centroid.y\n",
      "/home/kane/code/fyp/models/model_utils/utils.py:46: UserWarning: Geometry is in a geographic CRS. Results from 'centroid' are likely incorrect. Use 'GeoSeries.to_crs()' to re-project geometries to a projected CRS before this operation.\n",
      "\n",
      "  gdf['lon'] = gdf.centroid.x\n",
      "Process Process-168:\n",
      "Traceback (most recent call last):\n",
      "  File \"/home/kane/code/fyp/venv/lib/python3.10/site-packages/multiprocess/process.py\", line 314, in _bootstrap\n",
      "    self.run()\n",
      "  File \"/home/kane/code/fyp/venv/lib/python3.10/site-packages/multiprocess/process.py\", line 108, in run\n",
      "    self._target(*self._args, **self._kwargs)\n",
      "  File \"/tmp/ipykernel_331508/3834942049.py\", line 10, in run_model\n",
      "    pred_df = model.main(f'./experiments/model_eval_by_dis/{dis}/k1.csv', k_fold)\n",
      "  File \"/home/kane/code/fyp/models/model8/model.py\", line 102, in main\n",
      "    test_df['Prediction'] = gen_predictions(train_df, test_df, k_fold)\n",
      "  File \"/home/kane/code/fyp/models/model8/model.py\", line 50, in gen_predictions\n",
      "    tt_df = append_test_train(te_div, tr_div)\n",
      "  File \"/home/kane/code/fyp/models/model_utils/utils.py\", line 59, in append_test_train\n",
      "    test.loc[:, 'tid'] = 1\n",
      "  File \"/home/kane/code/fyp/venv/lib/python3.10/site-packages/pandas/core/indexing.py\", line 818, in __setitem__\n",
      "    iloc._setitem_with_indexer(indexer, value, self.name)\n",
      "  File \"/home/kane/code/fyp/venv/lib/python3.10/site-packages/pandas/core/indexing.py\", line 1718, in _setitem_with_indexer\n",
      "    raise ValueError(\n",
      "ValueError: cannot set a frame with no defined index and a scalar\n",
      "/home/kane/code/fyp/models/model_utils/utils.py:47: UserWarning: Geometry is in a geographic CRS. Results from 'centroid' are likely incorrect. Use 'GeoSeries.to_crs()' to re-project geometries to a projected CRS before this operation.\n",
      "\n",
      "  gdf['lat'] = gdf.centroid.y\n",
      "/home/kane/code/fyp/models/model_utils/utils.py:35: FutureWarning: In a future version, the Index constructor will not infer numeric dtypes when passed object-dtype sequences (matching Series behavior)\n",
      "  df[header] = pd.Categorical(df[header]).codes\n",
      "/home/kane/code/fyp/models/model_utils/utils.py:35: FutureWarning: In a future version, the Index constructor will not infer numeric dtypes when passed object-dtype sequences (matching Series behavior)\n",
      "  df[header] = pd.Categorical(df[header]).codes\n",
      "/home/kane/code/fyp/models/model_utils/utils.py:35: FutureWarning: In a future version, the Index constructor will not infer numeric dtypes when passed object-dtype sequences (matching Series behavior)\n",
      "  df[header] = pd.Categorical(df[header]).codes\n",
      "/home/kane/code/fyp/models/model_utils/utils.py:35: FutureWarning: In a future version, the Index constructor will not infer numeric dtypes when passed object-dtype sequences (matching Series behavior)\n",
      "  df[header] = pd.Categorical(df[header]).codes\n"
     ]
    },
    {
     "name": "stdout",
     "output_type": "stream",
     "text": [
      "predictions written to ./experiments/model_eval_by_dis/Jessore/m11.test.csv\n",
      "evaluation written to ./experiments/model_eval_by_dis/Jessore/m11.eval.csv\n",
      "predictions written to ./experiments/model_eval_by_dis/Jessore/m10.test.csv\n",
      "evaluation written to ./experiments/model_eval_by_dis/Jessore/m10.eval.csv\n",
      "predictions written to ./experiments/model_eval_by_dis/Jessore/m5.test.csv\n",
      "evaluation written to ./experiments/model_eval_by_dis/Jessore/m5.eval.csv\n",
      "predictions written to ./experiments/model_eval_by_dis/Jessore/m9.test.csv\n",
      "evaluation written to ./experiments/model_eval_by_dis/Jessore/m9.eval.csv\n",
      "predictions written to ./experiments/model_eval_by_dis/Jessore/m6.test.csv\n",
      "evaluation written to ./experiments/model_eval_by_dis/Jessore/m6.eval.csv\n",
      "predictions written to ./experiments/model_eval_by_dis/Jessore/m7.test.csv\n",
      "evaluation written to ./experiments/model_eval_by_dis/Jessore/m7.eval.csv\n",
      "predictions written to ./experiments/model_eval_by_dis/Jessore/m3.test.csv\n",
      "evaluation written to ./experiments/model_eval_by_dis/Jessore/m3.eval.csv\n",
      "predictions written to ./experiments/model_eval_by_dis/Jessore/m4.test.csv\n",
      "evaluation written to ./experiments/model_eval_by_dis/Jessore/m4.eval.csv\n",
      "dis 12 / 63\n"
     ]
    },
    {
     "name": "stderr",
     "output_type": "stream",
     "text": [
      "Process Process-177:\n",
      "Traceback (most recent call last):\n",
      "  File \"/home/kane/code/fyp/venv/lib/python3.10/site-packages/multiprocess/process.py\", line 314, in _bootstrap\n",
      "    self.run()\n",
      "  File \"/home/kane/code/fyp/venv/lib/python3.10/site-packages/multiprocess/process.py\", line 108, in run\n",
      "    self._target(*self._args, **self._kwargs)\n",
      "  File \"/tmp/ipykernel_331508/3834942049.py\", line 10, in run_model\n",
      "    pred_df = model.main(f'./experiments/model_eval_by_dis/{dis}/k1.csv', k_fold)\n",
      "  File \"/home/kane/code/fyp/models/model8/model.py\", line 102, in main\n",
      "    test_df['Prediction'] = gen_predictions(train_df, test_df, k_fold)\n",
      "  File \"/home/kane/code/fyp/models/model8/model.py\", line 50, in gen_predictions\n",
      "    tt_df = append_test_train(te_div, tr_div)\n",
      "  File \"/home/kane/code/fyp/models/model_utils/utils.py\", line 59, in append_test_train\n",
      "    test.loc[:, 'tid'] = 1\n",
      "  File \"/home/kane/code/fyp/venv/lib/python3.10/site-packages/pandas/core/indexing.py\", line 818, in __setitem__\n",
      "    iloc._setitem_with_indexer(indexer, value, self.name)\n",
      "  File \"/home/kane/code/fyp/venv/lib/python3.10/site-packages/pandas/core/indexing.py\", line 1718, in _setitem_with_indexer\n",
      "    raise ValueError(\n",
      "ValueError: cannot set a frame with no defined index and a scalar\n",
      "/home/kane/code/fyp/models/model_utils/utils.py:46: UserWarning: Geometry is in a geographic CRS. Results from 'centroid' are likely incorrect. Use 'GeoSeries.to_crs()' to re-project geometries to a projected CRS before this operation.\n",
      "\n",
      "  gdf['lon'] = gdf.centroid.x\n",
      "/home/kane/code/fyp/models/model_utils/utils.py:47: UserWarning: Geometry is in a geographic CRS. Results from 'centroid' are likely incorrect. Use 'GeoSeries.to_crs()' to re-project geometries to a projected CRS before this operation.\n",
      "\n",
      "  gdf['lat'] = gdf.centroid.y\n",
      "/home/kane/code/fyp/models/model_utils/utils.py:35: FutureWarning: In a future version, the Index constructor will not infer numeric dtypes when passed object-dtype sequences (matching Series behavior)\n",
      "  df[header] = pd.Categorical(df[header]).codes\n",
      "/home/kane/code/fyp/models/model_utils/utils.py:35: FutureWarning: In a future version, the Index constructor will not infer numeric dtypes when passed object-dtype sequences (matching Series behavior)\n",
      "  df[header] = pd.Categorical(df[header]).codes\n",
      "/home/kane/code/fyp/models/model_utils/utils.py:35: FutureWarning: In a future version, the Index constructor will not infer numeric dtypes when passed object-dtype sequences (matching Series behavior)\n",
      "  df[header] = pd.Categorical(df[header]).codes\n",
      "/home/kane/code/fyp/models/model_utils/utils.py:35: FutureWarning: In a future version, the Index constructor will not infer numeric dtypes when passed object-dtype sequences (matching Series behavior)\n",
      "  df[header] = pd.Categorical(df[header]).codes\n",
      "/home/kane/code/fyp/models/model_utils/utils.py:46: UserWarning: Geometry is in a geographic CRS. Results from 'centroid' are likely incorrect. Use 'GeoSeries.to_crs()' to re-project geometries to a projected CRS before this operation.\n",
      "\n",
      "  gdf['lon'] = gdf.centroid.x\n",
      "/home/kane/code/fyp/models/model_utils/utils.py:47: UserWarning: Geometry is in a geographic CRS. Results from 'centroid' are likely incorrect. Use 'GeoSeries.to_crs()' to re-project geometries to a projected CRS before this operation.\n",
      "\n",
      "  gdf['lat'] = gdf.centroid.y\n"
     ]
    },
    {
     "name": "stdout",
     "output_type": "stream",
     "text": [
      "predictions written to ./experiments/model_eval_by_dis/Sunamganj/m11.test.csv\n",
      "evaluation written to ./experiments/model_eval_by_dis/Sunamganj/m11.eval.csv\n",
      "predictions written to ./experiments/model_eval_by_dis/Sunamganj/m5.test.csv\n",
      "evaluation written to ./experiments/model_eval_by_dis/Sunamganj/m5.eval.csv\n",
      "predictions written to ./experiments/model_eval_by_dis/Sunamganj/m10.test.csv\n",
      "evaluation written to ./experiments/model_eval_by_dis/Sunamganj/m10.eval.csv\n",
      "predictions written to ./experiments/model_eval_by_dis/Sunamganj/m3.test.csv\n",
      "evaluation written to ./experiments/model_eval_by_dis/Sunamganj/m3.eval.csv\n",
      "predictions written to ./experiments/model_eval_by_dis/Sunamganj/m4.test.csv\n",
      "evaluation written to ./experiments/model_eval_by_dis/Sunamganj/m4.eval.csv\n",
      "predictions written to ./experiments/model_eval_by_dis/Sunamganj/m6.test.csv\n",
      "evaluation written to ./experiments/model_eval_by_dis/Sunamganj/m6.eval.csv\n",
      "predictions written to ./experiments/model_eval_by_dis/Sunamganj/m9.test.csv\n",
      "evaluation written to ./experiments/model_eval_by_dis/Sunamganj/m9.eval.csv\n",
      "predictions written to ./experiments/model_eval_by_dis/Sunamganj/m7.test.csv\n",
      "evaluation written to ./experiments/model_eval_by_dis/Sunamganj/m7.eval.csv\n",
      "dis 13 / 63\n"
     ]
    },
    {
     "name": "stderr",
     "output_type": "stream",
     "text": [
      "Process Process-186:\n",
      "Traceback (most recent call last):\n",
      "  File \"/home/kane/code/fyp/venv/lib/python3.10/site-packages/multiprocess/process.py\", line 314, in _bootstrap\n",
      "    self.run()\n",
      "  File \"/home/kane/code/fyp/venv/lib/python3.10/site-packages/multiprocess/process.py\", line 108, in run\n",
      "    self._target(*self._args, **self._kwargs)\n",
      "  File \"/tmp/ipykernel_331508/3834942049.py\", line 10, in run_model\n",
      "    pred_df = model.main(f'./experiments/model_eval_by_dis/{dis}/k1.csv', k_fold)\n",
      "  File \"/home/kane/code/fyp/models/model8/model.py\", line 102, in main\n",
      "    test_df['Prediction'] = gen_predictions(train_df, test_df, k_fold)\n",
      "  File \"/home/kane/code/fyp/models/model8/model.py\", line 50, in gen_predictions\n",
      "    tt_df = append_test_train(te_div, tr_div)\n",
      "  File \"/home/kane/code/fyp/models/model_utils/utils.py\", line 59, in append_test_train\n",
      "    test.loc[:, 'tid'] = 1\n",
      "  File \"/home/kane/code/fyp/venv/lib/python3.10/site-packages/pandas/core/indexing.py\", line 818, in __setitem__\n",
      "    iloc._setitem_with_indexer(indexer, value, self.name)\n",
      "  File \"/home/kane/code/fyp/venv/lib/python3.10/site-packages/pandas/core/indexing.py\", line 1718, in _setitem_with_indexer\n",
      "    raise ValueError(\n",
      "ValueError: cannot set a frame with no defined index and a scalar\n",
      "/home/kane/code/fyp/models/model_utils/utils.py:46: UserWarning: Geometry is in a geographic CRS. Results from 'centroid' are likely incorrect. Use 'GeoSeries.to_crs()' to re-project geometries to a projected CRS before this operation.\n",
      "\n",
      "  gdf['lon'] = gdf.centroid.x\n",
      "/home/kane/code/fyp/models/model_utils/utils.py:47: UserWarning: Geometry is in a geographic CRS. Results from 'centroid' are likely incorrect. Use 'GeoSeries.to_crs()' to re-project geometries to a projected CRS before this operation.\n",
      "\n",
      "  gdf['lat'] = gdf.centroid.y\n",
      "/home/kane/code/fyp/models/model_utils/utils.py:35: FutureWarning: In a future version, the Index constructor will not infer numeric dtypes when passed object-dtype sequences (matching Series behavior)\n",
      "  df[header] = pd.Categorical(df[header]).codes\n",
      "/home/kane/code/fyp/models/model_utils/utils.py:35: FutureWarning: In a future version, the Index constructor will not infer numeric dtypes when passed object-dtype sequences (matching Series behavior)\n",
      "  df[header] = pd.Categorical(df[header]).codes\n",
      "/home/kane/code/fyp/models/model_utils/utils.py:46: UserWarning: Geometry is in a geographic CRS. Results from 'centroid' are likely incorrect. Use 'GeoSeries.to_crs()' to re-project geometries to a projected CRS before this operation.\n",
      "\n",
      "  gdf['lon'] = gdf.centroid.x\n",
      "/home/kane/code/fyp/models/model_utils/utils.py:47: UserWarning: Geometry is in a geographic CRS. Results from 'centroid' are likely incorrect. Use 'GeoSeries.to_crs()' to re-project geometries to a projected CRS before this operation.\n",
      "\n",
      "  gdf['lat'] = gdf.centroid.y\n",
      "/home/kane/code/fyp/models/model_utils/utils.py:35: FutureWarning: In a future version, the Index constructor will not infer numeric dtypes when passed object-dtype sequences (matching Series behavior)\n",
      "  df[header] = pd.Categorical(df[header]).codes\n",
      "/home/kane/code/fyp/models/model_utils/utils.py:35: FutureWarning: In a future version, the Index constructor will not infer numeric dtypes when passed object-dtype sequences (matching Series behavior)\n",
      "  df[header] = pd.Categorical(df[header]).codes\n"
     ]
    },
    {
     "name": "stdout",
     "output_type": "stream",
     "text": [
      "predictions written to ./experiments/model_eval_by_dis/Dinajpur/m11.test.csv\n",
      "evaluation written to ./experiments/model_eval_by_dis/Dinajpur/m11.eval.csv\n",
      "predictions written to ./experiments/model_eval_by_dis/Dinajpur/m10.test.csv\n",
      "evaluation written to ./experiments/model_eval_by_dis/Dinajpur/m10.eval.csv\n",
      "predictions written to ./experiments/model_eval_by_dis/Dinajpur/m5.test.csv\n",
      "evaluation written to ./experiments/model_eval_by_dis/Dinajpur/m5.eval.csv\n"
     ]
    },
    {
     "name": "stderr",
     "output_type": "stream",
     "text": [
      "/home/kane/code/fyp/venv/lib/python3.10/site-packages/sklearn/metrics/_classification.py:1344: UndefinedMetricWarning: Precision is ill-defined and being set to 0.0 due to no predicted samples. Use `zero_division` parameter to control this behavior.\n",
      "  _warn_prf(average, modifier, msg_start, len(result))\n"
     ]
    },
    {
     "name": "stdout",
     "output_type": "stream",
     "text": [
      "predictions written to ./experiments/model_eval_by_dis/Dinajpur/m3.test.csv\n",
      "evaluation written to ./experiments/model_eval_by_dis/Dinajpur/m3.eval.csv\n",
      "predictions written to ./experiments/model_eval_by_dis/Dinajpur/m6.test.csv\n",
      "evaluation written to ./experiments/model_eval_by_dis/Dinajpur/m6.eval.csv\n",
      "predictions written to ./experiments/model_eval_by_dis/Dinajpur/m9.test.csv\n",
      "evaluation written to ./experiments/model_eval_by_dis/Dinajpur/m9.eval.csv\n"
     ]
    },
    {
     "name": "stderr",
     "output_type": "stream",
     "text": [
      "/home/kane/code/fyp/venv/lib/python3.10/site-packages/sklearn/metrics/_classification.py:1344: UndefinedMetricWarning: Precision is ill-defined and being set to 0.0 due to no predicted samples. Use `zero_division` parameter to control this behavior.\n",
      "  _warn_prf(average, modifier, msg_start, len(result))\n"
     ]
    },
    {
     "name": "stdout",
     "output_type": "stream",
     "text": [
      "predictions written to ./experiments/model_eval_by_dis/Dinajpur/m4.test.csv\n",
      "evaluation written to ./experiments/model_eval_by_dis/Dinajpur/m4.eval.csv\n",
      "predictions written to ./experiments/model_eval_by_dis/Dinajpur/m7.test.csv\n",
      "evaluation written to ./experiments/model_eval_by_dis/Dinajpur/m7.eval.csv\n",
      "dis 14 / 63\n"
     ]
    },
    {
     "name": "stderr",
     "output_type": "stream",
     "text": [
      "/home/kane/code/fyp/models/model_utils/utils.py:46: UserWarning: Geometry is in a geographic CRS. Results from 'centroid' are likely incorrect. Use 'GeoSeries.to_crs()' to re-project geometries to a projected CRS before this operation.\n",
      "\n",
      "  gdf['lon'] = gdf.centroid.x\n",
      "/home/kane/code/fyp/models/model_utils/utils.py:35: FutureWarning: In a future version, the Index constructor will not infer numeric dtypes when passed object-dtype sequences (matching Series behavior)\n",
      "  df[header] = pd.Categorical(df[header]).codes\n",
      "/home/kane/code/fyp/models/model_utils/utils.py:35: FutureWarning: In a future version, the Index constructor will not infer numeric dtypes when passed object-dtype sequences (matching Series behavior)\n",
      "  df[header] = pd.Categorical(df[header]).codes\n",
      "/home/kane/code/fyp/models/model_utils/utils.py:47: UserWarning: Geometry is in a geographic CRS. Results from 'centroid' are likely incorrect. Use 'GeoSeries.to_crs()' to re-project geometries to a projected CRS before this operation.\n",
      "\n",
      "  gdf['lat'] = gdf.centroid.y\n",
      "Process Process-195:\n",
      "Traceback (most recent call last):\n",
      "  File \"/home/kane/code/fyp/venv/lib/python3.10/site-packages/multiprocess/process.py\", line 314, in _bootstrap\n",
      "    self.run()\n",
      "  File \"/home/kane/code/fyp/venv/lib/python3.10/site-packages/multiprocess/process.py\", line 108, in run\n",
      "    self._target(*self._args, **self._kwargs)\n",
      "  File \"/tmp/ipykernel_331508/3834942049.py\", line 10, in run_model\n",
      "    pred_df = model.main(f'./experiments/model_eval_by_dis/{dis}/k1.csv', k_fold)\n",
      "  File \"/home/kane/code/fyp/models/model8/model.py\", line 102, in main\n",
      "    test_df['Prediction'] = gen_predictions(train_df, test_df, k_fold)\n",
      "  File \"/home/kane/code/fyp/models/model8/model.py\", line 50, in gen_predictions\n",
      "    tt_df = append_test_train(te_div, tr_div)\n",
      "  File \"/home/kane/code/fyp/models/model_utils/utils.py\", line 59, in append_test_train\n",
      "    test.loc[:, 'tid'] = 1\n",
      "  File \"/home/kane/code/fyp/venv/lib/python3.10/site-packages/pandas/core/indexing.py\", line 818, in __setitem__\n",
      "    iloc._setitem_with_indexer(indexer, value, self.name)\n",
      "  File \"/home/kane/code/fyp/venv/lib/python3.10/site-packages/pandas/core/indexing.py\", line 1718, in _setitem_with_indexer\n",
      "    raise ValueError(\n",
      "ValueError: cannot set a frame with no defined index and a scalar\n",
      "/home/kane/code/fyp/models/model_utils/utils.py:46: UserWarning: Geometry is in a geographic CRS. Results from 'centroid' are likely incorrect. Use 'GeoSeries.to_crs()' to re-project geometries to a projected CRS before this operation.\n",
      "\n",
      "  gdf['lon'] = gdf.centroid.x\n",
      "/home/kane/code/fyp/models/model_utils/utils.py:47: UserWarning: Geometry is in a geographic CRS. Results from 'centroid' are likely incorrect. Use 'GeoSeries.to_crs()' to re-project geometries to a projected CRS before this operation.\n",
      "\n",
      "  gdf['lat'] = gdf.centroid.y\n",
      "/home/kane/code/fyp/models/model_utils/utils.py:35: FutureWarning: In a future version, the Index constructor will not infer numeric dtypes when passed object-dtype sequences (matching Series behavior)\n",
      "  df[header] = pd.Categorical(df[header]).codes\n",
      "/home/kane/code/fyp/models/model_utils/utils.py:35: FutureWarning: In a future version, the Index constructor will not infer numeric dtypes when passed object-dtype sequences (matching Series behavior)\n",
      "  df[header] = pd.Categorical(df[header]).codes\n"
     ]
    },
    {
     "name": "stdout",
     "output_type": "stream",
     "text": [
      "predictions written to ./experiments/model_eval_by_dis/Bogra/m11.test.csv\n",
      "evaluation written to ./experiments/model_eval_by_dis/Bogra/m11.eval.csv\n",
      "predictions written to ./experiments/model_eval_by_dis/Bogra/m10.test.csv\n",
      "evaluation written to ./experiments/model_eval_by_dis/Bogra/m10.eval.csv\n",
      "predictions written to ./experiments/model_eval_by_dis/Bogra/m5.test.csv\n",
      "evaluation written to ./experiments/model_eval_by_dis/Bogra/m5.eval.csv\n",
      "predictions written to ./experiments/model_eval_by_dis/Bogra/m9.test.csv\n",
      "evaluation written to ./experiments/model_eval_by_dis/Bogra/m9.eval.csv\n",
      "predictions written to ./experiments/model_eval_by_dis/Bogra/m6.test.csv\n",
      "evaluation written to ./experiments/model_eval_by_dis/Bogra/m6.eval.csv\n"
     ]
    },
    {
     "name": "stderr",
     "output_type": "stream",
     "text": [
      "/home/kane/code/fyp/venv/lib/python3.10/site-packages/sklearn/metrics/_classification.py:1344: UndefinedMetricWarning: Precision is ill-defined and being set to 0.0 due to no predicted samples. Use `zero_division` parameter to control this behavior.\n",
      "  _warn_prf(average, modifier, msg_start, len(result))\n"
     ]
    },
    {
     "name": "stdout",
     "output_type": "stream",
     "text": [
      "predictions written to ./experiments/model_eval_by_dis/Bogra/m3.test.csv\n",
      "evaluation written to ./experiments/model_eval_by_dis/Bogra/m3.eval.csv\n",
      "predictions written to ./experiments/model_eval_by_dis/Bogra/m7.test.csv\n",
      "evaluation written to ./experiments/model_eval_by_dis/Bogra/m7.eval.csv\n",
      "predictions written to ./experiments/model_eval_by_dis/Bogra/m4.test.csv\n",
      "evaluation written to ./experiments/model_eval_by_dis/Bogra/m4.eval.csv\n",
      "dis 15 / 63\n",
      "predictions written to ./experiments/model_eval_by_dis/Manikganj/m5.test.csv\n",
      "evaluation written to ./experiments/model_eval_by_dis/Manikganj/m5.eval.csv\n"
     ]
    },
    {
     "name": "stderr",
     "output_type": "stream",
     "text": [
      "Process Process-204:\n",
      "Traceback (most recent call last):\n",
      "  File \"/home/kane/code/fyp/venv/lib/python3.10/site-packages/multiprocess/process.py\", line 314, in _bootstrap\n",
      "    self.run()\n",
      "  File \"/home/kane/code/fyp/venv/lib/python3.10/site-packages/multiprocess/process.py\", line 108, in run\n",
      "    self._target(*self._args, **self._kwargs)\n",
      "  File \"/tmp/ipykernel_331508/3834942049.py\", line 10, in run_model\n",
      "    pred_df = model.main(f'./experiments/model_eval_by_dis/{dis}/k1.csv', k_fold)\n",
      "  File \"/home/kane/code/fyp/models/model8/model.py\", line 102, in main\n",
      "    test_df['Prediction'] = gen_predictions(train_df, test_df, k_fold)\n",
      "  File \"/home/kane/code/fyp/models/model8/model.py\", line 50, in gen_predictions\n",
      "    tt_df = append_test_train(te_div, tr_div)\n",
      "  File \"/home/kane/code/fyp/models/model_utils/utils.py\", line 59, in append_test_train\n",
      "    test.loc[:, 'tid'] = 1\n",
      "  File \"/home/kane/code/fyp/venv/lib/python3.10/site-packages/pandas/core/indexing.py\", line 818, in __setitem__\n",
      "    iloc._setitem_with_indexer(indexer, value, self.name)\n",
      "  File \"/home/kane/code/fyp/venv/lib/python3.10/site-packages/pandas/core/indexing.py\", line 1718, in _setitem_with_indexer\n",
      "    raise ValueError(\n",
      "ValueError: cannot set a frame with no defined index and a scalar\n",
      "/home/kane/code/fyp/models/model_utils/utils.py:46: UserWarning: Geometry is in a geographic CRS. Results from 'centroid' are likely incorrect. Use 'GeoSeries.to_crs()' to re-project geometries to a projected CRS before this operation.\n",
      "\n",
      "  gdf['lon'] = gdf.centroid.x\n",
      "/home/kane/code/fyp/models/model_utils/utils.py:47: UserWarning: Geometry is in a geographic CRS. Results from 'centroid' are likely incorrect. Use 'GeoSeries.to_crs()' to re-project geometries to a projected CRS before this operation.\n",
      "\n",
      "  gdf['lat'] = gdf.centroid.y\n",
      "/home/kane/code/fyp/models/model_utils/utils.py:46: UserWarning: Geometry is in a geographic CRS. Results from 'centroid' are likely incorrect. Use 'GeoSeries.to_crs()' to re-project geometries to a projected CRS before this operation.\n",
      "\n",
      "  gdf['lon'] = gdf.centroid.x\n",
      "/home/kane/code/fyp/models/model_utils/utils.py:35: FutureWarning: In a future version, the Index constructor will not infer numeric dtypes when passed object-dtype sequences (matching Series behavior)\n",
      "  df[header] = pd.Categorical(df[header]).codes\n",
      "/home/kane/code/fyp/models/model_utils/utils.py:35: FutureWarning: In a future version, the Index constructor will not infer numeric dtypes when passed object-dtype sequences (matching Series behavior)\n",
      "  df[header] = pd.Categorical(df[header]).codes\n",
      "/home/kane/code/fyp/models/model_utils/utils.py:47: UserWarning: Geometry is in a geographic CRS. Results from 'centroid' are likely incorrect. Use 'GeoSeries.to_crs()' to re-project geometries to a projected CRS before this operation.\n",
      "\n",
      "  gdf['lat'] = gdf.centroid.y\n",
      "/home/kane/code/fyp/models/model_utils/utils.py:35: FutureWarning: In a future version, the Index constructor will not infer numeric dtypes when passed object-dtype sequences (matching Series behavior)\n",
      "  df[header] = pd.Categorical(df[header]).codes\n",
      "/home/kane/code/fyp/models/model_utils/utils.py:35: FutureWarning: In a future version, the Index constructor will not infer numeric dtypes when passed object-dtype sequences (matching Series behavior)\n",
      "  df[header] = pd.Categorical(df[header]).codes\n"
     ]
    },
    {
     "name": "stdout",
     "output_type": "stream",
     "text": [
      "predictions written to ./experiments/model_eval_by_dis/Manikganj/m11.test.csv\n",
      "evaluation written to ./experiments/model_eval_by_dis/Manikganj/m11.eval.csv\n",
      "predictions written to ./experiments/model_eval_by_dis/Manikganj/m10.test.csv\n",
      "evaluation written to ./experiments/model_eval_by_dis/Manikganj/m10.eval.csv\n",
      "predictions written to ./experiments/model_eval_by_dis/Manikganj/m3.test.csv\n",
      "evaluation written to ./experiments/model_eval_by_dis/Manikganj/m3.eval.csv\n",
      "predictions written to ./experiments/model_eval_by_dis/Manikganj/m4.test.csv\n",
      "evaluation written to ./experiments/model_eval_by_dis/Manikganj/m4.eval.csv\n",
      "predictions written to ./experiments/model_eval_by_dis/Manikganj/m6.test.csv\n",
      "evaluation written to ./experiments/model_eval_by_dis/Manikganj/m6.eval.csv\n",
      "predictions written to ./experiments/model_eval_by_dis/Manikganj/m9.test.csv\n",
      "evaluation written to ./experiments/model_eval_by_dis/Manikganj/m9.eval.csv\n",
      "predictions written to ./experiments/model_eval_by_dis/Manikganj/m7.test.csv\n",
      "evaluation written to ./experiments/model_eval_by_dis/Manikganj/m7.eval.csv\n",
      "dis 16 / 63\n",
      "predictions written to ./experiments/model_eval_by_dis/Satkhira/m5.test.csv\n",
      "evaluation written to ./experiments/model_eval_by_dis/Satkhira/m5.eval.csv\n"
     ]
    },
    {
     "name": "stderr",
     "output_type": "stream",
     "text": [
      "Process Process-213:\n",
      "Traceback (most recent call last):\n",
      "  File \"/home/kane/code/fyp/venv/lib/python3.10/site-packages/multiprocess/process.py\", line 314, in _bootstrap\n",
      "    self.run()\n",
      "  File \"/home/kane/code/fyp/venv/lib/python3.10/site-packages/multiprocess/process.py\", line 108, in run\n",
      "    self._target(*self._args, **self._kwargs)\n",
      "  File \"/tmp/ipykernel_331508/3834942049.py\", line 10, in run_model\n",
      "    pred_df = model.main(f'./experiments/model_eval_by_dis/{dis}/k1.csv', k_fold)\n",
      "  File \"/home/kane/code/fyp/models/model8/model.py\", line 102, in main\n",
      "    test_df['Prediction'] = gen_predictions(train_df, test_df, k_fold)\n",
      "  File \"/home/kane/code/fyp/models/model8/model.py\", line 50, in gen_predictions\n",
      "    tt_df = append_test_train(te_div, tr_div)\n",
      "  File \"/home/kane/code/fyp/models/model_utils/utils.py\", line 59, in append_test_train\n",
      "    test.loc[:, 'tid'] = 1\n",
      "  File \"/home/kane/code/fyp/venv/lib/python3.10/site-packages/pandas/core/indexing.py\", line 818, in __setitem__\n",
      "    iloc._setitem_with_indexer(indexer, value, self.name)\n",
      "  File \"/home/kane/code/fyp/venv/lib/python3.10/site-packages/pandas/core/indexing.py\", line 1718, in _setitem_with_indexer\n",
      "    raise ValueError(\n",
      "ValueError: cannot set a frame with no defined index and a scalar\n",
      "/home/kane/code/fyp/models/model_utils/utils.py:46: UserWarning: Geometry is in a geographic CRS. Results from 'centroid' are likely incorrect. Use 'GeoSeries.to_crs()' to re-project geometries to a projected CRS before this operation.\n",
      "\n",
      "  gdf['lon'] = gdf.centroid.x\n",
      "/home/kane/code/fyp/models/model_utils/utils.py:46: UserWarning: Geometry is in a geographic CRS. Results from 'centroid' are likely incorrect. Use 'GeoSeries.to_crs()' to re-project geometries to a projected CRS before this operation.\n",
      "\n",
      "  gdf['lon'] = gdf.centroid.x\n",
      "/home/kane/code/fyp/models/model_utils/utils.py:47: UserWarning: Geometry is in a geographic CRS. Results from 'centroid' are likely incorrect. Use 'GeoSeries.to_crs()' to re-project geometries to a projected CRS before this operation.\n",
      "\n",
      "  gdf['lat'] = gdf.centroid.y\n",
      "/home/kane/code/fyp/models/model_utils/utils.py:35: FutureWarning: In a future version, the Index constructor will not infer numeric dtypes when passed object-dtype sequences (matching Series behavior)\n",
      "  df[header] = pd.Categorical(df[header]).codes\n",
      "/home/kane/code/fyp/models/model_utils/utils.py:35: FutureWarning: In a future version, the Index constructor will not infer numeric dtypes when passed object-dtype sequences (matching Series behavior)\n",
      "  df[header] = pd.Categorical(df[header]).codes\n",
      "/home/kane/code/fyp/models/model_utils/utils.py:47: UserWarning: Geometry is in a geographic CRS. Results from 'centroid' are likely incorrect. Use 'GeoSeries.to_crs()' to re-project geometries to a projected CRS before this operation.\n",
      "\n",
      "  gdf['lat'] = gdf.centroid.y\n",
      "/home/kane/code/fyp/models/model_utils/utils.py:35: FutureWarning: In a future version, the Index constructor will not infer numeric dtypes when passed object-dtype sequences (matching Series behavior)\n",
      "  df[header] = pd.Categorical(df[header]).codes\n",
      "/home/kane/code/fyp/models/model_utils/utils.py:35: FutureWarning: In a future version, the Index constructor will not infer numeric dtypes when passed object-dtype sequences (matching Series behavior)\n",
      "  df[header] = pd.Categorical(df[header]).codes\n"
     ]
    },
    {
     "name": "stdout",
     "output_type": "stream",
     "text": [
      "predictions written to ./experiments/model_eval_by_dis/Satkhira/m11.test.csv\n",
      "evaluation written to ./experiments/model_eval_by_dis/Satkhira/m11.eval.csv\n",
      "predictions written to ./experiments/model_eval_by_dis/Satkhira/m10.test.csv\n",
      "evaluation written to ./experiments/model_eval_by_dis/Satkhira/m10.eval.csv\n",
      "predictions written to ./experiments/model_eval_by_dis/Satkhira/m3.test.csv\n",
      "evaluation written to ./experiments/model_eval_by_dis/Satkhira/m3.eval.csv\n",
      "predictions written to ./experiments/model_eval_by_dis/Satkhira/m4.test.csv\n",
      "evaluation written to ./experiments/model_eval_by_dis/Satkhira/m4.eval.csv\n",
      "predictions written to ./experiments/model_eval_by_dis/Satkhira/m6.test.csv\n",
      "evaluation written to ./experiments/model_eval_by_dis/Satkhira/m6.eval.csv\n",
      "predictions written to ./experiments/model_eval_by_dis/Satkhira/m9.test.csv\n",
      "evaluation written to ./experiments/model_eval_by_dis/Satkhira/m9.eval.csv\n",
      "predictions written to ./experiments/model_eval_by_dis/Satkhira/m7.test.csv\n",
      "evaluation written to ./experiments/model_eval_by_dis/Satkhira/m7.eval.csv\n",
      "dis 17 / 63\n",
      "predictions written to ./experiments/model_eval_by_dis/Chuadanga/m5.test.csv\n",
      "evaluation written to ./experiments/model_eval_by_dis/Chuadanga/m5.eval.csv\n"
     ]
    },
    {
     "name": "stderr",
     "output_type": "stream",
     "text": [
      "Process Process-222:\n",
      "Traceback (most recent call last):\n",
      "  File \"/home/kane/code/fyp/venv/lib/python3.10/site-packages/multiprocess/process.py\", line 314, in _bootstrap\n",
      "    self.run()\n",
      "  File \"/home/kane/code/fyp/venv/lib/python3.10/site-packages/multiprocess/process.py\", line 108, in run\n",
      "    self._target(*self._args, **self._kwargs)\n",
      "  File \"/tmp/ipykernel_331508/3834942049.py\", line 10, in run_model\n",
      "    pred_df = model.main(f'./experiments/model_eval_by_dis/{dis}/k1.csv', k_fold)\n",
      "  File \"/home/kane/code/fyp/models/model8/model.py\", line 102, in main\n",
      "    test_df['Prediction'] = gen_predictions(train_df, test_df, k_fold)\n",
      "  File \"/home/kane/code/fyp/models/model8/model.py\", line 50, in gen_predictions\n",
      "    tt_df = append_test_train(te_div, tr_div)\n",
      "  File \"/home/kane/code/fyp/models/model_utils/utils.py\", line 59, in append_test_train\n",
      "    test.loc[:, 'tid'] = 1\n",
      "  File \"/home/kane/code/fyp/venv/lib/python3.10/site-packages/pandas/core/indexing.py\", line 818, in __setitem__\n",
      "    iloc._setitem_with_indexer(indexer, value, self.name)\n",
      "  File \"/home/kane/code/fyp/venv/lib/python3.10/site-packages/pandas/core/indexing.py\", line 1718, in _setitem_with_indexer\n",
      "    raise ValueError(\n",
      "ValueError: cannot set a frame with no defined index and a scalar\n",
      "/home/kane/code/fyp/models/model_utils/utils.py:35: FutureWarning: In a future version, the Index constructor will not infer numeric dtypes when passed object-dtype sequences (matching Series behavior)\n",
      "  df[header] = pd.Categorical(df[header]).codes\n",
      "/home/kane/code/fyp/models/model_utils/utils.py:35: FutureWarning: In a future version, the Index constructor will not infer numeric dtypes when passed object-dtype sequences (matching Series behavior)\n",
      "  df[header] = pd.Categorical(df[header]).codes\n",
      "/home/kane/code/fyp/models/model_utils/utils.py:46: UserWarning: Geometry is in a geographic CRS. Results from 'centroid' are likely incorrect. Use 'GeoSeries.to_crs()' to re-project geometries to a projected CRS before this operation.\n",
      "\n",
      "  gdf['lon'] = gdf.centroid.x\n",
      "/home/kane/code/fyp/models/model_utils/utils.py:46: UserWarning: Geometry is in a geographic CRS. Results from 'centroid' are likely incorrect. Use 'GeoSeries.to_crs()' to re-project geometries to a projected CRS before this operation.\n",
      "\n",
      "  gdf['lon'] = gdf.centroid.x\n",
      "/home/kane/code/fyp/models/model_utils/utils.py:47: UserWarning: Geometry is in a geographic CRS. Results from 'centroid' are likely incorrect. Use 'GeoSeries.to_crs()' to re-project geometries to a projected CRS before this operation.\n",
      "\n",
      "  gdf['lat'] = gdf.centroid.y\n",
      "/home/kane/code/fyp/models/model_utils/utils.py:35: FutureWarning: In a future version, the Index constructor will not infer numeric dtypes when passed object-dtype sequences (matching Series behavior)\n",
      "  df[header] = pd.Categorical(df[header]).codes\n",
      "/home/kane/code/fyp/models/model_utils/utils.py:35: FutureWarning: In a future version, the Index constructor will not infer numeric dtypes when passed object-dtype sequences (matching Series behavior)\n",
      "  df[header] = pd.Categorical(df[header]).codes\n",
      "/home/kane/code/fyp/models/model_utils/utils.py:47: UserWarning: Geometry is in a geographic CRS. Results from 'centroid' are likely incorrect. Use 'GeoSeries.to_crs()' to re-project geometries to a projected CRS before this operation.\n",
      "\n",
      "  gdf['lat'] = gdf.centroid.y\n"
     ]
    },
    {
     "name": "stdout",
     "output_type": "stream",
     "text": [
      "predictions written to ./experiments/model_eval_by_dis/Chuadanga/m11.test.csv\n",
      "evaluation written to ./experiments/model_eval_by_dis/Chuadanga/m11.eval.csv\n",
      "predictions written to ./experiments/model_eval_by_dis/Chuadanga/m10.test.csv\n",
      "evaluation written to ./experiments/model_eval_by_dis/Chuadanga/m10.eval.csv\n",
      "predictions written to ./experiments/model_eval_by_dis/Chuadanga/m6.test.csv\n",
      "evaluation written to ./experiments/model_eval_by_dis/Chuadanga/m6.eval.csv\n",
      "predictions written to ./experiments/model_eval_by_dis/Chuadanga/m9.test.csv\n",
      "evaluation written to ./experiments/model_eval_by_dis/Chuadanga/m9.eval.csv\n",
      "predictions written to ./experiments/model_eval_by_dis/Chuadanga/m3.test.csv\n",
      "evaluation written to ./experiments/model_eval_by_dis/Chuadanga/m3.eval.csv\n",
      "predictions written to ./experiments/model_eval_by_dis/Chuadanga/m7.test.csv\n",
      "evaluation written to ./experiments/model_eval_by_dis/Chuadanga/m7.eval.csv\n",
      "predictions written to ./experiments/model_eval_by_dis/Chuadanga/m4.test.csv\n",
      "evaluation written to ./experiments/model_eval_by_dis/Chuadanga/m4.eval.csv\n",
      "dis 18 / 63\n"
     ]
    },
    {
     "name": "stderr",
     "output_type": "stream",
     "text": [
      "/home/kane/code/fyp/models/model_utils/utils.py:46: UserWarning: Geometry is in a geographic CRS. Results from 'centroid' are likely incorrect. Use 'GeoSeries.to_crs()' to re-project geometries to a projected CRS before this operation.\n",
      "\n",
      "  gdf['lon'] = gdf.centroid.x\n",
      "/home/kane/code/fyp/models/model_utils/utils.py:46: UserWarning: Geometry is in a geographic CRS. Results from 'centroid' are likely incorrect. Use 'GeoSeries.to_crs()' to re-project geometries to a projected CRS before this operation.\n",
      "\n",
      "  gdf['lon'] = gdf.centroid.x\n",
      "Process Process-231:\n",
      "Traceback (most recent call last):\n",
      "  File \"/home/kane/code/fyp/venv/lib/python3.10/site-packages/multiprocess/process.py\", line 314, in _bootstrap\n",
      "    self.run()\n",
      "  File \"/home/kane/code/fyp/venv/lib/python3.10/site-packages/multiprocess/process.py\", line 108, in run\n",
      "    self._target(*self._args, **self._kwargs)\n",
      "  File \"/tmp/ipykernel_331508/3834942049.py\", line 10, in run_model\n",
      "    pred_df = model.main(f'./experiments/model_eval_by_dis/{dis}/k1.csv', k_fold)\n",
      "  File \"/home/kane/code/fyp/models/model8/model.py\", line 102, in main\n",
      "    test_df['Prediction'] = gen_predictions(train_df, test_df, k_fold)\n",
      "  File \"/home/kane/code/fyp/models/model8/model.py\", line 50, in gen_predictions\n",
      "    tt_df = append_test_train(te_div, tr_div)\n",
      "  File \"/home/kane/code/fyp/models/model_utils/utils.py\", line 59, in append_test_train\n",
      "    test.loc[:, 'tid'] = 1\n",
      "/home/kane/code/fyp/models/model_utils/utils.py:47: UserWarning: Geometry is in a geographic CRS. Results from 'centroid' are likely incorrect. Use 'GeoSeries.to_crs()' to re-project geometries to a projected CRS before this operation.\n",
      "\n",
      "  gdf['lat'] = gdf.centroid.y\n",
      "  File \"/home/kane/code/fyp/venv/lib/python3.10/site-packages/pandas/core/indexing.py\", line 818, in __setitem__\n",
      "    iloc._setitem_with_indexer(indexer, value, self.name)\n",
      "  File \"/home/kane/code/fyp/venv/lib/python3.10/site-packages/pandas/core/indexing.py\", line 1718, in _setitem_with_indexer\n",
      "    raise ValueError(\n",
      "ValueError: cannot set a frame with no defined index and a scalar\n",
      "/home/kane/code/fyp/models/model_utils/utils.py:35: FutureWarning: In a future version, the Index constructor will not infer numeric dtypes when passed object-dtype sequences (matching Series behavior)\n",
      "  df[header] = pd.Categorical(df[header]).codes\n",
      "/home/kane/code/fyp/models/model_utils/utils.py:35: FutureWarning: In a future version, the Index constructor will not infer numeric dtypes when passed object-dtype sequences (matching Series behavior)\n",
      "  df[header] = pd.Categorical(df[header]).codes\n",
      "/home/kane/code/fyp/models/model_utils/utils.py:47: UserWarning: Geometry is in a geographic CRS. Results from 'centroid' are likely incorrect. Use 'GeoSeries.to_crs()' to re-project geometries to a projected CRS before this operation.\n",
      "\n",
      "  gdf['lat'] = gdf.centroid.y\n",
      "/home/kane/code/fyp/models/model_utils/utils.py:35: FutureWarning: In a future version, the Index constructor will not infer numeric dtypes when passed object-dtype sequences (matching Series behavior)\n",
      "  df[header] = pd.Categorical(df[header]).codes\n",
      "/home/kane/code/fyp/models/model_utils/utils.py:35: FutureWarning: In a future version, the Index constructor will not infer numeric dtypes when passed object-dtype sequences (matching Series behavior)\n",
      "  df[header] = pd.Categorical(df[header]).codes\n"
     ]
    },
    {
     "name": "stdout",
     "output_type": "stream",
     "text": [
      "predictions written to ./experiments/model_eval_by_dis/Feni/m11.test.csv\n",
      "evaluation written to ./experiments/model_eval_by_dis/Feni/m11.eval.csv\n",
      "predictions written to ./experiments/model_eval_by_dis/Feni/m5.test.csv\n",
      "evaluation written to ./experiments/model_eval_by_dis/Feni/m5.eval.csv\n",
      "predictions written to ./experiments/model_eval_by_dis/Feni/m10.test.csv\n",
      "evaluation written to ./experiments/model_eval_by_dis/Feni/m10.eval.csv\n",
      "predictions written to ./experiments/model_eval_by_dis/Feni/m6.test.csv\n",
      "evaluation written to ./experiments/model_eval_by_dis/Feni/m6.eval.csv\n",
      "predictions written to ./experiments/model_eval_by_dis/Feni/m9.test.csv\n",
      "evaluation written to ./experiments/model_eval_by_dis/Feni/m9.eval.csv\n",
      "predictions written to ./experiments/model_eval_by_dis/Feni/m3.test.csv\n",
      "evaluation written to ./experiments/model_eval_by_dis/Feni/m3.eval.csv\n",
      "predictions written to ./experiments/model_eval_by_dis/Feni/m7.test.csv\n",
      "evaluation written to ./experiments/model_eval_by_dis/Feni/m7.eval.csv\n",
      "predictions written to ./experiments/model_eval_by_dis/Feni/m4.test.csv\n",
      "evaluation written to ./experiments/model_eval_by_dis/Feni/m4.eval.csv\n",
      "dis 19 / 63\n",
      "predictions written to ./experiments/model_eval_by_dis/Narail/m5.test.csv\n",
      "evaluation written to ./experiments/model_eval_by_dis/Narail/m5.eval.csv\n"
     ]
    },
    {
     "name": "stderr",
     "output_type": "stream",
     "text": [
      "/home/kane/code/fyp/models/model_utils/utils.py:46: UserWarning: Geometry is in a geographic CRS. Results from 'centroid' are likely incorrect. Use 'GeoSeries.to_crs()' to re-project geometries to a projected CRS before this operation.\n",
      "\n",
      "  gdf['lon'] = gdf.centroid.x\n",
      "/home/kane/code/fyp/models/model_utils/utils.py:47: UserWarning: Geometry is in a geographic CRS. Results from 'centroid' are likely incorrect. Use 'GeoSeries.to_crs()' to re-project geometries to a projected CRS before this operation.\n",
      "\n",
      "  gdf['lat'] = gdf.centroid.y\n",
      "/home/kane/code/fyp/models/model_utils/utils.py:46: UserWarning: Geometry is in a geographic CRS. Results from 'centroid' are likely incorrect. Use 'GeoSeries.to_crs()' to re-project geometries to a projected CRS before this operation.\n",
      "\n",
      "  gdf['lon'] = gdf.centroid.x\n",
      "Process Process-240:\n",
      "Traceback (most recent call last):\n",
      "  File \"/home/kane/code/fyp/venv/lib/python3.10/site-packages/multiprocess/process.py\", line 314, in _bootstrap\n",
      "    self.run()\n",
      "  File \"/home/kane/code/fyp/venv/lib/python3.10/site-packages/multiprocess/process.py\", line 108, in run\n",
      "    self._target(*self._args, **self._kwargs)\n",
      "  File \"/tmp/ipykernel_331508/3834942049.py\", line 10, in run_model\n",
      "    pred_df = model.main(f'./experiments/model_eval_by_dis/{dis}/k1.csv', k_fold)\n",
      "  File \"/home/kane/code/fyp/models/model8/model.py\", line 102, in main\n",
      "    test_df['Prediction'] = gen_predictions(train_df, test_df, k_fold)\n",
      "  File \"/home/kane/code/fyp/models/model8/model.py\", line 50, in gen_predictions\n",
      "    tt_df = append_test_train(te_div, tr_div)\n",
      "  File \"/home/kane/code/fyp/models/model_utils/utils.py\", line 59, in append_test_train\n",
      "    test.loc[:, 'tid'] = 1\n",
      "  File \"/home/kane/code/fyp/venv/lib/python3.10/site-packages/pandas/core/indexing.py\", line 818, in __setitem__\n",
      "    iloc._setitem_with_indexer(indexer, value, self.name)\n",
      "  File \"/home/kane/code/fyp/venv/lib/python3.10/site-packages/pandas/core/indexing.py\", line 1718, in _setitem_with_indexer\n",
      "    raise ValueError(\n",
      "ValueError: cannot set a frame with no defined index and a scalar\n",
      "/home/kane/code/fyp/models/model_utils/utils.py:47: UserWarning: Geometry is in a geographic CRS. Results from 'centroid' are likely incorrect. Use 'GeoSeries.to_crs()' to re-project geometries to a projected CRS before this operation.\n",
      "\n",
      "  gdf['lat'] = gdf.centroid.y\n",
      "/home/kane/code/fyp/models/model_utils/utils.py:35: FutureWarning: In a future version, the Index constructor will not infer numeric dtypes when passed object-dtype sequences (matching Series behavior)\n",
      "  df[header] = pd.Categorical(df[header]).codes\n",
      "/home/kane/code/fyp/models/model_utils/utils.py:35: FutureWarning: In a future version, the Index constructor will not infer numeric dtypes when passed object-dtype sequences (matching Series behavior)\n",
      "  df[header] = pd.Categorical(df[header]).codes\n",
      "/home/kane/code/fyp/models/model_utils/utils.py:35: FutureWarning: In a future version, the Index constructor will not infer numeric dtypes when passed object-dtype sequences (matching Series behavior)\n",
      "  df[header] = pd.Categorical(df[header]).codes\n",
      "/home/kane/code/fyp/models/model_utils/utils.py:35: FutureWarning: In a future version, the Index constructor will not infer numeric dtypes when passed object-dtype sequences (matching Series behavior)\n",
      "  df[header] = pd.Categorical(df[header]).codes\n"
     ]
    },
    {
     "name": "stdout",
     "output_type": "stream",
     "text": [
      "predictions written to ./experiments/model_eval_by_dis/Narail/m11.test.csv\n",
      "evaluation written to ./experiments/model_eval_by_dis/Narail/m11.eval.csv\n",
      "predictions written to ./experiments/model_eval_by_dis/Narail/m10.test.csv\n",
      "evaluation written to ./experiments/model_eval_by_dis/Narail/m10.eval.csv\n",
      "predictions written to ./experiments/model_eval_by_dis/Narail/m3.test.csv\n",
      "evaluation written to ./experiments/model_eval_by_dis/Narail/m3.eval.csv\n",
      "predictions written to ./experiments/model_eval_by_dis/Narail/m6.test.csv\n",
      "evaluation written to ./experiments/model_eval_by_dis/Narail/m6.eval.csv\n",
      "predictions written to ./experiments/model_eval_by_dis/Narail/m9.test.csv\n",
      "evaluation written to ./experiments/model_eval_by_dis/Narail/m9.eval.csv\n",
      "predictions written to ./experiments/model_eval_by_dis/Narail/m4.test.csv\n",
      "evaluation written to ./experiments/model_eval_by_dis/Narail/m4.eval.csv\n",
      "predictions written to ./experiments/model_eval_by_dis/Narail/m7.test.csv\n",
      "evaluation written to ./experiments/model_eval_by_dis/Narail/m7.eval.csv\n",
      "dis 20 / 63\n",
      "predictions written to ./experiments/model_eval_by_dis/Shariatpur/m5.test.csv\n",
      "evaluation written to ./experiments/model_eval_by_dis/Shariatpur/m5.eval.csv\n"
     ]
    },
    {
     "name": "stderr",
     "output_type": "stream",
     "text": [
      "Process Process-249:\n",
      "Traceback (most recent call last):\n",
      "  File \"/home/kane/code/fyp/venv/lib/python3.10/site-packages/multiprocess/process.py\", line 314, in _bootstrap\n",
      "    self.run()\n",
      "  File \"/home/kane/code/fyp/venv/lib/python3.10/site-packages/multiprocess/process.py\", line 108, in run\n",
      "    self._target(*self._args, **self._kwargs)\n",
      "  File \"/tmp/ipykernel_331508/3834942049.py\", line 10, in run_model\n",
      "    pred_df = model.main(f'./experiments/model_eval_by_dis/{dis}/k1.csv', k_fold)\n",
      "  File \"/home/kane/code/fyp/models/model8/model.py\", line 102, in main\n",
      "    test_df['Prediction'] = gen_predictions(train_df, test_df, k_fold)\n",
      "  File \"/home/kane/code/fyp/models/model8/model.py\", line 50, in gen_predictions\n",
      "    tt_df = append_test_train(te_div, tr_div)\n",
      "  File \"/home/kane/code/fyp/models/model_utils/utils.py\", line 59, in append_test_train\n",
      "    test.loc[:, 'tid'] = 1\n",
      "  File \"/home/kane/code/fyp/venv/lib/python3.10/site-packages/pandas/core/indexing.py\", line 818, in __setitem__\n",
      "    iloc._setitem_with_indexer(indexer, value, self.name)\n",
      "  File \"/home/kane/code/fyp/venv/lib/python3.10/site-packages/pandas/core/indexing.py\", line 1718, in _setitem_with_indexer\n",
      "    raise ValueError(\n",
      "ValueError: cannot set a frame with no defined index and a scalar\n",
      "/home/kane/code/fyp/models/model_utils/utils.py:35: FutureWarning: In a future version, the Index constructor will not infer numeric dtypes when passed object-dtype sequences (matching Series behavior)\n",
      "  df[header] = pd.Categorical(df[header]).codes\n",
      "/home/kane/code/fyp/models/model_utils/utils.py:35: FutureWarning: In a future version, the Index constructor will not infer numeric dtypes when passed object-dtype sequences (matching Series behavior)\n",
      "  df[header] = pd.Categorical(df[header]).codes\n",
      "/home/kane/code/fyp/models/model_utils/utils.py:46: UserWarning: Geometry is in a geographic CRS. Results from 'centroid' are likely incorrect. Use 'GeoSeries.to_crs()' to re-project geometries to a projected CRS before this operation.\n",
      "\n",
      "  gdf['lon'] = gdf.centroid.x\n",
      "/home/kane/code/fyp/models/model_utils/utils.py:35: FutureWarning: In a future version, the Index constructor will not infer numeric dtypes when passed object-dtype sequences (matching Series behavior)\n",
      "  df[header] = pd.Categorical(df[header]).codes\n",
      "/home/kane/code/fyp/models/model_utils/utils.py:35: FutureWarning: In a future version, the Index constructor will not infer numeric dtypes when passed object-dtype sequences (matching Series behavior)\n",
      "  df[header] = pd.Categorical(df[header]).codes\n",
      "/home/kane/code/fyp/models/model_utils/utils.py:47: UserWarning: Geometry is in a geographic CRS. Results from 'centroid' are likely incorrect. Use 'GeoSeries.to_crs()' to re-project geometries to a projected CRS before this operation.\n",
      "\n",
      "  gdf['lat'] = gdf.centroid.y\n",
      "/home/kane/code/fyp/models/model_utils/utils.py:46: UserWarning: Geometry is in a geographic CRS. Results from 'centroid' are likely incorrect. Use 'GeoSeries.to_crs()' to re-project geometries to a projected CRS before this operation.\n",
      "\n",
      "  gdf['lon'] = gdf.centroid.x\n",
      "/home/kane/code/fyp/models/model_utils/utils.py:47: UserWarning: Geometry is in a geographic CRS. Results from 'centroid' are likely incorrect. Use 'GeoSeries.to_crs()' to re-project geometries to a projected CRS before this operation.\n",
      "\n",
      "  gdf['lat'] = gdf.centroid.y\n"
     ]
    },
    {
     "name": "stdout",
     "output_type": "stream",
     "text": [
      "predictions written to ./experiments/model_eval_by_dis/Shariatpur/m11.test.csv\n",
      "evaluation written to ./experiments/model_eval_by_dis/Shariatpur/m11.eval.csv\n",
      "predictions written to ./experiments/model_eval_by_dis/Shariatpur/m10.test.csv\n",
      "evaluation written to ./experiments/model_eval_by_dis/Shariatpur/m10.eval.csv\n",
      "predictions written to ./experiments/model_eval_by_dis/Shariatpur/m3.test.csv\n",
      "evaluation written to ./experiments/model_eval_by_dis/Shariatpur/m3.eval.csv\n",
      "predictions written to ./experiments/model_eval_by_dis/Shariatpur/m4.test.csv\n",
      "evaluation written to ./experiments/model_eval_by_dis/Shariatpur/m4.eval.csv\n",
      "predictions written to ./experiments/model_eval_by_dis/Shariatpur/m6.test.csv\n",
      "evaluation written to ./experiments/model_eval_by_dis/Shariatpur/m6.eval.csv\n",
      "predictions written to ./experiments/model_eval_by_dis/Shariatpur/m9.test.csv\n",
      "evaluation written to ./experiments/model_eval_by_dis/Shariatpur/m9.eval.csv\n",
      "predictions written to ./experiments/model_eval_by_dis/Shariatpur/m7.test.csv\n",
      "evaluation written to ./experiments/model_eval_by_dis/Shariatpur/m7.eval.csv\n",
      "dis 21 / 63\n",
      "predictions written to ./experiments/model_eval_by_dis/Madaripur/m5.test.csv\n",
      "evaluation written to ./experiments/model_eval_by_dis/Madaripur/m5.eval.csv\n"
     ]
    },
    {
     "name": "stderr",
     "output_type": "stream",
     "text": [
      "/home/kane/code/fyp/models/model_utils/utils.py:35: FutureWarning: In a future version, the Index constructor will not infer numeric dtypes when passed object-dtype sequences (matching Series behavior)\n",
      "  df[header] = pd.Categorical(df[header]).codes\n",
      "/home/kane/code/fyp/models/model_utils/utils.py:35: FutureWarning: In a future version, the Index constructor will not infer numeric dtypes when passed object-dtype sequences (matching Series behavior)\n",
      "  df[header] = pd.Categorical(df[header]).codes\n",
      "/home/kane/code/fyp/models/model_utils/utils.py:46: UserWarning: Geometry is in a geographic CRS. Results from 'centroid' are likely incorrect. Use 'GeoSeries.to_crs()' to re-project geometries to a projected CRS before this operation.\n",
      "\n",
      "  gdf['lon'] = gdf.centroid.x\n",
      "Process Process-258:\n",
      "Traceback (most recent call last):\n",
      "  File \"/home/kane/code/fyp/venv/lib/python3.10/site-packages/multiprocess/process.py\", line 314, in _bootstrap\n",
      "    self.run()\n",
      "  File \"/home/kane/code/fyp/venv/lib/python3.10/site-packages/multiprocess/process.py\", line 108, in run\n",
      "    self._target(*self._args, **self._kwargs)\n",
      "  File \"/tmp/ipykernel_331508/3834942049.py\", line 10, in run_model\n",
      "    pred_df = model.main(f'./experiments/model_eval_by_dis/{dis}/k1.csv', k_fold)\n",
      "  File \"/home/kane/code/fyp/models/model8/model.py\", line 102, in main\n",
      "    test_df['Prediction'] = gen_predictions(train_df, test_df, k_fold)\n",
      "  File \"/home/kane/code/fyp/models/model8/model.py\", line 50, in gen_predictions\n",
      "    tt_df = append_test_train(te_div, tr_div)\n",
      "/home/kane/code/fyp/models/model_utils/utils.py:35: FutureWarning: In a future version, the Index constructor will not infer numeric dtypes when passed object-dtype sequences (matching Series behavior)\n",
      "  df[header] = pd.Categorical(df[header]).codes\n",
      "/home/kane/code/fyp/models/model_utils/utils.py:35: FutureWarning: In a future version, the Index constructor will not infer numeric dtypes when passed object-dtype sequences (matching Series behavior)\n",
      "  df[header] = pd.Categorical(df[header]).codes\n",
      "  File \"/home/kane/code/fyp/models/model_utils/utils.py\", line 59, in append_test_train\n",
      "    test.loc[:, 'tid'] = 1\n",
      "  File \"/home/kane/code/fyp/venv/lib/python3.10/site-packages/pandas/core/indexing.py\", line 818, in __setitem__\n",
      "    iloc._setitem_with_indexer(indexer, value, self.name)\n",
      "  File \"/home/kane/code/fyp/venv/lib/python3.10/site-packages/pandas/core/indexing.py\", line 1718, in _setitem_with_indexer\n",
      "    raise ValueError(\n",
      "ValueError: cannot set a frame with no defined index and a scalar\n",
      "/home/kane/code/fyp/models/model_utils/utils.py:47: UserWarning: Geometry is in a geographic CRS. Results from 'centroid' are likely incorrect. Use 'GeoSeries.to_crs()' to re-project geometries to a projected CRS before this operation.\n",
      "\n",
      "  gdf['lat'] = gdf.centroid.y\n",
      "/home/kane/code/fyp/models/model_utils/utils.py:46: UserWarning: Geometry is in a geographic CRS. Results from 'centroid' are likely incorrect. Use 'GeoSeries.to_crs()' to re-project geometries to a projected CRS before this operation.\n",
      "\n",
      "  gdf['lon'] = gdf.centroid.x\n",
      "/home/kane/code/fyp/models/model_utils/utils.py:47: UserWarning: Geometry is in a geographic CRS. Results from 'centroid' are likely incorrect. Use 'GeoSeries.to_crs()' to re-project geometries to a projected CRS before this operation.\n",
      "\n",
      "  gdf['lat'] = gdf.centroid.y\n"
     ]
    },
    {
     "name": "stdout",
     "output_type": "stream",
     "text": [
      "predictions written to ./experiments/model_eval_by_dis/Madaripur/m11.test.csv\n",
      "evaluation written to ./experiments/model_eval_by_dis/Madaripur/m11.eval.csv\n",
      "predictions written to ./experiments/model_eval_by_dis/Madaripur/m3.test.csv\n",
      "evaluation written to ./experiments/model_eval_by_dis/Madaripur/m3.eval.csv\n",
      "predictions written to ./experiments/model_eval_by_dis/Madaripur/m10.test.csv\n",
      "evaluation written to ./experiments/model_eval_by_dis/Madaripur/m10.eval.csv\n",
      "predictions written to ./experiments/model_eval_by_dis/Madaripur/m4.test.csv\n",
      "evaluation written to ./experiments/model_eval_by_dis/Madaripur/m4.eval.csv\n",
      "predictions written to ./experiments/model_eval_by_dis/Madaripur/m6.test.csv\n",
      "evaluation written to ./experiments/model_eval_by_dis/Madaripur/m6.eval.csv\n",
      "predictions written to ./experiments/model_eval_by_dis/Madaripur/m9.test.csv\n",
      "evaluation written to ./experiments/model_eval_by_dis/Madaripur/m9.eval.csv\n",
      "predictions written to ./experiments/model_eval_by_dis/Madaripur/m7.test.csv\n",
      "evaluation written to ./experiments/model_eval_by_dis/Madaripur/m7.eval.csv\n",
      "dis 22 / 63\n"
     ]
    },
    {
     "name": "stderr",
     "output_type": "stream",
     "text": [
      "/home/kane/code/fyp/models/model_utils/utils.py:46: UserWarning: Geometry is in a geographic CRS. Results from 'centroid' are likely incorrect. Use 'GeoSeries.to_crs()' to re-project geometries to a projected CRS before this operation.\n",
      "\n",
      "  gdf['lon'] = gdf.centroid.x\n",
      "/home/kane/code/fyp/models/model_utils/utils.py:47: UserWarning: Geometry is in a geographic CRS. Results from 'centroid' are likely incorrect. Use 'GeoSeries.to_crs()' to re-project geometries to a projected CRS before this operation.\n",
      "\n",
      "  gdf['lat'] = gdf.centroid.y\n",
      "/home/kane/code/fyp/models/model_utils/utils.py:35: FutureWarning: In a future version, the Index constructor will not infer numeric dtypes when passed object-dtype sequences (matching Series behavior)\n",
      "  df[header] = pd.Categorical(df[header]).codes\n",
      "/home/kane/code/fyp/models/model_utils/utils.py:35: FutureWarning: In a future version, the Index constructor will not infer numeric dtypes when passed object-dtype sequences (matching Series behavior)\n",
      "  df[header] = pd.Categorical(df[header]).codes\n",
      "Process Process-267:\n",
      "Traceback (most recent call last):\n",
      "  File \"/home/kane/code/fyp/venv/lib/python3.10/site-packages/multiprocess/process.py\", line 314, in _bootstrap\n",
      "    self.run()\n",
      "  File \"/home/kane/code/fyp/venv/lib/python3.10/site-packages/multiprocess/process.py\", line 108, in run\n",
      "    self._target(*self._args, **self._kwargs)\n",
      "  File \"/tmp/ipykernel_331508/3834942049.py\", line 10, in run_model\n",
      "    pred_df = model.main(f'./experiments/model_eval_by_dis/{dis}/k1.csv', k_fold)\n",
      "  File \"/home/kane/code/fyp/models/model8/model.py\", line 102, in main\n",
      "    test_df['Prediction'] = gen_predictions(train_df, test_df, k_fold)\n",
      "  File \"/home/kane/code/fyp/models/model8/model.py\", line 50, in gen_predictions\n",
      "    tt_df = append_test_train(te_div, tr_div)\n",
      "  File \"/home/kane/code/fyp/models/model_utils/utils.py\", line 59, in append_test_train\n",
      "    test.loc[:, 'tid'] = 1\n",
      "  File \"/home/kane/code/fyp/venv/lib/python3.10/site-packages/pandas/core/indexing.py\", line 818, in __setitem__\n",
      "    iloc._setitem_with_indexer(indexer, value, self.name)\n",
      "  File \"/home/kane/code/fyp/venv/lib/python3.10/site-packages/pandas/core/indexing.py\", line 1718, in _setitem_with_indexer\n",
      "    raise ValueError(\n",
      "ValueError: cannot set a frame with no defined index and a scalar\n",
      "/home/kane/code/fyp/models/model_utils/utils.py:46: UserWarning: Geometry is in a geographic CRS. Results from 'centroid' are likely incorrect. Use 'GeoSeries.to_crs()' to re-project geometries to a projected CRS before this operation.\n",
      "\n",
      "  gdf['lon'] = gdf.centroid.x\n",
      "/home/kane/code/fyp/models/model_utils/utils.py:47: UserWarning: Geometry is in a geographic CRS. Results from 'centroid' are likely incorrect. Use 'GeoSeries.to_crs()' to re-project geometries to a projected CRS before this operation.\n",
      "\n",
      "  gdf['lat'] = gdf.centroid.y\n",
      "/home/kane/code/fyp/models/model_utils/utils.py:35: FutureWarning: In a future version, the Index constructor will not infer numeric dtypes when passed object-dtype sequences (matching Series behavior)\n",
      "  df[header] = pd.Categorical(df[header]).codes\n",
      "/home/kane/code/fyp/models/model_utils/utils.py:35: FutureWarning: In a future version, the Index constructor will not infer numeric dtypes when passed object-dtype sequences (matching Series behavior)\n",
      "  df[header] = pd.Categorical(df[header]).codes\n"
     ]
    },
    {
     "name": "stdout",
     "output_type": "stream",
     "text": [
      "predictions written to ./experiments/model_eval_by_dis/Brahamanbaria/m11.test.csv\n",
      "evaluation written to ./experiments/model_eval_by_dis/Brahamanbaria/m11.eval.csv\n",
      "predictions written to ./experiments/model_eval_by_dis/Brahamanbaria/m5.test.csv\n",
      "evaluation written to ./experiments/model_eval_by_dis/Brahamanbaria/m5.eval.csv\n",
      "predictions written to ./experiments/model_eval_by_dis/Brahamanbaria/m10.test.csv\n",
      "evaluation written to ./experiments/model_eval_by_dis/Brahamanbaria/m10.eval.csv\n",
      "predictions written to ./experiments/model_eval_by_dis/Brahamanbaria/m3.test.csv\n",
      "evaluation written to ./experiments/model_eval_by_dis/Brahamanbaria/m3.eval.csv\n",
      "predictions written to ./experiments/model_eval_by_dis/Brahamanbaria/m6.test.csv\n",
      "evaluation written to ./experiments/model_eval_by_dis/Brahamanbaria/m6.eval.csv\n",
      "predictions written to ./experiments/model_eval_by_dis/Brahamanbaria/m9.test.csv\n",
      "evaluation written to ./experiments/model_eval_by_dis/Brahamanbaria/m9.eval.csv\n",
      "predictions written to ./experiments/model_eval_by_dis/Brahamanbaria/m4.test.csv\n",
      "evaluation written to ./experiments/model_eval_by_dis/Brahamanbaria/m4.eval.csv\n",
      "predictions written to ./experiments/model_eval_by_dis/Brahamanbaria/m7.test.csv\n",
      "evaluation written to ./experiments/model_eval_by_dis/Brahamanbaria/m7.eval.csv\n",
      "dis 23 / 63\n",
      "predictions written to ./experiments/model_eval_by_dis/Munshiganj/m5.test.csv\n",
      "evaluation written to ./experiments/model_eval_by_dis/Munshiganj/m5.eval.csv\n"
     ]
    },
    {
     "name": "stderr",
     "output_type": "stream",
     "text": [
      "/home/kane/code/fyp/models/model_utils/utils.py:46: UserWarning: Geometry is in a geographic CRS. Results from 'centroid' are likely incorrect. Use 'GeoSeries.to_crs()' to re-project geometries to a projected CRS before this operation.\n",
      "\n",
      "  gdf['lon'] = gdf.centroid.x\n",
      "/home/kane/code/fyp/models/model_utils/utils.py:47: UserWarning: Geometry is in a geographic CRS. Results from 'centroid' are likely incorrect. Use 'GeoSeries.to_crs()' to re-project geometries to a projected CRS before this operation.\n",
      "\n",
      "  gdf['lat'] = gdf.centroid.y\n",
      "Process Process-276:\n",
      "Traceback (most recent call last):\n",
      "  File \"/home/kane/code/fyp/venv/lib/python3.10/site-packages/multiprocess/process.py\", line 314, in _bootstrap\n",
      "    self.run()\n",
      "  File \"/home/kane/code/fyp/venv/lib/python3.10/site-packages/multiprocess/process.py\", line 108, in run\n",
      "    self._target(*self._args, **self._kwargs)\n",
      "  File \"/tmp/ipykernel_331508/3834942049.py\", line 10, in run_model\n",
      "    pred_df = model.main(f'./experiments/model_eval_by_dis/{dis}/k1.csv', k_fold)\n",
      "  File \"/home/kane/code/fyp/models/model8/model.py\", line 102, in main\n",
      "    test_df['Prediction'] = gen_predictions(train_df, test_df, k_fold)\n",
      "  File \"/home/kane/code/fyp/models/model8/model.py\", line 50, in gen_predictions\n",
      "    tt_df = append_test_train(te_div, tr_div)\n",
      "  File \"/home/kane/code/fyp/models/model_utils/utils.py\", line 59, in append_test_train\n",
      "    test.loc[:, 'tid'] = 1\n",
      "  File \"/home/kane/code/fyp/venv/lib/python3.10/site-packages/pandas/core/indexing.py\", line 818, in __setitem__\n",
      "    iloc._setitem_with_indexer(indexer, value, self.name)\n",
      "  File \"/home/kane/code/fyp/venv/lib/python3.10/site-packages/pandas/core/indexing.py\", line 1718, in _setitem_with_indexer\n",
      "    raise ValueError(\n",
      "ValueError: cannot set a frame with no defined index and a scalar\n",
      "/home/kane/code/fyp/models/model_utils/utils.py:35: FutureWarning: In a future version, the Index constructor will not infer numeric dtypes when passed object-dtype sequences (matching Series behavior)\n",
      "  df[header] = pd.Categorical(df[header]).codes\n",
      "/home/kane/code/fyp/models/model_utils/utils.py:35: FutureWarning: In a future version, the Index constructor will not infer numeric dtypes when passed object-dtype sequences (matching Series behavior)\n",
      "  df[header] = pd.Categorical(df[header]).codes\n",
      "/home/kane/code/fyp/models/model_utils/utils.py:35: FutureWarning: In a future version, the Index constructor will not infer numeric dtypes when passed object-dtype sequences (matching Series behavior)\n",
      "  df[header] = pd.Categorical(df[header]).codes\n",
      "/home/kane/code/fyp/models/model_utils/utils.py:35: FutureWarning: In a future version, the Index constructor will not infer numeric dtypes when passed object-dtype sequences (matching Series behavior)\n",
      "  df[header] = pd.Categorical(df[header]).codes\n",
      "/home/kane/code/fyp/models/model_utils/utils.py:46: UserWarning: Geometry is in a geographic CRS. Results from 'centroid' are likely incorrect. Use 'GeoSeries.to_crs()' to re-project geometries to a projected CRS before this operation.\n",
      "\n",
      "  gdf['lon'] = gdf.centroid.x\n",
      "/home/kane/code/fyp/models/model_utils/utils.py:47: UserWarning: Geometry is in a geographic CRS. Results from 'centroid' are likely incorrect. Use 'GeoSeries.to_crs()' to re-project geometries to a projected CRS before this operation.\n",
      "\n",
      "  gdf['lat'] = gdf.centroid.y\n"
     ]
    },
    {
     "name": "stdout",
     "output_type": "stream",
     "text": [
      "predictions written to ./experiments/model_eval_by_dis/Munshiganj/m11.test.csv\n",
      "evaluation written to ./experiments/model_eval_by_dis/Munshiganj/m11.eval.csv\n",
      "predictions written to ./experiments/model_eval_by_dis/Munshiganj/m3.test.csv\n",
      "evaluation written to ./experiments/model_eval_by_dis/Munshiganj/m3.eval.csv\n",
      "predictions written to ./experiments/model_eval_by_dis/Munshiganj/m10.test.csv\n",
      "evaluation written to ./experiments/model_eval_by_dis/Munshiganj/m10.eval.csv\n",
      "predictions written to ./experiments/model_eval_by_dis/Munshiganj/m4.test.csv\n",
      "evaluation written to ./experiments/model_eval_by_dis/Munshiganj/m4.eval.csv\n",
      "predictions written to ./experiments/model_eval_by_dis/Munshiganj/m6.test.csv\n",
      "evaluation written to ./experiments/model_eval_by_dis/Munshiganj/m6.eval.csv\n",
      "predictions written to ./experiments/model_eval_by_dis/Munshiganj/m9.test.csv\n",
      "evaluation written to ./experiments/model_eval_by_dis/Munshiganj/m9.eval.csv\n",
      "predictions written to ./experiments/model_eval_by_dis/Munshiganj/m7.test.csv\n",
      "evaluation written to ./experiments/model_eval_by_dis/Munshiganj/m7.eval.csv\n",
      "dis 24 / 63\n",
      "predictions written to ./experiments/model_eval_by_dis/Gopalganj/m5.test.csv\n",
      "evaluation written to ./experiments/model_eval_by_dis/Gopalganj/m5.eval.csv\n"
     ]
    },
    {
     "name": "stderr",
     "output_type": "stream",
     "text": [
      "/home/kane/code/fyp/models/model_utils/utils.py:46: UserWarning: Geometry is in a geographic CRS. Results from 'centroid' are likely incorrect. Use 'GeoSeries.to_crs()' to re-project geometries to a projected CRS before this operation.\n",
      "\n",
      "  gdf['lon'] = gdf.centroid.x\n",
      "/home/kane/code/fyp/models/model_utils/utils.py:47: UserWarning: Geometry is in a geographic CRS. Results from 'centroid' are likely incorrect. Use 'GeoSeries.to_crs()' to re-project geometries to a projected CRS before this operation.\n",
      "\n",
      "  gdf['lat'] = gdf.centroid.y\n",
      "/home/kane/code/fyp/models/model_utils/utils.py:46: UserWarning: Geometry is in a geographic CRS. Results from 'centroid' are likely incorrect. Use 'GeoSeries.to_crs()' to re-project geometries to a projected CRS before this operation.\n",
      "\n",
      "  gdf['lon'] = gdf.centroid.x\n",
      "/home/kane/code/fyp/models/model_utils/utils.py:47: UserWarning: Geometry is in a geographic CRS. Results from 'centroid' are likely incorrect. Use 'GeoSeries.to_crs()' to re-project geometries to a projected CRS before this operation.\n",
      "\n",
      "  gdf['lat'] = gdf.centroid.y\n",
      "Process Process-285:\n",
      "Traceback (most recent call last):\n",
      "  File \"/home/kane/code/fyp/venv/lib/python3.10/site-packages/multiprocess/process.py\", line 314, in _bootstrap\n",
      "    self.run()\n",
      "  File \"/home/kane/code/fyp/venv/lib/python3.10/site-packages/multiprocess/process.py\", line 108, in run\n",
      "    self._target(*self._args, **self._kwargs)\n",
      "  File \"/tmp/ipykernel_331508/3834942049.py\", line 10, in run_model\n",
      "    pred_df = model.main(f'./experiments/model_eval_by_dis/{dis}/k1.csv', k_fold)\n",
      "/home/kane/code/fyp/models/model_utils/utils.py:35: FutureWarning: In a future version, the Index constructor will not infer numeric dtypes when passed object-dtype sequences (matching Series behavior)\n",
      "  df[header] = pd.Categorical(df[header]).codes\n",
      "  File \"/home/kane/code/fyp/models/model8/model.py\", line 102, in main\n",
      "    test_df['Prediction'] = gen_predictions(train_df, test_df, k_fold)\n",
      "  File \"/home/kane/code/fyp/models/model8/model.py\", line 50, in gen_predictions\n",
      "    tt_df = append_test_train(te_div, tr_div)\n",
      "  File \"/home/kane/code/fyp/models/model_utils/utils.py\", line 59, in append_test_train\n",
      "    test.loc[:, 'tid'] = 1\n",
      "/home/kane/code/fyp/models/model_utils/utils.py:35: FutureWarning: In a future version, the Index constructor will not infer numeric dtypes when passed object-dtype sequences (matching Series behavior)\n",
      "  df[header] = pd.Categorical(df[header]).codes\n",
      "  File \"/home/kane/code/fyp/venv/lib/python3.10/site-packages/pandas/core/indexing.py\", line 818, in __setitem__\n",
      "    iloc._setitem_with_indexer(indexer, value, self.name)\n",
      "  File \"/home/kane/code/fyp/venv/lib/python3.10/site-packages/pandas/core/indexing.py\", line 1718, in _setitem_with_indexer\n",
      "    raise ValueError(\n",
      "ValueError: cannot set a frame with no defined index and a scalar\n",
      "/home/kane/code/fyp/models/model_utils/utils.py:35: FutureWarning: In a future version, the Index constructor will not infer numeric dtypes when passed object-dtype sequences (matching Series behavior)\n",
      "  df[header] = pd.Categorical(df[header]).codes\n",
      "/home/kane/code/fyp/models/model_utils/utils.py:35: FutureWarning: In a future version, the Index constructor will not infer numeric dtypes when passed object-dtype sequences (matching Series behavior)\n",
      "  df[header] = pd.Categorical(df[header]).codes\n"
     ]
    },
    {
     "name": "stdout",
     "output_type": "stream",
     "text": [
      "predictions written to ./experiments/model_eval_by_dis/Gopalganj/m11.test.csv\n",
      "evaluation written to ./experiments/model_eval_by_dis/Gopalganj/m11.eval.csv\n",
      "predictions written to ./experiments/model_eval_by_dis/Gopalganj/m10.test.csv\n",
      "evaluation written to ./experiments/model_eval_by_dis/Gopalganj/m10.eval.csv\n",
      "predictions written to ./experiments/model_eval_by_dis/Gopalganj/m3.test.csv\n",
      "evaluation written to ./experiments/model_eval_by_dis/Gopalganj/m3.eval.csv\n",
      "predictions written to ./experiments/model_eval_by_dis/Gopalganj/m4.test.csv\n",
      "evaluation written to ./experiments/model_eval_by_dis/Gopalganj/m4.eval.csv\n",
      "predictions written to ./experiments/model_eval_by_dis/Gopalganj/m6.test.csv\n",
      "evaluation written to ./experiments/model_eval_by_dis/Gopalganj/m6.eval.csv\n",
      "predictions written to ./experiments/model_eval_by_dis/Gopalganj/m9.test.csv\n",
      "evaluation written to ./experiments/model_eval_by_dis/Gopalganj/m9.eval.csv\n",
      "predictions written to ./experiments/model_eval_by_dis/Gopalganj/m7.test.csv\n",
      "evaluation written to ./experiments/model_eval_by_dis/Gopalganj/m7.eval.csv\n",
      "dis 25 / 63\n"
     ]
    },
    {
     "name": "stderr",
     "output_type": "stream",
     "text": [
      "/home/kane/code/fyp/models/model_utils/utils.py:60: SettingWithCopyWarning: \n",
      "A value is trying to be set on a copy of a slice from a DataFrame.\n",
      "Try using .loc[row_indexer,col_indexer] = value instead\n",
      "\n",
      "See the caveats in the documentation: https://pandas.pydata.org/pandas-docs/stable/user_guide/indexing.html#returning-a-view-versus-a-copy\n",
      "  train.loc[:, 'tid'] = 0\n",
      "/home/kane/code/fyp/models/model_utils/utils.py:46: UserWarning: Geometry is in a geographic CRS. Results from 'centroid' are likely incorrect. Use 'GeoSeries.to_crs()' to re-project geometries to a projected CRS before this operation.\n",
      "\n",
      "  gdf['lon'] = gdf.centroid.x\n",
      "/home/kane/code/fyp/models/model_utils/utils.py:47: UserWarning: Geometry is in a geographic CRS. Results from 'centroid' are likely incorrect. Use 'GeoSeries.to_crs()' to re-project geometries to a projected CRS before this operation.\n",
      "\n",
      "  gdf['lat'] = gdf.centroid.y\n",
      "/home/kane/code/fyp/models/model_utils/utils.py:46: UserWarning: Geometry is in a geographic CRS. Results from 'centroid' are likely incorrect. Use 'GeoSeries.to_crs()' to re-project geometries to a projected CRS before this operation.\n",
      "\n",
      "  gdf['lon'] = gdf.centroid.x\n",
      "/home/kane/code/fyp/models/model_utils/utils.py:47: UserWarning: Geometry is in a geographic CRS. Results from 'centroid' are likely incorrect. Use 'GeoSeries.to_crs()' to re-project geometries to a projected CRS before this operation.\n",
      "\n",
      "  gdf['lat'] = gdf.centroid.y\n",
      "/home/kane/code/fyp/models/model_utils/utils.py:35: FutureWarning: In a future version, the Index constructor will not infer numeric dtypes when passed object-dtype sequences (matching Series behavior)\n",
      "  df[header] = pd.Categorical(df[header]).codes\n",
      "/home/kane/code/fyp/models/model_utils/utils.py:35: FutureWarning: In a future version, the Index constructor will not infer numeric dtypes when passed object-dtype sequences (matching Series behavior)\n",
      "  df[header] = pd.Categorical(df[header]).codes\n",
      "/home/kane/code/fyp/models/model_utils/utils.py:35: FutureWarning: In a future version, the Index constructor will not infer numeric dtypes when passed object-dtype sequences (matching Series behavior)\n",
      "  df[header] = pd.Categorical(df[header]).codes\n",
      "/home/kane/code/fyp/models/model_utils/utils.py:35: FutureWarning: In a future version, the Index constructor will not infer numeric dtypes when passed object-dtype sequences (matching Series behavior)\n",
      "  df[header] = pd.Categorical(df[header]).codes\n"
     ]
    },
    {
     "name": "stdout",
     "output_type": "stream",
     "text": [
      "predictions written to ./experiments/model_eval_by_dis/Netrakona/m5.test.csv\n",
      "evaluation written to ./experiments/model_eval_by_dis/Netrakona/m5.eval.csv\n",
      "predictions written to ./experiments/model_eval_by_dis/Netrakona/m11.test.csv\n",
      "evaluation written to ./experiments/model_eval_by_dis/Netrakona/m11.eval.csv\n",
      "predictions written to ./experiments/model_eval_by_dis/Netrakona/m10.test.csv\n",
      "evaluation written to ./experiments/model_eval_by_dis/Netrakona/m10.eval.csv\n",
      "predictions written to ./experiments/model_eval_by_dis/Netrakona/m3.test.csv\n",
      "evaluation written to ./experiments/model_eval_by_dis/Netrakona/m3.eval.csv\n",
      "predictions written to ./experiments/model_eval_by_dis/Netrakona/m4.test.csv\n",
      "evaluation written to ./experiments/model_eval_by_dis/Netrakona/m4.eval.csv\n",
      "predictions written to ./experiments/model_eval_by_dis/Netrakona/m6.test.csv\n",
      "evaluation written to ./experiments/model_eval_by_dis/Netrakona/m6.eval.csv\n",
      "predictions written to ./experiments/model_eval_by_dis/Netrakona/m9.test.csv\n",
      "evaluation written to ./experiments/model_eval_by_dis/Netrakona/m9.eval.csv\n"
     ]
    },
    {
     "name": "stderr",
     "output_type": "stream",
     "text": [
      "/home/kane/code/fyp/venv/lib/python3.10/site-packages/sklearn/neural_network/_multilayer_perceptron.py:679: ConvergenceWarning: Stochastic Optimizer: Maximum iterations (100) reached and the optimization hasn't converged yet.\n",
      "  warnings.warn(\n",
      "Process Process-294:\n",
      "Traceback (most recent call last):\n",
      "  File \"/home/kane/code/fyp/venv/lib/python3.10/site-packages/multiprocess/process.py\", line 314, in _bootstrap\n",
      "    self.run()\n",
      "  File \"/home/kane/code/fyp/venv/lib/python3.10/site-packages/multiprocess/process.py\", line 108, in run\n",
      "    self._target(*self._args, **self._kwargs)\n",
      "  File \"/tmp/ipykernel_331508/3834942049.py\", line 10, in run_model\n",
      "    pred_df = model.main(f'./experiments/model_eval_by_dis/{dis}/k1.csv', k_fold)\n",
      "  File \"/home/kane/code/fyp/models/model8/model.py\", line 102, in main\n",
      "    test_df['Prediction'] = gen_predictions(train_df, test_df, k_fold)\n",
      "  File \"/home/kane/code/fyp/models/model8/model.py\", line 50, in gen_predictions\n",
      "    tt_df = append_test_train(te_div, tr_div)\n",
      "  File \"/home/kane/code/fyp/models/model_utils/utils.py\", line 59, in append_test_train\n",
      "    test.loc[:, 'tid'] = 1\n",
      "  File \"/home/kane/code/fyp/venv/lib/python3.10/site-packages/pandas/core/indexing.py\", line 818, in __setitem__\n",
      "    iloc._setitem_with_indexer(indexer, value, self.name)\n",
      "  File \"/home/kane/code/fyp/venv/lib/python3.10/site-packages/pandas/core/indexing.py\", line 1718, in _setitem_with_indexer\n",
      "    raise ValueError(\n",
      "ValueError: cannot set a frame with no defined index and a scalar\n"
     ]
    },
    {
     "name": "stdout",
     "output_type": "stream",
     "text": [
      "predictions written to ./experiments/model_eval_by_dis/Netrakona/m7.test.csv\n",
      "evaluation written to ./experiments/model_eval_by_dis/Netrakona/m7.eval.csv\n",
      "dis 26 / 63\n",
      "predictions written to ./experiments/model_eval_by_dis/Barisal/m5.test.csv\n",
      "evaluation written to ./experiments/model_eval_by_dis/Barisal/m5.eval.csv\n"
     ]
    },
    {
     "name": "stderr",
     "output_type": "stream",
     "text": [
      "Process Process-303:\n",
      "Traceback (most recent call last):\n",
      "  File \"/home/kane/code/fyp/venv/lib/python3.10/site-packages/multiprocess/process.py\", line 314, in _bootstrap\n",
      "    self.run()\n",
      "  File \"/home/kane/code/fyp/venv/lib/python3.10/site-packages/multiprocess/process.py\", line 108, in run\n",
      "    self._target(*self._args, **self._kwargs)\n",
      "  File \"/tmp/ipykernel_331508/3834942049.py\", line 10, in run_model\n",
      "    pred_df = model.main(f'./experiments/model_eval_by_dis/{dis}/k1.csv', k_fold)\n",
      "  File \"/home/kane/code/fyp/models/model8/model.py\", line 102, in main\n",
      "    test_df['Prediction'] = gen_predictions(train_df, test_df, k_fold)\n",
      "  File \"/home/kane/code/fyp/models/model8/model.py\", line 50, in gen_predictions\n",
      "    tt_df = append_test_train(te_div, tr_div)\n",
      "  File \"/home/kane/code/fyp/models/model_utils/utils.py\", line 59, in append_test_train\n",
      "    test.loc[:, 'tid'] = 1\n",
      "  File \"/home/kane/code/fyp/venv/lib/python3.10/site-packages/pandas/core/indexing.py\", line 818, in __setitem__\n",
      "    iloc._setitem_with_indexer(indexer, value, self.name)\n",
      "  File \"/home/kane/code/fyp/venv/lib/python3.10/site-packages/pandas/core/indexing.py\", line 1718, in _setitem_with_indexer\n",
      "    raise ValueError(\n",
      "ValueError: cannot set a frame with no defined index and a scalar\n",
      "/home/kane/code/fyp/models/model_utils/utils.py:46: UserWarning: Geometry is in a geographic CRS. Results from 'centroid' are likely incorrect. Use 'GeoSeries.to_crs()' to re-project geometries to a projected CRS before this operation.\n",
      "\n",
      "  gdf['lon'] = gdf.centroid.x\n",
      "/home/kane/code/fyp/models/model_utils/utils.py:47: UserWarning: Geometry is in a geographic CRS. Results from 'centroid' are likely incorrect. Use 'GeoSeries.to_crs()' to re-project geometries to a projected CRS before this operation.\n",
      "\n",
      "  gdf['lat'] = gdf.centroid.y\n"
     ]
    },
    {
     "name": "stdout",
     "output_type": "stream",
     "text": [
      "predictions written to ./experiments/model_eval_by_dis/Barisal/m3.test.csv\n",
      "evaluation written to ./experiments/model_eval_by_dis/Barisal/m3.eval.csv\n"
     ]
    },
    {
     "name": "stderr",
     "output_type": "stream",
     "text": [
      "/home/kane/code/fyp/models/model_utils/utils.py:35: FutureWarning: In a future version, the Index constructor will not infer numeric dtypes when passed object-dtype sequences (matching Series behavior)\n",
      "  df[header] = pd.Categorical(df[header]).codes\n",
      "/home/kane/code/fyp/models/model_utils/utils.py:35: FutureWarning: In a future version, the Index constructor will not infer numeric dtypes when passed object-dtype sequences (matching Series behavior)\n",
      "  df[header] = pd.Categorical(df[header]).codes\n",
      "/home/kane/code/fyp/models/model_utils/utils.py:46: UserWarning: Geometry is in a geographic CRS. Results from 'centroid' are likely incorrect. Use 'GeoSeries.to_crs()' to re-project geometries to a projected CRS before this operation.\n",
      "\n",
      "  gdf['lon'] = gdf.centroid.x\n",
      "/home/kane/code/fyp/models/model_utils/utils.py:47: UserWarning: Geometry is in a geographic CRS. Results from 'centroid' are likely incorrect. Use 'GeoSeries.to_crs()' to re-project geometries to a projected CRS before this operation.\n",
      "\n",
      "  gdf['lat'] = gdf.centroid.y\n",
      "/home/kane/code/fyp/models/model_utils/utils.py:35: FutureWarning: In a future version, the Index constructor will not infer numeric dtypes when passed object-dtype sequences (matching Series behavior)\n",
      "  df[header] = pd.Categorical(df[header]).codes\n",
      "/home/kane/code/fyp/models/model_utils/utils.py:35: FutureWarning: In a future version, the Index constructor will not infer numeric dtypes when passed object-dtype sequences (matching Series behavior)\n",
      "  df[header] = pd.Categorical(df[header]).codes\n"
     ]
    },
    {
     "name": "stdout",
     "output_type": "stream",
     "text": [
      "predictions written to ./experiments/model_eval_by_dis/Barisal/m11.test.csv\n",
      "evaluation written to ./experiments/model_eval_by_dis/Barisal/m11.eval.csv\n",
      "predictions written to ./experiments/model_eval_by_dis/Barisal/m4.test.csv\n",
      "evaluation written to ./experiments/model_eval_by_dis/Barisal/m4.eval.csv\n",
      "predictions written to ./experiments/model_eval_by_dis/Barisal/m10.test.csv\n",
      "evaluation written to ./experiments/model_eval_by_dis/Barisal/m10.eval.csv\n",
      "predictions written to ./experiments/model_eval_by_dis/Barisal/m6.test.csv\n",
      "evaluation written to ./experiments/model_eval_by_dis/Barisal/m6.eval.csv\n",
      "predictions written to ./experiments/model_eval_by_dis/Barisal/m9.test.csv\n",
      "evaluation written to ./experiments/model_eval_by_dis/Barisal/m9.eval.csv\n",
      "predictions written to ./experiments/model_eval_by_dis/Barisal/m7.test.csv\n",
      "evaluation written to ./experiments/model_eval_by_dis/Barisal/m7.eval.csv\n",
      "dis 27 / 63\n"
     ]
    },
    {
     "name": "stderr",
     "output_type": "stream",
     "text": [
      "/home/kane/code/fyp/models/model_utils/utils.py:35: FutureWarning: In a future version, the Index constructor will not infer numeric dtypes when passed object-dtype sequences (matching Series behavior)\n",
      "  df[header] = pd.Categorical(df[header]).codes\n",
      "/home/kane/code/fyp/models/model_utils/utils.py:35: FutureWarning: In a future version, the Index constructor will not infer numeric dtypes when passed object-dtype sequences (matching Series behavior)\n",
      "  df[header] = pd.Categorical(df[header]).codes\n",
      "/home/kane/code/fyp/models/model_utils/utils.py:46: UserWarning: Geometry is in a geographic CRS. Results from 'centroid' are likely incorrect. Use 'GeoSeries.to_crs()' to re-project geometries to a projected CRS before this operation.\n",
      "\n",
      "  gdf['lon'] = gdf.centroid.x\n",
      "/home/kane/code/fyp/models/model_utils/utils.py:47: UserWarning: Geometry is in a geographic CRS. Results from 'centroid' are likely incorrect. Use 'GeoSeries.to_crs()' to re-project geometries to a projected CRS before this operation.\n",
      "\n",
      "  gdf['lat'] = gdf.centroid.y\n",
      "/home/kane/code/fyp/models/model_utils/utils.py:46: UserWarning: Geometry is in a geographic CRS. Results from 'centroid' are likely incorrect. Use 'GeoSeries.to_crs()' to re-project geometries to a projected CRS before this operation.\n",
      "\n",
      "  gdf['lon'] = gdf.centroid.x\n",
      "/home/kane/code/fyp/models/model_utils/utils.py:35: FutureWarning: In a future version, the Index constructor will not infer numeric dtypes when passed object-dtype sequences (matching Series behavior)\n",
      "  df[header] = pd.Categorical(df[header]).codes\n",
      "/home/kane/code/fyp/models/model_utils/utils.py:35: FutureWarning: In a future version, the Index constructor will not infer numeric dtypes when passed object-dtype sequences (matching Series behavior)\n",
      "  df[header] = pd.Categorical(df[header]).codes\n",
      "/home/kane/code/fyp/models/model_utils/utils.py:47: UserWarning: Geometry is in a geographic CRS. Results from 'centroid' are likely incorrect. Use 'GeoSeries.to_crs()' to re-project geometries to a projected CRS before this operation.\n",
      "\n",
      "  gdf['lat'] = gdf.centroid.y\n",
      "/home/kane/code/fyp/models/model_utils/utils.py:60: SettingWithCopyWarning: \n",
      "A value is trying to be set on a copy of a slice from a DataFrame.\n",
      "Try using .loc[row_indexer,col_indexer] = value instead\n",
      "\n",
      "See the caveats in the documentation: https://pandas.pydata.org/pandas-docs/stable/user_guide/indexing.html#returning-a-view-versus-a-copy\n",
      "  train.loc[:, 'tid'] = 0\n"
     ]
    },
    {
     "name": "stdout",
     "output_type": "stream",
     "text": [
      "predictions written to ./experiments/model_eval_by_dis/Mymensingh/m11.test.csv\n",
      "evaluation written to ./experiments/model_eval_by_dis/Mymensingh/m11.eval.csv\n",
      "predictions written to ./experiments/model_eval_by_dis/Mymensingh/m5.test.csv\n",
      "evaluation written to ./experiments/model_eval_by_dis/Mymensingh/m5.eval.csv\n",
      "predictions written to ./experiments/model_eval_by_dis/Mymensingh/m10.test.csv\n",
      "evaluation written to ./experiments/model_eval_by_dis/Mymensingh/m10.eval.csv\n",
      "predictions written to ./experiments/model_eval_by_dis/Mymensingh/m3.test.csv\n",
      "evaluation written to ./experiments/model_eval_by_dis/Mymensingh/m3.eval.csv\n",
      "predictions written to ./experiments/model_eval_by_dis/Mymensingh/m4.test.csv\n",
      "evaluation written to ./experiments/model_eval_by_dis/Mymensingh/m4.eval.csv\n",
      "predictions written to ./experiments/model_eval_by_dis/Mymensingh/m9.test.csv\n",
      "evaluation written to ./experiments/model_eval_by_dis/Mymensingh/m9.eval.csv\n",
      "predictions written to ./experiments/model_eval_by_dis/Mymensingh/m6.test.csv\n",
      "evaluation written to ./experiments/model_eval_by_dis/Mymensingh/m6.eval.csv\n",
      "predictions written to ./experiments/model_eval_by_dis/Mymensingh/m7.test.csv\n",
      "evaluation written to ./experiments/model_eval_by_dis/Mymensingh/m7.eval.csv\n"
     ]
    },
    {
     "name": "stderr",
     "output_type": "stream",
     "text": [
      "/home/kane/code/fyp/venv/lib/python3.10/site-packages/sklearn/neural_network/_multilayer_perceptron.py:679: ConvergenceWarning: Stochastic Optimizer: Maximum iterations (100) reached and the optimization hasn't converged yet.\n",
      "  warnings.warn(\n",
      "Process Process-312:\n",
      "Traceback (most recent call last):\n",
      "  File \"/home/kane/code/fyp/venv/lib/python3.10/site-packages/multiprocess/process.py\", line 314, in _bootstrap\n",
      "    self.run()\n",
      "  File \"/home/kane/code/fyp/venv/lib/python3.10/site-packages/multiprocess/process.py\", line 108, in run\n",
      "    self._target(*self._args, **self._kwargs)\n",
      "  File \"/tmp/ipykernel_331508/3834942049.py\", line 10, in run_model\n",
      "    pred_df = model.main(f'./experiments/model_eval_by_dis/{dis}/k1.csv', k_fold)\n",
      "  File \"/home/kane/code/fyp/models/model8/model.py\", line 102, in main\n",
      "    test_df['Prediction'] = gen_predictions(train_df, test_df, k_fold)\n",
      "  File \"/home/kane/code/fyp/models/model8/model.py\", line 50, in gen_predictions\n",
      "    tt_df = append_test_train(te_div, tr_div)\n",
      "  File \"/home/kane/code/fyp/models/model_utils/utils.py\", line 59, in append_test_train\n",
      "    test.loc[:, 'tid'] = 1\n",
      "  File \"/home/kane/code/fyp/venv/lib/python3.10/site-packages/pandas/core/indexing.py\", line 818, in __setitem__\n",
      "    iloc._setitem_with_indexer(indexer, value, self.name)\n",
      "  File \"/home/kane/code/fyp/venv/lib/python3.10/site-packages/pandas/core/indexing.py\", line 1718, in _setitem_with_indexer\n",
      "    raise ValueError(\n",
      "ValueError: cannot set a frame with no defined index and a scalar\n"
     ]
    },
    {
     "name": "stdout",
     "output_type": "stream",
     "text": [
      "dis 28 / 63\n"
     ]
    },
    {
     "name": "stderr",
     "output_type": "stream",
     "text": [
      "/home/kane/code/fyp/venv/lib/python3.10/site-packages/sklearn/metrics/_classification.py:1344: UndefinedMetricWarning: Precision is ill-defined and being set to 0.0 due to no predicted samples. Use `zero_division` parameter to control this behavior.\n",
      "  _warn_prf(average, modifier, msg_start, len(result))\n",
      "/home/kane/code/fyp/venv/lib/python3.10/site-packages/sklearn/metrics/_classification.py:1344: UndefinedMetricWarning: Recall is ill-defined and being set to 0.0 due to no true samples. Use `zero_division` parameter to control this behavior.\n",
      "  _warn_prf(average, modifier, msg_start, len(result))\n",
      "/home/kane/code/fyp/venv/lib/python3.10/site-packages/sklearn/metrics/_classification.py:1609: UndefinedMetricWarning: F-score is ill-defined and being set to 0.0 due to no true nor predicted samples. Use `zero_division` parameter to control this behavior.\n",
      "  _warn_prf(average, \"true nor predicted\", \"F-score is\", len(true_sum))\n"
     ]
    },
    {
     "name": "stdout",
     "output_type": "stream",
     "text": [
      "predictions written to ./experiments/model_eval_by_dis/Patuakhali/m5.test.csv\n",
      "evaluation written to ./experiments/model_eval_by_dis/Patuakhali/m5.eval.csv\n"
     ]
    },
    {
     "name": "stderr",
     "output_type": "stream",
     "text": [
      "/home/kane/code/fyp/venv/lib/python3.10/site-packages/sklearn/metrics/_classification.py:1344: UndefinedMetricWarning: Precision is ill-defined and being set to 0.0 due to no predicted samples. Use `zero_division` parameter to control this behavior.\n",
      "  _warn_prf(average, modifier, msg_start, len(result))\n",
      "/home/kane/code/fyp/venv/lib/python3.10/site-packages/sklearn/metrics/_classification.py:1344: UndefinedMetricWarning: Recall is ill-defined and being set to 0.0 due to no true samples. Use `zero_division` parameter to control this behavior.\n",
      "  _warn_prf(average, modifier, msg_start, len(result))\n",
      "/home/kane/code/fyp/venv/lib/python3.10/site-packages/sklearn/metrics/_classification.py:1609: UndefinedMetricWarning: F-score is ill-defined and being set to 0.0 due to no true nor predicted samples. Use `zero_division` parameter to control this behavior.\n",
      "  _warn_prf(average, \"true nor predicted\", \"F-score is\", len(true_sum))\n"
     ]
    },
    {
     "name": "stdout",
     "output_type": "stream",
     "text": [
      "predictions written to ./experiments/model_eval_by_dis/Patuakhali/m3.test.csv\n",
      "evaluation written to ./experiments/model_eval_by_dis/Patuakhali/m3.eval.csv\n"
     ]
    },
    {
     "name": "stderr",
     "output_type": "stream",
     "text": [
      "/home/kane/code/fyp/venv/lib/python3.10/site-packages/sklearn/metrics/_classification.py:1344: UndefinedMetricWarning: Precision is ill-defined and being set to 0.0 due to no predicted samples. Use `zero_division` parameter to control this behavior.\n",
      "  _warn_prf(average, modifier, msg_start, len(result))\n",
      "/home/kane/code/fyp/venv/lib/python3.10/site-packages/sklearn/metrics/_classification.py:1344: UndefinedMetricWarning: Recall is ill-defined and being set to 0.0 due to no true samples. Use `zero_division` parameter to control this behavior.\n",
      "  _warn_prf(average, modifier, msg_start, len(result))\n",
      "/home/kane/code/fyp/venv/lib/python3.10/site-packages/sklearn/metrics/_classification.py:1609: UndefinedMetricWarning: F-score is ill-defined and being set to 0.0 due to no true nor predicted samples. Use `zero_division` parameter to control this behavior.\n",
      "  _warn_prf(average, \"true nor predicted\", \"F-score is\", len(true_sum))\n"
     ]
    },
    {
     "name": "stdout",
     "output_type": "stream",
     "text": [
      "predictions written to ./experiments/model_eval_by_dis/Patuakhali/m4.test.csv\n",
      "evaluation written to ./experiments/model_eval_by_dis/Patuakhali/m4.eval.csv\n"
     ]
    },
    {
     "name": "stderr",
     "output_type": "stream",
     "text": [
      "Process Process-321:\n",
      "Traceback (most recent call last):\n",
      "  File \"/home/kane/code/fyp/venv/lib/python3.10/site-packages/multiprocess/process.py\", line 314, in _bootstrap\n",
      "    self.run()\n",
      "  File \"/home/kane/code/fyp/venv/lib/python3.10/site-packages/multiprocess/process.py\", line 108, in run\n",
      "    self._target(*self._args, **self._kwargs)\n",
      "  File \"/tmp/ipykernel_331508/3834942049.py\", line 10, in run_model\n",
      "    pred_df = model.main(f'./experiments/model_eval_by_dis/{dis}/k1.csv', k_fold)\n",
      "  File \"/home/kane/code/fyp/models/model8/model.py\", line 102, in main\n",
      "    test_df['Prediction'] = gen_predictions(train_df, test_df, k_fold)\n",
      "  File \"/home/kane/code/fyp/models/model8/model.py\", line 50, in gen_predictions\n",
      "    tt_df = append_test_train(te_div, tr_div)\n",
      "  File \"/home/kane/code/fyp/models/model_utils/utils.py\", line 59, in append_test_train\n",
      "    test.loc[:, 'tid'] = 1\n",
      "  File \"/home/kane/code/fyp/venv/lib/python3.10/site-packages/pandas/core/indexing.py\", line 818, in __setitem__\n",
      "    iloc._setitem_with_indexer(indexer, value, self.name)\n",
      "  File \"/home/kane/code/fyp/venv/lib/python3.10/site-packages/pandas/core/indexing.py\", line 1718, in _setitem_with_indexer\n",
      "    raise ValueError(\n",
      "ValueError: cannot set a frame with no defined index and a scalar\n",
      "/home/kane/code/fyp/models/model_utils/utils.py:35: FutureWarning: In a future version, the Index constructor will not infer numeric dtypes when passed object-dtype sequences (matching Series behavior)\n",
      "  df[header] = pd.Categorical(df[header]).codes\n",
      "/home/kane/code/fyp/models/model_utils/utils.py:35: FutureWarning: In a future version, the Index constructor will not infer numeric dtypes when passed object-dtype sequences (matching Series behavior)\n",
      "  df[header] = pd.Categorical(df[header]).codes\n",
      "/home/kane/code/fyp/models/model_utils/utils.py:46: UserWarning: Geometry is in a geographic CRS. Results from 'centroid' are likely incorrect. Use 'GeoSeries.to_crs()' to re-project geometries to a projected CRS before this operation.\n",
      "\n",
      "  gdf['lon'] = gdf.centroid.x\n",
      "/home/kane/code/fyp/models/model_utils/utils.py:35: FutureWarning: In a future version, the Index constructor will not infer numeric dtypes when passed object-dtype sequences (matching Series behavior)\n",
      "  df[header] = pd.Categorical(df[header]).codes\n",
      "/home/kane/code/fyp/models/model_utils/utils.py:35: FutureWarning: In a future version, the Index constructor will not infer numeric dtypes when passed object-dtype sequences (matching Series behavior)\n",
      "  df[header] = pd.Categorical(df[header]).codes\n",
      "/home/kane/code/fyp/models/model_utils/utils.py:47: UserWarning: Geometry is in a geographic CRS. Results from 'centroid' are likely incorrect. Use 'GeoSeries.to_crs()' to re-project geometries to a projected CRS before this operation.\n",
      "\n",
      "  gdf['lat'] = gdf.centroid.y\n",
      "/home/kane/code/fyp/models/model_utils/utils.py:46: UserWarning: Geometry is in a geographic CRS. Results from 'centroid' are likely incorrect. Use 'GeoSeries.to_crs()' to re-project geometries to a projected CRS before this operation.\n",
      "\n",
      "  gdf['lon'] = gdf.centroid.x\n",
      "/home/kane/code/fyp/models/model_utils/utils.py:47: UserWarning: Geometry is in a geographic CRS. Results from 'centroid' are likely incorrect. Use 'GeoSeries.to_crs()' to re-project geometries to a projected CRS before this operation.\n",
      "\n",
      "  gdf['lat'] = gdf.centroid.y\n",
      "/home/kane/code/fyp/venv/lib/python3.10/site-packages/sklearn/metrics/_classification.py:1344: UndefinedMetricWarning: Precision is ill-defined and being set to 0.0 due to no predicted samples. Use `zero_division` parameter to control this behavior.\n",
      "  _warn_prf(average, modifier, msg_start, len(result))\n",
      "/home/kane/code/fyp/venv/lib/python3.10/site-packages/sklearn/metrics/_classification.py:1344: UndefinedMetricWarning: Recall is ill-defined and being set to 0.0 due to no true samples. Use `zero_division` parameter to control this behavior.\n",
      "  _warn_prf(average, modifier, msg_start, len(result))\n",
      "/home/kane/code/fyp/venv/lib/python3.10/site-packages/sklearn/metrics/_classification.py:1609: UndefinedMetricWarning: F-score is ill-defined and being set to 0.0 due to no true nor predicted samples. Use `zero_division` parameter to control this behavior.\n",
      "  _warn_prf(average, \"true nor predicted\", \"F-score is\", len(true_sum))\n"
     ]
    },
    {
     "name": "stdout",
     "output_type": "stream",
     "text": [
      "predictions written to ./experiments/model_eval_by_dis/Patuakhali/m11.test.csv\n",
      "evaluation written to ./experiments/model_eval_by_dis/Patuakhali/m11.eval.csv\n"
     ]
    },
    {
     "name": "stderr",
     "output_type": "stream",
     "text": [
      "/home/kane/code/fyp/venv/lib/python3.10/site-packages/sklearn/metrics/_classification.py:1344: UndefinedMetricWarning: Precision is ill-defined and being set to 0.0 due to no predicted samples. Use `zero_division` parameter to control this behavior.\n",
      "  _warn_prf(average, modifier, msg_start, len(result))\n",
      "/home/kane/code/fyp/venv/lib/python3.10/site-packages/sklearn/metrics/_classification.py:1344: UndefinedMetricWarning: Recall is ill-defined and being set to 0.0 due to no true samples. Use `zero_division` parameter to control this behavior.\n",
      "  _warn_prf(average, modifier, msg_start, len(result))\n",
      "/home/kane/code/fyp/venv/lib/python3.10/site-packages/sklearn/metrics/_classification.py:1609: UndefinedMetricWarning: F-score is ill-defined and being set to 0.0 due to no true nor predicted samples. Use `zero_division` parameter to control this behavior.\n",
      "  _warn_prf(average, \"true nor predicted\", \"F-score is\", len(true_sum))\n"
     ]
    },
    {
     "name": "stdout",
     "output_type": "stream",
     "text": [
      "predictions written to ./experiments/model_eval_by_dis/Patuakhali/m10.test.csv\n",
      "evaluation written to ./experiments/model_eval_by_dis/Patuakhali/m10.eval.csv\n"
     ]
    },
    {
     "name": "stderr",
     "output_type": "stream",
     "text": [
      "/home/kane/code/fyp/venv/lib/python3.10/site-packages/sklearn/metrics/_classification.py:1344: UndefinedMetricWarning: Recall is ill-defined and being set to 0.0 due to no true samples. Use `zero_division` parameter to control this behavior.\n",
      "  _warn_prf(average, modifier, msg_start, len(result))\n"
     ]
    },
    {
     "name": "stdout",
     "output_type": "stream",
     "text": [
      "predictions written to ./experiments/model_eval_by_dis/Patuakhali/m6.test.csv\n",
      "evaluation written to ./experiments/model_eval_by_dis/Patuakhali/m6.eval.csv\n"
     ]
    },
    {
     "name": "stderr",
     "output_type": "stream",
     "text": [
      "/home/kane/code/fyp/venv/lib/python3.10/site-packages/sklearn/metrics/_classification.py:1344: UndefinedMetricWarning: Precision is ill-defined and being set to 0.0 due to no predicted samples. Use `zero_division` parameter to control this behavior.\n",
      "  _warn_prf(average, modifier, msg_start, len(result))\n",
      "/home/kane/code/fyp/venv/lib/python3.10/site-packages/sklearn/metrics/_classification.py:1344: UndefinedMetricWarning: Recall is ill-defined and being set to 0.0 due to no true samples. Use `zero_division` parameter to control this behavior.\n",
      "  _warn_prf(average, modifier, msg_start, len(result))\n",
      "/home/kane/code/fyp/venv/lib/python3.10/site-packages/sklearn/metrics/_classification.py:1609: UndefinedMetricWarning: F-score is ill-defined and being set to 0.0 due to no true nor predicted samples. Use `zero_division` parameter to control this behavior.\n",
      "  _warn_prf(average, \"true nor predicted\", \"F-score is\", len(true_sum))\n"
     ]
    },
    {
     "name": "stdout",
     "output_type": "stream",
     "text": [
      "predictions written to ./experiments/model_eval_by_dis/Patuakhali/m9.test.csv\n",
      "evaluation written to ./experiments/model_eval_by_dis/Patuakhali/m9.eval.csv\n"
     ]
    },
    {
     "name": "stderr",
     "output_type": "stream",
     "text": [
      "/home/kane/code/fyp/venv/lib/python3.10/site-packages/sklearn/metrics/_classification.py:1344: UndefinedMetricWarning: Precision is ill-defined and being set to 0.0 due to no predicted samples. Use `zero_division` parameter to control this behavior.\n",
      "  _warn_prf(average, modifier, msg_start, len(result))\n",
      "/home/kane/code/fyp/venv/lib/python3.10/site-packages/sklearn/metrics/_classification.py:1344: UndefinedMetricWarning: Recall is ill-defined and being set to 0.0 due to no true samples. Use `zero_division` parameter to control this behavior.\n",
      "  _warn_prf(average, modifier, msg_start, len(result))\n",
      "/home/kane/code/fyp/venv/lib/python3.10/site-packages/sklearn/metrics/_classification.py:1609: UndefinedMetricWarning: F-score is ill-defined and being set to 0.0 due to no true nor predicted samples. Use `zero_division` parameter to control this behavior.\n",
      "  _warn_prf(average, \"true nor predicted\", \"F-score is\", len(true_sum))\n"
     ]
    },
    {
     "name": "stdout",
     "output_type": "stream",
     "text": [
      "predictions written to ./experiments/model_eval_by_dis/Patuakhali/m7.test.csv\n",
      "evaluation written to ./experiments/model_eval_by_dis/Patuakhali/m7.eval.csv\n",
      "dis 29 / 63\n",
      "predictions written to ./experiments/model_eval_by_dis/Lakshmipur/m5.test.csv\n",
      "evaluation written to ./experiments/model_eval_by_dis/Lakshmipur/m5.eval.csv\n"
     ]
    },
    {
     "name": "stderr",
     "output_type": "stream",
     "text": [
      "/home/kane/code/fyp/models/model_utils/utils.py:46: UserWarning: Geometry is in a geographic CRS. Results from 'centroid' are likely incorrect. Use 'GeoSeries.to_crs()' to re-project geometries to a projected CRS before this operation.\n",
      "\n",
      "  gdf['lon'] = gdf.centroid.x\n",
      "/home/kane/code/fyp/models/model_utils/utils.py:47: UserWarning: Geometry is in a geographic CRS. Results from 'centroid' are likely incorrect. Use 'GeoSeries.to_crs()' to re-project geometries to a projected CRS before this operation.\n",
      "\n",
      "  gdf['lat'] = gdf.centroid.y\n",
      "Process Process-330:\n",
      "Traceback (most recent call last):\n",
      "  File \"/home/kane/code/fyp/venv/lib/python3.10/site-packages/multiprocess/process.py\", line 314, in _bootstrap\n",
      "    self.run()\n",
      "  File \"/home/kane/code/fyp/venv/lib/python3.10/site-packages/multiprocess/process.py\", line 108, in run\n",
      "    self._target(*self._args, **self._kwargs)\n",
      "  File \"/tmp/ipykernel_331508/3834942049.py\", line 10, in run_model\n",
      "    pred_df = model.main(f'./experiments/model_eval_by_dis/{dis}/k1.csv', k_fold)\n",
      "  File \"/home/kane/code/fyp/models/model8/model.py\", line 102, in main\n",
      "    test_df['Prediction'] = gen_predictions(train_df, test_df, k_fold)\n",
      "  File \"/home/kane/code/fyp/models/model8/model.py\", line 50, in gen_predictions\n",
      "    tt_df = append_test_train(te_div, tr_div)\n",
      "  File \"/home/kane/code/fyp/models/model_utils/utils.py\", line 59, in append_test_train\n",
      "    test.loc[:, 'tid'] = 1\n",
      "  File \"/home/kane/code/fyp/venv/lib/python3.10/site-packages/pandas/core/indexing.py\", line 818, in __setitem__\n",
      "    iloc._setitem_with_indexer(indexer, value, self.name)\n",
      "  File \"/home/kane/code/fyp/venv/lib/python3.10/site-packages/pandas/core/indexing.py\", line 1718, in _setitem_with_indexer\n",
      "    raise ValueError(\n",
      "ValueError: cannot set a frame with no defined index and a scalar\n"
     ]
    },
    {
     "name": "stdout",
     "output_type": "stream",
     "text": [
      "predictions written to ./experiments/model_eval_by_dis/Lakshmipur/m3.test.csv\n",
      "evaluation written to ./experiments/model_eval_by_dis/Lakshmipur/m3.eval.csv\n"
     ]
    },
    {
     "name": "stderr",
     "output_type": "stream",
     "text": [
      "/home/kane/code/fyp/models/model_utils/utils.py:46: UserWarning: Geometry is in a geographic CRS. Results from 'centroid' are likely incorrect. Use 'GeoSeries.to_crs()' to re-project geometries to a projected CRS before this operation.\n",
      "\n",
      "  gdf['lon'] = gdf.centroid.x\n",
      "/home/kane/code/fyp/models/model_utils/utils.py:35: FutureWarning: In a future version, the Index constructor will not infer numeric dtypes when passed object-dtype sequences (matching Series behavior)\n",
      "  df[header] = pd.Categorical(df[header]).codes\n",
      "/home/kane/code/fyp/models/model_utils/utils.py:35: FutureWarning: In a future version, the Index constructor will not infer numeric dtypes when passed object-dtype sequences (matching Series behavior)\n",
      "  df[header] = pd.Categorical(df[header]).codes\n",
      "/home/kane/code/fyp/models/model_utils/utils.py:35: FutureWarning: In a future version, the Index constructor will not infer numeric dtypes when passed object-dtype sequences (matching Series behavior)\n",
      "  df[header] = pd.Categorical(df[header]).codes\n",
      "/home/kane/code/fyp/models/model_utils/utils.py:35: FutureWarning: In a future version, the Index constructor will not infer numeric dtypes when passed object-dtype sequences (matching Series behavior)\n",
      "  df[header] = pd.Categorical(df[header]).codes\n",
      "/home/kane/code/fyp/models/model_utils/utils.py:47: UserWarning: Geometry is in a geographic CRS. Results from 'centroid' are likely incorrect. Use 'GeoSeries.to_crs()' to re-project geometries to a projected CRS before this operation.\n",
      "\n",
      "  gdf['lat'] = gdf.centroid.y\n"
     ]
    },
    {
     "name": "stdout",
     "output_type": "stream",
     "text": [
      "predictions written to ./experiments/model_eval_by_dis/Lakshmipur/m11.test.csv\n",
      "evaluation written to ./experiments/model_eval_by_dis/Lakshmipur/m11.eval.csv\n",
      "predictions written to ./experiments/model_eval_by_dis/Lakshmipur/m10.test.csv\n",
      "evaluation written to ./experiments/model_eval_by_dis/Lakshmipur/m10.eval.csv\n",
      "predictions written to ./experiments/model_eval_by_dis/Lakshmipur/m4.test.csv\n",
      "evaluation written to ./experiments/model_eval_by_dis/Lakshmipur/m4.eval.csv\n",
      "predictions written to ./experiments/model_eval_by_dis/Lakshmipur/m6.test.csv\n",
      "evaluation written to ./experiments/model_eval_by_dis/Lakshmipur/m6.eval.csv\n",
      "predictions written to ./experiments/model_eval_by_dis/Lakshmipur/m9.test.csv\n",
      "evaluation written to ./experiments/model_eval_by_dis/Lakshmipur/m9.eval.csv\n",
      "predictions written to ./experiments/model_eval_by_dis/Lakshmipur/m7.test.csv\n",
      "evaluation written to ./experiments/model_eval_by_dis/Lakshmipur/m7.eval.csv\n",
      "dis 30 / 63\n",
      "predictions written to ./experiments/model_eval_by_dis/Habiganj/m5.test.csv\n",
      "evaluation written to ./experiments/model_eval_by_dis/Habiganj/m5.eval.csv\n"
     ]
    },
    {
     "name": "stderr",
     "output_type": "stream",
     "text": [
      "/home/kane/code/fyp/models/model_utils/utils.py:35: FutureWarning: In a future version, the Index constructor will not infer numeric dtypes when passed object-dtype sequences (matching Series behavior)\n",
      "  df[header] = pd.Categorical(df[header]).codes\n",
      "/home/kane/code/fyp/models/model_utils/utils.py:35: FutureWarning: In a future version, the Index constructor will not infer numeric dtypes when passed object-dtype sequences (matching Series behavior)\n",
      "  df[header] = pd.Categorical(df[header]).codes\n",
      "Process Process-339:\n",
      "Traceback (most recent call last):\n",
      "  File \"/home/kane/code/fyp/venv/lib/python3.10/site-packages/multiprocess/process.py\", line 314, in _bootstrap\n",
      "    self.run()\n",
      "  File \"/home/kane/code/fyp/venv/lib/python3.10/site-packages/multiprocess/process.py\", line 108, in run\n",
      "    self._target(*self._args, **self._kwargs)\n",
      "  File \"/tmp/ipykernel_331508/3834942049.py\", line 10, in run_model\n",
      "    pred_df = model.main(f'./experiments/model_eval_by_dis/{dis}/k1.csv', k_fold)\n",
      "  File \"/home/kane/code/fyp/models/model8/model.py\", line 102, in main\n",
      "    test_df['Prediction'] = gen_predictions(train_df, test_df, k_fold)\n",
      "  File \"/home/kane/code/fyp/models/model8/model.py\", line 50, in gen_predictions\n",
      "    tt_df = append_test_train(te_div, tr_div)\n",
      "  File \"/home/kane/code/fyp/models/model_utils/utils.py\", line 59, in append_test_train\n",
      "    test.loc[:, 'tid'] = 1\n",
      "  File \"/home/kane/code/fyp/venv/lib/python3.10/site-packages/pandas/core/indexing.py\", line 818, in __setitem__\n",
      "    iloc._setitem_with_indexer(indexer, value, self.name)\n",
      "  File \"/home/kane/code/fyp/venv/lib/python3.10/site-packages/pandas/core/indexing.py\", line 1718, in _setitem_with_indexer\n",
      "    raise ValueError(\n",
      "ValueError: cannot set a frame with no defined index and a scalar\n",
      "/home/kane/code/fyp/models/model_utils/utils.py:46: UserWarning: Geometry is in a geographic CRS. Results from 'centroid' are likely incorrect. Use 'GeoSeries.to_crs()' to re-project geometries to a projected CRS before this operation.\n",
      "\n",
      "  gdf['lon'] = gdf.centroid.x\n",
      "/home/kane/code/fyp/models/model_utils/utils.py:47: UserWarning: Geometry is in a geographic CRS. Results from 'centroid' are likely incorrect. Use 'GeoSeries.to_crs()' to re-project geometries to a projected CRS before this operation.\n",
      "\n",
      "  gdf['lat'] = gdf.centroid.y\n",
      "/home/kane/code/fyp/models/model_utils/utils.py:46: UserWarning: Geometry is in a geographic CRS. Results from 'centroid' are likely incorrect. Use 'GeoSeries.to_crs()' to re-project geometries to a projected CRS before this operation.\n",
      "\n",
      "  gdf['lon'] = gdf.centroid.x\n",
      "/home/kane/code/fyp/models/model_utils/utils.py:47: UserWarning: Geometry is in a geographic CRS. Results from 'centroid' are likely incorrect. Use 'GeoSeries.to_crs()' to re-project geometries to a projected CRS before this operation.\n",
      "\n",
      "  gdf['lat'] = gdf.centroid.y\n",
      "/home/kane/code/fyp/models/model_utils/utils.py:35: FutureWarning: In a future version, the Index constructor will not infer numeric dtypes when passed object-dtype sequences (matching Series behavior)\n",
      "  df[header] = pd.Categorical(df[header]).codes\n",
      "/home/kane/code/fyp/models/model_utils/utils.py:35: FutureWarning: In a future version, the Index constructor will not infer numeric dtypes when passed object-dtype sequences (matching Series behavior)\n",
      "  df[header] = pd.Categorical(df[header]).codes\n"
     ]
    },
    {
     "name": "stdout",
     "output_type": "stream",
     "text": [
      "predictions written to ./experiments/model_eval_by_dis/Habiganj/m11.test.csv\n",
      "evaluation written to ./experiments/model_eval_by_dis/Habiganj/m11.eval.csv\n",
      "predictions written to ./experiments/model_eval_by_dis/Habiganj/m10.test.csv\n",
      "evaluation written to ./experiments/model_eval_by_dis/Habiganj/m10.eval.csv\n",
      "predictions written to ./experiments/model_eval_by_dis/Habiganj/m3.test.csv\n",
      "evaluation written to ./experiments/model_eval_by_dis/Habiganj/m3.eval.csv\n",
      "predictions written to ./experiments/model_eval_by_dis/Habiganj/m4.test.csv\n",
      "evaluation written to ./experiments/model_eval_by_dis/Habiganj/m4.eval.csv\n",
      "predictions written to ./experiments/model_eval_by_dis/Habiganj/m6.test.csv\n",
      "evaluation written to ./experiments/model_eval_by_dis/Habiganj/m6.eval.csv\n",
      "predictions written to ./experiments/model_eval_by_dis/Habiganj/m9.test.csv\n",
      "evaluation written to ./experiments/model_eval_by_dis/Habiganj/m9.eval.csv\n",
      "predictions written to ./experiments/model_eval_by_dis/Habiganj/m7.test.csv\n",
      "evaluation written to ./experiments/model_eval_by_dis/Habiganj/m7.eval.csv\n",
      "dis 31 / 63\n",
      "predictions written to ./experiments/model_eval_by_dis/Pirojpur/m5.test.csv\n",
      "evaluation written to ./experiments/model_eval_by_dis/Pirojpur/m5.eval.csv\n",
      "predictions written to ./experiments/model_eval_by_dis/Pirojpur/m3.test.csv\n",
      "evaluation written to ./experiments/model_eval_by_dis/Pirojpur/m3.eval.csv\n",
      "predictions written to ./experiments/model_eval_by_dis/Pirojpur/m4.test.csv\n",
      "evaluation written to ./experiments/model_eval_by_dis/Pirojpur/m4.eval.csv\n"
     ]
    },
    {
     "name": "stderr",
     "output_type": "stream",
     "text": [
      "Process Process-348:\n",
      "Traceback (most recent call last):\n",
      "  File \"/home/kane/code/fyp/venv/lib/python3.10/site-packages/multiprocess/process.py\", line 314, in _bootstrap\n",
      "    self.run()\n",
      "  File \"/home/kane/code/fyp/venv/lib/python3.10/site-packages/multiprocess/process.py\", line 108, in run\n",
      "    self._target(*self._args, **self._kwargs)\n",
      "  File \"/tmp/ipykernel_331508/3834942049.py\", line 10, in run_model\n",
      "    pred_df = model.main(f'./experiments/model_eval_by_dis/{dis}/k1.csv', k_fold)\n",
      "  File \"/home/kane/code/fyp/models/model8/model.py\", line 102, in main\n",
      "    test_df['Prediction'] = gen_predictions(train_df, test_df, k_fold)\n",
      "  File \"/home/kane/code/fyp/models/model8/model.py\", line 50, in gen_predictions\n",
      "    tt_df = append_test_train(te_div, tr_div)\n",
      "  File \"/home/kane/code/fyp/models/model_utils/utils.py\", line 59, in append_test_train\n",
      "    test.loc[:, 'tid'] = 1\n",
      "  File \"/home/kane/code/fyp/venv/lib/python3.10/site-packages/pandas/core/indexing.py\", line 818, in __setitem__\n",
      "    iloc._setitem_with_indexer(indexer, value, self.name)\n",
      "  File \"/home/kane/code/fyp/venv/lib/python3.10/site-packages/pandas/core/indexing.py\", line 1718, in _setitem_with_indexer\n",
      "    raise ValueError(\n",
      "ValueError: cannot set a frame with no defined index and a scalar\n",
      "/home/kane/code/fyp/models/model_utils/utils.py:46: UserWarning: Geometry is in a geographic CRS. Results from 'centroid' are likely incorrect. Use 'GeoSeries.to_crs()' to re-project geometries to a projected CRS before this operation.\n",
      "\n",
      "  gdf['lon'] = gdf.centroid.x\n",
      "/home/kane/code/fyp/models/model_utils/utils.py:35: FutureWarning: In a future version, the Index constructor will not infer numeric dtypes when passed object-dtype sequences (matching Series behavior)\n",
      "  df[header] = pd.Categorical(df[header]).codes\n",
      "/home/kane/code/fyp/models/model_utils/utils.py:35: FutureWarning: In a future version, the Index constructor will not infer numeric dtypes when passed object-dtype sequences (matching Series behavior)\n",
      "  df[header] = pd.Categorical(df[header]).codes\n",
      "/home/kane/code/fyp/models/model_utils/utils.py:47: UserWarning: Geometry is in a geographic CRS. Results from 'centroid' are likely incorrect. Use 'GeoSeries.to_crs()' to re-project geometries to a projected CRS before this operation.\n",
      "\n",
      "  gdf['lat'] = gdf.centroid.y\n",
      "/home/kane/code/fyp/models/model_utils/utils.py:35: FutureWarning: In a future version, the Index constructor will not infer numeric dtypes when passed object-dtype sequences (matching Series behavior)\n",
      "  df[header] = pd.Categorical(df[header]).codes\n",
      "/home/kane/code/fyp/models/model_utils/utils.py:35: FutureWarning: In a future version, the Index constructor will not infer numeric dtypes when passed object-dtype sequences (matching Series behavior)\n",
      "  df[header] = pd.Categorical(df[header]).codes\n",
      "/home/kane/code/fyp/models/model_utils/utils.py:46: UserWarning: Geometry is in a geographic CRS. Results from 'centroid' are likely incorrect. Use 'GeoSeries.to_crs()' to re-project geometries to a projected CRS before this operation.\n",
      "\n",
      "  gdf['lon'] = gdf.centroid.x\n",
      "/home/kane/code/fyp/models/model_utils/utils.py:47: UserWarning: Geometry is in a geographic CRS. Results from 'centroid' are likely incorrect. Use 'GeoSeries.to_crs()' to re-project geometries to a projected CRS before this operation.\n",
      "\n",
      "  gdf['lat'] = gdf.centroid.y\n"
     ]
    },
    {
     "name": "stdout",
     "output_type": "stream",
     "text": [
      "predictions written to ./experiments/model_eval_by_dis/Pirojpur/m11.test.csv\n",
      "evaluation written to ./experiments/model_eval_by_dis/Pirojpur/m11.eval.csv\n",
      "predictions written to ./experiments/model_eval_by_dis/Pirojpur/m10.test.csv\n",
      "evaluation written to ./experiments/model_eval_by_dis/Pirojpur/m10.eval.csv\n",
      "predictions written to ./experiments/model_eval_by_dis/Pirojpur/m6.test.csv\n",
      "evaluation written to ./experiments/model_eval_by_dis/Pirojpur/m6.eval.csv\n",
      "predictions written to ./experiments/model_eval_by_dis/Pirojpur/m9.test.csv\n",
      "evaluation written to ./experiments/model_eval_by_dis/Pirojpur/m9.eval.csv\n",
      "predictions written to ./experiments/model_eval_by_dis/Pirojpur/m7.test.csv\n",
      "evaluation written to ./experiments/model_eval_by_dis/Pirojpur/m7.eval.csv\n",
      "dis 32 / 63\n",
      "predictions written to ./experiments/model_eval_by_dis/Khulna/m5.test.csv\n",
      "evaluation written to ./experiments/model_eval_by_dis/Khulna/m5.eval.csv\n",
      "predictions written to ./experiments/model_eval_by_dis/Khulna/m3.test.csv\n",
      "evaluation written to ./experiments/model_eval_by_dis/Khulna/m3.eval.csv\n",
      "predictions written to ./experiments/model_eval_by_dis/Khulna/m4.test.csv\n",
      "evaluation written to ./experiments/model_eval_by_dis/Khulna/m4.eval.csv\n"
     ]
    },
    {
     "name": "stderr",
     "output_type": "stream",
     "text": [
      "Process Process-357:\n",
      "Traceback (most recent call last):\n",
      "  File \"/home/kane/code/fyp/venv/lib/python3.10/site-packages/multiprocess/process.py\", line 314, in _bootstrap\n",
      "    self.run()\n",
      "  File \"/home/kane/code/fyp/venv/lib/python3.10/site-packages/multiprocess/process.py\", line 108, in run\n",
      "    self._target(*self._args, **self._kwargs)\n",
      "  File \"/tmp/ipykernel_331508/3834942049.py\", line 10, in run_model\n",
      "    pred_df = model.main(f'./experiments/model_eval_by_dis/{dis}/k1.csv', k_fold)\n",
      "  File \"/home/kane/code/fyp/models/model8/model.py\", line 102, in main\n",
      "    test_df['Prediction'] = gen_predictions(train_df, test_df, k_fold)\n",
      "  File \"/home/kane/code/fyp/models/model8/model.py\", line 50, in gen_predictions\n",
      "    tt_df = append_test_train(te_div, tr_div)\n",
      "  File \"/home/kane/code/fyp/models/model_utils/utils.py\", line 59, in append_test_train\n",
      "    test.loc[:, 'tid'] = 1\n",
      "  File \"/home/kane/code/fyp/venv/lib/python3.10/site-packages/pandas/core/indexing.py\", line 818, in __setitem__\n",
      "    iloc._setitem_with_indexer(indexer, value, self.name)\n",
      "ValueError: cannot set a frame with no defined index and a scalar\n",
      "  File \"/home/kane/code/fyp/venv/lib/python3.10/site-packages/pandas/core/indexing.py\", line 1718, in _setitem_with_indexer\n",
      "    raise ValueError(\n",
      "/home/kane/code/fyp/models/model_utils/utils.py:46: UserWarning: Geometry is in a geographic CRS. Results from 'centroid' are likely incorrect. Use 'GeoSeries.to_crs()' to re-project geometries to a projected CRS before this operation.\n",
      "\n",
      "  gdf['lon'] = gdf.centroid.x\n",
      "/home/kane/code/fyp/models/model_utils/utils.py:47: UserWarning: Geometry is in a geographic CRS. Results from 'centroid' are likely incorrect. Use 'GeoSeries.to_crs()' to re-project geometries to a projected CRS before this operation.\n",
      "\n",
      "  gdf['lat'] = gdf.centroid.y\n",
      "/home/kane/code/fyp/models/model_utils/utils.py:46: UserWarning: Geometry is in a geographic CRS. Results from 'centroid' are likely incorrect. Use 'GeoSeries.to_crs()' to re-project geometries to a projected CRS before this operation.\n",
      "\n",
      "  gdf['lon'] = gdf.centroid.x\n",
      "/home/kane/code/fyp/models/model_utils/utils.py:35: FutureWarning: In a future version, the Index constructor will not infer numeric dtypes when passed object-dtype sequences (matching Series behavior)\n",
      "  df[header] = pd.Categorical(df[header]).codes\n",
      "/home/kane/code/fyp/models/model_utils/utils.py:35: FutureWarning: In a future version, the Index constructor will not infer numeric dtypes when passed object-dtype sequences (matching Series behavior)\n",
      "  df[header] = pd.Categorical(df[header]).codes\n",
      "/home/kane/code/fyp/models/model_utils/utils.py:47: UserWarning: Geometry is in a geographic CRS. Results from 'centroid' are likely incorrect. Use 'GeoSeries.to_crs()' to re-project geometries to a projected CRS before this operation.\n",
      "\n",
      "  gdf['lat'] = gdf.centroid.y\n",
      "/home/kane/code/fyp/models/model_utils/utils.py:35: FutureWarning: In a future version, the Index constructor will not infer numeric dtypes when passed object-dtype sequences (matching Series behavior)\n",
      "  df[header] = pd.Categorical(df[header]).codes\n",
      "/home/kane/code/fyp/models/model_utils/utils.py:35: FutureWarning: In a future version, the Index constructor will not infer numeric dtypes when passed object-dtype sequences (matching Series behavior)\n",
      "  df[header] = pd.Categorical(df[header]).codes\n"
     ]
    },
    {
     "name": "stdout",
     "output_type": "stream",
     "text": [
      "predictions written to ./experiments/model_eval_by_dis/Khulna/m11.test.csv\n",
      "evaluation written to ./experiments/model_eval_by_dis/Khulna/m11.eval.csv\n",
      "predictions written to ./experiments/model_eval_by_dis/Khulna/m10.test.csv\n",
      "evaluation written to ./experiments/model_eval_by_dis/Khulna/m10.eval.csv\n",
      "predictions written to ./experiments/model_eval_by_dis/Khulna/m6.test.csv\n",
      "evaluation written to ./experiments/model_eval_by_dis/Khulna/m6.eval.csv\n",
      "predictions written to ./experiments/model_eval_by_dis/Khulna/m9.test.csv\n",
      "evaluation written to ./experiments/model_eval_by_dis/Khulna/m9.eval.csv\n",
      "predictions written to ./experiments/model_eval_by_dis/Khulna/m7.test.csv\n",
      "evaluation written to ./experiments/model_eval_by_dis/Khulna/m7.eval.csv\n",
      "dis 33 / 63\n",
      "predictions written to ./experiments/model_eval_by_dis/Nawabganj/m5.test.csv\n",
      "evaluation written to ./experiments/model_eval_by_dis/Nawabganj/m5.eval.csv\n"
     ]
    },
    {
     "name": "stderr",
     "output_type": "stream",
     "text": [
      "/home/kane/code/fyp/venv/lib/python3.10/site-packages/sklearn/metrics/_classification.py:1344: UndefinedMetricWarning: Precision is ill-defined and being set to 0.0 due to no predicted samples. Use `zero_division` parameter to control this behavior.\n",
      "  _warn_prf(average, modifier, msg_start, len(result))\n"
     ]
    },
    {
     "name": "stdout",
     "output_type": "stream",
     "text": [
      "predictions written to ./experiments/model_eval_by_dis/Nawabganj/m3.test.csv\n",
      "evaluation written to ./experiments/model_eval_by_dis/Nawabganj/m3.eval.csv\n"
     ]
    },
    {
     "name": "stderr",
     "output_type": "stream",
     "text": [
      "/home/kane/code/fyp/venv/lib/python3.10/site-packages/sklearn/metrics/_classification.py:1344: UndefinedMetricWarning: Precision is ill-defined and being set to 0.0 due to no predicted samples. Use `zero_division` parameter to control this behavior.\n",
      "  _warn_prf(average, modifier, msg_start, len(result))\n"
     ]
    },
    {
     "name": "stdout",
     "output_type": "stream",
     "text": [
      "predictions written to ./experiments/model_eval_by_dis/Nawabganj/m4.test.csv\n",
      "evaluation written to ./experiments/model_eval_by_dis/Nawabganj/m4.eval.csv\n"
     ]
    },
    {
     "name": "stderr",
     "output_type": "stream",
     "text": [
      "/home/kane/code/fyp/models/model_utils/utils.py:35: FutureWarning: In a future version, the Index constructor will not infer numeric dtypes when passed object-dtype sequences (matching Series behavior)\n",
      "  df[header] = pd.Categorical(df[header]).codes\n",
      "/home/kane/code/fyp/models/model_utils/utils.py:35: FutureWarning: In a future version, the Index constructor will not infer numeric dtypes when passed object-dtype sequences (matching Series behavior)\n",
      "  df[header] = pd.Categorical(df[header]).codes\n",
      "Process Process-366:\n",
      "Traceback (most recent call last):\n",
      "  File \"/home/kane/code/fyp/venv/lib/python3.10/site-packages/multiprocess/process.py\", line 314, in _bootstrap\n",
      "    self.run()\n",
      "  File \"/home/kane/code/fyp/venv/lib/python3.10/site-packages/multiprocess/process.py\", line 108, in run\n",
      "    self._target(*self._args, **self._kwargs)\n",
      "  File \"/tmp/ipykernel_331508/3834942049.py\", line 10, in run_model\n",
      "    pred_df = model.main(f'./experiments/model_eval_by_dis/{dis}/k1.csv', k_fold)\n",
      "  File \"/home/kane/code/fyp/models/model8/model.py\", line 102, in main\n",
      "    test_df['Prediction'] = gen_predictions(train_df, test_df, k_fold)\n",
      "  File \"/home/kane/code/fyp/models/model8/model.py\", line 50, in gen_predictions\n",
      "    tt_df = append_test_train(te_div, tr_div)\n",
      "  File \"/home/kane/code/fyp/models/model_utils/utils.py\", line 59, in append_test_train\n",
      "    test.loc[:, 'tid'] = 1\n",
      "/home/kane/code/fyp/models/model_utils/utils.py:46: UserWarning: Geometry is in a geographic CRS. Results from 'centroid' are likely incorrect. Use 'GeoSeries.to_crs()' to re-project geometries to a projected CRS before this operation.\n",
      "\n",
      "  gdf['lon'] = gdf.centroid.x\n",
      "  File \"/home/kane/code/fyp/venv/lib/python3.10/site-packages/pandas/core/indexing.py\", line 818, in __setitem__\n",
      "    iloc._setitem_with_indexer(indexer, value, self.name)\n",
      "  File \"/home/kane/code/fyp/venv/lib/python3.10/site-packages/pandas/core/indexing.py\", line 1718, in _setitem_with_indexer\n",
      "    raise ValueError(\n",
      "ValueError: cannot set a frame with no defined index and a scalar\n",
      "/home/kane/code/fyp/models/model_utils/utils.py:47: UserWarning: Geometry is in a geographic CRS. Results from 'centroid' are likely incorrect. Use 'GeoSeries.to_crs()' to re-project geometries to a projected CRS before this operation.\n",
      "\n",
      "  gdf['lat'] = gdf.centroid.y\n",
      "/home/kane/code/fyp/models/model_utils/utils.py:35: FutureWarning: In a future version, the Index constructor will not infer numeric dtypes when passed object-dtype sequences (matching Series behavior)\n",
      "  df[header] = pd.Categorical(df[header]).codes\n",
      "/home/kane/code/fyp/models/model_utils/utils.py:35: FutureWarning: In a future version, the Index constructor will not infer numeric dtypes when passed object-dtype sequences (matching Series behavior)\n",
      "  df[header] = pd.Categorical(df[header]).codes\n",
      "/home/kane/code/fyp/models/model_utils/utils.py:46: UserWarning: Geometry is in a geographic CRS. Results from 'centroid' are likely incorrect. Use 'GeoSeries.to_crs()' to re-project geometries to a projected CRS before this operation.\n",
      "\n",
      "  gdf['lon'] = gdf.centroid.x\n",
      "/home/kane/code/fyp/models/model_utils/utils.py:47: UserWarning: Geometry is in a geographic CRS. Results from 'centroid' are likely incorrect. Use 'GeoSeries.to_crs()' to re-project geometries to a projected CRS before this operation.\n",
      "\n",
      "  gdf['lat'] = gdf.centroid.y\n"
     ]
    },
    {
     "name": "stdout",
     "output_type": "stream",
     "text": [
      "predictions written to ./experiments/model_eval_by_dis/Nawabganj/m11.test.csv\n",
      "evaluation written to ./experiments/model_eval_by_dis/Nawabganj/m11.eval.csv\n",
      "predictions written to ./experiments/model_eval_by_dis/Nawabganj/m10.test.csv\n",
      "evaluation written to ./experiments/model_eval_by_dis/Nawabganj/m10.eval.csv\n",
      "predictions written to ./experiments/model_eval_by_dis/Nawabganj/m6.test.csv\n",
      "evaluation written to ./experiments/model_eval_by_dis/Nawabganj/m6.eval.csv\n",
      "predictions written to ./experiments/model_eval_by_dis/Nawabganj/m9.test.csv\n",
      "evaluation written to ./experiments/model_eval_by_dis/Nawabganj/m9.eval.csv\n",
      "predictions written to ./experiments/model_eval_by_dis/Nawabganj/m7.test.csv\n",
      "evaluation written to ./experiments/model_eval_by_dis/Nawabganj/m7.eval.csv\n",
      "dis 34 / 63\n",
      "predictions written to ./experiments/model_eval_by_dis/Jhalokati/m5.test.csv\n",
      "evaluation written to ./experiments/model_eval_by_dis/Jhalokati/m5.eval.csv\n"
     ]
    },
    {
     "name": "stderr",
     "output_type": "stream",
     "text": [
      "/home/kane/code/fyp/venv/lib/python3.10/site-packages/sklearn/metrics/_classification.py:1344: UndefinedMetricWarning: Precision is ill-defined and being set to 0.0 due to no predicted samples. Use `zero_division` parameter to control this behavior.\n",
      "  _warn_prf(average, modifier, msg_start, len(result))\n"
     ]
    },
    {
     "name": "stdout",
     "output_type": "stream",
     "text": [
      "predictions written to ./experiments/model_eval_by_dis/Jhalokati/m3.test.csv\n",
      "evaluation written to ./experiments/model_eval_by_dis/Jhalokati/m3.eval.csv\n",
      "predictions written to ./experiments/model_eval_by_dis/Jhalokati/m4.test.csv\n",
      "evaluation written to ./experiments/model_eval_by_dis/Jhalokati/m4.eval.csv\n"
     ]
    },
    {
     "name": "stderr",
     "output_type": "stream",
     "text": [
      "Process Process-375:\n",
      "Traceback (most recent call last):\n",
      "  File \"/home/kane/code/fyp/venv/lib/python3.10/site-packages/multiprocess/process.py\", line 314, in _bootstrap\n",
      "    self.run()\n",
      "  File \"/home/kane/code/fyp/venv/lib/python3.10/site-packages/multiprocess/process.py\", line 108, in run\n",
      "    self._target(*self._args, **self._kwargs)\n",
      "  File \"/tmp/ipykernel_331508/3834942049.py\", line 10, in run_model\n",
      "    pred_df = model.main(f'./experiments/model_eval_by_dis/{dis}/k1.csv', k_fold)\n",
      "  File \"/home/kane/code/fyp/models/model8/model.py\", line 102, in main\n",
      "    test_df['Prediction'] = gen_predictions(train_df, test_df, k_fold)\n",
      "  File \"/home/kane/code/fyp/models/model8/model.py\", line 50, in gen_predictions\n",
      "    tt_df = append_test_train(te_div, tr_div)\n",
      "  File \"/home/kane/code/fyp/models/model_utils/utils.py\", line 59, in append_test_train\n",
      "    test.loc[:, 'tid'] = 1\n",
      "  File \"/home/kane/code/fyp/venv/lib/python3.10/site-packages/pandas/core/indexing.py\", line 818, in __setitem__\n",
      "    iloc._setitem_with_indexer(indexer, value, self.name)\n",
      "  File \"/home/kane/code/fyp/venv/lib/python3.10/site-packages/pandas/core/indexing.py\", line 1718, in _setitem_with_indexer\n",
      "    raise ValueError(\n",
      "ValueError: cannot set a frame with no defined index and a scalar\n",
      "/home/kane/code/fyp/models/model_utils/utils.py:35: FutureWarning: In a future version, the Index constructor will not infer numeric dtypes when passed object-dtype sequences (matching Series behavior)\n",
      "  df[header] = pd.Categorical(df[header]).codes\n",
      "/home/kane/code/fyp/models/model_utils/utils.py:35: FutureWarning: In a future version, the Index constructor will not infer numeric dtypes when passed object-dtype sequences (matching Series behavior)\n",
      "  df[header] = pd.Categorical(df[header]).codes\n",
      "/home/kane/code/fyp/models/model_utils/utils.py:46: UserWarning: Geometry is in a geographic CRS. Results from 'centroid' are likely incorrect. Use 'GeoSeries.to_crs()' to re-project geometries to a projected CRS before this operation.\n",
      "\n",
      "  gdf['lon'] = gdf.centroid.x\n",
      "/home/kane/code/fyp/models/model_utils/utils.py:47: UserWarning: Geometry is in a geographic CRS. Results from 'centroid' are likely incorrect. Use 'GeoSeries.to_crs()' to re-project geometries to a projected CRS before this operation.\n",
      "\n",
      "  gdf['lat'] = gdf.centroid.y\n",
      "/home/kane/code/fyp/models/model_utils/utils.py:46: UserWarning: Geometry is in a geographic CRS. Results from 'centroid' are likely incorrect. Use 'GeoSeries.to_crs()' to re-project geometries to a projected CRS before this operation.\n",
      "\n",
      "  gdf['lon'] = gdf.centroid.x\n",
      "/home/kane/code/fyp/models/model_utils/utils.py:35: FutureWarning: In a future version, the Index constructor will not infer numeric dtypes when passed object-dtype sequences (matching Series behavior)\n",
      "  df[header] = pd.Categorical(df[header]).codes\n",
      "/home/kane/code/fyp/models/model_utils/utils.py:35: FutureWarning: In a future version, the Index constructor will not infer numeric dtypes when passed object-dtype sequences (matching Series behavior)\n",
      "  df[header] = pd.Categorical(df[header]).codes\n",
      "/home/kane/code/fyp/models/model_utils/utils.py:47: UserWarning: Geometry is in a geographic CRS. Results from 'centroid' are likely incorrect. Use 'GeoSeries.to_crs()' to re-project geometries to a projected CRS before this operation.\n",
      "\n",
      "  gdf['lat'] = gdf.centroid.y\n",
      "/home/kane/code/fyp/venv/lib/python3.10/site-packages/sklearn/metrics/_classification.py:1344: UndefinedMetricWarning: Precision is ill-defined and being set to 0.0 due to no predicted samples. Use `zero_division` parameter to control this behavior.\n",
      "  _warn_prf(average, modifier, msg_start, len(result))\n"
     ]
    },
    {
     "name": "stdout",
     "output_type": "stream",
     "text": [
      "predictions written to ./experiments/model_eval_by_dis/Jhalokati/m11.test.csv\n",
      "evaluation written to ./experiments/model_eval_by_dis/Jhalokati/m11.eval.csv\n"
     ]
    },
    {
     "name": "stderr",
     "output_type": "stream",
     "text": [
      "/home/kane/code/fyp/venv/lib/python3.10/site-packages/sklearn/metrics/_classification.py:1344: UndefinedMetricWarning: Precision is ill-defined and being set to 0.0 due to no predicted samples. Use `zero_division` parameter to control this behavior.\n",
      "  _warn_prf(average, modifier, msg_start, len(result))\n"
     ]
    },
    {
     "name": "stdout",
     "output_type": "stream",
     "text": [
      "predictions written to ./experiments/model_eval_by_dis/Jhalokati/m10.test.csv\n",
      "evaluation written to ./experiments/model_eval_by_dis/Jhalokati/m10.eval.csv\n",
      "predictions written to ./experiments/model_eval_by_dis/Jhalokati/m6.test.csv\n",
      "evaluation written to ./experiments/model_eval_by_dis/Jhalokati/m6.eval.csv\n"
     ]
    },
    {
     "name": "stderr",
     "output_type": "stream",
     "text": [
      "/home/kane/code/fyp/venv/lib/python3.10/site-packages/sklearn/metrics/_classification.py:1344: UndefinedMetricWarning: Precision is ill-defined and being set to 0.0 due to no predicted samples. Use `zero_division` parameter to control this behavior.\n",
      "  _warn_prf(average, modifier, msg_start, len(result))\n"
     ]
    },
    {
     "name": "stdout",
     "output_type": "stream",
     "text": [
      "predictions written to ./experiments/model_eval_by_dis/Jhalokati/m9.test.csv\n",
      "evaluation written to ./experiments/model_eval_by_dis/Jhalokati/m9.eval.csv\n"
     ]
    },
    {
     "name": "stderr",
     "output_type": "stream",
     "text": [
      "/home/kane/code/fyp/venv/lib/python3.10/site-packages/sklearn/metrics/_classification.py:1344: UndefinedMetricWarning: Precision is ill-defined and being set to 0.0 due to no predicted samples. Use `zero_division` parameter to control this behavior.\n",
      "  _warn_prf(average, modifier, msg_start, len(result))\n"
     ]
    },
    {
     "name": "stdout",
     "output_type": "stream",
     "text": [
      "predictions written to ./experiments/model_eval_by_dis/Jhalokati/m7.test.csv\n",
      "evaluation written to ./experiments/model_eval_by_dis/Jhalokati/m7.eval.csv\n",
      "dis 35 / 63\n",
      "predictions written to ./experiments/model_eval_by_dis/Rajbari/m5.test.csv\n",
      "evaluation written to ./experiments/model_eval_by_dis/Rajbari/m5.eval.csv\n"
     ]
    },
    {
     "name": "stderr",
     "output_type": "stream",
     "text": [
      "/home/kane/code/fyp/venv/lib/python3.10/site-packages/sklearn/metrics/_classification.py:1344: UndefinedMetricWarning: Precision is ill-defined and being set to 0.0 due to no predicted samples. Use `zero_division` parameter to control this behavior.\n",
      "  _warn_prf(average, modifier, msg_start, len(result))\n"
     ]
    },
    {
     "name": "stdout",
     "output_type": "stream",
     "text": [
      "predictions written to ./experiments/model_eval_by_dis/Rajbari/m4.test.csvpredictions written to ./experiments/model_eval_by_dis/Rajbari/m3.test.csv\n",
      "\n",
      "evaluation written to ./experiments/model_eval_by_dis/Rajbari/m4.eval.csvevaluation written to ./experiments/model_eval_by_dis/Rajbari/m3.eval.csv\n",
      "\n"
     ]
    },
    {
     "name": "stderr",
     "output_type": "stream",
     "text": [
      "/home/kane/code/fyp/models/model_utils/utils.py:35: FutureWarning: In a future version, the Index constructor will not infer numeric dtypes when passed object-dtype sequences (matching Series behavior)\n",
      "  df[header] = pd.Categorical(df[header]).codes\n",
      "/home/kane/code/fyp/models/model_utils/utils.py:35: FutureWarning: In a future version, the Index constructor will not infer numeric dtypes when passed object-dtype sequences (matching Series behavior)\n",
      "  df[header] = pd.Categorical(df[header]).codes\n",
      "/home/kane/code/fyp/models/model_utils/utils.py:46: UserWarning: Geometry is in a geographic CRS. Results from 'centroid' are likely incorrect. Use 'GeoSeries.to_crs()' to re-project geometries to a projected CRS before this operation.\n",
      "\n",
      "  gdf['lon'] = gdf.centroid.x\n",
      "Process Process-384:\n",
      "/home/kane/code/fyp/models/model_utils/utils.py:47: UserWarning: Geometry is in a geographic CRS. Results from 'centroid' are likely incorrect. Use 'GeoSeries.to_crs()' to re-project geometries to a projected CRS before this operation.\n",
      "\n",
      "  gdf['lat'] = gdf.centroid.y\n",
      "Traceback (most recent call last):\n",
      "  File \"/home/kane/code/fyp/venv/lib/python3.10/site-packages/multiprocess/process.py\", line 314, in _bootstrap\n",
      "    self.run()\n",
      "  File \"/home/kane/code/fyp/venv/lib/python3.10/site-packages/multiprocess/process.py\", line 108, in run\n",
      "    self._target(*self._args, **self._kwargs)\n",
      "  File \"/tmp/ipykernel_331508/3834942049.py\", line 10, in run_model\n",
      "    pred_df = model.main(f'./experiments/model_eval_by_dis/{dis}/k1.csv', k_fold)\n",
      "  File \"/home/kane/code/fyp/models/model8/model.py\", line 102, in main\n",
      "    test_df['Prediction'] = gen_predictions(train_df, test_df, k_fold)\n",
      "  File \"/home/kane/code/fyp/models/model8/model.py\", line 50, in gen_predictions\n",
      "    tt_df = append_test_train(te_div, tr_div)\n",
      "  File \"/home/kane/code/fyp/models/model_utils/utils.py\", line 59, in append_test_train\n",
      "    test.loc[:, 'tid'] = 1\n",
      "  File \"/home/kane/code/fyp/venv/lib/python3.10/site-packages/pandas/core/indexing.py\", line 818, in __setitem__\n",
      "    iloc._setitem_with_indexer(indexer, value, self.name)\n",
      "  File \"/home/kane/code/fyp/venv/lib/python3.10/site-packages/pandas/core/indexing.py\", line 1718, in _setitem_with_indexer\n",
      "    raise ValueError(\n",
      "ValueError: cannot set a frame with no defined index and a scalar\n",
      "/home/kane/code/fyp/models/model_utils/utils.py:46: UserWarning: Geometry is in a geographic CRS. Results from 'centroid' are likely incorrect. Use 'GeoSeries.to_crs()' to re-project geometries to a projected CRS before this operation.\n",
      "\n",
      "  gdf['lon'] = gdf.centroid.x\n",
      "/home/kane/code/fyp/models/model_utils/utils.py:47: UserWarning: Geometry is in a geographic CRS. Results from 'centroid' are likely incorrect. Use 'GeoSeries.to_crs()' to re-project geometries to a projected CRS before this operation.\n",
      "\n",
      "  gdf['lat'] = gdf.centroid.y\n",
      "/home/kane/code/fyp/models/model_utils/utils.py:35: FutureWarning: In a future version, the Index constructor will not infer numeric dtypes when passed object-dtype sequences (matching Series behavior)\n",
      "  df[header] = pd.Categorical(df[header]).codes\n",
      "/home/kane/code/fyp/models/model_utils/utils.py:35: FutureWarning: In a future version, the Index constructor will not infer numeric dtypes when passed object-dtype sequences (matching Series behavior)\n",
      "  df[header] = pd.Categorical(df[header]).codes\n"
     ]
    },
    {
     "name": "stdout",
     "output_type": "stream",
     "text": [
      "predictions written to ./experiments/model_eval_by_dis/Rajbari/m11.test.csv\n",
      "evaluation written to ./experiments/model_eval_by_dis/Rajbari/m11.eval.csv\n",
      "predictions written to ./experiments/model_eval_by_dis/Rajbari/m10.test.csv\n",
      "evaluation written to ./experiments/model_eval_by_dis/Rajbari/m10.eval.csv\n",
      "predictions written to ./experiments/model_eval_by_dis/Rajbari/m6.test.csv\n",
      "evaluation written to ./experiments/model_eval_by_dis/Rajbari/m6.eval.csv\n",
      "predictions written to ./experiments/model_eval_by_dis/Rajbari/m9.test.csv\n",
      "evaluation written to ./experiments/model_eval_by_dis/Rajbari/m9.eval.csv\n",
      "predictions written to ./experiments/model_eval_by_dis/Rajbari/m7.test.csv\n",
      "evaluation written to ./experiments/model_eval_by_dis/Rajbari/m7.eval.csv\n",
      "dis 36 / 63\n",
      "predictions written to ./experiments/model_eval_by_dis/Barguna/m5.test.csv\n",
      "evaluation written to ./experiments/model_eval_by_dis/Barguna/m5.eval.csv\n",
      "predictions written to ./experiments/model_eval_by_dis/Barguna/m3.test.csv\n",
      "evaluation written to ./experiments/model_eval_by_dis/Barguna/m3.eval.csv\n",
      "predictions written to ./experiments/model_eval_by_dis/Barguna/m4.test.csv\n",
      "evaluation written to ./experiments/model_eval_by_dis/Barguna/m4.eval.csv\n"
     ]
    },
    {
     "name": "stderr",
     "output_type": "stream",
     "text": [
      "/home/kane/code/fyp/models/model_utils/utils.py:46: UserWarning: Geometry is in a geographic CRS. Results from 'centroid' are likely incorrect. Use 'GeoSeries.to_crs()' to re-project geometries to a projected CRS before this operation.\n",
      "\n",
      "  gdf['lon'] = gdf.centroid.x\n",
      "/home/kane/code/fyp/models/model_utils/utils.py:47: UserWarning: Geometry is in a geographic CRS. Results from 'centroid' are likely incorrect. Use 'GeoSeries.to_crs()' to re-project geometries to a projected CRS before this operation.\n",
      "\n",
      "  gdf['lat'] = gdf.centroid.y\n",
      "/home/kane/code/fyp/models/model_utils/utils.py:46: UserWarning: Geometry is in a geographic CRS. Results from 'centroid' are likely incorrect. Use 'GeoSeries.to_crs()' to re-project geometries to a projected CRS before this operation.\n",
      "\n",
      "  gdf['lon'] = gdf.centroid.x\n",
      "/home/kane/code/fyp/models/model_utils/utils.py:47: UserWarning: Geometry is in a geographic CRS. Results from 'centroid' are likely incorrect. Use 'GeoSeries.to_crs()' to re-project geometries to a projected CRS before this operation.\n",
      "\n",
      "  gdf['lat'] = gdf.centroid.y\n",
      "Process Process-393:\n",
      "Traceback (most recent call last):\n",
      "  File \"/home/kane/code/fyp/venv/lib/python3.10/site-packages/multiprocess/process.py\", line 314, in _bootstrap\n",
      "    self.run()\n",
      "  File \"/home/kane/code/fyp/venv/lib/python3.10/site-packages/multiprocess/process.py\", line 108, in run\n",
      "    self._target(*self._args, **self._kwargs)\n",
      "  File \"/tmp/ipykernel_331508/3834942049.py\", line 10, in run_model\n",
      "    pred_df = model.main(f'./experiments/model_eval_by_dis/{dis}/k1.csv', k_fold)\n",
      "  File \"/home/kane/code/fyp/models/model8/model.py\", line 102, in main\n",
      "    test_df['Prediction'] = gen_predictions(train_df, test_df, k_fold)\n",
      "  File \"/home/kane/code/fyp/models/model8/model.py\", line 50, in gen_predictions\n",
      "    tt_df = append_test_train(te_div, tr_div)\n",
      "  File \"/home/kane/code/fyp/models/model_utils/utils.py\", line 59, in append_test_train\n",
      "    test.loc[:, 'tid'] = 1\n",
      "  File \"/home/kane/code/fyp/venv/lib/python3.10/site-packages/pandas/core/indexing.py\", line 818, in __setitem__\n",
      "    iloc._setitem_with_indexer(indexer, value, self.name)\n",
      "  File \"/home/kane/code/fyp/venv/lib/python3.10/site-packages/pandas/core/indexing.py\", line 1718, in _setitem_with_indexer\n",
      "    raise ValueError(\n",
      "ValueError: cannot set a frame with no defined index and a scalar\n",
      "/home/kane/code/fyp/models/model_utils/utils.py:35: FutureWarning: In a future version, the Index constructor will not infer numeric dtypes when passed object-dtype sequences (matching Series behavior)\n",
      "  df[header] = pd.Categorical(df[header]).codes\n",
      "/home/kane/code/fyp/models/model_utils/utils.py:35: FutureWarning: In a future version, the Index constructor will not infer numeric dtypes when passed object-dtype sequences (matching Series behavior)\n",
      "  df[header] = pd.Categorical(df[header]).codes\n",
      "/home/kane/code/fyp/models/model_utils/utils.py:35: FutureWarning: In a future version, the Index constructor will not infer numeric dtypes when passed object-dtype sequences (matching Series behavior)\n",
      "  df[header] = pd.Categorical(df[header]).codes\n",
      "/home/kane/code/fyp/models/model_utils/utils.py:35: FutureWarning: In a future version, the Index constructor will not infer numeric dtypes when passed object-dtype sequences (matching Series behavior)\n",
      "  df[header] = pd.Categorical(df[header]).codes\n"
     ]
    },
    {
     "name": "stdout",
     "output_type": "stream",
     "text": [
      "predictions written to ./experiments/model_eval_by_dis/Barguna/m11.test.csv\n",
      "evaluation written to ./experiments/model_eval_by_dis/Barguna/m11.eval.csv\n",
      "predictions written to ./experiments/model_eval_by_dis/Barguna/m10.test.csv\n",
      "evaluation written to ./experiments/model_eval_by_dis/Barguna/m10.eval.csv\n",
      "predictions written to ./experiments/model_eval_by_dis/Barguna/m6.test.csv\n",
      "evaluation written to ./experiments/model_eval_by_dis/Barguna/m6.eval.csv\n",
      "predictions written to ./experiments/model_eval_by_dis/Barguna/m9.test.csv\n",
      "evaluation written to ./experiments/model_eval_by_dis/Barguna/m9.eval.csv\n"
     ]
    },
    {
     "name": "stderr",
     "output_type": "stream",
     "text": [
      "/home/kane/code/fyp/venv/lib/python3.10/site-packages/sklearn/metrics/_classification.py:1344: UndefinedMetricWarning: Precision is ill-defined and being set to 0.0 due to no predicted samples. Use `zero_division` parameter to control this behavior.\n",
      "  _warn_prf(average, modifier, msg_start, len(result))\n"
     ]
    },
    {
     "name": "stdout",
     "output_type": "stream",
     "text": [
      "predictions written to ./experiments/model_eval_by_dis/Barguna/m7.test.csv\n",
      "evaluation written to ./experiments/model_eval_by_dis/Barguna/m7.eval.csv\n",
      "dis 37 / 63\n",
      "predictions written to ./experiments/model_eval_by_dis/Naogaon/m5.test.csv\n",
      "evaluation written to ./experiments/model_eval_by_dis/Naogaon/m5.eval.csv\n"
     ]
    },
    {
     "name": "stderr",
     "output_type": "stream",
     "text": [
      "/home/kane/code/fyp/venv/lib/python3.10/site-packages/sklearn/metrics/_classification.py:1344: UndefinedMetricWarning: Precision is ill-defined and being set to 0.0 due to no predicted samples. Use `zero_division` parameter to control this behavior.\n",
      "  _warn_prf(average, modifier, msg_start, len(result))\n"
     ]
    },
    {
     "name": "stdout",
     "output_type": "stream",
     "text": [
      "predictions written to ./experiments/model_eval_by_dis/Naogaon/m4.test.csv"
     ]
    },
    {
     "name": "stderr",
     "output_type": "stream",
     "text": [
      "/home/kane/code/fyp/venv/lib/python3.10/site-packages/sklearn/metrics/_classification.py:1344: UndefinedMetricWarning: Precision is ill-defined and being set to 0.0 due to no predicted samples. Use `zero_division` parameter to control this behavior.\n",
      "  _warn_prf(average, modifier, msg_start, len(result))\n"
     ]
    },
    {
     "name": "stdout",
     "output_type": "stream",
     "text": [
      "\n",
      "evaluation written to ./experiments/model_eval_by_dis/Naogaon/m4.eval.csvpredictions written to ./experiments/model_eval_by_dis/Naogaon/m3.test.csv\n",
      "\n",
      "evaluation written to ./experiments/model_eval_by_dis/Naogaon/m3.eval.csv\n"
     ]
    },
    {
     "name": "stderr",
     "output_type": "stream",
     "text": [
      "Process Process-402:\n",
      "Traceback (most recent call last):\n",
      "  File \"/home/kane/code/fyp/venv/lib/python3.10/site-packages/multiprocess/process.py\", line 314, in _bootstrap\n",
      "    self.run()\n",
      "  File \"/home/kane/code/fyp/venv/lib/python3.10/site-packages/multiprocess/process.py\", line 108, in run\n",
      "    self._target(*self._args, **self._kwargs)\n",
      "  File \"/tmp/ipykernel_331508/3834942049.py\", line 10, in run_model\n",
      "    pred_df = model.main(f'./experiments/model_eval_by_dis/{dis}/k1.csv', k_fold)\n",
      "  File \"/home/kane/code/fyp/models/model8/model.py\", line 102, in main\n",
      "    test_df['Prediction'] = gen_predictions(train_df, test_df, k_fold)\n",
      "  File \"/home/kane/code/fyp/models/model8/model.py\", line 50, in gen_predictions\n",
      "    tt_df = append_test_train(te_div, tr_div)\n",
      "  File \"/home/kane/code/fyp/models/model_utils/utils.py\", line 59, in append_test_train\n",
      "    test.loc[:, 'tid'] = 1\n",
      "  File \"/home/kane/code/fyp/venv/lib/python3.10/site-packages/pandas/core/indexing.py\", line 818, in __setitem__\n",
      "    iloc._setitem_with_indexer(indexer, value, self.name)\n",
      "  File \"/home/kane/code/fyp/venv/lib/python3.10/site-packages/pandas/core/indexing.py\", line 1718, in _setitem_with_indexer\n",
      "    raise ValueError(\n",
      "ValueError: cannot set a frame with no defined index and a scalar\n",
      "/home/kane/code/fyp/models/model_utils/utils.py:46: UserWarning: Geometry is in a geographic CRS. Results from 'centroid' are likely incorrect. Use 'GeoSeries.to_crs()' to re-project geometries to a projected CRS before this operation.\n",
      "\n",
      "  gdf['lon'] = gdf.centroid.x\n",
      "/home/kane/code/fyp/models/model_utils/utils.py:46: UserWarning: Geometry is in a geographic CRS. Results from 'centroid' are likely incorrect. Use 'GeoSeries.to_crs()' to re-project geometries to a projected CRS before this operation.\n",
      "\n",
      "  gdf['lon'] = gdf.centroid.x\n",
      "/home/kane/code/fyp/models/model_utils/utils.py:47: UserWarning: Geometry is in a geographic CRS. Results from 'centroid' are likely incorrect. Use 'GeoSeries.to_crs()' to re-project geometries to a projected CRS before this operation.\n",
      "\n",
      "  gdf['lat'] = gdf.centroid.y\n",
      "/home/kane/code/fyp/models/model_utils/utils.py:47: UserWarning: Geometry is in a geographic CRS. Results from 'centroid' are likely incorrect. Use 'GeoSeries.to_crs()' to re-project geometries to a projected CRS before this operation.\n",
      "\n",
      "  gdf['lat'] = gdf.centroid.y\n",
      "/home/kane/code/fyp/models/model_utils/utils.py:35: FutureWarning: In a future version, the Index constructor will not infer numeric dtypes when passed object-dtype sequences (matching Series behavior)\n",
      "  df[header] = pd.Categorical(df[header]).codes\n",
      "/home/kane/code/fyp/models/model_utils/utils.py:35: FutureWarning: In a future version, the Index constructor will not infer numeric dtypes when passed object-dtype sequences (matching Series behavior)\n",
      "  df[header] = pd.Categorical(df[header]).codes\n",
      "/home/kane/code/fyp/models/model_utils/utils.py:35: FutureWarning: In a future version, the Index constructor will not infer numeric dtypes when passed object-dtype sequences (matching Series behavior)\n",
      "  df[header] = pd.Categorical(df[header]).codes\n",
      "/home/kane/code/fyp/models/model_utils/utils.py:35: FutureWarning: In a future version, the Index constructor will not infer numeric dtypes when passed object-dtype sequences (matching Series behavior)\n",
      "  df[header] = pd.Categorical(df[header]).codes\n"
     ]
    },
    {
     "name": "stdout",
     "output_type": "stream",
     "text": [
      "predictions written to ./experiments/model_eval_by_dis/Naogaon/m11.test.csv\n",
      "evaluation written to ./experiments/model_eval_by_dis/Naogaon/m11.eval.csv\n",
      "predictions written to ./experiments/model_eval_by_dis/Naogaon/m10.test.csv\n",
      "evaluation written to ./experiments/model_eval_by_dis/Naogaon/m10.eval.csv\n",
      "predictions written to ./experiments/model_eval_by_dis/Naogaon/m6.test.csv\n",
      "evaluation written to ./experiments/model_eval_by_dis/Naogaon/m6.eval.csv\n",
      "predictions written to ./experiments/model_eval_by_dis/Naogaon/m9.test.csv\n",
      "evaluation written to ./experiments/model_eval_by_dis/Naogaon/m9.eval.csv\n",
      "predictions written to ./experiments/model_eval_by_dis/Naogaon/m7.test.csv\n",
      "evaluation written to ./experiments/model_eval_by_dis/Naogaon/m7.eval.csv\n",
      "dis 38 / 63\n",
      "predictions written to ./experiments/model_eval_by_dis/Kurigram/m5.test.csv\n",
      "evaluation written to ./experiments/model_eval_by_dis/Kurigram/m5.eval.csv\n"
     ]
    },
    {
     "name": "stderr",
     "output_type": "stream",
     "text": [
      "/home/kane/code/fyp/venv/lib/python3.10/site-packages/sklearn/metrics/_classification.py:1344: UndefinedMetricWarning: Precision is ill-defined and being set to 0.0 due to no predicted samples. Use `zero_division` parameter to control this behavior.\n",
      "  _warn_prf(average, modifier, msg_start, len(result))\n"
     ]
    },
    {
     "name": "stdout",
     "output_type": "stream",
     "text": [
      "predictions written to ./experiments/model_eval_by_dis/Kurigram/m3.test.csv\n",
      "evaluation written to ./experiments/model_eval_by_dis/Kurigram/m3.eval.csv\n"
     ]
    },
    {
     "name": "stderr",
     "output_type": "stream",
     "text": [
      "/home/kane/code/fyp/venv/lib/python3.10/site-packages/sklearn/metrics/_classification.py:1344: UndefinedMetricWarning: Precision is ill-defined and being set to 0.0 due to no predicted samples. Use `zero_division` parameter to control this behavior.\n",
      "  _warn_prf(average, modifier, msg_start, len(result))\n"
     ]
    },
    {
     "name": "stdout",
     "output_type": "stream",
     "text": [
      "predictions written to ./experiments/model_eval_by_dis/Kurigram/m4.test.csv\n",
      "evaluation written to ./experiments/model_eval_by_dis/Kurigram/m4.eval.csv\n"
     ]
    },
    {
     "name": "stderr",
     "output_type": "stream",
     "text": [
      "Process Process-411:\n",
      "Traceback (most recent call last):\n",
      "  File \"/home/kane/code/fyp/venv/lib/python3.10/site-packages/multiprocess/process.py\", line 314, in _bootstrap\n",
      "    self.run()\n",
      "  File \"/home/kane/code/fyp/venv/lib/python3.10/site-packages/multiprocess/process.py\", line 108, in run\n",
      "    self._target(*self._args, **self._kwargs)\n",
      "  File \"/tmp/ipykernel_331508/3834942049.py\", line 10, in run_model\n",
      "    pred_df = model.main(f'./experiments/model_eval_by_dis/{dis}/k1.csv', k_fold)\n",
      "  File \"/home/kane/code/fyp/models/model8/model.py\", line 102, in main\n",
      "    test_df['Prediction'] = gen_predictions(train_df, test_df, k_fold)\n",
      "  File \"/home/kane/code/fyp/models/model8/model.py\", line 50, in gen_predictions\n",
      "    tt_df = append_test_train(te_div, tr_div)\n",
      "  File \"/home/kane/code/fyp/models/model_utils/utils.py\", line 59, in append_test_train\n",
      "    test.loc[:, 'tid'] = 1\n",
      "  File \"/home/kane/code/fyp/venv/lib/python3.10/site-packages/pandas/core/indexing.py\", line 818, in __setitem__\n",
      "    iloc._setitem_with_indexer(indexer, value, self.name)\n",
      "  File \"/home/kane/code/fyp/venv/lib/python3.10/site-packages/pandas/core/indexing.py\", line 1718, in _setitem_with_indexer\n",
      "    raise ValueError(\n",
      "ValueError: cannot set a frame with no defined index and a scalar\n",
      "/home/kane/code/fyp/models/model_utils/utils.py:46: UserWarning: Geometry is in a geographic CRS. Results from 'centroid' are likely incorrect. Use 'GeoSeries.to_crs()' to re-project geometries to a projected CRS before this operation.\n",
      "\n",
      "  gdf['lon'] = gdf.centroid.x\n",
      "/home/kane/code/fyp/models/model_utils/utils.py:47: UserWarning: Geometry is in a geographic CRS. Results from 'centroid' are likely incorrect. Use 'GeoSeries.to_crs()' to re-project geometries to a projected CRS before this operation.\n",
      "\n",
      "  gdf['lat'] = gdf.centroid.y\n",
      "/home/kane/code/fyp/models/model_utils/utils.py:46: UserWarning: Geometry is in a geographic CRS. Results from 'centroid' are likely incorrect. Use 'GeoSeries.to_crs()' to re-project geometries to a projected CRS before this operation.\n",
      "\n",
      "  gdf['lon'] = gdf.centroid.x\n",
      "/home/kane/code/fyp/models/model_utils/utils.py:35: FutureWarning: In a future version, the Index constructor will not infer numeric dtypes when passed object-dtype sequences (matching Series behavior)\n",
      "  df[header] = pd.Categorical(df[header]).codes\n",
      "/home/kane/code/fyp/models/model_utils/utils.py:35: FutureWarning: In a future version, the Index constructor will not infer numeric dtypes when passed object-dtype sequences (matching Series behavior)\n",
      "  df[header] = pd.Categorical(df[header]).codes\n",
      "/home/kane/code/fyp/models/model_utils/utils.py:35: FutureWarning: In a future version, the Index constructor will not infer numeric dtypes when passed object-dtype sequences (matching Series behavior)\n",
      "  df[header] = pd.Categorical(df[header]).codes\n",
      "/home/kane/code/fyp/models/model_utils/utils.py:47: UserWarning: Geometry is in a geographic CRS. Results from 'centroid' are likely incorrect. Use 'GeoSeries.to_crs()' to re-project geometries to a projected CRS before this operation.\n",
      "\n",
      "  gdf['lat'] = gdf.centroid.y\n",
      "/home/kane/code/fyp/models/model_utils/utils.py:35: FutureWarning: In a future version, the Index constructor will not infer numeric dtypes when passed object-dtype sequences (matching Series behavior)\n",
      "  df[header] = pd.Categorical(df[header]).codes\n"
     ]
    },
    {
     "name": "stdout",
     "output_type": "stream",
     "text": [
      "predictions written to ./experiments/model_eval_by_dis/Kurigram/m11.test.csv\n",
      "evaluation written to ./experiments/model_eval_by_dis/Kurigram/m11.eval.csv\n",
      "predictions written to ./experiments/model_eval_by_dis/Kurigram/m10.test.csv\n",
      "evaluation written to ./experiments/model_eval_by_dis/Kurigram/m10.eval.csv\n",
      "predictions written to ./experiments/model_eval_by_dis/Kurigram/m6.test.csv\n",
      "evaluation written to ./experiments/model_eval_by_dis/Kurigram/m6.eval.csv\n",
      "predictions written to ./experiments/model_eval_by_dis/Kurigram/m9.test.csv\n",
      "evaluation written to ./experiments/model_eval_by_dis/Kurigram/m9.eval.csv\n",
      "predictions written to ./experiments/model_eval_by_dis/Kurigram/m7.test.csv\n",
      "evaluation written to ./experiments/model_eval_by_dis/Kurigram/m7.eval.csv\n",
      "dis 39 / 63\n"
     ]
    },
    {
     "name": "stderr",
     "output_type": "stream",
     "text": [
      "/home/kane/code/fyp/venv/lib/python3.10/site-packages/sklearn/metrics/_classification.py:1344: UndefinedMetricWarning: Recall is ill-defined and being set to 0.0 due to no true samples. Use `zero_division` parameter to control this behavior.\n",
      "  _warn_prf(average, modifier, msg_start, len(result))\n"
     ]
    },
    {
     "name": "stdout",
     "output_type": "stream",
     "text": [
      "predictions written to ./experiments/model_eval_by_dis/Cox'S Bazar/m5.test.csv\n",
      "evaluation written to ./experiments/model_eval_by_dis/Cox'S Bazar/m5.eval.csv\n"
     ]
    },
    {
     "name": "stderr",
     "output_type": "stream",
     "text": [
      "/home/kane/code/fyp/venv/lib/python3.10/site-packages/sklearn/metrics/_classification.py:1344: UndefinedMetricWarning: Precision is ill-defined and being set to 0.0 due to no predicted samples. Use `zero_division` parameter to control this behavior.\n",
      "  _warn_prf(average, modifier, msg_start, len(result))\n",
      "/home/kane/code/fyp/venv/lib/python3.10/site-packages/sklearn/metrics/_classification.py:1344: UndefinedMetricWarning: Recall is ill-defined and being set to 0.0 due to no true samples. Use `zero_division` parameter to control this behavior.\n",
      "  _warn_prf(average, modifier, msg_start, len(result))\n",
      "/home/kane/code/fyp/venv/lib/python3.10/site-packages/sklearn/metrics/_classification.py:1609: UndefinedMetricWarning: F-score is ill-defined and being set to 0.0 due to no true nor predicted samples. Use `zero_division` parameter to control this behavior.\n",
      "  _warn_prf(average, \"true nor predicted\", \"F-score is\", len(true_sum))\n"
     ]
    },
    {
     "name": "stdout",
     "output_type": "stream",
     "text": [
      "predictions written to ./experiments/model_eval_by_dis/Cox'S Bazar/m3.test.csv\n",
      "evaluation written to ./experiments/model_eval_by_dis/Cox'S Bazar/m3.eval.csv\n"
     ]
    },
    {
     "name": "stderr",
     "output_type": "stream",
     "text": [
      "/home/kane/code/fyp/venv/lib/python3.10/site-packages/sklearn/metrics/_classification.py:1344: UndefinedMetricWarning: Recall is ill-defined and being set to 0.0 due to no true samples. Use `zero_division` parameter to control this behavior.\n",
      "  _warn_prf(average, modifier, msg_start, len(result))\n"
     ]
    },
    {
     "name": "stdout",
     "output_type": "stream",
     "text": [
      "predictions written to ./experiments/model_eval_by_dis/Cox'S Bazar/m4.test.csv\n",
      "evaluation written to ./experiments/model_eval_by_dis/Cox'S Bazar/m4.eval.csv\n"
     ]
    },
    {
     "name": "stderr",
     "output_type": "stream",
     "text": [
      "Process Process-420:\n",
      "Traceback (most recent call last):\n",
      "  File \"/home/kane/code/fyp/venv/lib/python3.10/site-packages/multiprocess/process.py\", line 314, in _bootstrap\n",
      "    self.run()\n",
      "  File \"/home/kane/code/fyp/venv/lib/python3.10/site-packages/multiprocess/process.py\", line 108, in run\n",
      "    self._target(*self._args, **self._kwargs)\n",
      "  File \"/tmp/ipykernel_331508/3834942049.py\", line 10, in run_model\n",
      "    pred_df = model.main(f'./experiments/model_eval_by_dis/{dis}/k1.csv', k_fold)\n",
      "  File \"/home/kane/code/fyp/models/model8/model.py\", line 102, in main\n",
      "    test_df['Prediction'] = gen_predictions(train_df, test_df, k_fold)\n",
      "  File \"/home/kane/code/fyp/models/model8/model.py\", line 50, in gen_predictions\n",
      "    tt_df = append_test_train(te_div, tr_div)\n",
      "  File \"/home/kane/code/fyp/models/model_utils/utils.py\", line 59, in append_test_train\n",
      "    test.loc[:, 'tid'] = 1\n",
      "  File \"/home/kane/code/fyp/venv/lib/python3.10/site-packages/pandas/core/indexing.py\", line 818, in __setitem__\n",
      "    iloc._setitem_with_indexer(indexer, value, self.name)\n",
      "  File \"/home/kane/code/fyp/venv/lib/python3.10/site-packages/pandas/core/indexing.py\", line 1718, in _setitem_with_indexer\n",
      "    raise ValueError(\n",
      "ValueError: cannot set a frame with no defined index and a scalar\n",
      "/home/kane/code/fyp/models/model_utils/utils.py:46: UserWarning: Geometry is in a geographic CRS. Results from 'centroid' are likely incorrect. Use 'GeoSeries.to_crs()' to re-project geometries to a projected CRS before this operation.\n",
      "\n",
      "  gdf['lon'] = gdf.centroid.x\n",
      "/home/kane/code/fyp/models/model_utils/utils.py:47: UserWarning: Geometry is in a geographic CRS. Results from 'centroid' are likely incorrect. Use 'GeoSeries.to_crs()' to re-project geometries to a projected CRS before this operation.\n",
      "\n",
      "  gdf['lat'] = gdf.centroid.y\n",
      "/home/kane/code/fyp/models/model_utils/utils.py:46: UserWarning: Geometry is in a geographic CRS. Results from 'centroid' are likely incorrect. Use 'GeoSeries.to_crs()' to re-project geometries to a projected CRS before this operation.\n",
      "\n",
      "  gdf['lon'] = gdf.centroid.x\n",
      "/home/kane/code/fyp/models/model_utils/utils.py:35: FutureWarning: In a future version, the Index constructor will not infer numeric dtypes when passed object-dtype sequences (matching Series behavior)\n",
      "  df[header] = pd.Categorical(df[header]).codes\n",
      "/home/kane/code/fyp/models/model_utils/utils.py:35: FutureWarning: In a future version, the Index constructor will not infer numeric dtypes when passed object-dtype sequences (matching Series behavior)\n",
      "  df[header] = pd.Categorical(df[header]).codes\n",
      "/home/kane/code/fyp/models/model_utils/utils.py:47: UserWarning: Geometry is in a geographic CRS. Results from 'centroid' are likely incorrect. Use 'GeoSeries.to_crs()' to re-project geometries to a projected CRS before this operation.\n",
      "\n",
      "  gdf['lat'] = gdf.centroid.y\n",
      "/home/kane/code/fyp/models/model_utils/utils.py:35: FutureWarning: In a future version, the Index constructor will not infer numeric dtypes when passed object-dtype sequences (matching Series behavior)\n",
      "  df[header] = pd.Categorical(df[header]).codes\n",
      "/home/kane/code/fyp/models/model_utils/utils.py:35: FutureWarning: In a future version, the Index constructor will not infer numeric dtypes when passed object-dtype sequences (matching Series behavior)\n",
      "  df[header] = pd.Categorical(df[header]).codes\n",
      "/home/kane/code/fyp/venv/lib/python3.10/site-packages/sklearn/metrics/_classification.py:1344: UndefinedMetricWarning: Precision is ill-defined and being set to 0.0 due to no predicted samples. Use `zero_division` parameter to control this behavior.\n",
      "  _warn_prf(average, modifier, msg_start, len(result))\n",
      "/home/kane/code/fyp/venv/lib/python3.10/site-packages/sklearn/metrics/_classification.py:1344: UndefinedMetricWarning: Recall is ill-defined and being set to 0.0 due to no true samples. Use `zero_division` parameter to control this behavior.\n",
      "  _warn_prf(average, modifier, msg_start, len(result))\n",
      "/home/kane/code/fyp/venv/lib/python3.10/site-packages/sklearn/metrics/_classification.py:1609: UndefinedMetricWarning: F-score is ill-defined and being set to 0.0 due to no true nor predicted samples. Use `zero_division` parameter to control this behavior.\n",
      "  _warn_prf(average, \"true nor predicted\", \"F-score is\", len(true_sum))\n"
     ]
    },
    {
     "name": "stdout",
     "output_type": "stream",
     "text": [
      "predictions written to ./experiments/model_eval_by_dis/Cox'S Bazar/m11.test.csv\n",
      "evaluation written to ./experiments/model_eval_by_dis/Cox'S Bazar/m11.eval.csv\n"
     ]
    },
    {
     "name": "stderr",
     "output_type": "stream",
     "text": [
      "/home/kane/code/fyp/venv/lib/python3.10/site-packages/sklearn/metrics/_classification.py:1344: UndefinedMetricWarning: Precision is ill-defined and being set to 0.0 due to no predicted samples. Use `zero_division` parameter to control this behavior.\n",
      "  _warn_prf(average, modifier, msg_start, len(result))\n",
      "/home/kane/code/fyp/venv/lib/python3.10/site-packages/sklearn/metrics/_classification.py:1344: UndefinedMetricWarning: Recall is ill-defined and being set to 0.0 due to no true samples. Use `zero_division` parameter to control this behavior.\n",
      "  _warn_prf(average, modifier, msg_start, len(result))\n",
      "/home/kane/code/fyp/venv/lib/python3.10/site-packages/sklearn/metrics/_classification.py:1609: UndefinedMetricWarning: F-score is ill-defined and being set to 0.0 due to no true nor predicted samples. Use `zero_division` parameter to control this behavior.\n",
      "  _warn_prf(average, \"true nor predicted\", \"F-score is\", len(true_sum))\n"
     ]
    },
    {
     "name": "stdout",
     "output_type": "stream",
     "text": [
      "predictions written to ./experiments/model_eval_by_dis/Cox'S Bazar/m10.test.csv\n",
      "evaluation written to ./experiments/model_eval_by_dis/Cox'S Bazar/m10.eval.csv\n"
     ]
    },
    {
     "name": "stderr",
     "output_type": "stream",
     "text": [
      "/home/kane/code/fyp/venv/lib/python3.10/site-packages/sklearn/metrics/_classification.py:1344: UndefinedMetricWarning: Recall is ill-defined and being set to 0.0 due to no true samples. Use `zero_division` parameter to control this behavior.\n",
      "  _warn_prf(average, modifier, msg_start, len(result))\n"
     ]
    },
    {
     "name": "stdout",
     "output_type": "stream",
     "text": [
      "predictions written to ./experiments/model_eval_by_dis/Cox'S Bazar/m6.test.csv\n",
      "evaluation written to ./experiments/model_eval_by_dis/Cox'S Bazar/m6.eval.csv\n"
     ]
    },
    {
     "name": "stderr",
     "output_type": "stream",
     "text": [
      "/home/kane/code/fyp/venv/lib/python3.10/site-packages/sklearn/metrics/_classification.py:1344: UndefinedMetricWarning: Recall is ill-defined and being set to 0.0 due to no true samples. Use `zero_division` parameter to control this behavior.\n",
      "  _warn_prf(average, modifier, msg_start, len(result))\n"
     ]
    },
    {
     "name": "stdout",
     "output_type": "stream",
     "text": [
      "predictions written to ./experiments/model_eval_by_dis/Cox'S Bazar/m9.test.csv\n",
      "evaluation written to ./experiments/model_eval_by_dis/Cox'S Bazar/m9.eval.csv\n"
     ]
    },
    {
     "name": "stderr",
     "output_type": "stream",
     "text": [
      "/home/kane/code/fyp/venv/lib/python3.10/site-packages/sklearn/metrics/_classification.py:1344: UndefinedMetricWarning: Precision is ill-defined and being set to 0.0 due to no predicted samples. Use `zero_division` parameter to control this behavior.\n",
      "  _warn_prf(average, modifier, msg_start, len(result))\n",
      "/home/kane/code/fyp/venv/lib/python3.10/site-packages/sklearn/metrics/_classification.py:1344: UndefinedMetricWarning: Recall is ill-defined and being set to 0.0 due to no true samples. Use `zero_division` parameter to control this behavior.\n",
      "  _warn_prf(average, modifier, msg_start, len(result))\n",
      "/home/kane/code/fyp/venv/lib/python3.10/site-packages/sklearn/metrics/_classification.py:1609: UndefinedMetricWarning: F-score is ill-defined and being set to 0.0 due to no true nor predicted samples. Use `zero_division` parameter to control this behavior.\n",
      "  _warn_prf(average, \"true nor predicted\", \"F-score is\", len(true_sum))\n"
     ]
    },
    {
     "name": "stdout",
     "output_type": "stream",
     "text": [
      "predictions written to ./experiments/model_eval_by_dis/Cox'S Bazar/m7.test.csv\n",
      "evaluation written to ./experiments/model_eval_by_dis/Cox'S Bazar/m7.eval.csv\n",
      "dis 40 / 63\n",
      "predictions written to ./experiments/model_eval_by_dis/Rajshahi/m5.test.csv\n",
      "evaluation written to ./experiments/model_eval_by_dis/Rajshahi/m5.eval.csv\n"
     ]
    },
    {
     "name": "stderr",
     "output_type": "stream",
     "text": [
      "/home/kane/code/fyp/venv/lib/python3.10/site-packages/sklearn/metrics/_classification.py:1344: UndefinedMetricWarning: Precision is ill-defined and being set to 0.0 due to no predicted samples. Use `zero_division` parameter to control this behavior.\n",
      "  _warn_prf(average, modifier, msg_start, len(result))\n"
     ]
    },
    {
     "name": "stdout",
     "output_type": "stream",
     "text": [
      "predictions written to ./experiments/model_eval_by_dis/Rajshahi/m3.test.csv\n",
      "evaluation written to ./experiments/model_eval_by_dis/Rajshahi/m3.eval.csv\n"
     ]
    },
    {
     "name": "stderr",
     "output_type": "stream",
     "text": [
      "/home/kane/code/fyp/venv/lib/python3.10/site-packages/sklearn/metrics/_classification.py:1344: UndefinedMetricWarning: Precision is ill-defined and being set to 0.0 due to no predicted samples. Use `zero_division` parameter to control this behavior.\n",
      "  _warn_prf(average, modifier, msg_start, len(result))\n"
     ]
    },
    {
     "name": "stdout",
     "output_type": "stream",
     "text": [
      "predictions written to ./experiments/model_eval_by_dis/Rajshahi/m4.test.csv\n",
      "evaluation written to ./experiments/model_eval_by_dis/Rajshahi/m4.eval.csv\n"
     ]
    },
    {
     "name": "stderr",
     "output_type": "stream",
     "text": [
      "/home/kane/code/fyp/models/model_utils/utils.py:46: UserWarning: Geometry is in a geographic CRS. Results from 'centroid' are likely incorrect. Use 'GeoSeries.to_crs()' to re-project geometries to a projected CRS before this operation.\n",
      "\n",
      "  gdf['lon'] = gdf.centroid.x\n",
      "/home/kane/code/fyp/models/model_utils/utils.py:47: UserWarning: Geometry is in a geographic CRS. Results from 'centroid' are likely incorrect. Use 'GeoSeries.to_crs()' to re-project geometries to a projected CRS before this operation.\n",
      "\n",
      "  gdf['lat'] = gdf.centroid.y\n",
      "/home/kane/code/fyp/models/model_utils/utils.py:35: FutureWarning: In a future version, the Index constructor will not infer numeric dtypes when passed object-dtype sequences (matching Series behavior)\n",
      "  df[header] = pd.Categorical(df[header]).codes\n",
      "/home/kane/code/fyp/models/model_utils/utils.py:35: FutureWarning: In a future version, the Index constructor will not infer numeric dtypes when passed object-dtype sequences (matching Series behavior)\n",
      "  df[header] = pd.Categorical(df[header]).codes\n",
      "/home/kane/code/fyp/models/model_utils/utils.py:46: UserWarning: Geometry is in a geographic CRS. Results from 'centroid' are likely incorrect. Use 'GeoSeries.to_crs()' to re-project geometries to a projected CRS before this operation.\n",
      "\n",
      "  gdf['lon'] = gdf.centroid.x\n",
      "/home/kane/code/fyp/models/model_utils/utils.py:47: UserWarning: Geometry is in a geographic CRS. Results from 'centroid' are likely incorrect. Use 'GeoSeries.to_crs()' to re-project geometries to a projected CRS before this operation.\n",
      "\n",
      "  gdf['lat'] = gdf.centroid.y\n",
      "Process Process-429:\n",
      "Traceback (most recent call last):\n",
      "  File \"/home/kane/code/fyp/venv/lib/python3.10/site-packages/multiprocess/process.py\", line 314, in _bootstrap\n",
      "    self.run()\n",
      "  File \"/home/kane/code/fyp/venv/lib/python3.10/site-packages/multiprocess/process.py\", line 108, in run\n",
      "    self._target(*self._args, **self._kwargs)\n",
      "  File \"/tmp/ipykernel_331508/3834942049.py\", line 10, in run_model\n",
      "    pred_df = model.main(f'./experiments/model_eval_by_dis/{dis}/k1.csv', k_fold)\n",
      "  File \"/home/kane/code/fyp/models/model8/model.py\", line 102, in main\n",
      "    test_df['Prediction'] = gen_predictions(train_df, test_df, k_fold)\n",
      "  File \"/home/kane/code/fyp/models/model8/model.py\", line 50, in gen_predictions\n",
      "    tt_df = append_test_train(te_div, tr_div)\n",
      "  File \"/home/kane/code/fyp/models/model_utils/utils.py\", line 59, in append_test_train\n",
      "    test.loc[:, 'tid'] = 1\n",
      "  File \"/home/kane/code/fyp/venv/lib/python3.10/site-packages/pandas/core/indexing.py\", line 818, in __setitem__\n",
      "    iloc._setitem_with_indexer(indexer, value, self.name)\n",
      "  File \"/home/kane/code/fyp/venv/lib/python3.10/site-packages/pandas/core/indexing.py\", line 1718, in _setitem_with_indexer\n",
      "    raise ValueError(\n",
      "ValueError: cannot set a frame with no defined index and a scalar\n",
      "/home/kane/code/fyp/models/model_utils/utils.py:35: FutureWarning: In a future version, the Index constructor will not infer numeric dtypes when passed object-dtype sequences (matching Series behavior)\n",
      "  df[header] = pd.Categorical(df[header]).codes\n",
      "/home/kane/code/fyp/models/model_utils/utils.py:35: FutureWarning: In a future version, the Index constructor will not infer numeric dtypes when passed object-dtype sequences (matching Series behavior)\n",
      "  df[header] = pd.Categorical(df[header]).codes\n",
      "/home/kane/code/fyp/venv/lib/python3.10/site-packages/sklearn/metrics/_classification.py:1344: UndefinedMetricWarning: Precision is ill-defined and being set to 0.0 due to no predicted samples. Use `zero_division` parameter to control this behavior.\n",
      "  _warn_prf(average, modifier, msg_start, len(result))\n"
     ]
    },
    {
     "name": "stdout",
     "output_type": "stream",
     "text": [
      "predictions written to ./experiments/model_eval_by_dis/Rajshahi/m11.test.csv\n",
      "evaluation written to ./experiments/model_eval_by_dis/Rajshahi/m11.eval.csv\n",
      "predictions written to ./experiments/model_eval_by_dis/Rajshahi/m10.test.csv\n",
      "evaluation written to ./experiments/model_eval_by_dis/Rajshahi/m10.eval.csv\n",
      "predictions written to ./experiments/model_eval_by_dis/Rajshahi/m6.test.csv\n",
      "evaluation written to ./experiments/model_eval_by_dis/Rajshahi/m6.eval.csv\n",
      "predictions written to ./experiments/model_eval_by_dis/Rajshahi/m9.test.csv\n",
      "evaluation written to ./experiments/model_eval_by_dis/Rajshahi/m9.eval.csv\n",
      "predictions written to ./experiments/model_eval_by_dis/Rajshahi/m7.test.csv\n",
      "evaluation written to ./experiments/model_eval_by_dis/Rajshahi/m7.eval.csv\n",
      "dis 41 / 63\n",
      "predictions written to ./experiments/model_eval_by_dis/Kishoreganj/m5.test.csv\n",
      "evaluation written to ./experiments/model_eval_by_dis/Kishoreganj/m5.eval.csv\n"
     ]
    },
    {
     "name": "stderr",
     "output_type": "stream",
     "text": [
      "/home/kane/code/fyp/venv/lib/python3.10/site-packages/sklearn/metrics/_classification.py:1344: UndefinedMetricWarning: Precision is ill-defined and being set to 0.0 due to no predicted samples. Use `zero_division` parameter to control this behavior.\n",
      "  _warn_prf(average, modifier, msg_start, len(result))\n"
     ]
    },
    {
     "name": "stdout",
     "output_type": "stream",
     "text": [
      "predictions written to ./experiments/model_eval_by_dis/Kishoreganj/m3.test.csv\n",
      "evaluation written to ./experiments/model_eval_by_dis/Kishoreganj/m3.eval.csv\n",
      "predictions written to ./experiments/model_eval_by_dis/Kishoreganj/m4.test.csv\n",
      "evaluation written to ./experiments/model_eval_by_dis/Kishoreganj/m4.eval.csv\n"
     ]
    },
    {
     "name": "stderr",
     "output_type": "stream",
     "text": [
      "/home/kane/code/fyp/models/model_utils/utils.py:46: UserWarning: Geometry is in a geographic CRS. Results from 'centroid' are likely incorrect. Use 'GeoSeries.to_crs()' to re-project geometries to a projected CRS before this operation.\n",
      "\n",
      "  gdf['lon'] = gdf.centroid.x\n",
      "/home/kane/code/fyp/models/model_utils/utils.py:47: UserWarning: Geometry is in a geographic CRS. Results from 'centroid' are likely incorrect. Use 'GeoSeries.to_crs()' to re-project geometries to a projected CRS before this operation.\n",
      "\n",
      "  gdf['lat'] = gdf.centroid.y\n",
      "Process Process-438:\n",
      "Traceback (most recent call last):\n",
      "  File \"/home/kane/code/fyp/venv/lib/python3.10/site-packages/multiprocess/process.py\", line 314, in _bootstrap\n",
      "    self.run()\n",
      "  File \"/home/kane/code/fyp/venv/lib/python3.10/site-packages/multiprocess/process.py\", line 108, in run\n",
      "    self._target(*self._args, **self._kwargs)\n",
      "  File \"/tmp/ipykernel_331508/3834942049.py\", line 10, in run_model\n",
      "    pred_df = model.main(f'./experiments/model_eval_by_dis/{dis}/k1.csv', k_fold)\n",
      "  File \"/home/kane/code/fyp/models/model8/model.py\", line 102, in main\n",
      "    test_df['Prediction'] = gen_predictions(train_df, test_df, k_fold)\n",
      "  File \"/home/kane/code/fyp/models/model8/model.py\", line 50, in gen_predictions\n",
      "    tt_df = append_test_train(te_div, tr_div)\n",
      "  File \"/home/kane/code/fyp/models/model_utils/utils.py\", line 59, in append_test_train\n",
      "    test.loc[:, 'tid'] = 1\n",
      "  File \"/home/kane/code/fyp/venv/lib/python3.10/site-packages/pandas/core/indexing.py\", line 818, in __setitem__\n",
      "    iloc._setitem_with_indexer(indexer, value, self.name)\n",
      "  File \"/home/kane/code/fyp/venv/lib/python3.10/site-packages/pandas/core/indexing.py\", line 1718, in _setitem_with_indexer\n",
      "    raise ValueError(\n",
      "ValueError: cannot set a frame with no defined index and a scalar\n",
      "/home/kane/code/fyp/models/model_utils/utils.py:46: UserWarning: Geometry is in a geographic CRS. Results from 'centroid' are likely incorrect. Use 'GeoSeries.to_crs()' to re-project geometries to a projected CRS before this operation.\n",
      "\n",
      "  gdf['lon'] = gdf.centroid.x\n",
      "/home/kane/code/fyp/models/model_utils/utils.py:47: UserWarning: Geometry is in a geographic CRS. Results from 'centroid' are likely incorrect. Use 'GeoSeries.to_crs()' to re-project geometries to a projected CRS before this operation.\n",
      "\n",
      "  gdf['lat'] = gdf.centroid.y\n",
      "/home/kane/code/fyp/models/model_utils/utils.py:35: FutureWarning: In a future version, the Index constructor will not infer numeric dtypes when passed object-dtype sequences (matching Series behavior)\n",
      "  df[header] = pd.Categorical(df[header]).codes\n",
      "/home/kane/code/fyp/models/model_utils/utils.py:35: FutureWarning: In a future version, the Index constructor will not infer numeric dtypes when passed object-dtype sequences (matching Series behavior)\n",
      "  df[header] = pd.Categorical(df[header]).codes\n",
      "/home/kane/code/fyp/models/model_utils/utils.py:35: FutureWarning: In a future version, the Index constructor will not infer numeric dtypes when passed object-dtype sequences (matching Series behavior)\n",
      "  df[header] = pd.Categorical(df[header]).codes\n",
      "/home/kane/code/fyp/models/model_utils/utils.py:35: FutureWarning: In a future version, the Index constructor will not infer numeric dtypes when passed object-dtype sequences (matching Series behavior)\n",
      "  df[header] = pd.Categorical(df[header]).codes\n"
     ]
    },
    {
     "name": "stdout",
     "output_type": "stream",
     "text": [
      "predictions written to ./experiments/model_eval_by_dis/Kishoreganj/m11.test.csvevaluation written to ./experiments/model_eval_by_dis/Kishoreganj/m11.eval.csv\n",
      "\n",
      "predictions written to ./experiments/model_eval_by_dis/Kishoreganj/m10.test.csv\n",
      "evaluation written to ./experiments/model_eval_by_dis/Kishoreganj/m10.eval.csv\n",
      "predictions written to ./experiments/model_eval_by_dis/Kishoreganj/m9.test.csv\n",
      "evaluation written to ./experiments/model_eval_by_dis/Kishoreganj/m9.eval.csv\n",
      "predictions written to ./experiments/model_eval_by_dis/Kishoreganj/m6.test.csv\n",
      "evaluation written to ./experiments/model_eval_by_dis/Kishoreganj/m6.eval.csv\n",
      "predictions written to ./experiments/model_eval_by_dis/Kishoreganj/m7.test.csv\n",
      "evaluation written to ./experiments/model_eval_by_dis/Kishoreganj/m7.eval.csv\n",
      "dis 42 / 63\n",
      "predictions written to ./experiments/model_eval_by_dis/Bagerhat/m5.test.csv\n",
      "evaluation written to ./experiments/model_eval_by_dis/Bagerhat/m5.eval.csv\n",
      "predictions written to ./experiments/model_eval_by_dis/Bagerhat/m3.test.csv\n",
      "evaluation written to ./experiments/model_eval_by_dis/Bagerhat/m3.eval.csv\n",
      "predictions written to ./experiments/model_eval_by_dis/Bagerhat/m4.test.csv\n",
      "evaluation written to ./experiments/model_eval_by_dis/Bagerhat/m4.eval.csv\n"
     ]
    },
    {
     "name": "stderr",
     "output_type": "stream",
     "text": [
      "Process Process-447:\n",
      "Traceback (most recent call last):\n",
      "  File \"/home/kane/code/fyp/venv/lib/python3.10/site-packages/multiprocess/process.py\", line 314, in _bootstrap\n",
      "    self.run()\n",
      "  File \"/home/kane/code/fyp/venv/lib/python3.10/site-packages/multiprocess/process.py\", line 108, in run\n",
      "    self._target(*self._args, **self._kwargs)\n",
      "  File \"/tmp/ipykernel_331508/3834942049.py\", line 10, in run_model\n",
      "    pred_df = model.main(f'./experiments/model_eval_by_dis/{dis}/k1.csv', k_fold)\n",
      "  File \"/home/kane/code/fyp/models/model8/model.py\", line 102, in main\n",
      "    test_df['Prediction'] = gen_predictions(train_df, test_df, k_fold)\n",
      "  File \"/home/kane/code/fyp/models/model8/model.py\", line 50, in gen_predictions\n",
      "    tt_df = append_test_train(te_div, tr_div)\n",
      "  File \"/home/kane/code/fyp/models/model_utils/utils.py\", line 59, in append_test_train\n",
      "    test.loc[:, 'tid'] = 1\n",
      "  File \"/home/kane/code/fyp/venv/lib/python3.10/site-packages/pandas/core/indexing.py\", line 818, in __setitem__\n",
      "    iloc._setitem_with_indexer(indexer, value, self.name)\n",
      "  File \"/home/kane/code/fyp/venv/lib/python3.10/site-packages/pandas/core/indexing.py\", line 1718, in _setitem_with_indexer\n",
      "    raise ValueError(\n",
      "ValueError: cannot set a frame with no defined index and a scalar\n",
      "/home/kane/code/fyp/models/model_utils/utils.py:46: UserWarning: Geometry is in a geographic CRS. Results from 'centroid' are likely incorrect. Use 'GeoSeries.to_crs()' to re-project geometries to a projected CRS before this operation.\n",
      "\n",
      "  gdf['lon'] = gdf.centroid.x\n",
      "/home/kane/code/fyp/models/model_utils/utils.py:47: UserWarning: Geometry is in a geographic CRS. Results from 'centroid' are likely incorrect. Use 'GeoSeries.to_crs()' to re-project geometries to a projected CRS before this operation.\n",
      "\n",
      "  gdf['lat'] = gdf.centroid.y\n",
      "/home/kane/code/fyp/models/model_utils/utils.py:46: UserWarning: Geometry is in a geographic CRS. Results from 'centroid' are likely incorrect. Use 'GeoSeries.to_crs()' to re-project geometries to a projected CRS before this operation.\n",
      "\n",
      "  gdf['lon'] = gdf.centroid.x\n",
      "/home/kane/code/fyp/models/model_utils/utils.py:35: FutureWarning: In a future version, the Index constructor will not infer numeric dtypes when passed object-dtype sequences (matching Series behavior)\n",
      "  df[header] = pd.Categorical(df[header]).codes\n",
      "/home/kane/code/fyp/models/model_utils/utils.py:35: FutureWarning: In a future version, the Index constructor will not infer numeric dtypes when passed object-dtype sequences (matching Series behavior)\n",
      "  df[header] = pd.Categorical(df[header]).codes\n",
      "/home/kane/code/fyp/models/model_utils/utils.py:35: FutureWarning: In a future version, the Index constructor will not infer numeric dtypes when passed object-dtype sequences (matching Series behavior)\n",
      "  df[header] = pd.Categorical(df[header]).codes\n",
      "/home/kane/code/fyp/models/model_utils/utils.py:35: FutureWarning: In a future version, the Index constructor will not infer numeric dtypes when passed object-dtype sequences (matching Series behavior)\n",
      "  df[header] = pd.Categorical(df[header]).codes\n",
      "/home/kane/code/fyp/models/model_utils/utils.py:47: UserWarning: Geometry is in a geographic CRS. Results from 'centroid' are likely incorrect. Use 'GeoSeries.to_crs()' to re-project geometries to a projected CRS before this operation.\n",
      "\n",
      "  gdf['lat'] = gdf.centroid.y\n"
     ]
    },
    {
     "name": "stdout",
     "output_type": "stream",
     "text": [
      "predictions written to ./experiments/model_eval_by_dis/Bagerhat/m11.test.csv\n",
      "evaluation written to ./experiments/model_eval_by_dis/Bagerhat/m11.eval.csv\n",
      "predictions written to ./experiments/model_eval_by_dis/Bagerhat/m10.test.csv\n",
      "evaluation written to ./experiments/model_eval_by_dis/Bagerhat/m10.eval.csv\n",
      "predictions written to ./experiments/model_eval_by_dis/Bagerhat/m9.test.csv\n",
      "evaluation written to ./experiments/model_eval_by_dis/Bagerhat/m9.eval.csv\n",
      "predictions written to ./experiments/model_eval_by_dis/Bagerhat/m6.test.csv\n",
      "evaluation written to ./experiments/model_eval_by_dis/Bagerhat/m6.eval.csv\n",
      "predictions written to ./experiments/model_eval_by_dis/Bagerhat/m7.test.csv\n",
      "evaluation written to ./experiments/model_eval_by_dis/Bagerhat/m7.eval.csv\n",
      "dis 43 / 63\n",
      "predictions written to ./experiments/model_eval_by_dis/Chittagong/m5.test.csv\n",
      "evaluation written to ./experiments/model_eval_by_dis/Chittagong/m5.eval.csv\n"
     ]
    },
    {
     "name": "stderr",
     "output_type": "stream",
     "text": [
      "/home/kane/code/fyp/venv/lib/python3.10/site-packages/sklearn/metrics/_classification.py:1344: UndefinedMetricWarning: Precision is ill-defined and being set to 0.0 due to no predicted samples. Use `zero_division` parameter to control this behavior.\n",
      "  _warn_prf(average, modifier, msg_start, len(result))\n"
     ]
    },
    {
     "name": "stdout",
     "output_type": "stream",
     "text": [
      "predictions written to ./experiments/model_eval_by_dis/Chittagong/m3.test.csv\n",
      "predictions written to ./experiments/model_eval_by_dis/Chittagong/m4.test.csvevaluation written to ./experiments/model_eval_by_dis/Chittagong/m3.eval.csv\n",
      "\n",
      "evaluation written to ./experiments/model_eval_by_dis/Chittagong/m4.eval.csv\n"
     ]
    },
    {
     "name": "stderr",
     "output_type": "stream",
     "text": [
      "/home/kane/code/fyp/models/model_utils/utils.py:35: FutureWarning: In a future version, the Index constructor will not infer numeric dtypes when passed object-dtype sequences (matching Series behavior)\n",
      "  df[header] = pd.Categorical(df[header]).codes\n",
      "/home/kane/code/fyp/models/model_utils/utils.py:35: FutureWarning: In a future version, the Index constructor will not infer numeric dtypes when passed object-dtype sequences (matching Series behavior)\n",
      "  df[header] = pd.Categorical(df[header]).codes\n",
      "Process Process-456:\n",
      "Traceback (most recent call last):\n",
      "  File \"/home/kane/code/fyp/venv/lib/python3.10/site-packages/multiprocess/process.py\", line 314, in _bootstrap\n",
      "    self.run()\n",
      "  File \"/home/kane/code/fyp/venv/lib/python3.10/site-packages/multiprocess/process.py\", line 108, in run\n",
      "    self._target(*self._args, **self._kwargs)\n",
      "  File \"/tmp/ipykernel_331508/3834942049.py\", line 10, in run_model\n",
      "    pred_df = model.main(f'./experiments/model_eval_by_dis/{dis}/k1.csv', k_fold)\n",
      "  File \"/home/kane/code/fyp/models/model8/model.py\", line 102, in main\n",
      "    test_df['Prediction'] = gen_predictions(train_df, test_df, k_fold)\n",
      "  File \"/home/kane/code/fyp/models/model8/model.py\", line 50, in gen_predictions\n",
      "    tt_df = append_test_train(te_div, tr_div)\n",
      "  File \"/home/kane/code/fyp/models/model_utils/utils.py\", line 59, in append_test_train\n",
      "    test.loc[:, 'tid'] = 1\n",
      "  File \"/home/kane/code/fyp/venv/lib/python3.10/site-packages/pandas/core/indexing.py\", line 818, in __setitem__\n",
      "    iloc._setitem_with_indexer(indexer, value, self.name)\n",
      "  File \"/home/kane/code/fyp/venv/lib/python3.10/site-packages/pandas/core/indexing.py\", line 1718, in _setitem_with_indexer\n",
      "    raise ValueError(\n",
      "ValueError: cannot set a frame with no defined index and a scalar\n",
      "/home/kane/code/fyp/models/model_utils/utils.py:46: UserWarning: Geometry is in a geographic CRS. Results from 'centroid' are likely incorrect. Use 'GeoSeries.to_crs()' to re-project geometries to a projected CRS before this operation.\n",
      "\n",
      "  gdf['lon'] = gdf.centroid.x\n",
      "/home/kane/code/fyp/models/model_utils/utils.py:47: UserWarning: Geometry is in a geographic CRS. Results from 'centroid' are likely incorrect. Use 'GeoSeries.to_crs()' to re-project geometries to a projected CRS before this operation.\n",
      "\n",
      "  gdf['lat'] = gdf.centroid.y\n",
      "/home/kane/code/fyp/models/model_utils/utils.py:46: UserWarning: Geometry is in a geographic CRS. Results from 'centroid' are likely incorrect. Use 'GeoSeries.to_crs()' to re-project geometries to a projected CRS before this operation.\n",
      "\n",
      "  gdf['lon'] = gdf.centroid.x\n",
      "/home/kane/code/fyp/models/model_utils/utils.py:47: UserWarning: Geometry is in a geographic CRS. Results from 'centroid' are likely incorrect. Use 'GeoSeries.to_crs()' to re-project geometries to a projected CRS before this operation.\n",
      "\n",
      "  gdf['lat'] = gdf.centroid.y\n",
      "/home/kane/code/fyp/models/model_utils/utils.py:35: FutureWarning: In a future version, the Index constructor will not infer numeric dtypes when passed object-dtype sequences (matching Series behavior)\n",
      "  df[header] = pd.Categorical(df[header]).codes\n",
      "/home/kane/code/fyp/models/model_utils/utils.py:35: FutureWarning: In a future version, the Index constructor will not infer numeric dtypes when passed object-dtype sequences (matching Series behavior)\n",
      "  df[header] = pd.Categorical(df[header]).codes\n"
     ]
    },
    {
     "name": "stdout",
     "output_type": "stream",
     "text": [
      "predictions written to ./experiments/model_eval_by_dis/Chittagong/m11.test.csv\n",
      "evaluation written to ./experiments/model_eval_by_dis/Chittagong/m11.eval.csv\n",
      "predictions written to ./experiments/model_eval_by_dis/Chittagong/m10.test.csv\n",
      "evaluation written to ./experiments/model_eval_by_dis/Chittagong/m10.eval.csv\n",
      "predictions written to ./experiments/model_eval_by_dis/Chittagong/m6.test.csv\n",
      "evaluation written to ./experiments/model_eval_by_dis/Chittagong/m6.eval.csv\n",
      "predictions written to ./experiments/model_eval_by_dis/Chittagong/m9.test.csv\n",
      "evaluation written to ./experiments/model_eval_by_dis/Chittagong/m9.eval.csv\n",
      "predictions written to ./experiments/model_eval_by_dis/Chittagong/m7.test.csv\n",
      "evaluation written to ./experiments/model_eval_by_dis/Chittagong/m7.eval.csv\n",
      "dis 44 / 63\n",
      "predictions written to ./experiments/model_eval_by_dis/Narsingdi/m5.test.csv\n",
      "evaluation written to ./experiments/model_eval_by_dis/Narsingdi/m5.eval.csv\n",
      "predictions written to ./experiments/model_eval_by_dis/Narsingdi/m3.test.csv\n",
      "evaluation written to ./experiments/model_eval_by_dis/Narsingdi/m3.eval.csv\n",
      "predictions written to ./experiments/model_eval_by_dis/Narsingdi/m4.test.csv\n",
      "evaluation written to ./experiments/model_eval_by_dis/Narsingdi/m4.eval.csv\n"
     ]
    },
    {
     "name": "stderr",
     "output_type": "stream",
     "text": [
      "/home/kane/code/fyp/models/model_utils/utils.py:46: UserWarning: Geometry is in a geographic CRS. Results from 'centroid' are likely incorrect. Use 'GeoSeries.to_crs()' to re-project geometries to a projected CRS before this operation.\n",
      "\n",
      "  gdf['lon'] = gdf.centroid.x\n",
      "/home/kane/code/fyp/models/model_utils/utils.py:47: UserWarning: Geometry is in a geographic CRS. Results from 'centroid' are likely incorrect. Use 'GeoSeries.to_crs()' to re-project geometries to a projected CRS before this operation.\n",
      "\n",
      "  gdf['lat'] = gdf.centroid.y\n",
      "/home/kane/code/fyp/models/model_utils/utils.py:46: UserWarning: Geometry is in a geographic CRS. Results from 'centroid' are likely incorrect. Use 'GeoSeries.to_crs()' to re-project geometries to a projected CRS before this operation.\n",
      "\n",
      "  gdf['lon'] = gdf.centroid.x\n",
      "/home/kane/code/fyp/models/model_utils/utils.py:47: UserWarning: Geometry is in a geographic CRS. Results from 'centroid' are likely incorrect. Use 'GeoSeries.to_crs()' to re-project geometries to a projected CRS before this operation.\n",
      "\n",
      "  gdf['lat'] = gdf.centroid.y\n",
      "Process Process-465:\n",
      "Traceback (most recent call last):\n",
      "  File \"/home/kane/code/fyp/venv/lib/python3.10/site-packages/multiprocess/process.py\", line 314, in _bootstrap\n",
      "    self.run()\n",
      "  File \"/home/kane/code/fyp/venv/lib/python3.10/site-packages/multiprocess/process.py\", line 108, in run\n",
      "    self._target(*self._args, **self._kwargs)\n",
      "  File \"/tmp/ipykernel_331508/3834942049.py\", line 10, in run_model\n",
      "    pred_df = model.main(f'./experiments/model_eval_by_dis/{dis}/k1.csv', k_fold)\n",
      "  File \"/home/kane/code/fyp/models/model8/model.py\", line 102, in main\n",
      "    test_df['Prediction'] = gen_predictions(train_df, test_df, k_fold)\n",
      "  File \"/home/kane/code/fyp/models/model8/model.py\", line 50, in gen_predictions\n",
      "    tt_df = append_test_train(te_div, tr_div)\n",
      "  File \"/home/kane/code/fyp/models/model_utils/utils.py\", line 59, in append_test_train\n",
      "    test.loc[:, 'tid'] = 1\n",
      "  File \"/home/kane/code/fyp/venv/lib/python3.10/site-packages/pandas/core/indexing.py\", line 818, in __setitem__\n",
      "    iloc._setitem_with_indexer(indexer, value, self.name)\n",
      "  File \"/home/kane/code/fyp/venv/lib/python3.10/site-packages/pandas/core/indexing.py\", line 1718, in _setitem_with_indexer\n",
      "    raise ValueError(\n",
      "ValueError: cannot set a frame with no defined index and a scalar\n",
      "/home/kane/code/fyp/models/model_utils/utils.py:35: FutureWarning: In a future version, the Index constructor will not infer numeric dtypes when passed object-dtype sequences (matching Series behavior)\n",
      "  df[header] = pd.Categorical(df[header]).codes\n",
      "/home/kane/code/fyp/models/model_utils/utils.py:35: FutureWarning: In a future version, the Index constructor will not infer numeric dtypes when passed object-dtype sequences (matching Series behavior)\n",
      "  df[header] = pd.Categorical(df[header]).codes\n",
      "/home/kane/code/fyp/models/model_utils/utils.py:35: FutureWarning: In a future version, the Index constructor will not infer numeric dtypes when passed object-dtype sequences (matching Series behavior)\n",
      "  df[header] = pd.Categorical(df[header]).codes\n",
      "/home/kane/code/fyp/models/model_utils/utils.py:35: FutureWarning: In a future version, the Index constructor will not infer numeric dtypes when passed object-dtype sequences (matching Series behavior)\n",
      "  df[header] = pd.Categorical(df[header]).codes\n"
     ]
    },
    {
     "name": "stdout",
     "output_type": "stream",
     "text": [
      "predictions written to ./experiments/model_eval_by_dis/Narsingdi/m11.test.csv\n",
      "evaluation written to ./experiments/model_eval_by_dis/Narsingdi/m11.eval.csv\n",
      "predictions written to ./experiments/model_eval_by_dis/Narsingdi/m10.test.csv\n",
      "evaluation written to ./experiments/model_eval_by_dis/Narsingdi/m10.eval.csv\n",
      "predictions written to ./experiments/model_eval_by_dis/Narsingdi/m9.test.csv\n",
      "evaluation written to ./experiments/model_eval_by_dis/Narsingdi/m9.eval.csv\n",
      "predictions written to ./experiments/model_eval_by_dis/Narsingdi/m6.test.csv\n",
      "evaluation written to ./experiments/model_eval_by_dis/Narsingdi/m6.eval.csv\n",
      "predictions written to ./experiments/model_eval_by_dis/Narsingdi/m7.test.csv\n",
      "evaluation written to ./experiments/model_eval_by_dis/Narsingdi/m7.eval.csv\n",
      "dis 45 / 63\n"
     ]
    },
    {
     "name": "stderr",
     "output_type": "stream",
     "text": [
      "/home/kane/code/fyp/venv/lib/python3.10/site-packages/sklearn/metrics/_classification.py:1344: UndefinedMetricWarning: Precision is ill-defined and being set to 0.0 due to no predicted samples. Use `zero_division` parameter to control this behavior.\n",
      "  _warn_prf(average, modifier, msg_start, len(result))\n",
      "/home/kane/code/fyp/venv/lib/python3.10/site-packages/sklearn/metrics/_classification.py:1344: UndefinedMetricWarning: Recall is ill-defined and being set to 0.0 due to no true samples. Use `zero_division` parameter to control this behavior.\n",
      "  _warn_prf(average, modifier, msg_start, len(result))\n",
      "/home/kane/code/fyp/venv/lib/python3.10/site-packages/sklearn/metrics/_classification.py:1609: UndefinedMetricWarning: F-score is ill-defined and being set to 0.0 due to no true nor predicted samples. Use `zero_division` parameter to control this behavior.\n",
      "  _warn_prf(average, \"true nor predicted\", \"F-score is\", len(true_sum))\n"
     ]
    },
    {
     "name": "stdout",
     "output_type": "stream",
     "text": [
      "predictions written to ./experiments/model_eval_by_dis/Joypurhat/m5.test.csv\n",
      "evaluation written to ./experiments/model_eval_by_dis/Joypurhat/m5.eval.csv"
     ]
    },
    {
     "name": "stderr",
     "output_type": "stream",
     "text": [
      "/home/kane/code/fyp/venv/lib/python3.10/site-packages/sklearn/metrics/_classification.py:1344: UndefinedMetricWarning: Precision is ill-defined and being set to 0.0 due to no predicted samples. Use `zero_division` parameter to control this behavior.\n",
      "  _warn_prf(average, modifier, msg_start, len(result))\n"
     ]
    },
    {
     "name": "stdout",
     "output_type": "stream",
     "text": [
      "\n"
     ]
    },
    {
     "name": "stderr",
     "output_type": "stream",
     "text": [
      "/home/kane/code/fyp/venv/lib/python3.10/site-packages/sklearn/metrics/_classification.py:1344: UndefinedMetricWarning: Recall is ill-defined and being set to 0.0 due to no true samples. Use `zero_division` parameter to control this behavior.\n",
      "  _warn_prf(average, modifier, msg_start, len(result))\n",
      "/home/kane/code/fyp/venv/lib/python3.10/site-packages/sklearn/metrics/_classification.py:1609: UndefinedMetricWarning: F-score is ill-defined and being set to 0.0 due to no true nor predicted samples. Use `zero_division` parameter to control this behavior.\n",
      "  _warn_prf(average, \"true nor predicted\", \"F-score is\", len(true_sum))\n",
      "/home/kane/code/fyp/venv/lib/python3.10/site-packages/sklearn/metrics/_classification.py:1344: UndefinedMetricWarning: Precision is ill-defined and being set to 0.0 due to no predicted samples. Use `zero_division` parameter to control this behavior.\n",
      "  _warn_prf(average, modifier, msg_start, len(result))\n",
      "/home/kane/code/fyp/venv/lib/python3.10/site-packages/sklearn/metrics/_classification.py:1344: UndefinedMetricWarning: Recall is ill-defined and being set to 0.0 due to no true samples. Use `zero_division` parameter to control this behavior.\n",
      "  _warn_prf(average, modifier, msg_start, len(result))\n"
     ]
    },
    {
     "name": "stdout",
     "output_type": "stream",
     "text": [
      "predictions written to ./experiments/model_eval_by_dis/Joypurhat/m3.test.csv\n"
     ]
    },
    {
     "name": "stderr",
     "output_type": "stream",
     "text": [
      "/home/kane/code/fyp/venv/lib/python3.10/site-packages/sklearn/metrics/_classification.py:1609: UndefinedMetricWarning: F-score is ill-defined and being set to 0.0 due to no true nor predicted samples. Use `zero_division` parameter to control this behavior.\n",
      "  _warn_prf(average, \"true nor predicted\", \"F-score is\", len(true_sum))\n"
     ]
    },
    {
     "name": "stdout",
     "output_type": "stream",
     "text": [
      "predictions written to ./experiments/model_eval_by_dis/Joypurhat/m4.test.csvevaluation written to ./experiments/model_eval_by_dis/Joypurhat/m3.eval.csv\n",
      "\n",
      "evaluation written to ./experiments/model_eval_by_dis/Joypurhat/m4.eval.csv\n"
     ]
    },
    {
     "name": "stderr",
     "output_type": "stream",
     "text": [
      "/home/kane/code/fyp/models/model_utils/utils.py:46: UserWarning: Geometry is in a geographic CRS. Results from 'centroid' are likely incorrect. Use 'GeoSeries.to_crs()' to re-project geometries to a projected CRS before this operation.\n",
      "\n",
      "  gdf['lon'] = gdf.centroid.x\n",
      "/home/kane/code/fyp/models/model_utils/utils.py:47: UserWarning: Geometry is in a geographic CRS. Results from 'centroid' are likely incorrect. Use 'GeoSeries.to_crs()' to re-project geometries to a projected CRS before this operation.\n",
      "\n",
      "  gdf['lat'] = gdf.centroid.y\n",
      "/home/kane/code/fyp/models/model_utils/utils.py:35: FutureWarning: In a future version, the Index constructor will not infer numeric dtypes when passed object-dtype sequences (matching Series behavior)\n",
      "  df[header] = pd.Categorical(df[header]).codes\n",
      "/home/kane/code/fyp/models/model_utils/utils.py:35: FutureWarning: In a future version, the Index constructor will not infer numeric dtypes when passed object-dtype sequences (matching Series behavior)\n",
      "  df[header] = pd.Categorical(df[header]).codes\n",
      "Process Process-474:\n",
      "Traceback (most recent call last):\n",
      "  File \"/home/kane/code/fyp/venv/lib/python3.10/site-packages/multiprocess/process.py\", line 314, in _bootstrap\n",
      "    self.run()\n",
      "  File \"/home/kane/code/fyp/venv/lib/python3.10/site-packages/multiprocess/process.py\", line 108, in run\n",
      "    self._target(*self._args, **self._kwargs)\n",
      "  File \"/tmp/ipykernel_331508/3834942049.py\", line 10, in run_model\n",
      "    pred_df = model.main(f'./experiments/model_eval_by_dis/{dis}/k1.csv', k_fold)\n",
      "  File \"/home/kane/code/fyp/models/model8/model.py\", line 102, in main\n",
      "    test_df['Prediction'] = gen_predictions(train_df, test_df, k_fold)\n",
      "  File \"/home/kane/code/fyp/models/model8/model.py\", line 50, in gen_predictions\n",
      "    tt_df = append_test_train(te_div, tr_div)\n",
      "  File \"/home/kane/code/fyp/models/model_utils/utils.py\", line 59, in append_test_train\n",
      "    test.loc[:, 'tid'] = 1\n",
      "  File \"/home/kane/code/fyp/venv/lib/python3.10/site-packages/pandas/core/indexing.py\", line 818, in __setitem__\n",
      "    iloc._setitem_with_indexer(indexer, value, self.name)\n",
      "  File \"/home/kane/code/fyp/venv/lib/python3.10/site-packages/pandas/core/indexing.py\", line 1718, in _setitem_with_indexer\n",
      "    raise ValueError(\n",
      "ValueError: cannot set a frame with no defined index and a scalar\n",
      "/home/kane/code/fyp/models/model_utils/utils.py:46: UserWarning: Geometry is in a geographic CRS. Results from 'centroid' are likely incorrect. Use 'GeoSeries.to_crs()' to re-project geometries to a projected CRS before this operation.\n",
      "\n",
      "  gdf['lon'] = gdf.centroid.x\n",
      "/home/kane/code/fyp/models/model_utils/utils.py:47: UserWarning: Geometry is in a geographic CRS. Results from 'centroid' are likely incorrect. Use 'GeoSeries.to_crs()' to re-project geometries to a projected CRS before this operation.\n",
      "\n",
      "  gdf['lat'] = gdf.centroid.y\n",
      "/home/kane/code/fyp/models/model_utils/utils.py:35: FutureWarning: In a future version, the Index constructor will not infer numeric dtypes when passed object-dtype sequences (matching Series behavior)\n",
      "  df[header] = pd.Categorical(df[header]).codes\n",
      "/home/kane/code/fyp/models/model_utils/utils.py:35: FutureWarning: In a future version, the Index constructor will not infer numeric dtypes when passed object-dtype sequences (matching Series behavior)\n",
      "  df[header] = pd.Categorical(df[header]).codes\n",
      "/home/kane/code/fyp/venv/lib/python3.10/site-packages/sklearn/metrics/_classification.py:1344: UndefinedMetricWarning: Recall is ill-defined and being set to 0.0 due to no true samples. Use `zero_division` parameter to control this behavior.\n",
      "  _warn_prf(average, modifier, msg_start, len(result))\n"
     ]
    },
    {
     "name": "stdout",
     "output_type": "stream",
     "text": [
      "predictions written to ./experiments/model_eval_by_dis/Joypurhat/m11.test.csv\n",
      "evaluation written to ./experiments/model_eval_by_dis/Joypurhat/m11.eval.csv\n"
     ]
    },
    {
     "name": "stderr",
     "output_type": "stream",
     "text": [
      "/home/kane/code/fyp/venv/lib/python3.10/site-packages/sklearn/metrics/_classification.py:1344: UndefinedMetricWarning: Recall is ill-defined and being set to 0.0 due to no true samples. Use `zero_division` parameter to control this behavior.\n",
      "  _warn_prf(average, modifier, msg_start, len(result))\n"
     ]
    },
    {
     "name": "stdout",
     "output_type": "stream",
     "text": [
      "predictions written to ./experiments/model_eval_by_dis/Joypurhat/m10.test.csv\n",
      "evaluation written to ./experiments/model_eval_by_dis/Joypurhat/m10.eval.csv\n"
     ]
    },
    {
     "name": "stderr",
     "output_type": "stream",
     "text": [
      "/home/kane/code/fyp/venv/lib/python3.10/site-packages/sklearn/metrics/_classification.py:1344: UndefinedMetricWarning: Recall is ill-defined and being set to 0.0 due to no true samples. Use `zero_division` parameter to control this behavior.\n",
      "  _warn_prf(average, modifier, msg_start, len(result))\n"
     ]
    },
    {
     "name": "stdout",
     "output_type": "stream",
     "text": [
      "predictions written to ./experiments/model_eval_by_dis/Joypurhat/m6.test.csv\n",
      "evaluation written to ./experiments/model_eval_by_dis/Joypurhat/m6.eval.csv\n"
     ]
    },
    {
     "name": "stderr",
     "output_type": "stream",
     "text": [
      "/home/kane/code/fyp/venv/lib/python3.10/site-packages/sklearn/metrics/_classification.py:1344: UndefinedMetricWarning: Recall is ill-defined and being set to 0.0 due to no true samples. Use `zero_division` parameter to control this behavior.\n",
      "  _warn_prf(average, modifier, msg_start, len(result))\n"
     ]
    },
    {
     "name": "stdout",
     "output_type": "stream",
     "text": [
      "predictions written to ./experiments/model_eval_by_dis/Joypurhat/m9.test.csv\n",
      "evaluation written to ./experiments/model_eval_by_dis/Joypurhat/m9.eval.csv\n"
     ]
    },
    {
     "name": "stderr",
     "output_type": "stream",
     "text": [
      "/home/kane/code/fyp/venv/lib/python3.10/site-packages/sklearn/metrics/_classification.py:1344: UndefinedMetricWarning: Recall is ill-defined and being set to 0.0 due to no true samples. Use `zero_division` parameter to control this behavior.\n",
      "  _warn_prf(average, modifier, msg_start, len(result))\n"
     ]
    },
    {
     "name": "stdout",
     "output_type": "stream",
     "text": [
      "predictions written to ./experiments/model_eval_by_dis/Joypurhat/m7.test.csv\n",
      "evaluation written to ./experiments/model_eval_by_dis/Joypurhat/m7.eval.csv\n",
      "dis 46 / 63\n"
     ]
    },
    {
     "name": "stderr",
     "output_type": "stream",
     "text": [
      "/home/kane/code/fyp/venv/lib/python3.10/site-packages/sklearn/metrics/_classification.py:1344: UndefinedMetricWarning: Recall is ill-defined and being set to 0.0 due to no true samples. Use `zero_division` parameter to control this behavior.\n",
      "  _warn_prf(average, modifier, msg_start, len(result))\n"
     ]
    },
    {
     "name": "stdout",
     "output_type": "stream",
     "text": [
      "predictions written to ./experiments/model_eval_by_dis/Nilphamari/m5.test.csv\n",
      "evaluation written to ./experiments/model_eval_by_dis/Nilphamari/m5.eval.csv\n"
     ]
    },
    {
     "name": "stderr",
     "output_type": "stream",
     "text": [
      "/home/kane/code/fyp/venv/lib/python3.10/site-packages/sklearn/metrics/_classification.py:1344: UndefinedMetricWarning: Precision is ill-defined and being set to 0.0 due to no predicted samples. Use `zero_division` parameter to control this behavior.\n",
      "  _warn_prf(average, modifier, msg_start, len(result))\n",
      "/home/kane/code/fyp/venv/lib/python3.10/site-packages/sklearn/metrics/_classification.py:1344: UndefinedMetricWarning: Recall is ill-defined and being set to 0.0 due to no true samples. Use `zero_division` parameter to control this behavior.\n",
      "  _warn_prf(average, modifier, msg_start, len(result))\n",
      "/home/kane/code/fyp/venv/lib/python3.10/site-packages/sklearn/metrics/_classification.py:1609: UndefinedMetricWarning: F-score is ill-defined and being set to 0.0 due to no true nor predicted samples. Use `zero_division` parameter to control this behavior.\n",
      "  _warn_prf(average, \"true nor predicted\", \"F-score is\", len(true_sum))\n"
     ]
    },
    {
     "name": "stdout",
     "output_type": "stream",
     "text": [
      "predictions written to ./experiments/model_eval_by_dis/Nilphamari/m3.test.csv\n",
      "evaluation written to ./experiments/model_eval_by_dis/Nilphamari/m3.eval.csv\n"
     ]
    },
    {
     "name": "stderr",
     "output_type": "stream",
     "text": [
      "/home/kane/code/fyp/venv/lib/python3.10/site-packages/sklearn/metrics/_classification.py:1344: UndefinedMetricWarning: Precision is ill-defined and being set to 0.0 due to no predicted samples. Use `zero_division` parameter to control this behavior.\n",
      "  _warn_prf(average, modifier, msg_start, len(result))\n",
      "/home/kane/code/fyp/venv/lib/python3.10/site-packages/sklearn/metrics/_classification.py:1344: UndefinedMetricWarning: Recall is ill-defined and being set to 0.0 due to no true samples. Use `zero_division` parameter to control this behavior.\n",
      "  _warn_prf(average, modifier, msg_start, len(result))\n",
      "/home/kane/code/fyp/venv/lib/python3.10/site-packages/sklearn/metrics/_classification.py:1609: UndefinedMetricWarning: F-score is ill-defined and being set to 0.0 due to no true nor predicted samples. Use `zero_division` parameter to control this behavior.\n",
      "  _warn_prf(average, \"true nor predicted\", \"F-score is\", len(true_sum))\n"
     ]
    },
    {
     "name": "stdout",
     "output_type": "stream",
     "text": [
      "predictions written to ./experiments/model_eval_by_dis/Nilphamari/m4.test.csv\n",
      "evaluation written to ./experiments/model_eval_by_dis/Nilphamari/m4.eval.csv\n"
     ]
    },
    {
     "name": "stderr",
     "output_type": "stream",
     "text": [
      "/home/kane/code/fyp/models/model_utils/utils.py:35: FutureWarning: In a future version, the Index constructor will not infer numeric dtypes when passed object-dtype sequences (matching Series behavior)\n",
      "  df[header] = pd.Categorical(df[header]).codes\n",
      "/home/kane/code/fyp/models/model_utils/utils.py:35: FutureWarning: In a future version, the Index constructor will not infer numeric dtypes when passed object-dtype sequences (matching Series behavior)\n",
      "  df[header] = pd.Categorical(df[header]).codes\n",
      "Process Process-483:\n",
      "Traceback (most recent call last):\n",
      "  File \"/home/kane/code/fyp/venv/lib/python3.10/site-packages/multiprocess/process.py\", line 314, in _bootstrap\n",
      "    self.run()\n",
      "  File \"/home/kane/code/fyp/venv/lib/python3.10/site-packages/multiprocess/process.py\", line 108, in run\n",
      "    self._target(*self._args, **self._kwargs)\n",
      "  File \"/tmp/ipykernel_331508/3834942049.py\", line 10, in run_model\n",
      "    pred_df = model.main(f'./experiments/model_eval_by_dis/{dis}/k1.csv', k_fold)\n",
      "  File \"/home/kane/code/fyp/models/model8/model.py\", line 102, in main\n",
      "    test_df['Prediction'] = gen_predictions(train_df, test_df, k_fold)\n",
      "  File \"/home/kane/code/fyp/models/model8/model.py\", line 50, in gen_predictions\n",
      "    tt_df = append_test_train(te_div, tr_div)\n",
      "  File \"/home/kane/code/fyp/models/model_utils/utils.py\", line 59, in append_test_train\n",
      "    test.loc[:, 'tid'] = 1\n",
      "  File \"/home/kane/code/fyp/venv/lib/python3.10/site-packages/pandas/core/indexing.py\", line 818, in __setitem__\n",
      "    iloc._setitem_with_indexer(indexer, value, self.name)\n",
      "  File \"/home/kane/code/fyp/venv/lib/python3.10/site-packages/pandas/core/indexing.py\", line 1718, in _setitem_with_indexer\n",
      "    raise ValueError(\n",
      "ValueError: cannot set a frame with no defined index and a scalar\n",
      "/home/kane/code/fyp/models/model_utils/utils.py:46: UserWarning: Geometry is in a geographic CRS. Results from 'centroid' are likely incorrect. Use 'GeoSeries.to_crs()' to re-project geometries to a projected CRS before this operation.\n",
      "\n",
      "  gdf['lon'] = gdf.centroid.x\n",
      "/home/kane/code/fyp/models/model_utils/utils.py:47: UserWarning: Geometry is in a geographic CRS. Results from 'centroid' are likely incorrect. Use 'GeoSeries.to_crs()' to re-project geometries to a projected CRS before this operation.\n",
      "\n",
      "  gdf['lat'] = gdf.centroid.y\n",
      "/home/kane/code/fyp/models/model_utils/utils.py:35: FutureWarning: In a future version, the Index constructor will not infer numeric dtypes when passed object-dtype sequences (matching Series behavior)\n",
      "  df[header] = pd.Categorical(df[header]).codes\n",
      "/home/kane/code/fyp/models/model_utils/utils.py:35: FutureWarning: In a future version, the Index constructor will not infer numeric dtypes when passed object-dtype sequences (matching Series behavior)\n",
      "  df[header] = pd.Categorical(df[header]).codes\n",
      "/home/kane/code/fyp/models/model_utils/utils.py:46: UserWarning: Geometry is in a geographic CRS. Results from 'centroid' are likely incorrect. Use 'GeoSeries.to_crs()' to re-project geometries to a projected CRS before this operation.\n",
      "\n",
      "  gdf['lon'] = gdf.centroid.x\n",
      "/home/kane/code/fyp/models/model_utils/utils.py:47: UserWarning: Geometry is in a geographic CRS. Results from 'centroid' are likely incorrect. Use 'GeoSeries.to_crs()' to re-project geometries to a projected CRS before this operation.\n",
      "\n",
      "  gdf['lat'] = gdf.centroid.y\n",
      "/home/kane/code/fyp/venv/lib/python3.10/site-packages/sklearn/metrics/_classification.py:1344: UndefinedMetricWarning: Recall is ill-defined and being set to 0.0 due to no true samples. Use `zero_division` parameter to control this behavior.\n",
      "  _warn_prf(average, modifier, msg_start, len(result))\n"
     ]
    },
    {
     "name": "stdout",
     "output_type": "stream",
     "text": [
      "predictions written to ./experiments/model_eval_by_dis/Nilphamari/m11.test.csv\n",
      "evaluation written to ./experiments/model_eval_by_dis/Nilphamari/m11.eval.csv\n"
     ]
    },
    {
     "name": "stderr",
     "output_type": "stream",
     "text": [
      "/home/kane/code/fyp/venv/lib/python3.10/site-packages/sklearn/metrics/_classification.py:1344: UndefinedMetricWarning: Recall is ill-defined and being set to 0.0 due to no true samples. Use `zero_division` parameter to control this behavior.\n",
      "  _warn_prf(average, modifier, msg_start, len(result))\n"
     ]
    },
    {
     "name": "stdout",
     "output_type": "stream",
     "text": [
      "predictions written to ./experiments/model_eval_by_dis/Nilphamari/m10.test.csv\n",
      "evaluation written to ./experiments/model_eval_by_dis/Nilphamari/m10.eval.csv\n"
     ]
    },
    {
     "name": "stderr",
     "output_type": "stream",
     "text": [
      "/home/kane/code/fyp/venv/lib/python3.10/site-packages/sklearn/metrics/_classification.py:1344: UndefinedMetricWarning: Recall is ill-defined and being set to 0.0 due to no true samples. Use `zero_division` parameter to control this behavior.\n",
      "  _warn_prf(average, modifier, msg_start, len(result))\n"
     ]
    },
    {
     "name": "stdout",
     "output_type": "stream",
     "text": [
      "predictions written to ./experiments/model_eval_by_dis/Nilphamari/m6.test.csv\n",
      "evaluation written to ./experiments/model_eval_by_dis/Nilphamari/m6.eval.csv\n"
     ]
    },
    {
     "name": "stderr",
     "output_type": "stream",
     "text": [
      "/home/kane/code/fyp/venv/lib/python3.10/site-packages/sklearn/metrics/_classification.py:1344: UndefinedMetricWarning: Recall is ill-defined and being set to 0.0 due to no true samples. Use `zero_division` parameter to control this behavior.\n",
      "  _warn_prf(average, modifier, msg_start, len(result))\n"
     ]
    },
    {
     "name": "stdout",
     "output_type": "stream",
     "text": [
      "predictions written to ./experiments/model_eval_by_dis/Nilphamari/m9.test.csv\n",
      "evaluation written to ./experiments/model_eval_by_dis/Nilphamari/m9.eval.csv\n"
     ]
    },
    {
     "name": "stderr",
     "output_type": "stream",
     "text": [
      "/home/kane/code/fyp/venv/lib/python3.10/site-packages/sklearn/metrics/_classification.py:1344: UndefinedMetricWarning: Recall is ill-defined and being set to 0.0 due to no true samples. Use `zero_division` parameter to control this behavior.\n",
      "  _warn_prf(average, modifier, msg_start, len(result))\n"
     ]
    },
    {
     "name": "stdout",
     "output_type": "stream",
     "text": [
      "predictions written to ./experiments/model_eval_by_dis/Nilphamari/m7.test.csv\n",
      "evaluation written to ./experiments/model_eval_by_dis/Nilphamari/m7.eval.csv\n",
      "dis 47 / 63\n",
      "predictions written to ./experiments/model_eval_by_dis/Rangpur/m5.test.csv\n",
      "evaluation written to ./experiments/model_eval_by_dis/Rangpur/m5.eval.csv\n"
     ]
    },
    {
     "name": "stderr",
     "output_type": "stream",
     "text": [
      "/home/kane/code/fyp/venv/lib/python3.10/site-packages/sklearn/metrics/_classification.py:1344: UndefinedMetricWarning: Precision is ill-defined and being set to 0.0 due to no predicted samples. Use `zero_division` parameter to control this behavior.\n",
      "  _warn_prf(average, modifier, msg_start, len(result))\n"
     ]
    },
    {
     "name": "stdout",
     "output_type": "stream",
     "text": [
      "predictions written to ./experiments/model_eval_by_dis/Rangpur/m3.test.csv\n",
      "evaluation written to ./experiments/model_eval_by_dis/Rangpur/m3.eval.csv\n"
     ]
    },
    {
     "name": "stderr",
     "output_type": "stream",
     "text": [
      "/home/kane/code/fyp/venv/lib/python3.10/site-packages/sklearn/metrics/_classification.py:1344: UndefinedMetricWarning: Precision is ill-defined and being set to 0.0 due to no predicted samples. Use `zero_division` parameter to control this behavior.\n",
      "  _warn_prf(average, modifier, msg_start, len(result))\n"
     ]
    },
    {
     "name": "stdout",
     "output_type": "stream",
     "text": [
      "predictions written to ./experiments/model_eval_by_dis/Rangpur/m4.test.csv\n",
      "evaluation written to ./experiments/model_eval_by_dis/Rangpur/m4.eval.csv\n"
     ]
    },
    {
     "name": "stderr",
     "output_type": "stream",
     "text": [
      "Process Process-492:\n",
      "Traceback (most recent call last):\n",
      "  File \"/home/kane/code/fyp/venv/lib/python3.10/site-packages/multiprocess/process.py\", line 314, in _bootstrap\n",
      "    self.run()\n",
      "  File \"/home/kane/code/fyp/venv/lib/python3.10/site-packages/multiprocess/process.py\", line 108, in run\n",
      "    self._target(*self._args, **self._kwargs)\n",
      "  File \"/tmp/ipykernel_331508/3834942049.py\", line 10, in run_model\n",
      "    pred_df = model.main(f'./experiments/model_eval_by_dis/{dis}/k1.csv', k_fold)\n",
      "  File \"/home/kane/code/fyp/models/model8/model.py\", line 102, in main\n",
      "    test_df['Prediction'] = gen_predictions(train_df, test_df, k_fold)\n",
      "  File \"/home/kane/code/fyp/models/model8/model.py\", line 50, in gen_predictions\n",
      "    tt_df = append_test_train(te_div, tr_div)\n",
      "  File \"/home/kane/code/fyp/models/model_utils/utils.py\", line 59, in append_test_train\n",
      "    test.loc[:, 'tid'] = 1\n",
      "/home/kane/code/fyp/models/model_utils/utils.py:35: FutureWarning: In a future version, the Index constructor will not infer numeric dtypes when passed object-dtype sequences (matching Series behavior)\n",
      "  df[header] = pd.Categorical(df[header]).codes\n",
      "  File \"/home/kane/code/fyp/venv/lib/python3.10/site-packages/pandas/core/indexing.py\", line 818, in __setitem__\n",
      "    iloc._setitem_with_indexer(indexer, value, self.name)\n",
      "  File \"/home/kane/code/fyp/venv/lib/python3.10/site-packages/pandas/core/indexing.py\", line 1718, in _setitem_with_indexer\n",
      "    raise ValueError(\n",
      "/home/kane/code/fyp/models/model_utils/utils.py:35: FutureWarning: In a future version, the Index constructor will not infer numeric dtypes when passed object-dtype sequences (matching Series behavior)\n",
      "  df[header] = pd.Categorical(df[header]).codes\n",
      "ValueError: cannot set a frame with no defined index and a scalar\n",
      "/home/kane/code/fyp/models/model_utils/utils.py:46: UserWarning: Geometry is in a geographic CRS. Results from 'centroid' are likely incorrect. Use 'GeoSeries.to_crs()' to re-project geometries to a projected CRS before this operation.\n",
      "\n",
      "  gdf['lon'] = gdf.centroid.x\n",
      "/home/kane/code/fyp/models/model_utils/utils.py:46: UserWarning: Geometry is in a geographic CRS. Results from 'centroid' are likely incorrect. Use 'GeoSeries.to_crs()' to re-project geometries to a projected CRS before this operation.\n",
      "\n",
      "  gdf['lon'] = gdf.centroid.x\n",
      "/home/kane/code/fyp/models/model_utils/utils.py:47: UserWarning: Geometry is in a geographic CRS. Results from 'centroid' are likely incorrect. Use 'GeoSeries.to_crs()' to re-project geometries to a projected CRS before this operation.\n",
      "\n",
      "  gdf['lat'] = gdf.centroid.y\n",
      "/home/kane/code/fyp/models/model_utils/utils.py:35: FutureWarning: In a future version, the Index constructor will not infer numeric dtypes when passed object-dtype sequences (matching Series behavior)\n",
      "  df[header] = pd.Categorical(df[header]).codes\n",
      "/home/kane/code/fyp/models/model_utils/utils.py:35: FutureWarning: In a future version, the Index constructor will not infer numeric dtypes when passed object-dtype sequences (matching Series behavior)\n",
      "  df[header] = pd.Categorical(df[header]).codes\n",
      "/home/kane/code/fyp/models/model_utils/utils.py:47: UserWarning: Geometry is in a geographic CRS. Results from 'centroid' are likely incorrect. Use 'GeoSeries.to_crs()' to re-project geometries to a projected CRS before this operation.\n",
      "\n",
      "  gdf['lat'] = gdf.centroid.y\n"
     ]
    },
    {
     "name": "stdout",
     "output_type": "stream",
     "text": [
      "predictions written to ./experiments/model_eval_by_dis/Rangpur/m11.test.csv\n",
      "evaluation written to ./experiments/model_eval_by_dis/Rangpur/m11.eval.csv\n",
      "predictions written to ./experiments/model_eval_by_dis/Rangpur/m10.test.csv\n",
      "evaluation written to ./experiments/model_eval_by_dis/Rangpur/m10.eval.csv\n",
      "predictions written to ./experiments/model_eval_by_dis/Rangpur/m6.test.csv\n",
      "evaluation written to ./experiments/model_eval_by_dis/Rangpur/m6.eval.csv\n",
      "predictions written to ./experiments/model_eval_by_dis/Rangpur/m9.test.csv\n",
      "evaluation written to ./experiments/model_eval_by_dis/Rangpur/m9.eval.csv\n",
      "predictions written to ./experiments/model_eval_by_dis/Rangpur/m7.test.csv\n",
      "evaluation written to ./experiments/model_eval_by_dis/Rangpur/m7.eval.csv\n",
      "dis 48 / 63\n",
      "predictions written to ./experiments/model_eval_by_dis/Dhaka/m5.test.csv\n",
      "evaluation written to ./experiments/model_eval_by_dis/Dhaka/m5.eval.csv\n"
     ]
    },
    {
     "name": "stderr",
     "output_type": "stream",
     "text": [
      "/home/kane/code/fyp/venv/lib/python3.10/site-packages/sklearn/metrics/_classification.py:1344: UndefinedMetricWarning: Precision is ill-defined and being set to 0.0 due to no predicted samples. Use `zero_division` parameter to control this behavior.\n",
      "  _warn_prf(average, modifier, msg_start, len(result))\n"
     ]
    },
    {
     "name": "stdout",
     "output_type": "stream",
     "text": [
      "predictions written to ./experiments/model_eval_by_dis/Dhaka/m3.test.csv\n",
      "evaluation written to ./experiments/model_eval_by_dis/Dhaka/m3.eval.csv\n",
      "predictions written to ./experiments/model_eval_by_dis/Dhaka/m4.test.csv\n",
      "evaluation written to ./experiments/model_eval_by_dis/Dhaka/m4.eval.csv\n"
     ]
    },
    {
     "name": "stderr",
     "output_type": "stream",
     "text": [
      "Process Process-501:\n",
      "Traceback (most recent call last):\n",
      "  File \"/home/kane/code/fyp/venv/lib/python3.10/site-packages/multiprocess/process.py\", line 314, in _bootstrap\n",
      "    self.run()\n",
      "  File \"/home/kane/code/fyp/venv/lib/python3.10/site-packages/multiprocess/process.py\", line 108, in run\n",
      "    self._target(*self._args, **self._kwargs)\n",
      "  File \"/tmp/ipykernel_331508/3834942049.py\", line 10, in run_model\n",
      "    pred_df = model.main(f'./experiments/model_eval_by_dis/{dis}/k1.csv', k_fold)\n",
      "  File \"/home/kane/code/fyp/models/model8/model.py\", line 102, in main\n",
      "    test_df['Prediction'] = gen_predictions(train_df, test_df, k_fold)\n",
      "  File \"/home/kane/code/fyp/models/model8/model.py\", line 50, in gen_predictions\n",
      "    tt_df = append_test_train(te_div, tr_div)\n",
      "  File \"/home/kane/code/fyp/models/model_utils/utils.py\", line 59, in append_test_train\n",
      "    test.loc[:, 'tid'] = 1\n",
      "  File \"/home/kane/code/fyp/venv/lib/python3.10/site-packages/pandas/core/indexing.py\", line 818, in __setitem__\n",
      "    iloc._setitem_with_indexer(indexer, value, self.name)\n",
      "  File \"/home/kane/code/fyp/venv/lib/python3.10/site-packages/pandas/core/indexing.py\", line 1718, in _setitem_with_indexer\n",
      "    raise ValueError(\n",
      "ValueError: cannot set a frame with no defined index and a scalar\n",
      "/home/kane/code/fyp/models/model_utils/utils.py:35: FutureWarning: In a future version, the Index constructor will not infer numeric dtypes when passed object-dtype sequences (matching Series behavior)\n",
      "  df[header] = pd.Categorical(df[header]).codes\n",
      "/home/kane/code/fyp/models/model_utils/utils.py:35: FutureWarning: In a future version, the Index constructor will not infer numeric dtypes when passed object-dtype sequences (matching Series behavior)\n",
      "  df[header] = pd.Categorical(df[header]).codes\n",
      "/home/kane/code/fyp/models/model_utils/utils.py:35: FutureWarning: In a future version, the Index constructor will not infer numeric dtypes when passed object-dtype sequences (matching Series behavior)\n",
      "  df[header] = pd.Categorical(df[header]).codes\n",
      "/home/kane/code/fyp/models/model_utils/utils.py:35: FutureWarning: In a future version, the Index constructor will not infer numeric dtypes when passed object-dtype sequences (matching Series behavior)\n",
      "  df[header] = pd.Categorical(df[header]).codes\n",
      "/home/kane/code/fyp/models/model_utils/utils.py:46: UserWarning: Geometry is in a geographic CRS. Results from 'centroid' are likely incorrect. Use 'GeoSeries.to_crs()' to re-project geometries to a projected CRS before this operation.\n",
      "\n",
      "  gdf['lon'] = gdf.centroid.x\n",
      "/home/kane/code/fyp/models/model_utils/utils.py:47: UserWarning: Geometry is in a geographic CRS. Results from 'centroid' are likely incorrect. Use 'GeoSeries.to_crs()' to re-project geometries to a projected CRS before this operation.\n",
      "\n",
      "  gdf['lat'] = gdf.centroid.y\n",
      "/home/kane/code/fyp/models/model_utils/utils.py:46: UserWarning: Geometry is in a geographic CRS. Results from 'centroid' are likely incorrect. Use 'GeoSeries.to_crs()' to re-project geometries to a projected CRS before this operation.\n",
      "\n",
      "  gdf['lon'] = gdf.centroid.x\n",
      "/home/kane/code/fyp/models/model_utils/utils.py:47: UserWarning: Geometry is in a geographic CRS. Results from 'centroid' are likely incorrect. Use 'GeoSeries.to_crs()' to re-project geometries to a projected CRS before this operation.\n",
      "\n",
      "  gdf['lat'] = gdf.centroid.y\n"
     ]
    },
    {
     "name": "stdout",
     "output_type": "stream",
     "text": [
      "predictions written to ./experiments/model_eval_by_dis/Dhaka/m11.test.csv\n",
      "evaluation written to ./experiments/model_eval_by_dis/Dhaka/m11.eval.csv\n",
      "predictions written to ./experiments/model_eval_by_dis/Dhaka/m10.test.csv\n",
      "evaluation written to ./experiments/model_eval_by_dis/Dhaka/m10.eval.csv\n",
      "predictions written to ./experiments/model_eval_by_dis/Dhaka/m6.test.csv\n",
      "evaluation written to ./experiments/model_eval_by_dis/Dhaka/m6.eval.csv\n",
      "predictions written to ./experiments/model_eval_by_dis/Dhaka/m9.test.csv\n",
      "evaluation written to ./experiments/model_eval_by_dis/Dhaka/m9.eval.csv\n",
      "predictions written to ./experiments/model_eval_by_dis/Dhaka/m7.test.csv\n",
      "evaluation written to ./experiments/model_eval_by_dis/Dhaka/m7.eval.csv\n",
      "dis 49 / 63\n",
      "predictions written to ./experiments/model_eval_by_dis/Panchagarh/m5.test.csv\n",
      "evaluation written to ./experiments/model_eval_by_dis/Panchagarh/m5.eval.csv\n"
     ]
    },
    {
     "name": "stderr",
     "output_type": "stream",
     "text": [
      "/home/kane/code/fyp/venv/lib/python3.10/site-packages/sklearn/metrics/_classification.py:1344: UndefinedMetricWarning: Precision is ill-defined and being set to 0.0 due to no predicted samples. Use `zero_division` parameter to control this behavior.\n",
      "  _warn_prf(average, modifier, msg_start, len(result))\n"
     ]
    },
    {
     "name": "stdout",
     "output_type": "stream",
     "text": [
      "predictions written to ./experiments/model_eval_by_dis/Panchagarh/m3.test.csv\n",
      "evaluation written to ./experiments/model_eval_by_dis/Panchagarh/m3.eval.csv"
     ]
    },
    {
     "name": "stderr",
     "output_type": "stream",
     "text": [
      "/home/kane/code/fyp/venv/lib/python3.10/site-packages/sklearn/metrics/_classification.py:1344: UndefinedMetricWarning: Precision is ill-defined and being set to 0.0 due to no predicted samples. Use `zero_division` parameter to control this behavior.\n",
      "  _warn_prf(average, modifier, msg_start, len(result))\n"
     ]
    },
    {
     "name": "stdout",
     "output_type": "stream",
     "text": [
      "\n",
      "predictions written to ./experiments/model_eval_by_dis/Panchagarh/m4.test.csv\n",
      "evaluation written to ./experiments/model_eval_by_dis/Panchagarh/m4.eval.csv\n"
     ]
    },
    {
     "name": "stderr",
     "output_type": "stream",
     "text": [
      "Process Process-510:\n",
      "Traceback (most recent call last):\n",
      "  File \"/home/kane/code/fyp/venv/lib/python3.10/site-packages/multiprocess/process.py\", line 314, in _bootstrap\n",
      "    self.run()\n",
      "  File \"/home/kane/code/fyp/venv/lib/python3.10/site-packages/multiprocess/process.py\", line 108, in run\n",
      "    self._target(*self._args, **self._kwargs)\n",
      "  File \"/tmp/ipykernel_331508/3834942049.py\", line 10, in run_model\n",
      "    pred_df = model.main(f'./experiments/model_eval_by_dis/{dis}/k1.csv', k_fold)\n",
      "  File \"/home/kane/code/fyp/models/model8/model.py\", line 102, in main\n",
      "    test_df['Prediction'] = gen_predictions(train_df, test_df, k_fold)\n",
      "  File \"/home/kane/code/fyp/models/model8/model.py\", line 50, in gen_predictions\n",
      "    tt_df = append_test_train(te_div, tr_div)\n",
      "  File \"/home/kane/code/fyp/models/model_utils/utils.py\", line 59, in append_test_train\n",
      "    test.loc[:, 'tid'] = 1\n",
      "  File \"/home/kane/code/fyp/venv/lib/python3.10/site-packages/pandas/core/indexing.py\", line 818, in __setitem__\n",
      "    iloc._setitem_with_indexer(indexer, value, self.name)\n",
      "  File \"/home/kane/code/fyp/venv/lib/python3.10/site-packages/pandas/core/indexing.py\", line 1718, in _setitem_with_indexer\n",
      "    raise ValueError(\n",
      "ValueError: cannot set a frame with no defined index and a scalar\n",
      "/home/kane/code/fyp/models/model_utils/utils.py:35: FutureWarning: In a future version, the Index constructor will not infer numeric dtypes when passed object-dtype sequences (matching Series behavior)\n",
      "  df[header] = pd.Categorical(df[header]).codes\n",
      "/home/kane/code/fyp/models/model_utils/utils.py:35: FutureWarning: In a future version, the Index constructor will not infer numeric dtypes when passed object-dtype sequences (matching Series behavior)\n",
      "  df[header] = pd.Categorical(df[header]).codes\n",
      "/home/kane/code/fyp/models/model_utils/utils.py:46: UserWarning: Geometry is in a geographic CRS. Results from 'centroid' are likely incorrect. Use 'GeoSeries.to_crs()' to re-project geometries to a projected CRS before this operation.\n",
      "\n",
      "  gdf['lon'] = gdf.centroid.x\n",
      "/home/kane/code/fyp/models/model_utils/utils.py:47: UserWarning: Geometry is in a geographic CRS. Results from 'centroid' are likely incorrect. Use 'GeoSeries.to_crs()' to re-project geometries to a projected CRS before this operation.\n",
      "\n",
      "  gdf['lat'] = gdf.centroid.y\n",
      "/home/kane/code/fyp/models/model_utils/utils.py:35: FutureWarning: In a future version, the Index constructor will not infer numeric dtypes when passed object-dtype sequences (matching Series behavior)\n",
      "  df[header] = pd.Categorical(df[header]).codes\n",
      "/home/kane/code/fyp/models/model_utils/utils.py:35: FutureWarning: In a future version, the Index constructor will not infer numeric dtypes when passed object-dtype sequences (matching Series behavior)\n",
      "  df[header] = pd.Categorical(df[header]).codes\n",
      "/home/kane/code/fyp/models/model_utils/utils.py:46: UserWarning: Geometry is in a geographic CRS. Results from 'centroid' are likely incorrect. Use 'GeoSeries.to_crs()' to re-project geometries to a projected CRS before this operation.\n",
      "\n",
      "  gdf['lon'] = gdf.centroid.x\n",
      "/home/kane/code/fyp/venv/lib/python3.10/site-packages/sklearn/metrics/_classification.py:1344: UndefinedMetricWarning: Precision is ill-defined and being set to 0.0 due to no predicted samples. Use `zero_division` parameter to control this behavior.\n",
      "  _warn_prf(average, modifier, msg_start, len(result))\n"
     ]
    },
    {
     "name": "stdout",
     "output_type": "stream",
     "text": [
      "predictions written to ./experiments/model_eval_by_dis/Panchagarh/m11.test.csv\n",
      "evaluation written to ./experiments/model_eval_by_dis/Panchagarh/m11.eval.csv\n"
     ]
    },
    {
     "name": "stderr",
     "output_type": "stream",
     "text": [
      "/home/kane/code/fyp/models/model_utils/utils.py:47: UserWarning: Geometry is in a geographic CRS. Results from 'centroid' are likely incorrect. Use 'GeoSeries.to_crs()' to re-project geometries to a projected CRS before this operation.\n",
      "\n",
      "  gdf['lat'] = gdf.centroid.y\n",
      "/home/kane/code/fyp/venv/lib/python3.10/site-packages/sklearn/metrics/_classification.py:1344: UndefinedMetricWarning: Precision is ill-defined and being set to 0.0 due to no predicted samples. Use `zero_division` parameter to control this behavior.\n",
      "  _warn_prf(average, modifier, msg_start, len(result))\n"
     ]
    },
    {
     "name": "stdout",
     "output_type": "stream",
     "text": [
      "predictions written to ./experiments/model_eval_by_dis/Panchagarh/m10.test.csv\n",
      "evaluation written to ./experiments/model_eval_by_dis/Panchagarh/m10.eval.csv\n",
      "predictions written to ./experiments/model_eval_by_dis/Panchagarh/m6.test.csv\n",
      "evaluation written to ./experiments/model_eval_by_dis/Panchagarh/m6.eval.csv\n",
      "predictions written to ./experiments/model_eval_by_dis/Panchagarh/m9.test.csv\n",
      "evaluation written to ./experiments/model_eval_by_dis/Panchagarh/m9.eval.csv\n"
     ]
    },
    {
     "name": "stderr",
     "output_type": "stream",
     "text": [
      "/home/kane/code/fyp/venv/lib/python3.10/site-packages/sklearn/metrics/_classification.py:1344: UndefinedMetricWarning: Precision is ill-defined and being set to 0.0 due to no predicted samples. Use `zero_division` parameter to control this behavior.\n",
      "  _warn_prf(average, modifier, msg_start, len(result))\n"
     ]
    },
    {
     "name": "stdout",
     "output_type": "stream",
     "text": [
      "predictions written to ./experiments/model_eval_by_dis/Panchagarh/m7.test.csv\n",
      "evaluation written to ./experiments/model_eval_by_dis/Panchagarh/m7.eval.csv\n",
      "dis 50 / 63\n",
      "predictions written to ./experiments/model_eval_by_dis/Chandpur/m5.test.csv\n",
      "evaluation written to ./experiments/model_eval_by_dis/Chandpur/m5.eval.csv\n",
      "predictions written to ./experiments/model_eval_by_dis/Chandpur/m3.test.csv\n",
      "evaluation written to ./experiments/model_eval_by_dis/Chandpur/m3.eval.csv\n",
      "predictions written to ./experiments/model_eval_by_dis/Chandpur/m4.test.csv\n",
      "evaluation written to ./experiments/model_eval_by_dis/Chandpur/m4.eval.csv\n"
     ]
    },
    {
     "name": "stderr",
     "output_type": "stream",
     "text": [
      "/home/kane/code/fyp/models/model_utils/utils.py:46: UserWarning: Geometry is in a geographic CRS. Results from 'centroid' are likely incorrect. Use 'GeoSeries.to_crs()' to re-project geometries to a projected CRS before this operation.\n",
      "\n",
      "  gdf['lon'] = gdf.centroid.x\n",
      "Process Process-519:\n",
      "Traceback (most recent call last):\n",
      "  File \"/home/kane/code/fyp/venv/lib/python3.10/site-packages/multiprocess/process.py\", line 314, in _bootstrap\n",
      "    self.run()\n",
      "  File \"/home/kane/code/fyp/venv/lib/python3.10/site-packages/multiprocess/process.py\", line 108, in run\n",
      "    self._target(*self._args, **self._kwargs)\n",
      "  File \"/tmp/ipykernel_331508/3834942049.py\", line 10, in run_model\n",
      "    pred_df = model.main(f'./experiments/model_eval_by_dis/{dis}/k1.csv', k_fold)\n",
      "  File \"/home/kane/code/fyp/models/model8/model.py\", line 102, in main\n",
      "    test_df['Prediction'] = gen_predictions(train_df, test_df, k_fold)\n",
      "  File \"/home/kane/code/fyp/models/model8/model.py\", line 50, in gen_predictions\n",
      "    tt_df = append_test_train(te_div, tr_div)\n",
      "  File \"/home/kane/code/fyp/models/model_utils/utils.py\", line 59, in append_test_train\n",
      "    test.loc[:, 'tid'] = 1\n",
      "  File \"/home/kane/code/fyp/venv/lib/python3.10/site-packages/pandas/core/indexing.py\", line 818, in __setitem__\n",
      "    iloc._setitem_with_indexer(indexer, value, self.name)\n",
      "  File \"/home/kane/code/fyp/venv/lib/python3.10/site-packages/pandas/core/indexing.py\", line 1718, in _setitem_with_indexer\n",
      "    raise ValueError(\n",
      "ValueError: cannot set a frame with no defined index and a scalar\n",
      "/home/kane/code/fyp/models/model_utils/utils.py:47: UserWarning: Geometry is in a geographic CRS. Results from 'centroid' are likely incorrect. Use 'GeoSeries.to_crs()' to re-project geometries to a projected CRS before this operation.\n",
      "\n",
      "  gdf['lat'] = gdf.centroid.y\n",
      "/home/kane/code/fyp/models/model_utils/utils.py:35: FutureWarning: In a future version, the Index constructor will not infer numeric dtypes when passed object-dtype sequences (matching Series behavior)\n",
      "  df[header] = pd.Categorical(df[header]).codes\n",
      "/home/kane/code/fyp/models/model_utils/utils.py:35: FutureWarning: In a future version, the Index constructor will not infer numeric dtypes when passed object-dtype sequences (matching Series behavior)\n",
      "  df[header] = pd.Categorical(df[header]).codes\n",
      "/home/kane/code/fyp/models/model_utils/utils.py:46: UserWarning: Geometry is in a geographic CRS. Results from 'centroid' are likely incorrect. Use 'GeoSeries.to_crs()' to re-project geometries to a projected CRS before this operation.\n",
      "\n",
      "  gdf['lon'] = gdf.centroid.x\n",
      "/home/kane/code/fyp/models/model_utils/utils.py:35: FutureWarning: In a future version, the Index constructor will not infer numeric dtypes when passed object-dtype sequences (matching Series behavior)\n",
      "  df[header] = pd.Categorical(df[header]).codes\n",
      "/home/kane/code/fyp/models/model_utils/utils.py:35: FutureWarning: In a future version, the Index constructor will not infer numeric dtypes when passed object-dtype sequences (matching Series behavior)\n",
      "  df[header] = pd.Categorical(df[header]).codes\n",
      "/home/kane/code/fyp/models/model_utils/utils.py:47: UserWarning: Geometry is in a geographic CRS. Results from 'centroid' are likely incorrect. Use 'GeoSeries.to_crs()' to re-project geometries to a projected CRS before this operation.\n",
      "\n",
      "  gdf['lat'] = gdf.centroid.y\n"
     ]
    },
    {
     "name": "stdout",
     "output_type": "stream",
     "text": [
      "predictions written to ./experiments/model_eval_by_dis/Chandpur/m11.test.csv\n",
      "evaluation written to ./experiments/model_eval_by_dis/Chandpur/m11.eval.csv\n",
      "predictions written to ./experiments/model_eval_by_dis/Chandpur/m10.test.csv\n",
      "evaluation written to ./experiments/model_eval_by_dis/Chandpur/m10.eval.csv\n",
      "predictions written to ./experiments/model_eval_by_dis/Chandpur/m6.test.csv\n",
      "evaluation written to ./experiments/model_eval_by_dis/Chandpur/m6.eval.csv\n",
      "predictions written to ./experiments/model_eval_by_dis/Chandpur/m9.test.csv\n",
      "evaluation written to ./experiments/model_eval_by_dis/Chandpur/m9.eval.csv\n",
      "predictions written to ./experiments/model_eval_by_dis/Chandpur/m7.test.csv\n",
      "evaluation written to ./experiments/model_eval_by_dis/Chandpur/m7.eval.csv\n",
      "dis 51 / 63\n",
      "predictions written to ./experiments/model_eval_by_dis/Kushtia/m5.test.csv\n",
      "evaluation written to ./experiments/model_eval_by_dis/Kushtia/m5.eval.csv\n",
      "predictions written to ./experiments/model_eval_by_dis/Kushtia/m3.test.csv\n",
      "evaluation written to ./experiments/model_eval_by_dis/Kushtia/m3.eval.csv\n"
     ]
    },
    {
     "name": "stderr",
     "output_type": "stream",
     "text": [
      "/home/kane/code/fyp/venv/lib/python3.10/site-packages/sklearn/metrics/_classification.py:1344: UndefinedMetricWarning: Precision is ill-defined and being set to 0.0 due to no predicted samples. Use `zero_division` parameter to control this behavior.\n",
      "  _warn_prf(average, modifier, msg_start, len(result))\n"
     ]
    },
    {
     "name": "stdout",
     "output_type": "stream",
     "text": [
      "predictions written to ./experiments/model_eval_by_dis/Kushtia/m4.test.csv\n",
      "evaluation written to ./experiments/model_eval_by_dis/Kushtia/m4.eval.csv\n"
     ]
    },
    {
     "name": "stderr",
     "output_type": "stream",
     "text": [
      "/home/kane/code/fyp/models/model_utils/utils.py:46: UserWarning: Geometry is in a geographic CRS. Results from 'centroid' are likely incorrect. Use 'GeoSeries.to_crs()' to re-project geometries to a projected CRS before this operation.\n",
      "\n",
      "  gdf['lon'] = gdf.centroid.x\n",
      "/home/kane/code/fyp/models/model_utils/utils.py:35: FutureWarning: In a future version, the Index constructor will not infer numeric dtypes when passed object-dtype sequences (matching Series behavior)\n",
      "  df[header] = pd.Categorical(df[header]).codes\n",
      "/home/kane/code/fyp/models/model_utils/utils.py:46: UserWarning: Geometry is in a geographic CRS. Results from 'centroid' are likely incorrect. Use 'GeoSeries.to_crs()' to re-project geometries to a projected CRS before this operation.\n",
      "\n",
      "  gdf['lon'] = gdf.centroid.x\n",
      "/home/kane/code/fyp/models/model_utils/utils.py:35: FutureWarning: In a future version, the Index constructor will not infer numeric dtypes when passed object-dtype sequences (matching Series behavior)\n",
      "  df[header] = pd.Categorical(df[header]).codes\n",
      "/home/kane/code/fyp/models/model_utils/utils.py:35: FutureWarning: In a future version, the Index constructor will not infer numeric dtypes when passed object-dtype sequences (matching Series behavior)\n",
      "  df[header] = pd.Categorical(df[header]).codes\n",
      "/home/kane/code/fyp/models/model_utils/utils.py:47: UserWarning: Geometry is in a geographic CRS. Results from 'centroid' are likely incorrect. Use 'GeoSeries.to_crs()' to re-project geometries to a projected CRS before this operation.\n",
      "\n",
      "  gdf['lat'] = gdf.centroid.y\n",
      "/home/kane/code/fyp/models/model_utils/utils.py:47: UserWarning: Geometry is in a geographic CRS. Results from 'centroid' are likely incorrect. Use 'GeoSeries.to_crs()' to re-project geometries to a projected CRS before this operation.\n",
      "\n",
      "  gdf['lat'] = gdf.centroid.y\n",
      "Process Process-528:\n",
      "Traceback (most recent call last):\n",
      "  File \"/home/kane/code/fyp/venv/lib/python3.10/site-packages/multiprocess/process.py\", line 314, in _bootstrap\n",
      "    self.run()\n",
      "  File \"/home/kane/code/fyp/venv/lib/python3.10/site-packages/multiprocess/process.py\", line 108, in run\n",
      "    self._target(*self._args, **self._kwargs)\n",
      "  File \"/tmp/ipykernel_331508/3834942049.py\", line 10, in run_model\n",
      "    pred_df = model.main(f'./experiments/model_eval_by_dis/{dis}/k1.csv', k_fold)\n",
      "  File \"/home/kane/code/fyp/models/model8/model.py\", line 102, in main\n",
      "    test_df['Prediction'] = gen_predictions(train_df, test_df, k_fold)\n",
      "  File \"/home/kane/code/fyp/models/model8/model.py\", line 50, in gen_predictions\n",
      "    tt_df = append_test_train(te_div, tr_div)\n",
      "  File \"/home/kane/code/fyp/models/model_utils/utils.py\", line 59, in append_test_train\n",
      "    test.loc[:, 'tid'] = 1\n",
      "  File \"/home/kane/code/fyp/venv/lib/python3.10/site-packages/pandas/core/indexing.py\", line 818, in __setitem__\n",
      "    iloc._setitem_with_indexer(indexer, value, self.name)\n",
      "  File \"/home/kane/code/fyp/venv/lib/python3.10/site-packages/pandas/core/indexing.py\", line 1718, in _setitem_with_indexer\n",
      "    raise ValueError(\n",
      "ValueError: cannot set a frame with no defined index and a scalar\n",
      "/home/kane/code/fyp/models/model_utils/utils.py:35: FutureWarning: In a future version, the Index constructor will not infer numeric dtypes when passed object-dtype sequences (matching Series behavior)\n",
      "  df[header] = pd.Categorical(df[header]).codes\n",
      "/home/kane/code/fyp/models/model_utils/utils.py:35: FutureWarning: In a future version, the Index constructor will not infer numeric dtypes when passed object-dtype sequences (matching Series behavior)\n",
      "  df[header] = pd.Categorical(df[header]).codes\n",
      "/home/kane/code/fyp/models/model_utils/utils.py:35: FutureWarning: In a future version, the Index constructor will not infer numeric dtypes when passed object-dtype sequences (matching Series behavior)\n",
      "  df[header] = pd.Categorical(df[header]).codes\n"
     ]
    },
    {
     "name": "stdout",
     "output_type": "stream",
     "text": [
      "predictions written to ./experiments/model_eval_by_dis/Kushtia/m11.test.csv\n",
      "evaluation written to ./experiments/model_eval_by_dis/Kushtia/m11.eval.csv\n",
      "predictions written to ./experiments/model_eval_by_dis/Kushtia/m10.test.csv\n",
      "evaluation written to ./experiments/model_eval_by_dis/Kushtia/m10.eval.csv\n",
      "predictions written to ./experiments/model_eval_by_dis/Kushtia/m6.test.csv\n",
      "evaluation written to ./experiments/model_eval_by_dis/Kushtia/m6.eval.csv\n",
      "predictions written to ./experiments/model_eval_by_dis/Kushtia/m9.test.csv\n",
      "evaluation written to ./experiments/model_eval_by_dis/Kushtia/m9.eval.csv\n",
      "predictions written to ./experiments/model_eval_by_dis/Kushtia/m7.test.csv\n",
      "evaluation written to ./experiments/model_eval_by_dis/Kushtia/m7.eval.csv\n",
      "dis 52 / 63\n",
      "predictions written to ./experiments/model_eval_by_dis/Sherpur/m5.test.csv\n",
      "evaluation written to ./experiments/model_eval_by_dis/Sherpur/m5.eval.csv\n"
     ]
    },
    {
     "name": "stderr",
     "output_type": "stream",
     "text": [
      "/home/kane/code/fyp/venv/lib/python3.10/site-packages/sklearn/metrics/_classification.py:1344: UndefinedMetricWarning: Precision is ill-defined and being set to 0.0 due to no predicted samples. Use `zero_division` parameter to control this behavior.\n",
      "  _warn_prf(average, modifier, msg_start, len(result))\n"
     ]
    },
    {
     "name": "stdout",
     "output_type": "stream",
     "text": [
      "predictions written to ./experiments/model_eval_by_dis/Sherpur/m3.test.csv\n",
      "evaluation written to ./experiments/model_eval_by_dis/Sherpur/m3.eval.csv\n"
     ]
    },
    {
     "name": "stderr",
     "output_type": "stream",
     "text": [
      "/home/kane/code/fyp/venv/lib/python3.10/site-packages/sklearn/metrics/_classification.py:1344: UndefinedMetricWarning: Precision is ill-defined and being set to 0.0 due to no predicted samples. Use `zero_division` parameter to control this behavior.\n",
      "  _warn_prf(average, modifier, msg_start, len(result))\n"
     ]
    },
    {
     "name": "stdout",
     "output_type": "stream",
     "text": [
      "predictions written to ./experiments/model_eval_by_dis/Sherpur/m4.test.csv\n",
      "evaluation written to ./experiments/model_eval_by_dis/Sherpur/m4.eval.csv\n"
     ]
    },
    {
     "name": "stderr",
     "output_type": "stream",
     "text": [
      "/home/kane/code/fyp/models/model_utils/utils.py:60: SettingWithCopyWarning: \n",
      "A value is trying to be set on a copy of a slice from a DataFrame.\n",
      "Try using .loc[row_indexer,col_indexer] = value instead\n",
      "\n",
      "See the caveats in the documentation: https://pandas.pydata.org/pandas-docs/stable/user_guide/indexing.html#returning-a-view-versus-a-copy\n",
      "  train.loc[:, 'tid'] = 0\n",
      "/home/kane/code/fyp/models/model_utils/utils.py:46: UserWarning: Geometry is in a geographic CRS. Results from 'centroid' are likely incorrect. Use 'GeoSeries.to_crs()' to re-project geometries to a projected CRS before this operation.\n",
      "\n",
      "  gdf['lon'] = gdf.centroid.x\n",
      "/home/kane/code/fyp/models/model_utils/utils.py:46: UserWarning: Geometry is in a geographic CRS. Results from 'centroid' are likely incorrect. Use 'GeoSeries.to_crs()' to re-project geometries to a projected CRS before this operation.\n",
      "\n",
      "  gdf['lon'] = gdf.centroid.x\n",
      "/home/kane/code/fyp/models/model_utils/utils.py:47: UserWarning: Geometry is in a geographic CRS. Results from 'centroid' are likely incorrect. Use 'GeoSeries.to_crs()' to re-project geometries to a projected CRS before this operation.\n",
      "\n",
      "  gdf['lat'] = gdf.centroid.y\n",
      "/home/kane/code/fyp/models/model_utils/utils.py:35: FutureWarning: In a future version, the Index constructor will not infer numeric dtypes when passed object-dtype sequences (matching Series behavior)\n",
      "  df[header] = pd.Categorical(df[header]).codes\n",
      "/home/kane/code/fyp/models/model_utils/utils.py:35: FutureWarning: In a future version, the Index constructor will not infer numeric dtypes when passed object-dtype sequences (matching Series behavior)\n",
      "  df[header] = pd.Categorical(df[header]).codes\n",
      "/home/kane/code/fyp/models/model_utils/utils.py:47: UserWarning: Geometry is in a geographic CRS. Results from 'centroid' are likely incorrect. Use 'GeoSeries.to_crs()' to re-project geometries to a projected CRS before this operation.\n",
      "\n",
      "  gdf['lat'] = gdf.centroid.y\n",
      "/home/kane/code/fyp/models/model_utils/utils.py:35: FutureWarning: In a future version, the Index constructor will not infer numeric dtypes when passed object-dtype sequences (matching Series behavior)\n",
      "  df[header] = pd.Categorical(df[header]).codes\n",
      "/home/kane/code/fyp/models/model_utils/utils.py:35: FutureWarning: In a future version, the Index constructor will not infer numeric dtypes when passed object-dtype sequences (matching Series behavior)\n",
      "  df[header] = pd.Categorical(df[header]).codes\n"
     ]
    },
    {
     "name": "stdout",
     "output_type": "stream",
     "text": [
      "predictions written to ./experiments/model_eval_by_dis/Sherpur/m11.test.csv\n",
      "evaluation written to ./experiments/model_eval_by_dis/Sherpur/m11.eval.csv\n",
      "predictions written to ./experiments/model_eval_by_dis/Sherpur/m10.test.csv\n",
      "evaluation written to ./experiments/model_eval_by_dis/Sherpur/m10.eval.csv\n",
      "predictions written to ./experiments/model_eval_by_dis/Sherpur/m6.test.csv\n",
      "evaluation written to ./experiments/model_eval_by_dis/Sherpur/m6.eval.csv\n",
      "predictions written to ./experiments/model_eval_by_dis/Sherpur/m9.test.csv\n",
      "evaluation written to ./experiments/model_eval_by_dis/Sherpur/m9.eval.csv\n",
      "predictions written to ./experiments/model_eval_by_dis/Sherpur/m7.test.csv\n",
      "evaluation written to ./experiments/model_eval_by_dis/Sherpur/m7.eval.csv\n"
     ]
    },
    {
     "name": "stderr",
     "output_type": "stream",
     "text": [
      "/home/kane/code/fyp/venv/lib/python3.10/site-packages/sklearn/neural_network/_multilayer_perceptron.py:679: ConvergenceWarning: Stochastic Optimizer: Maximum iterations (100) reached and the optimization hasn't converged yet.\n",
      "  warnings.warn(\n",
      "Process Process-537:\n",
      "Traceback (most recent call last):\n",
      "  File \"/home/kane/code/fyp/venv/lib/python3.10/site-packages/multiprocess/process.py\", line 314, in _bootstrap\n",
      "    self.run()\n",
      "  File \"/home/kane/code/fyp/venv/lib/python3.10/site-packages/multiprocess/process.py\", line 108, in run\n",
      "    self._target(*self._args, **self._kwargs)\n",
      "  File \"/tmp/ipykernel_331508/3834942049.py\", line 10, in run_model\n",
      "    pred_df = model.main(f'./experiments/model_eval_by_dis/{dis}/k1.csv', k_fold)\n",
      "  File \"/home/kane/code/fyp/models/model8/model.py\", line 102, in main\n",
      "    test_df['Prediction'] = gen_predictions(train_df, test_df, k_fold)\n",
      "  File \"/home/kane/code/fyp/models/model8/model.py\", line 50, in gen_predictions\n",
      "    tt_df = append_test_train(te_div, tr_div)\n",
      "  File \"/home/kane/code/fyp/models/model_utils/utils.py\", line 59, in append_test_train\n",
      "    test.loc[:, 'tid'] = 1\n",
      "  File \"/home/kane/code/fyp/venv/lib/python3.10/site-packages/pandas/core/indexing.py\", line 818, in __setitem__\n",
      "    iloc._setitem_with_indexer(indexer, value, self.name)\n",
      "  File \"/home/kane/code/fyp/venv/lib/python3.10/site-packages/pandas/core/indexing.py\", line 1718, in _setitem_with_indexer\n",
      "    raise ValueError(\n",
      "ValueError: cannot set a frame with no defined index and a scalar\n"
     ]
    },
    {
     "name": "stdout",
     "output_type": "stream",
     "text": [
      "dis 53 / 63\n",
      "predictions written to ./experiments/model_eval_by_dis/Pabna/m5.test.csv\n",
      "evaluation written to ./experiments/model_eval_by_dis/Pabna/m5.eval.csv\n",
      "predictions written to ./experiments/model_eval_by_dis/Pabna/m3.test.csv\n",
      "evaluation written to ./experiments/model_eval_by_dis/Pabna/m3.eval.csv\n",
      "predictions written to ./experiments/model_eval_by_dis/Pabna/m4.test.csv\n",
      "evaluation written to ./experiments/model_eval_by_dis/Pabna/m4.eval.csv\n"
     ]
    },
    {
     "name": "stderr",
     "output_type": "stream",
     "text": [
      "Process Process-546:\n",
      "Traceback (most recent call last):\n",
      "  File \"/home/kane/code/fyp/venv/lib/python3.10/site-packages/multiprocess/process.py\", line 314, in _bootstrap\n",
      "    self.run()\n",
      "  File \"/home/kane/code/fyp/venv/lib/python3.10/site-packages/multiprocess/process.py\", line 108, in run\n",
      "    self._target(*self._args, **self._kwargs)\n",
      "  File \"/tmp/ipykernel_331508/3834942049.py\", line 10, in run_model\n",
      "    pred_df = model.main(f'./experiments/model_eval_by_dis/{dis}/k1.csv', k_fold)\n",
      "  File \"/home/kane/code/fyp/models/model8/model.py\", line 102, in main\n",
      "    test_df['Prediction'] = gen_predictions(train_df, test_df, k_fold)\n",
      "  File \"/home/kane/code/fyp/models/model8/model.py\", line 50, in gen_predictions\n",
      "    tt_df = append_test_train(te_div, tr_div)\n",
      "  File \"/home/kane/code/fyp/models/model_utils/utils.py\", line 59, in append_test_train\n",
      "    test.loc[:, 'tid'] = 1\n",
      "  File \"/home/kane/code/fyp/venv/lib/python3.10/site-packages/pandas/core/indexing.py\", line 818, in __setitem__\n",
      "    iloc._setitem_with_indexer(indexer, value, self.name)\n",
      "  File \"/home/kane/code/fyp/venv/lib/python3.10/site-packages/pandas/core/indexing.py\", line 1718, in _setitem_with_indexer\n",
      "    raise ValueError(\n",
      "ValueError: cannot set a frame with no defined index and a scalar\n",
      "/home/kane/code/fyp/models/model_utils/utils.py:35: FutureWarning: In a future version, the Index constructor will not infer numeric dtypes when passed object-dtype sequences (matching Series behavior)\n",
      "  df[header] = pd.Categorical(df[header]).codes\n",
      "/home/kane/code/fyp/models/model_utils/utils.py:35: FutureWarning: In a future version, the Index constructor will not infer numeric dtypes when passed object-dtype sequences (matching Series behavior)\n",
      "  df[header] = pd.Categorical(df[header]).codes\n",
      "/home/kane/code/fyp/models/model_utils/utils.py:46: UserWarning: Geometry is in a geographic CRS. Results from 'centroid' are likely incorrect. Use 'GeoSeries.to_crs()' to re-project geometries to a projected CRS before this operation.\n",
      "\n",
      "  gdf['lon'] = gdf.centroid.x\n",
      "/home/kane/code/fyp/models/model_utils/utils.py:47: UserWarning: Geometry is in a geographic CRS. Results from 'centroid' are likely incorrect. Use 'GeoSeries.to_crs()' to re-project geometries to a projected CRS before this operation.\n",
      "\n",
      "  gdf['lat'] = gdf.centroid.y\n",
      "/home/kane/code/fyp/models/model_utils/utils.py:35: FutureWarning: In a future version, the Index constructor will not infer numeric dtypes when passed object-dtype sequences (matching Series behavior)\n",
      "  df[header] = pd.Categorical(df[header]).codes\n",
      "/home/kane/code/fyp/models/model_utils/utils.py:35: FutureWarning: In a future version, the Index constructor will not infer numeric dtypes when passed object-dtype sequences (matching Series behavior)\n",
      "  df[header] = pd.Categorical(df[header]).codes\n"
     ]
    },
    {
     "name": "stdout",
     "output_type": "stream",
     "text": [
      "predictions written to ./experiments/model_eval_by_dis/Pabna/m11.test.csv\n",
      "evaluation written to ./experiments/model_eval_by_dis/Pabna/m11.eval.csv\n"
     ]
    },
    {
     "name": "stderr",
     "output_type": "stream",
     "text": [
      "/home/kane/code/fyp/models/model_utils/utils.py:46: UserWarning: Geometry is in a geographic CRS. Results from 'centroid' are likely incorrect. Use 'GeoSeries.to_crs()' to re-project geometries to a projected CRS before this operation.\n",
      "\n",
      "  gdf['lon'] = gdf.centroid.x\n",
      "/home/kane/code/fyp/models/model_utils/utils.py:47: UserWarning: Geometry is in a geographic CRS. Results from 'centroid' are likely incorrect. Use 'GeoSeries.to_crs()' to re-project geometries to a projected CRS before this operation.\n",
      "\n",
      "  gdf['lat'] = gdf.centroid.y\n"
     ]
    },
    {
     "name": "stdout",
     "output_type": "stream",
     "text": [
      "predictions written to ./experiments/model_eval_by_dis/Pabna/m10.test.csv\n",
      "evaluation written to ./experiments/model_eval_by_dis/Pabna/m10.eval.csv\n",
      "predictions written to ./experiments/model_eval_by_dis/Pabna/m6.test.csv\n",
      "evaluation written to ./experiments/model_eval_by_dis/Pabna/m6.eval.csv\n",
      "predictions written to ./experiments/model_eval_by_dis/Pabna/m9.test.csv\n",
      "evaluation written to ./experiments/model_eval_by_dis/Pabna/m9.eval.csv\n",
      "predictions written to ./experiments/model_eval_by_dis/Pabna/m7.test.csv\n",
      "evaluation written to ./experiments/model_eval_by_dis/Pabna/m7.eval.csv\n",
      "dis 54 / 63\n"
     ]
    },
    {
     "name": "stderr",
     "output_type": "stream",
     "text": [
      "/home/kane/code/fyp/venv/lib/python3.10/site-packages/sklearn/metrics/_classification.py:1344: UndefinedMetricWarning: Precision is ill-defined and being set to 0.0 due to no predicted samples. Use `zero_division` parameter to control this behavior.\n",
      "  _warn_prf(average, modifier, msg_start, len(result))\n",
      "/home/kane/code/fyp/venv/lib/python3.10/site-packages/sklearn/metrics/_classification.py:1344: UndefinedMetricWarning: Recall is ill-defined and being set to 0.0 due to no true samples. Use `zero_division` parameter to control this behavior.\n",
      "  _warn_prf(average, modifier, msg_start, len(result))\n",
      "/home/kane/code/fyp/venv/lib/python3.10/site-packages/sklearn/metrics/_classification.py:1609: UndefinedMetricWarning: F-score is ill-defined and being set to 0.0 due to no true nor predicted samples. Use `zero_division` parameter to control this behavior.\n",
      "  _warn_prf(average, \"true nor predicted\", \"F-score is\", len(true_sum))\n"
     ]
    },
    {
     "name": "stdout",
     "output_type": "stream",
     "text": [
      "predictions written to ./experiments/model_eval_by_dis/Natore/m5.test.csv\n",
      "evaluation written to ./experiments/model_eval_by_dis/Natore/m5.eval.csv\n"
     ]
    },
    {
     "name": "stderr",
     "output_type": "stream",
     "text": [
      "/home/kane/code/fyp/venv/lib/python3.10/site-packages/sklearn/metrics/_classification.py:1344: UndefinedMetricWarning: Precision is ill-defined and being set to 0.0 due to no predicted samples. Use `zero_division` parameter to control this behavior.\n",
      "  _warn_prf(average, modifier, msg_start, len(result))\n",
      "/home/kane/code/fyp/venv/lib/python3.10/site-packages/sklearn/metrics/_classification.py:1344: UndefinedMetricWarning: Recall is ill-defined and being set to 0.0 due to no true samples. Use `zero_division` parameter to control this behavior.\n",
      "  _warn_prf(average, modifier, msg_start, len(result))\n",
      "/home/kane/code/fyp/venv/lib/python3.10/site-packages/sklearn/metrics/_classification.py:1609: UndefinedMetricWarning: F-score is ill-defined and being set to 0.0 due to no true nor predicted samples. Use `zero_division` parameter to control this behavior.\n",
      "  _warn_prf(average, \"true nor predicted\", \"F-score is\", len(true_sum))\n"
     ]
    },
    {
     "name": "stdout",
     "output_type": "stream",
     "text": [
      "predictions written to ./experiments/model_eval_by_dis/Natore/m3.test.csv\n",
      "evaluation written to ./experiments/model_eval_by_dis/Natore/m3.eval.csv\n"
     ]
    },
    {
     "name": "stderr",
     "output_type": "stream",
     "text": [
      "/home/kane/code/fyp/venv/lib/python3.10/site-packages/sklearn/metrics/_classification.py:1344: UndefinedMetricWarning: Precision is ill-defined and being set to 0.0 due to no predicted samples. Use `zero_division` parameter to control this behavior.\n",
      "  _warn_prf(average, modifier, msg_start, len(result))\n",
      "/home/kane/code/fyp/venv/lib/python3.10/site-packages/sklearn/metrics/_classification.py:1344: UndefinedMetricWarning: Recall is ill-defined and being set to 0.0 due to no true samples. Use `zero_division` parameter to control this behavior.\n",
      "  _warn_prf(average, modifier, msg_start, len(result))\n",
      "/home/kane/code/fyp/venv/lib/python3.10/site-packages/sklearn/metrics/_classification.py:1609: UndefinedMetricWarning: F-score is ill-defined and being set to 0.0 due to no true nor predicted samples. Use `zero_division` parameter to control this behavior.\n",
      "  _warn_prf(average, \"true nor predicted\", \"F-score is\", len(true_sum))\n"
     ]
    },
    {
     "name": "stdout",
     "output_type": "stream",
     "text": [
      "predictions written to ./experiments/model_eval_by_dis/Natore/m4.test.csv\n",
      "evaluation written to ./experiments/model_eval_by_dis/Natore/m4.eval.csv\n"
     ]
    },
    {
     "name": "stderr",
     "output_type": "stream",
     "text": [
      "/home/kane/code/fyp/models/model_utils/utils.py:35: FutureWarning: In a future version, the Index constructor will not infer numeric dtypes when passed object-dtype sequences (matching Series behavior)\n",
      "  df[header] = pd.Categorical(df[header]).codes\n",
      "/home/kane/code/fyp/models/model_utils/utils.py:35: FutureWarning: In a future version, the Index constructor will not infer numeric dtypes when passed object-dtype sequences (matching Series behavior)\n",
      "  df[header] = pd.Categorical(df[header]).codes\n",
      "Process Process-555:\n",
      "Traceback (most recent call last):\n",
      "  File \"/home/kane/code/fyp/venv/lib/python3.10/site-packages/multiprocess/process.py\", line 314, in _bootstrap\n",
      "    self.run()\n",
      "  File \"/home/kane/code/fyp/venv/lib/python3.10/site-packages/multiprocess/process.py\", line 108, in run\n",
      "    self._target(*self._args, **self._kwargs)\n",
      "  File \"/tmp/ipykernel_331508/3834942049.py\", line 10, in run_model\n",
      "    pred_df = model.main(f'./experiments/model_eval_by_dis/{dis}/k1.csv', k_fold)\n",
      "  File \"/home/kane/code/fyp/models/model8/model.py\", line 102, in main\n",
      "    test_df['Prediction'] = gen_predictions(train_df, test_df, k_fold)\n",
      "  File \"/home/kane/code/fyp/models/model8/model.py\", line 50, in gen_predictions\n",
      "    tt_df = append_test_train(te_div, tr_div)\n",
      "  File \"/home/kane/code/fyp/models/model_utils/utils.py\", line 59, in append_test_train\n",
      "    test.loc[:, 'tid'] = 1\n",
      "  File \"/home/kane/code/fyp/venv/lib/python3.10/site-packages/pandas/core/indexing.py\", line 818, in __setitem__\n",
      "    iloc._setitem_with_indexer(indexer, value, self.name)\n",
      "  File \"/home/kane/code/fyp/venv/lib/python3.10/site-packages/pandas/core/indexing.py\", line 1718, in _setitem_with_indexer\n",
      "    raise ValueError(\n",
      "ValueError: cannot set a frame with no defined index and a scalar\n",
      "/home/kane/code/fyp/models/model_utils/utils.py:35: FutureWarning: In a future version, the Index constructor will not infer numeric dtypes when passed object-dtype sequences (matching Series behavior)\n",
      "  df[header] = pd.Categorical(df[header]).codes\n",
      "/home/kane/code/fyp/models/model_utils/utils.py:35: FutureWarning: In a future version, the Index constructor will not infer numeric dtypes when passed object-dtype sequences (matching Series behavior)\n",
      "  df[header] = pd.Categorical(df[header]).codes\n",
      "/home/kane/code/fyp/models/model_utils/utils.py:46: UserWarning: Geometry is in a geographic CRS. Results from 'centroid' are likely incorrect. Use 'GeoSeries.to_crs()' to re-project geometries to a projected CRS before this operation.\n",
      "\n",
      "  gdf['lon'] = gdf.centroid.x\n",
      "/home/kane/code/fyp/models/model_utils/utils.py:46: UserWarning: Geometry is in a geographic CRS. Results from 'centroid' are likely incorrect. Use 'GeoSeries.to_crs()' to re-project geometries to a projected CRS before this operation.\n",
      "\n",
      "  gdf['lon'] = gdf.centroid.x\n",
      "/home/kane/code/fyp/models/model_utils/utils.py:47: UserWarning: Geometry is in a geographic CRS. Results from 'centroid' are likely incorrect. Use 'GeoSeries.to_crs()' to re-project geometries to a projected CRS before this operation.\n",
      "\n",
      "  gdf['lat'] = gdf.centroid.y\n",
      "/home/kane/code/fyp/models/model_utils/utils.py:47: UserWarning: Geometry is in a geographic CRS. Results from 'centroid' are likely incorrect. Use 'GeoSeries.to_crs()' to re-project geometries to a projected CRS before this operation.\n",
      "\n",
      "  gdf['lat'] = gdf.centroid.y\n",
      "/home/kane/code/fyp/venv/lib/python3.10/site-packages/sklearn/metrics/_classification.py:1344: UndefinedMetricWarning: Recall is ill-defined and being set to 0.0 due to no true samples. Use `zero_division` parameter to control this behavior.\n",
      "  _warn_prf(average, modifier, msg_start, len(result))\n"
     ]
    },
    {
     "name": "stdout",
     "output_type": "stream",
     "text": [
      "predictions written to ./experiments/model_eval_by_dis/Natore/m11.test.csv\n",
      "evaluation written to ./experiments/model_eval_by_dis/Natore/m11.eval.csv\n"
     ]
    },
    {
     "name": "stderr",
     "output_type": "stream",
     "text": [
      "/home/kane/code/fyp/venv/lib/python3.10/site-packages/sklearn/metrics/_classification.py:1344: UndefinedMetricWarning: Recall is ill-defined and being set to 0.0 due to no true samples. Use `zero_division` parameter to control this behavior.\n",
      "  _warn_prf(average, modifier, msg_start, len(result))\n"
     ]
    },
    {
     "name": "stdout",
     "output_type": "stream",
     "text": [
      "predictions written to ./experiments/model_eval_by_dis/Natore/m10.test.csv\n",
      "evaluation written to ./experiments/model_eval_by_dis/Natore/m10.eval.csv\n"
     ]
    },
    {
     "name": "stderr",
     "output_type": "stream",
     "text": [
      "/home/kane/code/fyp/venv/lib/python3.10/site-packages/sklearn/metrics/_classification.py:1344: UndefinedMetricWarning: Recall is ill-defined and being set to 0.0 due to no true samples. Use `zero_division` parameter to control this behavior.\n",
      "  _warn_prf(average, modifier, msg_start, len(result))\n"
     ]
    },
    {
     "name": "stdout",
     "output_type": "stream",
     "text": [
      "predictions written to ./experiments/model_eval_by_dis/Natore/m6.test.csv\n",
      "evaluation written to ./experiments/model_eval_by_dis/Natore/m6.eval.csv\n"
     ]
    },
    {
     "name": "stderr",
     "output_type": "stream",
     "text": [
      "/home/kane/code/fyp/venv/lib/python3.10/site-packages/sklearn/metrics/_classification.py:1344: UndefinedMetricWarning: Recall is ill-defined and being set to 0.0 due to no true samples. Use `zero_division` parameter to control this behavior.\n",
      "  _warn_prf(average, modifier, msg_start, len(result))\n"
     ]
    },
    {
     "name": "stdout",
     "output_type": "stream",
     "text": [
      "predictions written to ./experiments/model_eval_by_dis/Natore/m9.test.csv\n",
      "evaluation written to ./experiments/model_eval_by_dis/Natore/m9.eval.csv\n"
     ]
    },
    {
     "name": "stderr",
     "output_type": "stream",
     "text": [
      "/home/kane/code/fyp/venv/lib/python3.10/site-packages/sklearn/metrics/_classification.py:1344: UndefinedMetricWarning: Precision is ill-defined and being set to 0.0 due to no predicted samples. Use `zero_division` parameter to control this behavior.\n",
      "  _warn_prf(average, modifier, msg_start, len(result))\n",
      "/home/kane/code/fyp/venv/lib/python3.10/site-packages/sklearn/metrics/_classification.py:1344: UndefinedMetricWarning: Recall is ill-defined and being set to 0.0 due to no true samples. Use `zero_division` parameter to control this behavior.\n",
      "  _warn_prf(average, modifier, msg_start, len(result))\n",
      "/home/kane/code/fyp/venv/lib/python3.10/site-packages/sklearn/metrics/_classification.py:1609: UndefinedMetricWarning: F-score is ill-defined and being set to 0.0 due to no true nor predicted samples. Use `zero_division` parameter to control this behavior.\n",
      "  _warn_prf(average, \"true nor predicted\", \"F-score is\", len(true_sum))\n"
     ]
    },
    {
     "name": "stdout",
     "output_type": "stream",
     "text": [
      "predictions written to ./experiments/model_eval_by_dis/Natore/m7.test.csv\n",
      "evaluation written to ./experiments/model_eval_by_dis/Natore/m7.eval.csv\n",
      "dis 55 / 63\n",
      "predictions written to ./experiments/model_eval_by_dis/Jamalpur/m5.test.csv\n",
      "evaluation written to ./experiments/model_eval_by_dis/Jamalpur/m5.eval.csv\n"
     ]
    },
    {
     "name": "stderr",
     "output_type": "stream",
     "text": [
      "/home/kane/code/fyp/venv/lib/python3.10/site-packages/sklearn/metrics/_classification.py:1344: UndefinedMetricWarning: Precision is ill-defined and being set to 0.0 due to no predicted samples. Use `zero_division` parameter to control this behavior.\n",
      "  _warn_prf(average, modifier, msg_start, len(result))\n"
     ]
    },
    {
     "name": "stdout",
     "output_type": "stream",
     "text": [
      "predictions written to ./experiments/model_eval_by_dis/Jamalpur/m3.test.csv\n",
      "evaluation written to ./experiments/model_eval_by_dis/Jamalpur/m3.eval.csv\n"
     ]
    },
    {
     "name": "stderr",
     "output_type": "stream",
     "text": [
      "/home/kane/code/fyp/venv/lib/python3.10/site-packages/sklearn/metrics/_classification.py:1344: UndefinedMetricWarning: Precision is ill-defined and being set to 0.0 due to no predicted samples. Use `zero_division` parameter to control this behavior.\n",
      "  _warn_prf(average, modifier, msg_start, len(result))\n"
     ]
    },
    {
     "name": "stdout",
     "output_type": "stream",
     "text": [
      "predictions written to ./experiments/model_eval_by_dis/Jamalpur/m4.test.csv\n",
      "evaluation written to ./experiments/model_eval_by_dis/Jamalpur/m4.eval.csv\n"
     ]
    },
    {
     "name": "stderr",
     "output_type": "stream",
     "text": [
      "/home/kane/code/fyp/models/model_utils/utils.py:60: SettingWithCopyWarning: \n",
      "A value is trying to be set on a copy of a slice from a DataFrame.\n",
      "Try using .loc[row_indexer,col_indexer] = value instead\n",
      "\n",
      "See the caveats in the documentation: https://pandas.pydata.org/pandas-docs/stable/user_guide/indexing.html#returning-a-view-versus-a-copy\n",
      "  train.loc[:, 'tid'] = 0\n",
      "/home/kane/code/fyp/models/model_utils/utils.py:46: UserWarning: Geometry is in a geographic CRS. Results from 'centroid' are likely incorrect. Use 'GeoSeries.to_crs()' to re-project geometries to a projected CRS before this operation.\n",
      "\n",
      "  gdf['lon'] = gdf.centroid.x\n",
      "/home/kane/code/fyp/models/model_utils/utils.py:47: UserWarning: Geometry is in a geographic CRS. Results from 'centroid' are likely incorrect. Use 'GeoSeries.to_crs()' to re-project geometries to a projected CRS before this operation.\n",
      "\n",
      "  gdf['lat'] = gdf.centroid.y\n",
      "/home/kane/code/fyp/models/model_utils/utils.py:46: UserWarning: Geometry is in a geographic CRS. Results from 'centroid' are likely incorrect. Use 'GeoSeries.to_crs()' to re-project geometries to a projected CRS before this operation.\n",
      "\n",
      "  gdf['lon'] = gdf.centroid.x\n",
      "/home/kane/code/fyp/models/model_utils/utils.py:47: UserWarning: Geometry is in a geographic CRS. Results from 'centroid' are likely incorrect. Use 'GeoSeries.to_crs()' to re-project geometries to a projected CRS before this operation.\n",
      "\n",
      "  gdf['lat'] = gdf.centroid.y\n",
      "/home/kane/code/fyp/models/model_utils/utils.py:35: FutureWarning: In a future version, the Index constructor will not infer numeric dtypes when passed object-dtype sequences (matching Series behavior)\n",
      "  df[header] = pd.Categorical(df[header]).codes\n",
      "/home/kane/code/fyp/models/model_utils/utils.py:35: FutureWarning: In a future version, the Index constructor will not infer numeric dtypes when passed object-dtype sequences (matching Series behavior)\n",
      "  df[header] = pd.Categorical(df[header]).codes\n",
      "/home/kane/code/fyp/models/model_utils/utils.py:35: FutureWarning: In a future version, the Index constructor will not infer numeric dtypes when passed object-dtype sequences (matching Series behavior)\n",
      "  df[header] = pd.Categorical(df[header]).codes\n",
      "/home/kane/code/fyp/models/model_utils/utils.py:35: FutureWarning: In a future version, the Index constructor will not infer numeric dtypes when passed object-dtype sequences (matching Series behavior)\n",
      "  df[header] = pd.Categorical(df[header]).codes\n"
     ]
    },
    {
     "name": "stdout",
     "output_type": "stream",
     "text": [
      "predictions written to ./experiments/model_eval_by_dis/Jamalpur/m11.test.csv\n",
      "evaluation written to ./experiments/model_eval_by_dis/Jamalpur/m11.eval.csv\n",
      "predictions written to ./experiments/model_eval_by_dis/Jamalpur/m10.test.csv\n",
      "evaluation written to ./experiments/model_eval_by_dis/Jamalpur/m10.eval.csv\n",
      "predictions written to ./experiments/model_eval_by_dis/Jamalpur/m6.test.csv\n",
      "evaluation written to ./experiments/model_eval_by_dis/Jamalpur/m6.eval.csv\n",
      "predictions written to ./experiments/model_eval_by_dis/Jamalpur/m9.test.csv\n",
      "evaluation written to ./experiments/model_eval_by_dis/Jamalpur/m9.eval.csv\n",
      "predictions written to ./experiments/model_eval_by_dis/Jamalpur/m7.test.csv\n",
      "evaluation written to ./experiments/model_eval_by_dis/Jamalpur/m7.eval.csv\n"
     ]
    },
    {
     "name": "stderr",
     "output_type": "stream",
     "text": [
      "/home/kane/code/fyp/venv/lib/python3.10/site-packages/sklearn/neural_network/_multilayer_perceptron.py:679: ConvergenceWarning: Stochastic Optimizer: Maximum iterations (100) reached and the optimization hasn't converged yet.\n",
      "  warnings.warn(\n",
      "Process Process-564:\n",
      "Traceback (most recent call last):\n",
      "  File \"/home/kane/code/fyp/venv/lib/python3.10/site-packages/multiprocess/process.py\", line 314, in _bootstrap\n",
      "    self.run()\n",
      "  File \"/home/kane/code/fyp/venv/lib/python3.10/site-packages/multiprocess/process.py\", line 108, in run\n",
      "    self._target(*self._args, **self._kwargs)\n",
      "  File \"/tmp/ipykernel_331508/3834942049.py\", line 10, in run_model\n",
      "    pred_df = model.main(f'./experiments/model_eval_by_dis/{dis}/k1.csv', k_fold)\n",
      "  File \"/home/kane/code/fyp/models/model8/model.py\", line 102, in main\n",
      "    test_df['Prediction'] = gen_predictions(train_df, test_df, k_fold)\n",
      "  File \"/home/kane/code/fyp/models/model8/model.py\", line 50, in gen_predictions\n",
      "    tt_df = append_test_train(te_div, tr_div)\n",
      "  File \"/home/kane/code/fyp/models/model_utils/utils.py\", line 59, in append_test_train\n",
      "    test.loc[:, 'tid'] = 1\n",
      "  File \"/home/kane/code/fyp/venv/lib/python3.10/site-packages/pandas/core/indexing.py\", line 818, in __setitem__\n",
      "    iloc._setitem_with_indexer(indexer, value, self.name)\n",
      "  File \"/home/kane/code/fyp/venv/lib/python3.10/site-packages/pandas/core/indexing.py\", line 1718, in _setitem_with_indexer\n",
      "    raise ValueError(\n",
      "ValueError: cannot set a frame with no defined index and a scalar\n"
     ]
    },
    {
     "name": "stdout",
     "output_type": "stream",
     "text": [
      "dis 56 / 63\n"
     ]
    },
    {
     "name": "stderr",
     "output_type": "stream",
     "text": [
      "/home/kane/code/fyp/venv/lib/python3.10/site-packages/sklearn/metrics/_classification.py:1344: UndefinedMetricWarning: Recall is ill-defined and being set to 0.0 due to no true samples. Use `zero_division` parameter to control this behavior.\n",
      "  _warn_prf(average, modifier, msg_start, len(result))\n"
     ]
    },
    {
     "name": "stdout",
     "output_type": "stream",
     "text": [
      "predictions written to ./experiments/model_eval_by_dis/Lalmonirhat/m5.test.csv\n",
      "evaluation written to ./experiments/model_eval_by_dis/Lalmonirhat/m5.eval.csv\n"
     ]
    },
    {
     "name": "stderr",
     "output_type": "stream",
     "text": [
      "/home/kane/code/fyp/venv/lib/python3.10/site-packages/sklearn/metrics/_classification.py:1344: UndefinedMetricWarning: Precision is ill-defined and being set to 0.0 due to no predicted samples. Use `zero_division` parameter to control this behavior.\n",
      "  _warn_prf(average, modifier, msg_start, len(result))\n",
      "/home/kane/code/fyp/venv/lib/python3.10/site-packages/sklearn/metrics/_classification.py:1344: UndefinedMetricWarning: Recall is ill-defined and being set to 0.0 due to no true samples. Use `zero_division` parameter to control this behavior.\n",
      "  _warn_prf(average, modifier, msg_start, len(result))\n",
      "/home/kane/code/fyp/venv/lib/python3.10/site-packages/sklearn/metrics/_classification.py:1609: UndefinedMetricWarning: F-score is ill-defined and being set to 0.0 due to no true nor predicted samples. Use `zero_division` parameter to control this behavior.\n",
      "  _warn_prf(average, \"true nor predicted\", \"F-score is\", len(true_sum))\n"
     ]
    },
    {
     "name": "stdout",
     "output_type": "stream",
     "text": [
      "predictions written to ./experiments/model_eval_by_dis/Lalmonirhat/m3.test.csv\n",
      "evaluation written to ./experiments/model_eval_by_dis/Lalmonirhat/m3.eval.csv\n"
     ]
    },
    {
     "name": "stderr",
     "output_type": "stream",
     "text": [
      "/home/kane/code/fyp/venv/lib/python3.10/site-packages/sklearn/metrics/_classification.py:1344: UndefinedMetricWarning: Precision is ill-defined and being set to 0.0 due to no predicted samples. Use `zero_division` parameter to control this behavior.\n",
      "  _warn_prf(average, modifier, msg_start, len(result))\n",
      "/home/kane/code/fyp/venv/lib/python3.10/site-packages/sklearn/metrics/_classification.py:1344: UndefinedMetricWarning: Recall is ill-defined and being set to 0.0 due to no true samples. Use `zero_division` parameter to control this behavior.\n",
      "  _warn_prf(average, modifier, msg_start, len(result))\n",
      "/home/kane/code/fyp/venv/lib/python3.10/site-packages/sklearn/metrics/_classification.py:1609: UndefinedMetricWarning: F-score is ill-defined and being set to 0.0 due to no true nor predicted samples. Use `zero_division` parameter to control this behavior.\n",
      "  _warn_prf(average, \"true nor predicted\", \"F-score is\", len(true_sum))\n"
     ]
    },
    {
     "name": "stdout",
     "output_type": "stream",
     "text": [
      "predictions written to ./experiments/model_eval_by_dis/Lalmonirhat/m4.test.csvevaluation written to ./experiments/model_eval_by_dis/Lalmonirhat/m4.eval.csv\n",
      "\n"
     ]
    },
    {
     "name": "stderr",
     "output_type": "stream",
     "text": [
      "/home/kane/code/fyp/models/model_utils/utils.py:46: UserWarning: Geometry is in a geographic CRS. Results from 'centroid' are likely incorrect. Use 'GeoSeries.to_crs()' to re-project geometries to a projected CRS before this operation.\n",
      "\n",
      "  gdf['lon'] = gdf.centroid.x\n",
      "/home/kane/code/fyp/models/model_utils/utils.py:47: UserWarning: Geometry is in a geographic CRS. Results from 'centroid' are likely incorrect. Use 'GeoSeries.to_crs()' to re-project geometries to a projected CRS before this operation.\n",
      "\n",
      "  gdf['lat'] = gdf.centroid.y\n",
      "Process Process-573:\n",
      "Traceback (most recent call last):\n",
      "  File \"/home/kane/code/fyp/venv/lib/python3.10/site-packages/multiprocess/process.py\", line 314, in _bootstrap\n",
      "    self.run()\n",
      "  File \"/home/kane/code/fyp/venv/lib/python3.10/site-packages/multiprocess/process.py\", line 108, in run\n",
      "    self._target(*self._args, **self._kwargs)\n",
      "  File \"/tmp/ipykernel_331508/3834942049.py\", line 10, in run_model\n",
      "    pred_df = model.main(f'./experiments/model_eval_by_dis/{dis}/k1.csv', k_fold)\n",
      "  File \"/home/kane/code/fyp/models/model8/model.py\", line 102, in main\n",
      "    test_df['Prediction'] = gen_predictions(train_df, test_df, k_fold)\n",
      "  File \"/home/kane/code/fyp/models/model8/model.py\", line 50, in gen_predictions\n",
      "    tt_df = append_test_train(te_div, tr_div)\n",
      "  File \"/home/kane/code/fyp/models/model_utils/utils.py\", line 59, in append_test_train\n",
      "    test.loc[:, 'tid'] = 1\n",
      "  File \"/home/kane/code/fyp/venv/lib/python3.10/site-packages/pandas/core/indexing.py\", line 818, in __setitem__\n",
      "    iloc._setitem_with_indexer(indexer, value, self.name)\n",
      "  File \"/home/kane/code/fyp/venv/lib/python3.10/site-packages/pandas/core/indexing.py\", line 1718, in _setitem_with_indexer\n",
      "    raise ValueError(\n",
      "ValueError: cannot set a frame with no defined index and a scalar\n",
      "/home/kane/code/fyp/models/model_utils/utils.py:35: FutureWarning: In a future version, the Index constructor will not infer numeric dtypes when passed object-dtype sequences (matching Series behavior)\n",
      "  df[header] = pd.Categorical(df[header]).codes\n",
      "/home/kane/code/fyp/models/model_utils/utils.py:35: FutureWarning: In a future version, the Index constructor will not infer numeric dtypes when passed object-dtype sequences (matching Series behavior)\n",
      "  df[header] = pd.Categorical(df[header]).codes\n",
      "/home/kane/code/fyp/models/model_utils/utils.py:35: FutureWarning: In a future version, the Index constructor will not infer numeric dtypes when passed object-dtype sequences (matching Series behavior)\n",
      "  df[header] = pd.Categorical(df[header]).codes\n",
      "/home/kane/code/fyp/models/model_utils/utils.py:35: FutureWarning: In a future version, the Index constructor will not infer numeric dtypes when passed object-dtype sequences (matching Series behavior)\n",
      "  df[header] = pd.Categorical(df[header]).codes\n",
      "/home/kane/code/fyp/models/model_utils/utils.py:46: UserWarning: Geometry is in a geographic CRS. Results from 'centroid' are likely incorrect. Use 'GeoSeries.to_crs()' to re-project geometries to a projected CRS before this operation.\n",
      "\n",
      "  gdf['lon'] = gdf.centroid.x\n",
      "/home/kane/code/fyp/models/model_utils/utils.py:47: UserWarning: Geometry is in a geographic CRS. Results from 'centroid' are likely incorrect. Use 'GeoSeries.to_crs()' to re-project geometries to a projected CRS before this operation.\n",
      "\n",
      "  gdf['lat'] = gdf.centroid.y\n",
      "/home/kane/code/fyp/venv/lib/python3.10/site-packages/sklearn/metrics/_classification.py:1344: UndefinedMetricWarning: Precision is ill-defined and being set to 0.0 due to no predicted samples. Use `zero_division` parameter to control this behavior.\n",
      "  _warn_prf(average, modifier, msg_start, len(result))\n",
      "/home/kane/code/fyp/venv/lib/python3.10/site-packages/sklearn/metrics/_classification.py:1344: UndefinedMetricWarning: Recall is ill-defined and being set to 0.0 due to no true samples. Use `zero_division` parameter to control this behavior.\n",
      "  _warn_prf(average, modifier, msg_start, len(result))\n",
      "/home/kane/code/fyp/venv/lib/python3.10/site-packages/sklearn/metrics/_classification.py:1609: UndefinedMetricWarning: F-score is ill-defined and being set to 0.0 due to no true nor predicted samples. Use `zero_division` parameter to control this behavior.\n",
      "  _warn_prf(average, \"true nor predicted\", \"F-score is\", len(true_sum))\n"
     ]
    },
    {
     "name": "stdout",
     "output_type": "stream",
     "text": [
      "predictions written to ./experiments/model_eval_by_dis/Lalmonirhat/m11.test.csv\n",
      "evaluation written to ./experiments/model_eval_by_dis/Lalmonirhat/m11.eval.csv\n"
     ]
    },
    {
     "name": "stderr",
     "output_type": "stream",
     "text": [
      "/home/kane/code/fyp/venv/lib/python3.10/site-packages/sklearn/metrics/_classification.py:1344: UndefinedMetricWarning: Precision is ill-defined and being set to 0.0 due to no predicted samples. Use `zero_division` parameter to control this behavior.\n",
      "  _warn_prf(average, modifier, msg_start, len(result))\n",
      "/home/kane/code/fyp/venv/lib/python3.10/site-packages/sklearn/metrics/_classification.py:1344: UndefinedMetricWarning: Recall is ill-defined and being set to 0.0 due to no true samples. Use `zero_division` parameter to control this behavior.\n",
      "  _warn_prf(average, modifier, msg_start, len(result))\n",
      "/home/kane/code/fyp/venv/lib/python3.10/site-packages/sklearn/metrics/_classification.py:1609: UndefinedMetricWarning: F-score is ill-defined and being set to 0.0 due to no true nor predicted samples. Use `zero_division` parameter to control this behavior.\n",
      "  _warn_prf(average, \"true nor predicted\", \"F-score is\", len(true_sum))\n"
     ]
    },
    {
     "name": "stdout",
     "output_type": "stream",
     "text": [
      "predictions written to ./experiments/model_eval_by_dis/Lalmonirhat/m10.test.csv\n",
      "evaluation written to ./experiments/model_eval_by_dis/Lalmonirhat/m10.eval.csv\n"
     ]
    },
    {
     "name": "stderr",
     "output_type": "stream",
     "text": [
      "/home/kane/code/fyp/venv/lib/python3.10/site-packages/sklearn/metrics/_classification.py:1344: UndefinedMetricWarning: Recall is ill-defined and being set to 0.0 due to no true samples. Use `zero_division` parameter to control this behavior.\n",
      "  _warn_prf(average, modifier, msg_start, len(result))\n"
     ]
    },
    {
     "name": "stdout",
     "output_type": "stream",
     "text": [
      "predictions written to ./experiments/model_eval_by_dis/Lalmonirhat/m6.test.csv\n",
      "evaluation written to ./experiments/model_eval_by_dis/Lalmonirhat/m6.eval.csv\n"
     ]
    },
    {
     "name": "stderr",
     "output_type": "stream",
     "text": [
      "/home/kane/code/fyp/venv/lib/python3.10/site-packages/sklearn/metrics/_classification.py:1344: UndefinedMetricWarning: Recall is ill-defined and being set to 0.0 due to no true samples. Use `zero_division` parameter to control this behavior.\n",
      "  _warn_prf(average, modifier, msg_start, len(result))\n"
     ]
    },
    {
     "name": "stdout",
     "output_type": "stream",
     "text": [
      "predictions written to ./experiments/model_eval_by_dis/Lalmonirhat/m9.test.csv\n",
      "evaluation written to ./experiments/model_eval_by_dis/Lalmonirhat/m9.eval.csv\n"
     ]
    },
    {
     "name": "stderr",
     "output_type": "stream",
     "text": [
      "/home/kane/code/fyp/venv/lib/python3.10/site-packages/sklearn/metrics/_classification.py:1344: UndefinedMetricWarning: Recall is ill-defined and being set to 0.0 due to no true samples. Use `zero_division` parameter to control this behavior.\n",
      "  _warn_prf(average, modifier, msg_start, len(result))\n"
     ]
    },
    {
     "name": "stdout",
     "output_type": "stream",
     "text": [
      "predictions written to ./experiments/model_eval_by_dis/Lalmonirhat/m7.test.csv\n",
      "evaluation written to ./experiments/model_eval_by_dis/Lalmonirhat/m7.eval.csv\n",
      "dis 57 / 63\n",
      "predictions written to ./experiments/model_eval_by_dis/Magura/m5.test.csv\n",
      "evaluation written to ./experiments/model_eval_by_dis/Magura/m5.eval.csv\n"
     ]
    },
    {
     "name": "stderr",
     "output_type": "stream",
     "text": [
      "/home/kane/code/fyp/venv/lib/python3.10/site-packages/sklearn/metrics/_classification.py:1344: UndefinedMetricWarning: Precision is ill-defined and being set to 0.0 due to no predicted samples. Use `zero_division` parameter to control this behavior.\n",
      "  _warn_prf(average, modifier, msg_start, len(result))\n",
      "/home/kane/code/fyp/venv/lib/python3.10/site-packages/sklearn/metrics/_classification.py:1344: UndefinedMetricWarning: Precision is ill-defined and being set to 0.0 due to no predicted samples. Use `zero_division` parameter to control this behavior.\n",
      "  _warn_prf(average, modifier, msg_start, len(result))\n"
     ]
    },
    {
     "name": "stdout",
     "output_type": "stream",
     "text": [
      "predictions written to ./experiments/model_eval_by_dis/Magura/m3.test.csv\n",
      "predictions written to ./experiments/model_eval_by_dis/Magura/m4.test.csvevaluation written to ./experiments/model_eval_by_dis/Magura/m3.eval.csv\n",
      "\n",
      "evaluation written to ./experiments/model_eval_by_dis/Magura/m4.eval.csv\n"
     ]
    },
    {
     "name": "stderr",
     "output_type": "stream",
     "text": [
      "Process Process-582:\n",
      "Traceback (most recent call last):\n",
      "  File \"/home/kane/code/fyp/venv/lib/python3.10/site-packages/multiprocess/process.py\", line 314, in _bootstrap\n",
      "    self.run()\n",
      "  File \"/home/kane/code/fyp/venv/lib/python3.10/site-packages/multiprocess/process.py\", line 108, in run\n",
      "    self._target(*self._args, **self._kwargs)\n",
      "  File \"/tmp/ipykernel_331508/3834942049.py\", line 10, in run_model\n",
      "    pred_df = model.main(f'./experiments/model_eval_by_dis/{dis}/k1.csv', k_fold)\n",
      "  File \"/home/kane/code/fyp/models/model8/model.py\", line 102, in main\n",
      "    test_df['Prediction'] = gen_predictions(train_df, test_df, k_fold)\n",
      "  File \"/home/kane/code/fyp/models/model8/model.py\", line 50, in gen_predictions\n",
      "    tt_df = append_test_train(te_div, tr_div)\n",
      "  File \"/home/kane/code/fyp/models/model_utils/utils.py\", line 59, in append_test_train\n",
      "    test.loc[:, 'tid'] = 1\n",
      "  File \"/home/kane/code/fyp/venv/lib/python3.10/site-packages/pandas/core/indexing.py\", line 818, in __setitem__\n",
      "    iloc._setitem_with_indexer(indexer, value, self.name)\n",
      "  File \"/home/kane/code/fyp/venv/lib/python3.10/site-packages/pandas/core/indexing.py\", line 1718, in _setitem_with_indexer\n",
      "    raise ValueError(\n",
      "ValueError: cannot set a frame with no defined index and a scalar\n",
      "/home/kane/code/fyp/models/model_utils/utils.py:35: FutureWarning: In a future version, the Index constructor will not infer numeric dtypes when passed object-dtype sequences (matching Series behavior)\n",
      "  df[header] = pd.Categorical(df[header]).codes\n",
      "/home/kane/code/fyp/models/model_utils/utils.py:35: FutureWarning: In a future version, the Index constructor will not infer numeric dtypes when passed object-dtype sequences (matching Series behavior)\n",
      "  df[header] = pd.Categorical(df[header]).codes\n",
      "/home/kane/code/fyp/models/model_utils/utils.py:46: UserWarning: Geometry is in a geographic CRS. Results from 'centroid' are likely incorrect. Use 'GeoSeries.to_crs()' to re-project geometries to a projected CRS before this operation.\n",
      "\n",
      "  gdf['lon'] = gdf.centroid.x\n",
      "/home/kane/code/fyp/models/model_utils/utils.py:46: UserWarning: Geometry is in a geographic CRS. Results from 'centroid' are likely incorrect. Use 'GeoSeries.to_crs()' to re-project geometries to a projected CRS before this operation.\n",
      "\n",
      "  gdf['lon'] = gdf.centroid.x\n",
      "/home/kane/code/fyp/models/model_utils/utils.py:47: UserWarning: Geometry is in a geographic CRS. Results from 'centroid' are likely incorrect. Use 'GeoSeries.to_crs()' to re-project geometries to a projected CRS before this operation.\n",
      "\n",
      "  gdf['lat'] = gdf.centroid.y\n",
      "/home/kane/code/fyp/models/model_utils/utils.py:47: UserWarning: Geometry is in a geographic CRS. Results from 'centroid' are likely incorrect. Use 'GeoSeries.to_crs()' to re-project geometries to a projected CRS before this operation.\n",
      "\n",
      "  gdf['lat'] = gdf.centroid.y\n",
      "/home/kane/code/fyp/models/model_utils/utils.py:35: FutureWarning: In a future version, the Index constructor will not infer numeric dtypes when passed object-dtype sequences (matching Series behavior)\n",
      "  df[header] = pd.Categorical(df[header]).codes\n",
      "/home/kane/code/fyp/models/model_utils/utils.py:35: FutureWarning: In a future version, the Index constructor will not infer numeric dtypes when passed object-dtype sequences (matching Series behavior)\n",
      "  df[header] = pd.Categorical(df[header]).codes\n",
      "/home/kane/code/fyp/venv/lib/python3.10/site-packages/sklearn/metrics/_classification.py:1344: UndefinedMetricWarning: Precision is ill-defined and being set to 0.0 due to no predicted samples. Use `zero_division` parameter to control this behavior.\n",
      "  _warn_prf(average, modifier, msg_start, len(result))\n"
     ]
    },
    {
     "name": "stdout",
     "output_type": "stream",
     "text": [
      "predictions written to ./experiments/model_eval_by_dis/Magura/m11.test.csv\n",
      "evaluation written to ./experiments/model_eval_by_dis/Magura/m11.eval.csv\n",
      "predictions written to ./experiments/model_eval_by_dis/Magura/m10.test.csv\n",
      "evaluation written to ./experiments/model_eval_by_dis/Magura/m10.eval.csv\n",
      "predictions written to ./experiments/model_eval_by_dis/Magura/m6.test.csv\n",
      "evaluation written to ./experiments/model_eval_by_dis/Magura/m6.eval.csv\n",
      "predictions written to ./experiments/model_eval_by_dis/Magura/m9.test.csv\n",
      "evaluation written to ./experiments/model_eval_by_dis/Magura/m9.eval.csv\n"
     ]
    },
    {
     "name": "stderr",
     "output_type": "stream",
     "text": [
      "/home/kane/code/fyp/venv/lib/python3.10/site-packages/sklearn/metrics/_classification.py:1344: UndefinedMetricWarning: Precision is ill-defined and being set to 0.0 due to no predicted samples. Use `zero_division` parameter to control this behavior.\n",
      "  _warn_prf(average, modifier, msg_start, len(result))\n"
     ]
    },
    {
     "name": "stdout",
     "output_type": "stream",
     "text": [
      "predictions written to ./experiments/model_eval_by_dis/Magura/m7.test.csv\n",
      "evaluation written to ./experiments/model_eval_by_dis/Magura/m7.eval.csv\n",
      "dis 58 / 63\n"
     ]
    },
    {
     "name": "stderr",
     "output_type": "stream",
     "text": [
      "/home/kane/code/fyp/venv/lib/python3.10/site-packages/sklearn/metrics/_classification.py:1344: UndefinedMetricWarning: Recall is ill-defined and being set to 0.0 due to no true samples. Use `zero_division` parameter to control this behavior.\n",
      "  _warn_prf(average, modifier, msg_start, len(result))\n"
     ]
    },
    {
     "name": "stdout",
     "output_type": "stream",
     "text": [
      "predictions written to ./experiments/model_eval_by_dis/Thakurgaon/m5.test.csv\n",
      "evaluation written to ./experiments/model_eval_by_dis/Thakurgaon/m5.eval.csv\n"
     ]
    },
    {
     "name": "stderr",
     "output_type": "stream",
     "text": [
      "/home/kane/code/fyp/venv/lib/python3.10/site-packages/sklearn/metrics/_classification.py:1344: UndefinedMetricWarning: Precision is ill-defined and being set to 0.0 due to no predicted samples. Use `zero_division` parameter to control this behavior.\n",
      "  _warn_prf(average, modifier, msg_start, len(result))\n",
      "/home/kane/code/fyp/venv/lib/python3.10/site-packages/sklearn/metrics/_classification.py:1344: UndefinedMetricWarning: Recall is ill-defined and being set to 0.0 due to no true samples. Use `zero_division` parameter to control this behavior.\n",
      "  _warn_prf(average, modifier, msg_start, len(result))\n",
      "/home/kane/code/fyp/venv/lib/python3.10/site-packages/sklearn/metrics/_classification.py:1609: UndefinedMetricWarning: F-score is ill-defined and being set to 0.0 due to no true nor predicted samples. Use `zero_division` parameter to control this behavior.\n",
      "  _warn_prf(average, \"true nor predicted\", \"F-score is\", len(true_sum))\n"
     ]
    },
    {
     "name": "stdout",
     "output_type": "stream",
     "text": [
      "predictions written to ./experiments/model_eval_by_dis/Thakurgaon/m3.test.csv\n",
      "evaluation written to ./experiments/model_eval_by_dis/Thakurgaon/m3.eval.csv\n"
     ]
    },
    {
     "name": "stderr",
     "output_type": "stream",
     "text": [
      "/home/kane/code/fyp/venv/lib/python3.10/site-packages/sklearn/metrics/_classification.py:1344: UndefinedMetricWarning: Precision is ill-defined and being set to 0.0 due to no predicted samples. Use `zero_division` parameter to control this behavior.\n",
      "  _warn_prf(average, modifier, msg_start, len(result))\n",
      "/home/kane/code/fyp/venv/lib/python3.10/site-packages/sklearn/metrics/_classification.py:1344: UndefinedMetricWarning: Recall is ill-defined and being set to 0.0 due to no true samples. Use `zero_division` parameter to control this behavior.\n",
      "  _warn_prf(average, modifier, msg_start, len(result))\n",
      "/home/kane/code/fyp/venv/lib/python3.10/site-packages/sklearn/metrics/_classification.py:1609: UndefinedMetricWarning: F-score is ill-defined and being set to 0.0 due to no true nor predicted samples. Use `zero_division` parameter to control this behavior.\n",
      "  _warn_prf(average, \"true nor predicted\", \"F-score is\", len(true_sum))\n"
     ]
    },
    {
     "name": "stdout",
     "output_type": "stream",
     "text": [
      "predictions written to ./experiments/model_eval_by_dis/Thakurgaon/m4.test.csv\n",
      "evaluation written to ./experiments/model_eval_by_dis/Thakurgaon/m4.eval.csv\n"
     ]
    },
    {
     "name": "stderr",
     "output_type": "stream",
     "text": [
      "/home/kane/code/fyp/models/model_utils/utils.py:35: FutureWarning: In a future version, the Index constructor will not infer numeric dtypes when passed object-dtype sequences (matching Series behavior)\n",
      "  df[header] = pd.Categorical(df[header]).codes\n",
      "/home/kane/code/fyp/models/model_utils/utils.py:35: FutureWarning: In a future version, the Index constructor will not infer numeric dtypes when passed object-dtype sequences (matching Series behavior)\n",
      "  df[header] = pd.Categorical(df[header]).codes\n",
      "/home/kane/code/fyp/models/model_utils/utils.py:35: FutureWarning: In a future version, the Index constructor will not infer numeric dtypes when passed object-dtype sequences (matching Series behavior)\n",
      "  df[header] = pd.Categorical(df[header]).codes\n",
      "/home/kane/code/fyp/models/model_utils/utils.py:35: FutureWarning: In a future version, the Index constructor will not infer numeric dtypes when passed object-dtype sequences (matching Series behavior)\n",
      "  df[header] = pd.Categorical(df[header]).codes\n",
      "/home/kane/code/fyp/venv/lib/python3.10/site-packages/sklearn/metrics/_classification.py:1344: UndefinedMetricWarning: Recall is ill-defined and being set to 0.0 due to no true samples. Use `zero_division` parameter to control this behavior.\n",
      "  _warn_prf(average, modifier, msg_start, len(result))\n"
     ]
    },
    {
     "name": "stdout",
     "output_type": "stream",
     "text": [
      "predictions written to ./experiments/model_eval_by_dis/Thakurgaon/m11.test.csv\n",
      "evaluation written to ./experiments/model_eval_by_dis/Thakurgaon/m11.eval.csv\n"
     ]
    },
    {
     "name": "stderr",
     "output_type": "stream",
     "text": [
      "/home/kane/code/fyp/models/model_utils/utils.py:46: UserWarning: Geometry is in a geographic CRS. Results from 'centroid' are likely incorrect. Use 'GeoSeries.to_crs()' to re-project geometries to a projected CRS before this operation.\n",
      "\n",
      "  gdf['lon'] = gdf.centroid.x\n",
      "/home/kane/code/fyp/models/model_utils/utils.py:47: UserWarning: Geometry is in a geographic CRS. Results from 'centroid' are likely incorrect. Use 'GeoSeries.to_crs()' to re-project geometries to a projected CRS before this operation.\n",
      "\n",
      "  gdf['lat'] = gdf.centroid.y\n",
      "Process Process-591:\n",
      "Traceback (most recent call last):\n",
      "  File \"/home/kane/code/fyp/venv/lib/python3.10/site-packages/multiprocess/process.py\", line 314, in _bootstrap\n",
      "    self.run()\n",
      "  File \"/home/kane/code/fyp/venv/lib/python3.10/site-packages/multiprocess/process.py\", line 108, in run\n",
      "    self._target(*self._args, **self._kwargs)\n",
      "  File \"/tmp/ipykernel_331508/3834942049.py\", line 10, in run_model\n",
      "    pred_df = model.main(f'./experiments/model_eval_by_dis/{dis}/k1.csv', k_fold)\n",
      "  File \"/home/kane/code/fyp/models/model8/model.py\", line 102, in main\n",
      "    test_df['Prediction'] = gen_predictions(train_df, test_df, k_fold)\n",
      "  File \"/home/kane/code/fyp/models/model8/model.py\", line 50, in gen_predictions\n",
      "    tt_df = append_test_train(te_div, tr_div)\n",
      "  File \"/home/kane/code/fyp/models/model_utils/utils.py\", line 59, in append_test_train\n",
      "    test.loc[:, 'tid'] = 1\n",
      "  File \"/home/kane/code/fyp/venv/lib/python3.10/site-packages/pandas/core/indexing.py\", line 818, in __setitem__\n",
      "    iloc._setitem_with_indexer(indexer, value, self.name)\n",
      "  File \"/home/kane/code/fyp/venv/lib/python3.10/site-packages/pandas/core/indexing.py\", line 1718, in _setitem_with_indexer\n",
      "    raise ValueError(\n",
      "ValueError: cannot set a frame with no defined index and a scalar\n",
      "/home/kane/code/fyp/models/model_utils/utils.py:46: UserWarning: Geometry is in a geographic CRS. Results from 'centroid' are likely incorrect. Use 'GeoSeries.to_crs()' to re-project geometries to a projected CRS before this operation.\n",
      "\n",
      "  gdf['lon'] = gdf.centroid.x\n",
      "/home/kane/code/fyp/models/model_utils/utils.py:47: UserWarning: Geometry is in a geographic CRS. Results from 'centroid' are likely incorrect. Use 'GeoSeries.to_crs()' to re-project geometries to a projected CRS before this operation.\n",
      "\n",
      "  gdf['lat'] = gdf.centroid.y\n",
      "/home/kane/code/fyp/venv/lib/python3.10/site-packages/sklearn/metrics/_classification.py:1344: UndefinedMetricWarning: Precision is ill-defined and being set to 0.0 due to no predicted samples. Use `zero_division` parameter to control this behavior.\n",
      "  _warn_prf(average, modifier, msg_start, len(result))\n",
      "/home/kane/code/fyp/venv/lib/python3.10/site-packages/sklearn/metrics/_classification.py:1344: UndefinedMetricWarning: Recall is ill-defined and being set to 0.0 due to no true samples. Use `zero_division` parameter to control this behavior.\n",
      "  _warn_prf(average, modifier, msg_start, len(result))\n",
      "/home/kane/code/fyp/venv/lib/python3.10/site-packages/sklearn/metrics/_classification.py:1609: UndefinedMetricWarning: F-score is ill-defined and being set to 0.0 due to no true nor predicted samples. Use `zero_division` parameter to control this behavior.\n",
      "  _warn_prf(average, \"true nor predicted\", \"F-score is\", len(true_sum))\n"
     ]
    },
    {
     "name": "stdout",
     "output_type": "stream",
     "text": [
      "predictions written to ./experiments/model_eval_by_dis/Thakurgaon/m10.test.csv\n",
      "evaluation written to ./experiments/model_eval_by_dis/Thakurgaon/m10.eval.csv\n"
     ]
    },
    {
     "name": "stderr",
     "output_type": "stream",
     "text": [
      "/home/kane/code/fyp/venv/lib/python3.10/site-packages/sklearn/metrics/_classification.py:1344: UndefinedMetricWarning: Recall is ill-defined and being set to 0.0 due to no true samples. Use `zero_division` parameter to control this behavior.\n",
      "  _warn_prf(average, modifier, msg_start, len(result))\n"
     ]
    },
    {
     "name": "stdout",
     "output_type": "stream",
     "text": [
      "predictions written to ./experiments/model_eval_by_dis/Thakurgaon/m6.test.csv\n",
      "evaluation written to ./experiments/model_eval_by_dis/Thakurgaon/m6.eval.csv\n"
     ]
    },
    {
     "name": "stderr",
     "output_type": "stream",
     "text": [
      "/home/kane/code/fyp/venv/lib/python3.10/site-packages/sklearn/metrics/_classification.py:1344: UndefinedMetricWarning: Recall is ill-defined and being set to 0.0 due to no true samples. Use `zero_division` parameter to control this behavior.\n",
      "  _warn_prf(average, modifier, msg_start, len(result))\n"
     ]
    },
    {
     "name": "stdout",
     "output_type": "stream",
     "text": [
      "predictions written to ./experiments/model_eval_by_dis/Thakurgaon/m9.test.csv\n",
      "evaluation written to ./experiments/model_eval_by_dis/Thakurgaon/m9.eval.csv\n"
     ]
    },
    {
     "name": "stderr",
     "output_type": "stream",
     "text": [
      "/home/kane/code/fyp/venv/lib/python3.10/site-packages/sklearn/metrics/_classification.py:1344: UndefinedMetricWarning: Recall is ill-defined and being set to 0.0 due to no true samples. Use `zero_division` parameter to control this behavior.\n",
      "  _warn_prf(average, modifier, msg_start, len(result))\n"
     ]
    },
    {
     "name": "stdout",
     "output_type": "stream",
     "text": [
      "predictions written to ./experiments/model_eval_by_dis/Thakurgaon/m7.test.csv\n",
      "evaluation written to ./experiments/model_eval_by_dis/Thakurgaon/m7.eval.csv\n",
      "dis 59 / 63\n"
     ]
    },
    {
     "name": "stderr",
     "output_type": "stream",
     "text": [
      "/home/kane/code/fyp/venv/lib/python3.10/site-packages/sklearn/metrics/_classification.py:1344: UndefinedMetricWarning: Precision is ill-defined and being set to 0.0 due to no predicted samples. Use `zero_division` parameter to control this behavior.\n",
      "  _warn_prf(average, modifier, msg_start, len(result))\n",
      "/home/kane/code/fyp/venv/lib/python3.10/site-packages/sklearn/metrics/_classification.py:1344: UndefinedMetricWarning: Precision is ill-defined and being set to 0.0 due to no predicted samples. Use `zero_division` parameter to control this behavior.\n",
      "  _warn_prf(average, modifier, msg_start, len(result))\n",
      "/home/kane/code/fyp/venv/lib/python3.10/site-packages/sklearn/metrics/_classification.py:1344: UndefinedMetricWarning: Recall is ill-defined and being set to 0.0 due to no true samples. Use `zero_division` parameter to control this behavior.\n",
      "  _warn_prf(average, modifier, msg_start, len(result))\n",
      "/home/kane/code/fyp/venv/lib/python3.10/site-packages/sklearn/metrics/_classification.py:1344: UndefinedMetricWarning: Precision is ill-defined and being set to 0.0 due to no predicted samples. Use `zero_division` parameter to control this behavior.\n",
      "  _warn_prf(average, modifier, msg_start, len(result))\n",
      "/home/kane/code/fyp/venv/lib/python3.10/site-packages/sklearn/metrics/_classification.py:1344: UndefinedMetricWarning: Recall is ill-defined and being set to 0.0 due to no true samples. Use `zero_division` parameter to control this behavior.\n",
      "  _warn_prf(average, modifier, msg_start, len(result))\n",
      "/home/kane/code/fyp/venv/lib/python3.10/site-packages/sklearn/metrics/_classification.py:1609: UndefinedMetricWarning: F-score is ill-defined and being set to 0.0 due to no true nor predicted samples. Use `zero_division` parameter to control this behavior.\n",
      "  _warn_prf(average, \"true nor predicted\", \"F-score is\", len(true_sum))\n",
      "/home/kane/code/fyp/venv/lib/python3.10/site-packages/sklearn/metrics/_classification.py:1609: UndefinedMetricWarning: F-score is ill-defined and being set to 0.0 due to no true nor predicted samples. Use `zero_division` parameter to control this behavior.\n",
      "  _warn_prf(average, \"true nor predicted\", \"F-score is\", len(true_sum))\n",
      "/home/kane/code/fyp/venv/lib/python3.10/site-packages/sklearn/metrics/_classification.py:1344: UndefinedMetricWarning: Recall is ill-defined and being set to 0.0 due to no true samples. Use `zero_division` parameter to control this behavior.\n",
      "  _warn_prf(average, modifier, msg_start, len(result))\n",
      "/home/kane/code/fyp/venv/lib/python3.10/site-packages/sklearn/metrics/_classification.py:1609: UndefinedMetricWarning: F-score is ill-defined and being set to 0.0 due to no true nor predicted samples. Use `zero_division` parameter to control this behavior.\n",
      "  _warn_prf(average, \"true nor predicted\", \"F-score is\", len(true_sum))\n"
     ]
    },
    {
     "name": "stdout",
     "output_type": "stream",
     "text": [
      "predictions written to ./experiments/model_eval_by_dis/Rangamati/m5.test.csv\n",
      "predictions written to ./experiments/model_eval_by_dis/Rangamati/m3.test.csvpredictions written to ./experiments/model_eval_by_dis/Rangamati/m4.test.csvevaluation written to ./experiments/model_eval_by_dis/Rangamati/m5.eval.csv\n",
      "evaluation written to ./experiments/model_eval_by_dis/Rangamati/m4.eval.csv\n",
      "\n",
      "\n",
      "evaluation written to ./experiments/model_eval_by_dis/Rangamati/m3.eval.csv\n"
     ]
    },
    {
     "name": "stderr",
     "output_type": "stream",
     "text": [
      "Process Process-600:\n",
      "Traceback (most recent call last):\n",
      "  File \"/home/kane/code/fyp/venv/lib/python3.10/site-packages/multiprocess/process.py\", line 314, in _bootstrap\n",
      "    self.run()\n",
      "  File \"/home/kane/code/fyp/models/model8/model.py\", line 102, in main\n",
      "    test_df['Prediction'] = gen_predictions(train_df, test_df, k_fold)\n",
      "  File \"/home/kane/code/fyp/venv/lib/python3.10/site-packages/multiprocess/process.py\", line 108, in run\n",
      "    self._target(*self._args, **self._kwargs)\n",
      "  File \"/tmp/ipykernel_331508/3834942049.py\", line 10, in run_model\n",
      "    pred_df = model.main(f'./experiments/model_eval_by_dis/{dis}/k1.csv', k_fold)\n",
      "  File \"/home/kane/code/fyp/models/model8/model.py\", line 50, in gen_predictions\n",
      "    tt_df = append_test_train(te_div, tr_div)\n",
      "  File \"/home/kane/code/fyp/models/model_utils/utils.py\", line 59, in append_test_train\n",
      "    test.loc[:, 'tid'] = 1\n",
      "  File \"/home/kane/code/fyp/venv/lib/python3.10/site-packages/pandas/core/indexing.py\", line 818, in __setitem__\n",
      "    iloc._setitem_with_indexer(indexer, value, self.name)\n",
      "  File \"/home/kane/code/fyp/venv/lib/python3.10/site-packages/pandas/core/indexing.py\", line 1718, in _setitem_with_indexer\n",
      "    raise ValueError(\n",
      "ValueError: cannot set a frame with no defined index and a scalar\n",
      "/home/kane/code/fyp/models/model_utils/utils.py:46: UserWarning: Geometry is in a geographic CRS. Results from 'centroid' are likely incorrect. Use 'GeoSeries.to_crs()' to re-project geometries to a projected CRS before this operation.\n",
      "\n",
      "  gdf['lon'] = gdf.centroid.x\n",
      "/home/kane/code/fyp/models/model_utils/utils.py:35: FutureWarning: In a future version, the Index constructor will not infer numeric dtypes when passed object-dtype sequences (matching Series behavior)\n",
      "  df[header] = pd.Categorical(df[header]).codes\n",
      "/home/kane/code/fyp/models/model_utils/utils.py:35: FutureWarning: In a future version, the Index constructor will not infer numeric dtypes when passed object-dtype sequences (matching Series behavior)\n",
      "  df[header] = pd.Categorical(df[header]).codes\n",
      "/home/kane/code/fyp/models/model_utils/utils.py:35: FutureWarning: In a future version, the Index constructor will not infer numeric dtypes when passed object-dtype sequences (matching Series behavior)\n",
      "  df[header] = pd.Categorical(df[header]).codes\n",
      "/home/kane/code/fyp/models/model_utils/utils.py:47: UserWarning: Geometry is in a geographic CRS. Results from 'centroid' are likely incorrect. Use 'GeoSeries.to_crs()' to re-project geometries to a projected CRS before this operation.\n",
      "\n",
      "  gdf['lat'] = gdf.centroid.y\n",
      "/home/kane/code/fyp/models/model_utils/utils.py:46: UserWarning: Geometry is in a geographic CRS. Results from 'centroid' are likely incorrect. Use 'GeoSeries.to_crs()' to re-project geometries to a projected CRS before this operation.\n",
      "\n",
      "  gdf['lon'] = gdf.centroid.x\n",
      "/home/kane/code/fyp/models/model_utils/utils.py:35: FutureWarning: In a future version, the Index constructor will not infer numeric dtypes when passed object-dtype sequences (matching Series behavior)\n",
      "  df[header] = pd.Categorical(df[header]).codes\n",
      "/home/kane/code/fyp/models/model_utils/utils.py:35: FutureWarning: In a future version, the Index constructor will not infer numeric dtypes when passed object-dtype sequences (matching Series behavior)\n",
      "  df[header] = pd.Categorical(df[header]).codes\n",
      "/home/kane/code/fyp/models/model_utils/utils.py:35: FutureWarning: In a future version, the Index constructor will not infer numeric dtypes when passed object-dtype sequences (matching Series behavior)\n",
      "  df[header] = pd.Categorical(df[header]).codes\n",
      "/home/kane/code/fyp/models/model_utils/utils.py:47: UserWarning: Geometry is in a geographic CRS. Results from 'centroid' are likely incorrect. Use 'GeoSeries.to_crs()' to re-project geometries to a projected CRS before this operation.\n",
      "\n",
      "  gdf['lat'] = gdf.centroid.y\n",
      "/home/kane/code/fyp/venv/lib/python3.10/site-packages/sklearn/metrics/_classification.py:1344: UndefinedMetricWarning: Precision is ill-defined and being set to 0.0 due to no predicted samples. Use `zero_division` parameter to control this behavior.\n",
      "  _warn_prf(average, modifier, msg_start, len(result))\n",
      "/home/kane/code/fyp/venv/lib/python3.10/site-packages/sklearn/metrics/_classification.py:1344: UndefinedMetricWarning: Recall is ill-defined and being set to 0.0 due to no true samples. Use `zero_division` parameter to control this behavior.\n",
      "  _warn_prf(average, modifier, msg_start, len(result))\n",
      "/home/kane/code/fyp/venv/lib/python3.10/site-packages/sklearn/metrics/_classification.py:1609: UndefinedMetricWarning: F-score is ill-defined and being set to 0.0 due to no true nor predicted samples. Use `zero_division` parameter to control this behavior.\n",
      "  _warn_prf(average, \"true nor predicted\", \"F-score is\", len(true_sum))\n"
     ]
    },
    {
     "name": "stdout",
     "output_type": "stream",
     "text": [
      "predictions written to ./experiments/model_eval_by_dis/Rangamati/m11.test.csv\n",
      "evaluation written to ./experiments/model_eval_by_dis/Rangamati/m11.eval.csv\n"
     ]
    },
    {
     "name": "stderr",
     "output_type": "stream",
     "text": [
      "/home/kane/code/fyp/venv/lib/python3.10/site-packages/sklearn/metrics/_classification.py:1344: UndefinedMetricWarning: Precision is ill-defined and being set to 0.0 due to no predicted samples. Use `zero_division` parameter to control this behavior.\n",
      "  _warn_prf(average, modifier, msg_start, len(result))\n",
      "/home/kane/code/fyp/venv/lib/python3.10/site-packages/sklearn/metrics/_classification.py:1344: UndefinedMetricWarning: Recall is ill-defined and being set to 0.0 due to no true samples. Use `zero_division` parameter to control this behavior.\n",
      "  _warn_prf(average, modifier, msg_start, len(result))\n",
      "/home/kane/code/fyp/venv/lib/python3.10/site-packages/sklearn/metrics/_classification.py:1609: UndefinedMetricWarning: F-score is ill-defined and being set to 0.0 due to no true nor predicted samples. Use `zero_division` parameter to control this behavior.\n",
      "  _warn_prf(average, \"true nor predicted\", \"F-score is\", len(true_sum))\n"
     ]
    },
    {
     "name": "stdout",
     "output_type": "stream",
     "text": [
      "predictions written to ./experiments/model_eval_by_dis/Rangamati/m10.test.csv\n",
      "evaluation written to ./experiments/model_eval_by_dis/Rangamati/m10.eval.csv\n"
     ]
    },
    {
     "name": "stderr",
     "output_type": "stream",
     "text": [
      "/home/kane/code/fyp/venv/lib/python3.10/site-packages/sklearn/metrics/_classification.py:1344: UndefinedMetricWarning: Precision is ill-defined and being set to 0.0 due to no predicted samples. Use `zero_division` parameter to control this behavior.\n",
      "  _warn_prf(average, modifier, msg_start, len(result))\n",
      "/home/kane/code/fyp/venv/lib/python3.10/site-packages/sklearn/metrics/_classification.py:1344: UndefinedMetricWarning: Recall is ill-defined and being set to 0.0 due to no true samples. Use `zero_division` parameter to control this behavior.\n",
      "  _warn_prf(average, modifier, msg_start, len(result))\n",
      "/home/kane/code/fyp/venv/lib/python3.10/site-packages/sklearn/metrics/_classification.py:1609: UndefinedMetricWarning: F-score is ill-defined and being set to 0.0 due to no true nor predicted samples. Use `zero_division` parameter to control this behavior.\n",
      "  _warn_prf(average, \"true nor predicted\", \"F-score is\", len(true_sum))\n"
     ]
    },
    {
     "name": "stdout",
     "output_type": "stream",
     "text": [
      "predictions written to ./experiments/model_eval_by_dis/Rangamati/m6.test.csv\n",
      "evaluation written to ./experiments/model_eval_by_dis/Rangamati/m6.eval.csv\n"
     ]
    },
    {
     "name": "stderr",
     "output_type": "stream",
     "text": [
      "/home/kane/code/fyp/venv/lib/python3.10/site-packages/sklearn/metrics/_classification.py:1344: UndefinedMetricWarning: Precision is ill-defined and being set to 0.0 due to no predicted samples. Use `zero_division` parameter to control this behavior.\n",
      "  _warn_prf(average, modifier, msg_start, len(result))\n",
      "/home/kane/code/fyp/venv/lib/python3.10/site-packages/sklearn/metrics/_classification.py:1344: UndefinedMetricWarning: Recall is ill-defined and being set to 0.0 due to no true samples. Use `zero_division` parameter to control this behavior.\n",
      "  _warn_prf(average, modifier, msg_start, len(result))\n",
      "/home/kane/code/fyp/venv/lib/python3.10/site-packages/sklearn/metrics/_classification.py:1609: UndefinedMetricWarning: F-score is ill-defined and being set to 0.0 due to no true nor predicted samples. Use `zero_division` parameter to control this behavior.\n",
      "  _warn_prf(average, \"true nor predicted\", \"F-score is\", len(true_sum))\n"
     ]
    },
    {
     "name": "stdout",
     "output_type": "stream",
     "text": [
      "predictions written to ./experiments/model_eval_by_dis/Rangamati/m9.test.csv\n",
      "evaluation written to ./experiments/model_eval_by_dis/Rangamati/m9.eval.csv\n"
     ]
    },
    {
     "name": "stderr",
     "output_type": "stream",
     "text": [
      "/home/kane/code/fyp/venv/lib/python3.10/site-packages/sklearn/metrics/_classification.py:1344: UndefinedMetricWarning: Precision is ill-defined and being set to 0.0 due to no predicted samples. Use `zero_division` parameter to control this behavior.\n",
      "  _warn_prf(average, modifier, msg_start, len(result))\n",
      "/home/kane/code/fyp/venv/lib/python3.10/site-packages/sklearn/metrics/_classification.py:1344: UndefinedMetricWarning: Recall is ill-defined and being set to 0.0 due to no true samples. Use `zero_division` parameter to control this behavior.\n",
      "  _warn_prf(average, modifier, msg_start, len(result))\n",
      "/home/kane/code/fyp/venv/lib/python3.10/site-packages/sklearn/metrics/_classification.py:1609: UndefinedMetricWarning: F-score is ill-defined and being set to 0.0 due to no true nor predicted samples. Use `zero_division` parameter to control this behavior.\n",
      "  _warn_prf(average, \"true nor predicted\", \"F-score is\", len(true_sum))\n"
     ]
    },
    {
     "name": "stdout",
     "output_type": "stream",
     "text": [
      "predictions written to ./experiments/model_eval_by_dis/Rangamati/m7.test.csv\n",
      "evaluation written to ./experiments/model_eval_by_dis/Rangamati/m7.eval.csv\n",
      "dis 60 / 63\n"
     ]
    },
    {
     "name": "stderr",
     "output_type": "stream",
     "text": [
      "/home/kane/code/fyp/venv/lib/python3.10/site-packages/sklearn/metrics/_classification.py:1344: UndefinedMetricWarning: Recall is ill-defined and being set to 0.0 due to no true samples. Use `zero_division` parameter to control this behavior.\n",
      "  _warn_prf(average, modifier, msg_start, len(result))\n"
     ]
    },
    {
     "name": "stdout",
     "output_type": "stream",
     "text": [
      "predictions written to ./experiments/model_eval_by_dis/Gazipur/m5.test.csv\n",
      "evaluation written to ./experiments/model_eval_by_dis/Gazipur/m5.eval.csv\n"
     ]
    },
    {
     "name": "stderr",
     "output_type": "stream",
     "text": [
      "/home/kane/code/fyp/venv/lib/python3.10/site-packages/sklearn/metrics/_classification.py:1344: UndefinedMetricWarning: Precision is ill-defined and being set to 0.0 due to no predicted samples. Use `zero_division` parameter to control this behavior.\n",
      "  _warn_prf(average, modifier, msg_start, len(result))\n",
      "/home/kane/code/fyp/venv/lib/python3.10/site-packages/sklearn/metrics/_classification.py:1344: UndefinedMetricWarning: Recall is ill-defined and being set to 0.0 due to no true samples. Use `zero_division` parameter to control this behavior.\n",
      "  _warn_prf(average, modifier, msg_start, len(result))\n",
      "/home/kane/code/fyp/venv/lib/python3.10/site-packages/sklearn/metrics/_classification.py:1609: UndefinedMetricWarning: F-score is ill-defined and being set to 0.0 due to no true nor predicted samples. Use `zero_division` parameter to control this behavior.\n",
      "  _warn_prf(average, \"true nor predicted\", \"F-score is\", len(true_sum))\n"
     ]
    },
    {
     "name": "stdout",
     "output_type": "stream",
     "text": [
      "predictions written to ./experiments/model_eval_by_dis/Gazipur/m3.test.csv\n",
      "evaluation written to ./experiments/model_eval_by_dis/Gazipur/m3.eval.csv\n"
     ]
    },
    {
     "name": "stderr",
     "output_type": "stream",
     "text": [
      "/home/kane/code/fyp/venv/lib/python3.10/site-packages/sklearn/metrics/_classification.py:1344: UndefinedMetricWarning: Recall is ill-defined and being set to 0.0 due to no true samples. Use `zero_division` parameter to control this behavior.\n",
      "  _warn_prf(average, modifier, msg_start, len(result))\n"
     ]
    },
    {
     "name": "stdout",
     "output_type": "stream",
     "text": [
      "predictions written to ./experiments/model_eval_by_dis/Gazipur/m4.test.csv\n",
      "evaluation written to ./experiments/model_eval_by_dis/Gazipur/m4.eval.csv\n"
     ]
    },
    {
     "name": "stderr",
     "output_type": "stream",
     "text": [
      "/home/kane/code/fyp/models/model_utils/utils.py:46: UserWarning: Geometry is in a geographic CRS. Results from 'centroid' are likely incorrect. Use 'GeoSeries.to_crs()' to re-project geometries to a projected CRS before this operation.\n",
      "\n",
      "  gdf['lon'] = gdf.centroid.x\n",
      "/home/kane/code/fyp/models/model_utils/utils.py:47: UserWarning: Geometry is in a geographic CRS. Results from 'centroid' are likely incorrect. Use 'GeoSeries.to_crs()' to re-project geometries to a projected CRS before this operation.\n",
      "\n",
      "  gdf['lat'] = gdf.centroid.y\n",
      "/home/kane/code/fyp/models/model_utils/utils.py:35: FutureWarning: In a future version, the Index constructor will not infer numeric dtypes when passed object-dtype sequences (matching Series behavior)\n",
      "  df[header] = pd.Categorical(df[header]).codes\n",
      "/home/kane/code/fyp/models/model_utils/utils.py:35: FutureWarning: In a future version, the Index constructor will not infer numeric dtypes when passed object-dtype sequences (matching Series behavior)\n",
      "  df[header] = pd.Categorical(df[header]).codes\n",
      "Process Process-609:\n",
      "Traceback (most recent call last):\n",
      "  File \"/home/kane/code/fyp/venv/lib/python3.10/site-packages/multiprocess/process.py\", line 314, in _bootstrap\n",
      "    self.run()\n",
      "  File \"/home/kane/code/fyp/venv/lib/python3.10/site-packages/multiprocess/process.py\", line 108, in run\n",
      "    self._target(*self._args, **self._kwargs)\n",
      "  File \"/tmp/ipykernel_331508/3834942049.py\", line 10, in run_model\n",
      "    pred_df = model.main(f'./experiments/model_eval_by_dis/{dis}/k1.csv', k_fold)\n",
      "  File \"/home/kane/code/fyp/models/model8/model.py\", line 102, in main\n",
      "    test_df['Prediction'] = gen_predictions(train_df, test_df, k_fold)\n",
      "  File \"/home/kane/code/fyp/models/model8/model.py\", line 50, in gen_predictions\n",
      "    tt_df = append_test_train(te_div, tr_div)\n",
      "  File \"/home/kane/code/fyp/models/model_utils/utils.py\", line 59, in append_test_train\n",
      "    test.loc[:, 'tid'] = 1\n",
      "  File \"/home/kane/code/fyp/venv/lib/python3.10/site-packages/pandas/core/indexing.py\", line 818, in __setitem__\n",
      "    iloc._setitem_with_indexer(indexer, value, self.name)\n",
      "  File \"/home/kane/code/fyp/venv/lib/python3.10/site-packages/pandas/core/indexing.py\", line 1718, in _setitem_with_indexer\n",
      "    raise ValueError(\n",
      "ValueError: cannot set a frame with no defined index and a scalar\n",
      "/home/kane/code/fyp/models/model_utils/utils.py:46: UserWarning: Geometry is in a geographic CRS. Results from 'centroid' are likely incorrect. Use 'GeoSeries.to_crs()' to re-project geometries to a projected CRS before this operation.\n",
      "\n",
      "  gdf['lon'] = gdf.centroid.x\n",
      "/home/kane/code/fyp/models/model_utils/utils.py:35: FutureWarning: In a future version, the Index constructor will not infer numeric dtypes when passed object-dtype sequences (matching Series behavior)\n",
      "  df[header] = pd.Categorical(df[header]).codes\n",
      "/home/kane/code/fyp/models/model_utils/utils.py:35: FutureWarning: In a future version, the Index constructor will not infer numeric dtypes when passed object-dtype sequences (matching Series behavior)\n",
      "  df[header] = pd.Categorical(df[header]).codes\n",
      "/home/kane/code/fyp/models/model_utils/utils.py:47: UserWarning: Geometry is in a geographic CRS. Results from 'centroid' are likely incorrect. Use 'GeoSeries.to_crs()' to re-project geometries to a projected CRS before this operation.\n",
      "\n",
      "  gdf['lat'] = gdf.centroid.y\n",
      "/home/kane/code/fyp/venv/lib/python3.10/site-packages/sklearn/metrics/_classification.py:1344: UndefinedMetricWarning: Recall is ill-defined and being set to 0.0 due to no true samples. Use `zero_division` parameter to control this behavior.\n",
      "  _warn_prf(average, modifier, msg_start, len(result))\n"
     ]
    },
    {
     "name": "stdout",
     "output_type": "stream",
     "text": [
      "predictions written to ./experiments/model_eval_by_dis/Gazipur/m11.test.csv\n",
      "evaluation written to ./experiments/model_eval_by_dis/Gazipur/m11.eval.csv\n"
     ]
    },
    {
     "name": "stderr",
     "output_type": "stream",
     "text": [
      "/home/kane/code/fyp/venv/lib/python3.10/site-packages/sklearn/metrics/_classification.py:1344: UndefinedMetricWarning: Recall is ill-defined and being set to 0.0 due to no true samples. Use `zero_division` parameter to control this behavior.\n",
      "  _warn_prf(average, modifier, msg_start, len(result))\n"
     ]
    },
    {
     "name": "stdout",
     "output_type": "stream",
     "text": [
      "predictions written to ./experiments/model_eval_by_dis/Gazipur/m10.test.csv\n",
      "evaluation written to ./experiments/model_eval_by_dis/Gazipur/m10.eval.csv\n"
     ]
    },
    {
     "name": "stderr",
     "output_type": "stream",
     "text": [
      "/home/kane/code/fyp/venv/lib/python3.10/site-packages/sklearn/metrics/_classification.py:1344: UndefinedMetricWarning: Recall is ill-defined and being set to 0.0 due to no true samples. Use `zero_division` parameter to control this behavior.\n",
      "  _warn_prf(average, modifier, msg_start, len(result))\n"
     ]
    },
    {
     "name": "stdout",
     "output_type": "stream",
     "text": [
      "predictions written to ./experiments/model_eval_by_dis/Gazipur/m6.test.csv\n",
      "evaluation written to ./experiments/model_eval_by_dis/Gazipur/m6.eval.csv\n"
     ]
    },
    {
     "name": "stderr",
     "output_type": "stream",
     "text": [
      "/home/kane/code/fyp/venv/lib/python3.10/site-packages/sklearn/metrics/_classification.py:1344: UndefinedMetricWarning: Precision is ill-defined and being set to 0.0 due to no predicted samples. Use `zero_division` parameter to control this behavior.\n",
      "  _warn_prf(average, modifier, msg_start, len(result))\n",
      "/home/kane/code/fyp/venv/lib/python3.10/site-packages/sklearn/metrics/_classification.py:1344: UndefinedMetricWarning: Recall is ill-defined and being set to 0.0 due to no true samples. Use `zero_division` parameter to control this behavior.\n",
      "  _warn_prf(average, modifier, msg_start, len(result))\n",
      "/home/kane/code/fyp/venv/lib/python3.10/site-packages/sklearn/metrics/_classification.py:1609: UndefinedMetricWarning: F-score is ill-defined and being set to 0.0 due to no true nor predicted samples. Use `zero_division` parameter to control this behavior.\n",
      "  _warn_prf(average, \"true nor predicted\", \"F-score is\", len(true_sum))\n"
     ]
    },
    {
     "name": "stdout",
     "output_type": "stream",
     "text": [
      "predictions written to ./experiments/model_eval_by_dis/Gazipur/m9.test.csv\n",
      "evaluation written to ./experiments/model_eval_by_dis/Gazipur/m9.eval.csv\n"
     ]
    },
    {
     "name": "stderr",
     "output_type": "stream",
     "text": [
      "/home/kane/code/fyp/venv/lib/python3.10/site-packages/sklearn/metrics/_classification.py:1344: UndefinedMetricWarning: Recall is ill-defined and being set to 0.0 due to no true samples. Use `zero_division` parameter to control this behavior.\n",
      "  _warn_prf(average, modifier, msg_start, len(result))\n"
     ]
    },
    {
     "name": "stdout",
     "output_type": "stream",
     "text": [
      "predictions written to ./experiments/model_eval_by_dis/Gazipur/m7.test.csv\n",
      "evaluation written to ./experiments/model_eval_by_dis/Gazipur/m7.eval.csv\n",
      "dis 61 / 63\n"
     ]
    },
    {
     "name": "stderr",
     "output_type": "stream",
     "text": [
      "/home/kane/code/fyp/venv/lib/python3.10/site-packages/sklearn/metrics/_classification.py:1344: UndefinedMetricWarning: Precision is ill-defined and being set to 0.0 due to no predicted samples. Use `zero_division` parameter to control this behavior.\n",
      "  _warn_prf(average, modifier, msg_start, len(result))\n",
      "/home/kane/code/fyp/venv/lib/python3.10/site-packages/sklearn/metrics/_classification.py:1344: UndefinedMetricWarning: Recall is ill-defined and being set to 0.0 due to no true samples. Use `zero_division` parameter to control this behavior.\n",
      "  _warn_prf(average, modifier, msg_start, len(result))\n",
      "/home/kane/code/fyp/venv/lib/python3.10/site-packages/sklearn/metrics/_classification.py:1609: UndefinedMetricWarning: F-score is ill-defined and being set to 0.0 due to no true nor predicted samples. Use `zero_division` parameter to control this behavior.\n",
      "  _warn_prf(average, \"true nor predicted\", \"F-score is\", len(true_sum))\n"
     ]
    },
    {
     "name": "stdout",
     "output_type": "stream",
     "text": [
      "predictions written to ./experiments/model_eval_by_dis/Khagrachhari/m5.test.csv\n",
      "evaluation written to ./experiments/model_eval_by_dis/Khagrachhari/m5.eval.csv\n"
     ]
    },
    {
     "name": "stderr",
     "output_type": "stream",
     "text": [
      "/home/kane/code/fyp/venv/lib/python3.10/site-packages/sklearn/metrics/_classification.py:1344: UndefinedMetricWarning: Precision is ill-defined and being set to 0.0 due to no predicted samples. Use `zero_division` parameter to control this behavior.\n",
      "  _warn_prf(average, modifier, msg_start, len(result))\n",
      "/home/kane/code/fyp/venv/lib/python3.10/site-packages/sklearn/metrics/_classification.py:1344: UndefinedMetricWarning: Recall is ill-defined and being set to 0.0 due to no true samples. Use `zero_division` parameter to control this behavior.\n",
      "  _warn_prf(average, modifier, msg_start, len(result))\n",
      "/home/kane/code/fyp/venv/lib/python3.10/site-packages/sklearn/metrics/_classification.py:1344: UndefinedMetricWarning: Precision is ill-defined and being set to 0.0 due to no predicted samples. Use `zero_division` parameter to control this behavior.\n",
      "  _warn_prf(average, modifier, msg_start, len(result))\n",
      "/home/kane/code/fyp/venv/lib/python3.10/site-packages/sklearn/metrics/_classification.py:1344: UndefinedMetricWarning: Recall is ill-defined and being set to 0.0 due to no true samples. Use `zero_division` parameter to control this behavior.\n",
      "  _warn_prf(average, modifier, msg_start, len(result))\n",
      "/home/kane/code/fyp/venv/lib/python3.10/site-packages/sklearn/metrics/_classification.py:1609: UndefinedMetricWarning: F-score is ill-defined and being set to 0.0 due to no true nor predicted samples. Use `zero_division` parameter to control this behavior.\n",
      "  _warn_prf(average, \"true nor predicted\", \"F-score is\", len(true_sum))\n",
      "/home/kane/code/fyp/venv/lib/python3.10/site-packages/sklearn/metrics/_classification.py:1609: UndefinedMetricWarning: F-score is ill-defined and being set to 0.0 due to no true nor predicted samples. Use `zero_division` parameter to control this behavior.\n",
      "  _warn_prf(average, \"true nor predicted\", \"F-score is\", len(true_sum))\n"
     ]
    },
    {
     "name": "stdout",
     "output_type": "stream",
     "text": [
      "predictions written to ./experiments/model_eval_by_dis/Khagrachhari/m4.test.csv\n",
      "evaluation written to ./experiments/model_eval_by_dis/Khagrachhari/m4.eval.csv\n",
      "predictions written to ./experiments/model_eval_by_dis/Khagrachhari/m3.test.csv\n",
      "evaluation written to ./experiments/model_eval_by_dis/Khagrachhari/m3.eval.csv\n"
     ]
    },
    {
     "name": "stderr",
     "output_type": "stream",
     "text": [
      "/home/kane/code/fyp/models/model_utils/utils.py:35: FutureWarning: In a future version, the Index constructor will not infer numeric dtypes when passed object-dtype sequences (matching Series behavior)\n",
      "  df[header] = pd.Categorical(df[header]).codes\n",
      "/home/kane/code/fyp/models/model_utils/utils.py:35: FutureWarning: In a future version, the Index constructor will not infer numeric dtypes when passed object-dtype sequences (matching Series behavior)\n",
      "  df[header] = pd.Categorical(df[header]).codes\n",
      "Process Process-618:\n",
      "Traceback (most recent call last):\n",
      "  File \"/home/kane/code/fyp/venv/lib/python3.10/site-packages/multiprocess/process.py\", line 314, in _bootstrap\n",
      "    self.run()\n",
      "  File \"/home/kane/code/fyp/venv/lib/python3.10/site-packages/multiprocess/process.py\", line 108, in run\n",
      "    self._target(*self._args, **self._kwargs)\n",
      "  File \"/tmp/ipykernel_331508/3834942049.py\", line 10, in run_model\n",
      "    pred_df = model.main(f'./experiments/model_eval_by_dis/{dis}/k1.csv', k_fold)\n",
      "  File \"/home/kane/code/fyp/models/model8/model.py\", line 102, in main\n",
      "    test_df['Prediction'] = gen_predictions(train_df, test_df, k_fold)\n",
      "  File \"/home/kane/code/fyp/models/model8/model.py\", line 50, in gen_predictions\n",
      "    tt_df = append_test_train(te_div, tr_div)\n",
      "  File \"/home/kane/code/fyp/models/model_utils/utils.py\", line 59, in append_test_train\n",
      "    test.loc[:, 'tid'] = 1\n",
      "  File \"/home/kane/code/fyp/venv/lib/python3.10/site-packages/pandas/core/indexing.py\", line 818, in __setitem__\n",
      "    iloc._setitem_with_indexer(indexer, value, self.name)\n",
      "  File \"/home/kane/code/fyp/venv/lib/python3.10/site-packages/pandas/core/indexing.py\", line 1718, in _setitem_with_indexer\n",
      "    raise ValueError(\n",
      "ValueError: cannot set a frame with no defined index and a scalar\n",
      "/home/kane/code/fyp/models/model_utils/utils.py:46: UserWarning: Geometry is in a geographic CRS. Results from 'centroid' are likely incorrect. Use 'GeoSeries.to_crs()' to re-project geometries to a projected CRS before this operation.\n",
      "\n",
      "  gdf['lon'] = gdf.centroid.x\n",
      "/home/kane/code/fyp/models/model_utils/utils.py:46: UserWarning: Geometry is in a geographic CRS. Results from 'centroid' are likely incorrect. Use 'GeoSeries.to_crs()' to re-project geometries to a projected CRS before this operation.\n",
      "\n",
      "  gdf['lon'] = gdf.centroid.x\n",
      "/home/kane/code/fyp/models/model_utils/utils.py:35: FutureWarning: In a future version, the Index constructor will not infer numeric dtypes when passed object-dtype sequences (matching Series behavior)\n",
      "  df[header] = pd.Categorical(df[header]).codes\n",
      "/home/kane/code/fyp/models/model_utils/utils.py:35: FutureWarning: In a future version, the Index constructor will not infer numeric dtypes when passed object-dtype sequences (matching Series behavior)\n",
      "  df[header] = pd.Categorical(df[header]).codes\n",
      "/home/kane/code/fyp/models/model_utils/utils.py:47: UserWarning: Geometry is in a geographic CRS. Results from 'centroid' are likely incorrect. Use 'GeoSeries.to_crs()' to re-project geometries to a projected CRS before this operation.\n",
      "\n",
      "  gdf['lat'] = gdf.centroid.y\n",
      "/home/kane/code/fyp/models/model_utils/utils.py:47: UserWarning: Geometry is in a geographic CRS. Results from 'centroid' are likely incorrect. Use 'GeoSeries.to_crs()' to re-project geometries to a projected CRS before this operation.\n",
      "\n",
      "  gdf['lat'] = gdf.centroid.y\n",
      "/home/kane/code/fyp/venv/lib/python3.10/site-packages/sklearn/metrics/_classification.py:1344: UndefinedMetricWarning: Precision is ill-defined and being set to 0.0 due to no predicted samples. Use `zero_division` parameter to control this behavior.\n",
      "  _warn_prf(average, modifier, msg_start, len(result))\n",
      "/home/kane/code/fyp/venv/lib/python3.10/site-packages/sklearn/metrics/_classification.py:1344: UndefinedMetricWarning: Recall is ill-defined and being set to 0.0 due to no true samples. Use `zero_division` parameter to control this behavior.\n",
      "  _warn_prf(average, modifier, msg_start, len(result))\n",
      "/home/kane/code/fyp/venv/lib/python3.10/site-packages/sklearn/metrics/_classification.py:1609: UndefinedMetricWarning: F-score is ill-defined and being set to 0.0 due to no true nor predicted samples. Use `zero_division` parameter to control this behavior.\n",
      "  _warn_prf(average, \"true nor predicted\", \"F-score is\", len(true_sum))\n"
     ]
    },
    {
     "name": "stdout",
     "output_type": "stream",
     "text": [
      "predictions written to ./experiments/model_eval_by_dis/Khagrachhari/m11.test.csv\n",
      "evaluation written to ./experiments/model_eval_by_dis/Khagrachhari/m11.eval.csv\n"
     ]
    },
    {
     "name": "stderr",
     "output_type": "stream",
     "text": [
      "/home/kane/code/fyp/venv/lib/python3.10/site-packages/sklearn/metrics/_classification.py:1344: UndefinedMetricWarning: Recall is ill-defined and being set to 0.0 due to no true samples. Use `zero_division` parameter to control this behavior.\n",
      "  _warn_prf(average, modifier, msg_start, len(result))\n"
     ]
    },
    {
     "name": "stdout",
     "output_type": "stream",
     "text": [
      "predictions written to ./experiments/model_eval_by_dis/Khagrachhari/m10.test.csv\n",
      "evaluation written to ./experiments/model_eval_by_dis/Khagrachhari/m10.eval.csv\n"
     ]
    },
    {
     "name": "stderr",
     "output_type": "stream",
     "text": [
      "/home/kane/code/fyp/venv/lib/python3.10/site-packages/sklearn/metrics/_classification.py:1344: UndefinedMetricWarning: Precision is ill-defined and being set to 0.0 due to no predicted samples. Use `zero_division` parameter to control this behavior.\n",
      "  _warn_prf(average, modifier, msg_start, len(result))\n",
      "/home/kane/code/fyp/venv/lib/python3.10/site-packages/sklearn/metrics/_classification.py:1344: UndefinedMetricWarning: Recall is ill-defined and being set to 0.0 due to no true samples. Use `zero_division` parameter to control this behavior.\n",
      "  _warn_prf(average, modifier, msg_start, len(result))\n",
      "/home/kane/code/fyp/venv/lib/python3.10/site-packages/sklearn/metrics/_classification.py:1609: UndefinedMetricWarning: F-score is ill-defined and being set to 0.0 due to no true nor predicted samples. Use `zero_division` parameter to control this behavior.\n",
      "  _warn_prf(average, \"true nor predicted\", \"F-score is\", len(true_sum))\n"
     ]
    },
    {
     "name": "stdout",
     "output_type": "stream",
     "text": [
      "predictions written to ./experiments/model_eval_by_dis/Khagrachhari/m6.test.csv\n",
      "evaluation written to ./experiments/model_eval_by_dis/Khagrachhari/m6.eval.csv\n"
     ]
    },
    {
     "name": "stderr",
     "output_type": "stream",
     "text": [
      "/home/kane/code/fyp/venv/lib/python3.10/site-packages/sklearn/metrics/_classification.py:1344: UndefinedMetricWarning: Recall is ill-defined and being set to 0.0 due to no true samples. Use `zero_division` parameter to control this behavior.\n",
      "  _warn_prf(average, modifier, msg_start, len(result))\n"
     ]
    },
    {
     "name": "stdout",
     "output_type": "stream",
     "text": [
      "predictions written to ./experiments/model_eval_by_dis/Khagrachhari/m9.test.csv\n",
      "evaluation written to ./experiments/model_eval_by_dis/Khagrachhari/m9.eval.csv\n"
     ]
    },
    {
     "name": "stderr",
     "output_type": "stream",
     "text": [
      "/home/kane/code/fyp/venv/lib/python3.10/site-packages/sklearn/metrics/_classification.py:1344: UndefinedMetricWarning: Precision is ill-defined and being set to 0.0 due to no predicted samples. Use `zero_division` parameter to control this behavior.\n",
      "  _warn_prf(average, modifier, msg_start, len(result))\n",
      "/home/kane/code/fyp/venv/lib/python3.10/site-packages/sklearn/metrics/_classification.py:1344: UndefinedMetricWarning: Recall is ill-defined and being set to 0.0 due to no true samples. Use `zero_division` parameter to control this behavior.\n",
      "  _warn_prf(average, modifier, msg_start, len(result))\n",
      "/home/kane/code/fyp/venv/lib/python3.10/site-packages/sklearn/metrics/_classification.py:1609: UndefinedMetricWarning: F-score is ill-defined and being set to 0.0 due to no true nor predicted samples. Use `zero_division` parameter to control this behavior.\n",
      "  _warn_prf(average, \"true nor predicted\", \"F-score is\", len(true_sum))\n"
     ]
    },
    {
     "name": "stdout",
     "output_type": "stream",
     "text": [
      "predictions written to ./experiments/model_eval_by_dis/Khagrachhari/m7.test.csv\n",
      "evaluation written to ./experiments/model_eval_by_dis/Khagrachhari/m7.eval.csv\n",
      "dis 62 / 63\n"
     ]
    },
    {
     "name": "stderr",
     "output_type": "stream",
     "text": [
      "/home/kane/code/fyp/venv/lib/python3.10/site-packages/sklearn/metrics/_classification.py:1344: UndefinedMetricWarning: Recall is ill-defined and being set to 0.0 due to no true samples. Use `zero_division` parameter to control this behavior.\n",
      "  _warn_prf(average, modifier, msg_start, len(result))\n"
     ]
    },
    {
     "name": "stdout",
     "output_type": "stream",
     "text": [
      "predictions written to ./experiments/model_eval_by_dis/Meherpur/m5.test.csv\n",
      "evaluation written to ./experiments/model_eval_by_dis/Meherpur/m5.eval.csv\n"
     ]
    },
    {
     "name": "stderr",
     "output_type": "stream",
     "text": [
      "/home/kane/code/fyp/venv/lib/python3.10/site-packages/sklearn/metrics/_classification.py:1344: UndefinedMetricWarning: Recall is ill-defined and being set to 0.0 due to no true samples. Use `zero_division` parameter to control this behavior.\n",
      "  _warn_prf(average, modifier, msg_start, len(result))\n"
     ]
    },
    {
     "name": "stdout",
     "output_type": "stream",
     "text": [
      "predictions written to ./experiments/model_eval_by_dis/Meherpur/m4.test.csv"
     ]
    },
    {
     "name": "stderr",
     "output_type": "stream",
     "text": [
      "/home/kane/code/fyp/venv/lib/python3.10/site-packages/sklearn/metrics/_classification.py:1344: UndefinedMetricWarning: Recall is ill-defined and being set to 0.0 due to no true samples. Use `zero_division` parameter to control this behavior.\n",
      "  _warn_prf(average, modifier, msg_start, len(result))\n"
     ]
    },
    {
     "name": "stdout",
     "output_type": "stream",
     "text": [
      "predictions written to ./experiments/model_eval_by_dis/Meherpur/m3.test.csv\n",
      "\n",
      "evaluation written to ./experiments/model_eval_by_dis/Meherpur/m3.eval.csvevaluation written to ./experiments/model_eval_by_dis/Meherpur/m4.eval.csv\n",
      "\n"
     ]
    },
    {
     "name": "stderr",
     "output_type": "stream",
     "text": [
      "/home/kane/code/fyp/models/model_utils/utils.py:46: UserWarning: Geometry is in a geographic CRS. Results from 'centroid' are likely incorrect. Use 'GeoSeries.to_crs()' to re-project geometries to a projected CRS before this operation.\n",
      "\n",
      "  gdf['lon'] = gdf.centroid.x\n",
      "/home/kane/code/fyp/models/model_utils/utils.py:47: UserWarning: Geometry is in a geographic CRS. Results from 'centroid' are likely incorrect. Use 'GeoSeries.to_crs()' to re-project geometries to a projected CRS before this operation.\n",
      "\n",
      "  gdf['lat'] = gdf.centroid.y\n",
      "/home/kane/code/fyp/models/model_utils/utils.py:46: UserWarning: Geometry is in a geographic CRS. Results from 'centroid' are likely incorrect. Use 'GeoSeries.to_crs()' to re-project geometries to a projected CRS before this operation.\n",
      "\n",
      "  gdf['lon'] = gdf.centroid.x\n",
      "Process Process-627:\n",
      "Traceback (most recent call last):\n",
      "  File \"/home/kane/code/fyp/venv/lib/python3.10/site-packages/multiprocess/process.py\", line 314, in _bootstrap\n",
      "    self.run()\n",
      "  File \"/home/kane/code/fyp/venv/lib/python3.10/site-packages/multiprocess/process.py\", line 108, in run\n",
      "    self._target(*self._args, **self._kwargs)\n",
      "  File \"/tmp/ipykernel_331508/3834942049.py\", line 10, in run_model\n",
      "    pred_df = model.main(f'./experiments/model_eval_by_dis/{dis}/k1.csv', k_fold)\n",
      "  File \"/home/kane/code/fyp/models/model8/model.py\", line 102, in main\n",
      "    test_df['Prediction'] = gen_predictions(train_df, test_df, k_fold)\n",
      "  File \"/home/kane/code/fyp/models/model8/model.py\", line 50, in gen_predictions\n",
      "    tt_df = append_test_train(te_div, tr_div)\n",
      "  File \"/home/kane/code/fyp/models/model_utils/utils.py\", line 59, in append_test_train\n",
      "    test.loc[:, 'tid'] = 1\n",
      "  File \"/home/kane/code/fyp/venv/lib/python3.10/site-packages/pandas/core/indexing.py\", line 818, in __setitem__\n",
      "    iloc._setitem_with_indexer(indexer, value, self.name)\n",
      "  File \"/home/kane/code/fyp/venv/lib/python3.10/site-packages/pandas/core/indexing.py\", line 1718, in _setitem_with_indexer\n",
      "    raise ValueError(\n",
      "ValueError: cannot set a frame with no defined index and a scalar\n",
      "/home/kane/code/fyp/models/model_utils/utils.py:47: UserWarning: Geometry is in a geographic CRS. Results from 'centroid' are likely incorrect. Use 'GeoSeries.to_crs()' to re-project geometries to a projected CRS before this operation.\n",
      "\n",
      "  gdf['lat'] = gdf.centroid.y\n",
      "/home/kane/code/fyp/models/model_utils/utils.py:35: FutureWarning: In a future version, the Index constructor will not infer numeric dtypes when passed object-dtype sequences (matching Series behavior)\n",
      "  df[header] = pd.Categorical(df[header]).codes\n",
      "/home/kane/code/fyp/models/model_utils/utils.py:35: FutureWarning: In a future version, the Index constructor will not infer numeric dtypes when passed object-dtype sequences (matching Series behavior)\n",
      "  df[header] = pd.Categorical(df[header]).codes\n",
      "/home/kane/code/fyp/models/model_utils/utils.py:35: FutureWarning: In a future version, the Index constructor will not infer numeric dtypes when passed object-dtype sequences (matching Series behavior)\n",
      "  df[header] = pd.Categorical(df[header]).codes\n",
      "/home/kane/code/fyp/models/model_utils/utils.py:35: FutureWarning: In a future version, the Index constructor will not infer numeric dtypes when passed object-dtype sequences (matching Series behavior)\n",
      "  df[header] = pd.Categorical(df[header]).codes\n",
      "/home/kane/code/fyp/venv/lib/python3.10/site-packages/sklearn/metrics/_classification.py:1344: UndefinedMetricWarning: Recall is ill-defined and being set to 0.0 due to no true samples. Use `zero_division` parameter to control this behavior.\n",
      "  _warn_prf(average, modifier, msg_start, len(result))\n"
     ]
    },
    {
     "name": "stdout",
     "output_type": "stream",
     "text": [
      "predictions written to ./experiments/model_eval_by_dis/Meherpur/m11.test.csv\n",
      "evaluation written to ./experiments/model_eval_by_dis/Meherpur/m11.eval.csv\n"
     ]
    },
    {
     "name": "stderr",
     "output_type": "stream",
     "text": [
      "/home/kane/code/fyp/venv/lib/python3.10/site-packages/sklearn/metrics/_classification.py:1344: UndefinedMetricWarning: Recall is ill-defined and being set to 0.0 due to no true samples. Use `zero_division` parameter to control this behavior.\n",
      "  _warn_prf(average, modifier, msg_start, len(result))\n"
     ]
    },
    {
     "name": "stdout",
     "output_type": "stream",
     "text": [
      "predictions written to ./experiments/model_eval_by_dis/Meherpur/m10.test.csv\n",
      "evaluation written to ./experiments/model_eval_by_dis/Meherpur/m10.eval.csv\n"
     ]
    },
    {
     "name": "stderr",
     "output_type": "stream",
     "text": [
      "/home/kane/code/fyp/venv/lib/python3.10/site-packages/sklearn/metrics/_classification.py:1344: UndefinedMetricWarning: Recall is ill-defined and being set to 0.0 due to no true samples. Use `zero_division` parameter to control this behavior.\n",
      "  _warn_prf(average, modifier, msg_start, len(result))\n"
     ]
    },
    {
     "name": "stdout",
     "output_type": "stream",
     "text": [
      "predictions written to ./experiments/model_eval_by_dis/Meherpur/m6.test.csv\n",
      "evaluation written to ./experiments/model_eval_by_dis/Meherpur/m6.eval.csv\n"
     ]
    },
    {
     "name": "stderr",
     "output_type": "stream",
     "text": [
      "/home/kane/code/fyp/venv/lib/python3.10/site-packages/sklearn/metrics/_classification.py:1344: UndefinedMetricWarning: Recall is ill-defined and being set to 0.0 due to no true samples. Use `zero_division` parameter to control this behavior.\n",
      "  _warn_prf(average, modifier, msg_start, len(result))\n"
     ]
    },
    {
     "name": "stdout",
     "output_type": "stream",
     "text": [
      "predictions written to ./experiments/model_eval_by_dis/Meherpur/m9.test.csv\n",
      "evaluation written to ./experiments/model_eval_by_dis/Meherpur/m9.eval.csv\n"
     ]
    },
    {
     "name": "stderr",
     "output_type": "stream",
     "text": [
      "/home/kane/code/fyp/venv/lib/python3.10/site-packages/sklearn/metrics/_classification.py:1344: UndefinedMetricWarning: Recall is ill-defined and being set to 0.0 due to no true samples. Use `zero_division` parameter to control this behavior.\n",
      "  _warn_prf(average, modifier, msg_start, len(result))\n"
     ]
    },
    {
     "name": "stdout",
     "output_type": "stream",
     "text": [
      "predictions written to ./experiments/model_eval_by_dis/Meherpur/m7.test.csv\n",
      "evaluation written to ./experiments/model_eval_by_dis/Meherpur/m7.eval.csv\n"
     ]
    }
   ],
   "source": [
    "num_dis = len(df['District'].unique())\n",
    "for dis in df['District'].unique():\n",
    "    dis_ind = df['District'].unique().tolist().index(dis)\n",
    "\n",
    "    print(f'dis {dis_ind} / {num_dis}')\n",
    "    \n",
    "    models = [model3, model4, model5, model6, model7, model8, model9, model10, model11]\n",
    "    rj = [] # RunJobs\n",
    "    for m in models:\n",
    "        p = mp.Process(target=run_model, args=(m, dis,))\n",
    "        p.start()\n",
    "        rj.append(p)\n",
    "\n",
    "    for j in rj:\n",
    "        j.join()"
   ]
  },
  {
   "cell_type": "code",
   "execution_count": null,
   "id": "adaa9bb8",
   "metadata": {},
   "outputs": [],
   "source": []
  }
 ],
 "metadata": {
  "kernelspec": {
   "display_name": "Python 3 (ipykernel)",
   "language": "python",
   "name": "python3"
  },
  "language_info": {
   "codemirror_mode": {
    "name": "ipython",
    "version": 3
   },
   "file_extension": ".py",
   "mimetype": "text/x-python",
   "name": "python",
   "nbconvert_exporter": "python",
   "pygments_lexer": "ipython3",
   "version": "3.10.6"
  }
 },
 "nbformat": 4,
 "nbformat_minor": 5
}
