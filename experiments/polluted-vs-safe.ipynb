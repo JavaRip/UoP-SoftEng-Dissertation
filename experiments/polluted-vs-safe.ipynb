{
 "cells": [
  {
   "cell_type": "code",
   "execution_count": 1,
   "id": "106f252a",
   "metadata": {},
   "outputs": [],
   "source": [
    "%matplotlib inline\n",
    "import pandas as pd\n",
    "import numpy as np\n",
    "import matplotlib.pyplot as plt\n",
    "import matplotlib as mpl\n",
    "from sklearn import metrics \n",
    "import sys\n",
    "import os\n",
    "import time\n",
    "import concurrent.futures\n",
    "from functools import partial\n",
    "from subprocess import check_output\n",
    "\n",
    "os.chdir('..')\n",
    "\n",
    "from models.model3 import model as model3\n",
    "from models.model4 import model as model4\n",
    "from models.model5 import model as model5\n",
    "\n",
    "from model_utils.evaluator import gen_eval, print_eval\n",
    "\n",
    "nc_src = './well_data/src_data.csv'\n",
    "k_fold = 1"
   ]
  },
  {
   "cell_type": "code",
   "execution_count": 2,
   "id": "4aad3366",
   "metadata": {},
   "outputs": [],
   "source": [
    "def gen_ia_predictions(test_src, stain_color, model, k_fold):\n",
    "    cmd_arr = [\n",
    "        'node',\n",
    "        './models/model_utils/iarsenic-wrapper.js',\n",
    "        test_src,\n",
    "        stain_color,\n",
    "        model,\n",
    "        str(k_fold),\n",
    "    ]\n",
    "\n",
    "    stdout = check_output(cmd_arr).decode(sys.stdout.encoding).replace('\\n', '')\n",
    "    df = pd.read_csv(stdout)\n",
    "  \n",
    "    df['Prediction'].replace('highlyPolluted', 'polluted', inplace=True)\n",
    "\n",
    "    return df['Prediction']"
   ]
  },
  {
   "cell_type": "code",
   "execution_count": 3,
   "id": "695a33b5",
   "metadata": {},
   "outputs": [],
   "source": [
    "def gen_labels(df):\n",
    "    return np.where(df['Arsenic'] > 10, 'polluted', 'safe')"
   ]
  },
  {
   "cell_type": "code",
   "execution_count": 4,
   "id": "564ed7c4",
   "metadata": {},
   "outputs": [
    {
     "name": "stdout",
     "output_type": "stream",
     "text": [
      "time taken: 49068.50016236305 seconds\n"
     ]
    }
   ],
   "source": [
    "start = time.time()\n",
    "\n",
    "m3 = gen_ia_predictions(f'./well_data/k{k_fold}.csv', 'Red', 'model3', '1')\n",
    "m4 = gen_ia_predictions(f'./well_data/k{k_fold}.csv', 'Red', 'model4', '1')\n",
    "m5 = gen_ia_predictions(f'./well_data/k{k_fold}.csv', 'Red', 'model5', '1')\n",
    "\n",
    "end = time.time()\n",
    "print(f'time taken: {end - start} seconds')"
   ]
  },
  {
   "cell_type": "code",
   "execution_count": 5,
   "id": "ed49a94a",
   "metadata": {},
   "outputs": [],
   "source": [
    "df = pd.read_csv(f'./well_data/k{k_fold}.csv')\n",
    "\n",
    "m3_df = df.copy()\n",
    "m3_df['Prediction'] = m3\n",
    "\n",
    "m4_df = df.copy()\n",
    "m4_df['Prediction'] = m4\n",
    "\n",
    "m5_df = df.copy()\n",
    "m5_df['Prediction'] = m5"
   ]
  },
  {
   "cell_type": "code",
   "execution_count": 6,
   "id": "a8eb1c27",
   "metadata": {},
   "outputs": [
    {
     "name": "stdout",
     "output_type": "stream",
     "text": [
      "<class 'pandas.core.frame.DataFrame'>\n",
      "RangeIndex: 173736 entries, 0 to 173735\n",
      "Data columns (total 9 columns):\n",
      " #   Column      Non-Null Count   Dtype  \n",
      "---  ------      --------------   -----  \n",
      " 0   Division    173736 non-null  object \n",
      " 1   District    173736 non-null  object \n",
      " 2   Upazila     173736 non-null  object \n",
      " 3   Union       173736 non-null  object \n",
      " 4   Mouza       173736 non-null  object \n",
      " 5   Depth       173736 non-null  float64\n",
      " 6   Arsenic     173736 non-null  float64\n",
      " 7   Prediction  173736 non-null  object \n",
      " 8   Label       173736 non-null  object \n",
      "dtypes: float64(2), object(7)\n",
      "memory usage: 11.9+ MB\n",
      "['safe' 'polluted']\n",
      "['safe' 'polluted']\n",
      "['safe' 'polluted'\n",
      " 'We do not have enough data to make an estimate for your well']\n"
     ]
    }
   ],
   "source": [
    "m3_df['Label'] = gen_labels(m3_df)\n",
    "m4_df['Label'] = gen_labels(m4_df)\n",
    "m5_df['Label'] = gen_labels(m5_df)\n",
    "\n",
    "m5_df.info()\n",
    "print(m3_df['Prediction'].unique())\n",
    "print(m4_df['Prediction'].unique())\n",
    "print(m5_df['Prediction'].unique())"
   ]
  },
  {
   "cell_type": "code",
   "execution_count": 7,
   "id": "e0141e2f",
   "metadata": {},
   "outputs": [
    {
     "name": "stdout",
     "output_type": "stream",
     "text": [
      "--------m5--------\n",
      "safe                                                            96126\n",
      "polluted                                                        77581\n",
      "We do not have enough data to make an estimate for your well       29\n",
      "Name: Prediction, dtype: int64\n",
      "--------safe---------\n",
      "accuracy: 0.8359925404061335\n",
      "precision: 0.8220956161946869\n",
      "specificity: 0.8551199286201648\n",
      "\n",
      "sensitivity: 0.8127715971505397\n",
      "f1_score: 0.8174070181734293\n",
      "--------polluted---------\n",
      "accuracy: 0.8359292259520191\n",
      "precision: 0.8219043937636903\n",
      "specificity: 0.8549099879284102\n",
      "\n",
      "sensitivity: 0.8128862892023805\n",
      "f1_score: 0.8173704678980787\n"
     ]
    }
   ],
   "source": [
    "print('--------m5--------')\n",
    "ned = 'We do not have enough data to make an estimate for your well'\n",
    "print(m5_df['Prediction'].value_counts())\n",
    "\n",
    "m5_df_polluted = m5_df.copy()\n",
    "m5_df_polluted['Prediction'].replace(ned, 'polluted', inplace=True)\n",
    "\n",
    "m5_df_safe = m5_df.copy()\n",
    "m5_df_safe['Prediction'].replace(ned, 'safe', inplace=True)\n",
    "\n",
    "m5_safe_eval = gen_eval(m5_df_safe)\n",
    "m5_polluted_eval = gen_eval(m5_df_polluted)\n",
    "\n",
    "print('--------safe---------')\n",
    "print_eval(m5_safe_eval)\n",
    "print('--------polluted---------')\n",
    "print_eval(m5_polluted_eval)"
   ]
  },
  {
   "cell_type": "code",
   "execution_count": null,
   "id": "7582688d",
   "metadata": {},
   "outputs": [],
   "source": []
  }
 ],
 "metadata": {
  "kernelspec": {
   "display_name": "Python 3 (ipykernel)",
   "language": "python",
   "name": "python3"
  },
  "language_info": {
   "codemirror_mode": {
    "name": "ipython",
    "version": 3
   },
   "file_extension": ".py",
   "mimetype": "text/x-python",
   "name": "python",
   "nbconvert_exporter": "python",
   "pygments_lexer": "ipython3",
   "version": "3.10.6"
  }
 },
 "nbformat": 4,
 "nbformat_minor": 5
}
