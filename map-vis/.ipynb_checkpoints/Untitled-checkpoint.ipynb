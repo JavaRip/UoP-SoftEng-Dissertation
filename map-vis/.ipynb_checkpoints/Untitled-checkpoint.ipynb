{
 "cells": [
  {
   "cell_type": "code",
   "execution_count": 1,
   "id": "e47ff0fd",
   "metadata": {},
   "outputs": [],
   "source": [
    "%matplotlib inline\n",
    "import pandas as pd\n",
    "import numpy as np\n",
    "import geopandas as gpd\n",
    "import geoplot as gplt\n",
    "import geoplot.crs as gcrs\n",
    "from sklearn.linear_model import LinearRegression\n",
    "from sklearn.preprocessing import MinMaxScaler\n",
    "import matplotlib.pyplot as plt\n",
    "import matplotlib as mpl\n",
    "import os"
   ]
  },
  {
   "cell_type": "code",
   "execution_count": 2,
   "id": "83632cd6",
   "metadata": {},
   "outputs": [],
   "source": [
    "# geodata source\n",
    "gd_src = '../geodata/{}/{}-c005-s010-vw-pr.geojson'\n",
    "\n",
    "# name corrected data source\n",
    "nc_src = '../well_data/src_data.csv'"
   ]
  },
  {
   "cell_type": "code",
   "execution_count": 3,
   "id": "27fc6afd",
   "metadata": {},
   "outputs": [
    {
     "name": "stdout",
     "output_type": "stream",
     "text": [
      "<class 'pandas.core.frame.DataFrame'>\n",
      "RangeIndex: 868678 entries, 0 to 868677\n",
      "Data columns (total 7 columns):\n",
      " #   Column  Non-Null Count   Dtype  \n",
      "---  ------  --------------   -----  \n",
      " 0   div     868678 non-null  object \n",
      " 1   dis     868678 non-null  object \n",
      " 2   upa     868678 non-null  object \n",
      " 3   uni     868678 non-null  object \n",
      " 4   mou     868678 non-null  object \n",
      " 5   depth   868678 non-null  float64\n",
      " 6   as      868678 non-null  float64\n",
      "dtypes: float64(2), object(5)\n",
      "memory usage: 46.4+ MB\n"
     ]
    }
   ],
   "source": [
    "geodata = gpd.read_file(gd_src.format('mou', 'mou'))\n",
    "wells = pd.read_csv(nc_src)\n",
    "wells.info()"
   ]
  },
  {
   "cell_type": "code",
   "execution_count": 4,
   "id": "b5a3a94e",
   "metadata": {},
   "outputs": [],
   "source": [
    "# gplt.polyplot(\n",
    "#     geodata, \n",
    "#     projection=gcrs.AlbersEqualArea(), \n",
    "#     edgecolor='blue', \n",
    "#     linewidth=0.05,\n",
    "#     figsize=(12,12)\n",
    "# )"
   ]
  },
  {
   "cell_type": "code",
   "execution_count": 5,
   "id": "1feeb959",
   "metadata": {
    "scrolled": false
   },
   "outputs": [],
   "source": [
    "def add_well_count(df):\n",
    "    df_agg = df.groupby(df['mou'], as_index=False).count()\n",
    "    df_agg['count'] = df_agg['depth']\n",
    "    df_agg.drop(columns=['depth'])\n",
    "    \n",
    "    df['mou_wells'] = pd.merge(\n",
    "        df_agg[['mou', 'count']],\n",
    "        df, on='mou',\n",
    "    )['count']\n",
    "\n",
    "    return df"
   ]
  },
  {
   "cell_type": "code",
   "execution_count": null,
   "id": "57c94d49",
   "metadata": {
    "scrolled": false
   },
   "outputs": [
    {
     "name": "stdout",
     "output_type": "stream",
     "text": [
      "<class 'pandas.core.frame.DataFrame'>\n",
      "RangeIndex: 868678 entries, 0 to 868677\n",
      "Data columns (total 8 columns):\n",
      " #   Column     Non-Null Count   Dtype  \n",
      "---  ------     --------------   -----  \n",
      " 0   div        868678 non-null  object \n",
      " 1   dis        868678 non-null  object \n",
      " 2   upa        868678 non-null  object \n",
      " 3   uni        868678 non-null  object \n",
      " 4   mou        868678 non-null  object \n",
      " 5   depth      868678 non-null  float64\n",
      " 6   as         868678 non-null  float64\n",
      " 7   mou_wells  868678 non-null  int64  \n",
      "dtypes: float64(2), int64(1), object(5)\n",
      "memory usage: 53.0+ MB\n",
      "None\n",
      "=====\n"
     ]
    }
   ],
   "source": [
    "def chittagong_color_count(well_data):\n",
    "    well_data = add_well_count(well_data)\n",
    "\n",
    "    print(well_data.info())\n",
    "    print('=====')\n",
    "\n",
    "    merged = pd.merge(well_data[['mou', 'mou_wells']], geodata, on='mou')\n",
    "    \n",
    "    gd_merged = gpd.GeoDataFrame(merged)\n",
    "    \n",
    "    scaler = MinMaxScaler(feature_range=(0.1, 1))\n",
    "    gd_merged['mou_wells_scaled'] = scaler.fit_transform(gd_merged[['mou_wells']])\n",
    "    \n",
    "    gd_merged.hist()\n",
    "\n",
    "    gd_merged.plot(\n",
    "        color='blue',\n",
    "        alpha=gd_merged['mou_wells_scaled'],\n",
    "        figsize=(10,10)\n",
    "    )\n",
    "    \n",
    "    return\n",
    "    \n",
    "    # code from https://stackoverflow.com/questions/38899190/geopandas-label-polygons\n",
    "\n",
    "chittagong_color_count(wells)"
   ]
  },
  {
   "cell_type": "code",
   "execution_count": null,
   "id": "c1469337",
   "metadata": {},
   "outputs": [],
   "source": []
  }
 ],
 "metadata": {
  "kernelspec": {
   "display_name": "Python 3 (ipykernel)",
   "language": "python",
   "name": "python3"
  },
  "language_info": {
   "codemirror_mode": {
    "name": "ipython",
    "version": 3
   },
   "file_extension": ".py",
   "mimetype": "text/x-python",
   "name": "python",
   "nbconvert_exporter": "python",
   "pygments_lexer": "ipython3",
   "version": "3.9.14"
  }
 },
 "nbformat": 4,
 "nbformat_minor": 5
}
