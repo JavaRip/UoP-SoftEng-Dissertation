{
 "cells": [
  {
   "cell_type": "code",
   "execution_count": 1,
   "id": "7be88b9b",
   "metadata": {},
   "outputs": [],
   "source": [
    "%matplotlib inline\n",
    "import pandas as pd\n",
    "import numpy as np\n",
    "import geopandas as gpd\n",
    "import geoplot as gplt\n",
    "import geoplot.crs as gcrs\n",
    "from sklearn.linear_model import LinearRegression\n",
    "from sklearn.preprocessing import MinMaxScaler\n",
    "import matplotlib.pyplot as plt\n",
    "import matplotlib as mpl\n",
    "import os"
   ]
  },
  {
   "cell_type": "code",
   "execution_count": 2,
   "id": "706e9c94",
   "metadata": {},
   "outputs": [],
   "source": [
    "# geodata source\n",
    "gd_src = '../geodata/{}/{}-c005-s010-vw-pr.geojson'\n",
    "\n",
    "# name corrected data source\n",
    "nc_src = '../well_data/src_data.csv'"
   ]
  },
  {
   "cell_type": "code",
   "execution_count": 3,
   "id": "46528d5e",
   "metadata": {},
   "outputs": [
    {
     "name": "stdout",
     "output_type": "stream",
     "text": [
      "<class 'pandas.core.frame.DataFrame'>\n",
      "RangeIndex: 868678 entries, 0 to 868677\n",
      "Data columns (total 7 columns):\n",
      " #   Column  Non-Null Count   Dtype  \n",
      "---  ------  --------------   -----  \n",
      " 0   div     868678 non-null  object \n",
      " 1   dis     868678 non-null  object \n",
      " 2   upa     868678 non-null  object \n",
      " 3   uni     868678 non-null  object \n",
      " 4   mou     868678 non-null  object \n",
      " 5   depth   868678 non-null  float64\n",
      " 6   as      868678 non-null  float64\n",
      "dtypes: float64(2), object(5)\n",
      "memory usage: 46.4+ MB\n"
     ]
    }
   ],
   "source": [
    "geodata = gpd.read_file(gd_src.format('mou', 'mou'))\n",
    "wells = pd.read_csv(nc_src)\n",
    "wells.info()"
   ]
  },
  {
   "cell_type": "code",
   "execution_count": 4,
   "id": "112ff4a6",
   "metadata": {},
   "outputs": [],
   "source": [
    "# gplt.polyplot(\n",
    "#     geodata, \n",
    "#     projection=gcrs.AlbersEqualArea(), \n",
    "#     edgecolor='blue', \n",
    "#     linewidth=0.05,\n",
    "#     figsize=(12,12)\n",
    "# )"
   ]
  },
  {
   "cell_type": "code",
   "execution_count": 5,
   "id": "fda06d4c",
   "metadata": {
    "scrolled": false
   },
   "outputs": [
    {
     "name": "stdout",
     "output_type": "stream",
     "text": [
      "               mou  mou_count\n",
      "0  Abda Hossainpur         31\n",
      "1      Abdul Mahal          9\n",
      "2       Abdul Nabi        271\n",
      "3      Abdullahpur        294\n",
      "4       Abdullapur        213\n"
     ]
    },
    {
     "data": {
      "image/png": "[encoded data removed]",
      "text/plain": [
       "<Figure size 640x480 with 1 Axes>"
      ]
     },
     "metadata": {},
     "output_type": "display_data"
    }
   ],
   "source": [
    "def chittagong_color_count(df):\n",
    "    df_agg = df.groupby(df['mou'], as_index=False).count()\n",
    "    df_agg['mou_count'] = df_agg['depth']\n",
    "    df_agg.drop(columns=['depth'])\n",
    "    \n",
    "    print(df_agg[['mou', 'mou_count']].head())\n",
    "    \n",
    "    df['mou_count'] = pd.merge(\n",
    "        df_agg[['mou', 'mou_count']],\n",
    "        df,\n",
    "        on='mou'\n",
    "    )['mou_count']\n",
    "    \n",
    "    scaler = MinMaxScaler(feature_range=(0.1, 1))\n",
    "    \n",
    "    # Mou Wells_scaled\n",
    "    df['mw_scaled'] = scaler.fit_transform(df[['mou_count']])\n",
    "    df['mou_count'].hist(bins=100)\n",
    "\n",
    "    return\n",
    "\n",
    "chittagong_color_count(wells)"
   ]
  },
  {
   "cell_type": "code",
   "execution_count": null,
   "id": "65836074",
   "metadata": {},
   "outputs": [],
   "source": []
  }
 ],
 "metadata": {
  "kernelspec": {
   "display_name": "Python 3 (ipykernel)",
   "language": "python",
   "name": "python3"
  },
  "language_info": {
   "codemirror_mode": {
    "name": "ipython",
    "version": 3
   },
   "file_extension": ".py",
   "mimetype": "text/x-python",
   "name": "python",
   "nbconvert_exporter": "python",
   "pygments_lexer": "ipython3",
   "version": "3.9.14"
  }
 },
 "nbformat": 4,
 "nbformat_minor": 5
}
